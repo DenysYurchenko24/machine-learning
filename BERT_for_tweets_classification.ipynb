{
  "nbformat": 4,
  "nbformat_minor": 0,
  "metadata": {
    "kernelspec": {
      "name": "python3",
      "display_name": "Python 3",
      "language": "python"
    },
    "language_info": {
      "name": "python",
      "version": "3.7.6",
      "mimetype": "text/x-python",
      "codemirror_mode": {
        "name": "ipython",
        "version": 3
      },
      "pygments_lexer": "ipython3",
      "nbconvert_exporter": "python",
      "file_extension": ".py"
    },
    "colab": {
      "name": "BERT for tweets classification.ipynb",
      "provenance": [],
      "collapsed_sections": []
    }
  },
  "cells": [
    {
      "cell_type": "markdown",
      "metadata": {
        "id": "19xnfFZnd9GF",
        "colab_type": "text"
      },
      "source": [
        "# Using BERT for tweets classification"
      ]
    },
    {
      "cell_type": "markdown",
      "metadata": {
        "id": "3lx839aGeV8W",
        "colab_type": "text"
      },
      "source": [
        "This notebook uses BERT for kaggle competition [\"Real or Not? NLP with Disaster Tweets\"](https://www.kaggle.com/c/nlp-getting-started/overview/description). Specifically, it fine-tunes BERT to predict whether given tweet describes a real disaster that has actually occurred or it's just a metaphorical description. The task is analogous to binary sentiment classification, where, say, \"positive\" sentiment corresponds to \"disaster\" (1) while \"negative\" corresponds to \"non-disaster\" (0).\n",
        "\n",
        "It is a brief overview of BERT fine-tuning capabilities and its ability to adjust to new tasks/datasets while preserving near state-of-the-art performance.\n",
        "\n",
        "General code structure was mostly taken from [this brilliant post](https://www.curiousily.com/posts/sentiment-analysis-with-bert-and-hugging-face-using-pytorch-and-python/) (and modified/improved for specific task purposes). IMO the author's way to format and feed the data into BERT by organizing it into a dictionary is the cleanest one out there."
      ]
    },
    {
      "cell_type": "markdown",
      "metadata": {
        "id": "j-pYN0EqztHf",
        "colab_type": "text"
      },
      "source": [
        "# BERT basics"
      ]
    },
    {
      "cell_type": "markdown",
      "metadata": {
        "id": "1mWBdc23zw7u",
        "colab_type": "text"
      },
      "source": [
        "BERT (Bidirectional Encoder Representations from Transformers) was presented in late 2018 by Jacob Devlin, Ming-Wei Chang, Kenton Lee, and Kristina Toutanova of Google AI. As the authors [claim](https://arxiv.org/abs/1810.04805), regular Transformer models like GPT incorporate unidirectional sentence analysis, implementing attention mechanism from left to right, thus limiting the opportunities of context understanding. BERT alleviates this constraint by using a \"masked language model\" during training (basically masking a few words from a sentence and making model guess them) and with that manages to enable pre-trained deep bidirectional representations. This is also different from models like ELMo which used LSTMs of different directions and then simply concatenated hidden states in the end which made impossible simultaneous, integral capturing of the sentence semantic structure.\n",
        "\n",
        "In terms of architecture, BERT represents the encoder part of GPT, only a bidirectional one.\n",
        "\n",
        "![](https://cdn-images-1.medium.com/max/800/0*m_kXt3uqZH9e7H4w.png)\n",
        "\n",
        "First, input sequence is fed into the model where it's being tokenized and transformed into WordPiece embeddings representation. Note that each separate sentence starts with `[CLS]` token and ends with `[SEP]`. We have two more embedding layers, \"sentence embeddings\", and \"positional embeddings\". The former helps BERT to distinguish between sentences, the latter is responsible for representing words positions within the sentence. Remember that with dismissing traditional RNNs we lost the ability to track the sequential nature of the sentence, so these embedding layers are here to compensate for that. Final token representation is a sum of 3 embeddings. This is followed by regular self-attention/normalize layers, as in original Transformers, described in iconic [\"Attention Is All You Need\"](https://arxiv.org/abs/1706.03762) paper. We will see whole BERT architecture printed out later in this notebook."
      ]
    },
    {
      "cell_type": "markdown",
      "metadata": {
        "id": "7yeGmRkwiA4M",
        "colab_type": "text"
      },
      "source": [
        "# Imports"
      ]
    },
    {
      "cell_type": "code",
      "metadata": {
        "id": "7UEQRFW1sWnB",
        "trusted": true,
        "colab_type": "code",
        "colab": {},
        "outputId": "3d9734b1-74a7-48ec-c297-ca2567858880"
      },
      "source": [
        "import pandas as pd\n",
        "import numpy as np\n",
        "\n",
        "from sklearn.model_selection import train_test_split\n",
        "from sklearn.metrics import accuracy_score, f1_score, classification_report\n",
        "\n",
        "import torch\n",
        "from torch import nn, optim\n",
        "from torch.utils.data import Dataset, DataLoader\n",
        "import torch.nn.functional as F\n",
        "\n",
        "from collections import defaultdict\n",
        "from textwrap import wrap\n",
        "\n",
        "!pip install transformers\n",
        "\n",
        "import transformers\n",
        "from transformers import BertModel, BertTokenizer, AdamW, get_linear_schedule_with_warmup\n",
        "\n",
        "import seaborn as sns\n",
        "from pylab import rcParams\n",
        "import matplotlib.pyplot as plt\n",
        "from matplotlib import rc\n",
        "%matplotlib inline\n",
        "%config InlineBackend.figure_format='retina'\n",
        "sns.set(style='whitegrid', palette='muted', font_scale=1.2)\n",
        "HAPPY_COLORS_PALETTE = [\"#01BEFE\", \"#FFDD00\", \"#FF7D00\", \"#FF006D\", \"#ADFF02\", \"#8F00FF\"]\n",
        "sns.set_palette(sns.color_palette(HAPPY_COLORS_PALETTE))\n",
        "rcParams['figure.figsize'] = 12, 8\n",
        "\n",
        "import random\n",
        "\n",
        "RANDOM_SEED = 42\n",
        "random.seed(RANDOM_SEED)\n",
        "np.random.seed(RANDOM_SEED)\n",
        "torch.manual_seed(RANDOM_SEED)\n",
        "device = torch.device(\"cuda:0\" if torch.cuda.is_available() else \"cpu\")\n"
      ],
      "execution_count": null,
      "outputs": [
        {
          "output_type": "stream",
          "text": [
            "Requirement already satisfied: transformers in /opt/conda/lib/python3.7/site-packages (2.11.0)\n",
            "Requirement already satisfied: packaging in /opt/conda/lib/python3.7/site-packages (from transformers) (20.1)\n",
            "Requirement already satisfied: filelock in /opt/conda/lib/python3.7/site-packages (from transformers) (3.0.10)\n",
            "Requirement already satisfied: sentencepiece in /opt/conda/lib/python3.7/site-packages (from transformers) (0.1.91)\n",
            "Requirement already satisfied: sacremoses in /opt/conda/lib/python3.7/site-packages (from transformers) (0.0.43)\n",
            "Requirement already satisfied: requests in /opt/conda/lib/python3.7/site-packages (from transformers) (2.23.0)\n",
            "Requirement already satisfied: tokenizers==0.7.0 in /opt/conda/lib/python3.7/site-packages (from transformers) (0.7.0)\n",
            "Requirement already satisfied: tqdm>=4.27 in /opt/conda/lib/python3.7/site-packages (from transformers) (4.45.0)\n",
            "Requirement already satisfied: regex!=2019.12.17 in /opt/conda/lib/python3.7/site-packages (from transformers) (2020.4.4)\n",
            "Requirement already satisfied: numpy in /opt/conda/lib/python3.7/site-packages (from transformers) (1.18.5)\n",
            "Requirement already satisfied: six in /opt/conda/lib/python3.7/site-packages (from packaging->transformers) (1.14.0)\n",
            "Requirement already satisfied: pyparsing>=2.0.2 in /opt/conda/lib/python3.7/site-packages (from packaging->transformers) (2.4.7)\n",
            "Requirement already satisfied: joblib in /opt/conda/lib/python3.7/site-packages (from sacremoses->transformers) (0.14.1)\n",
            "Requirement already satisfied: click in /opt/conda/lib/python3.7/site-packages (from sacremoses->transformers) (7.1.1)\n",
            "Requirement already satisfied: urllib3!=1.25.0,!=1.25.1,<1.26,>=1.21.1 in /opt/conda/lib/python3.7/site-packages (from requests->transformers) (1.24.3)\n",
            "Requirement already satisfied: idna<3,>=2.5 in /opt/conda/lib/python3.7/site-packages (from requests->transformers) (2.9)\n",
            "Requirement already satisfied: chardet<4,>=3.0.2 in /opt/conda/lib/python3.7/site-packages (from requests->transformers) (3.0.4)\n",
            "Requirement already satisfied: certifi>=2017.4.17 in /opt/conda/lib/python3.7/site-packages (from requests->transformers) (2020.6.20)\n"
          ],
          "name": "stdout"
        }
      ]
    },
    {
      "cell_type": "markdown",
      "metadata": {
        "id": "NDnIi62t9T54",
        "colab_type": "text"
      },
      "source": [
        "# Reading&Processing data"
      ]
    },
    {
      "cell_type": "markdown",
      "metadata": {
        "id": "RoBOvIGCwWYL",
        "colab_type": "text"
      },
      "source": [
        "I've tried out a lot of various ways to preprocess tweets including manual cleaning, removing stopwords, lemmatizing, spell corrections, slang replacement, using libraries like texthero, spellchecker, tweet-preprocessor, contractions, etc., and also merging text column with keyword and/or location. Ironically, the best performance was achieved when using BERT on raw text, with even hyperlinks left untouched. The only thing changed is target relabeling in the train set (special thanks to [this kaggle notebook](https://www.kaggle.com/gunesevitan/nlp-with-disaster-tweets-eda-cleaning-and-bert)). Note that the test set also contains duplicates that might be labeled differently (since labeling was done manually by humans), which of course influences the score."
      ]
    },
    {
      "cell_type": "code",
      "metadata": {
        "id": "aVg5EvwniTQa",
        "trusted": true,
        "colab_type": "code",
        "colab": {}
      },
      "source": [
        "train_df = pd.read_csv('train.csv')\n",
        "test_df = pd.read_csv('test.csv')"
      ],
      "execution_count": null,
      "outputs": []
    },
    {
      "cell_type": "markdown",
      "metadata": {
        "id": "eLIJnf6VwWYR",
        "colab_type": "text"
      },
      "source": [
        "Relabeling targets"
      ]
    },
    {
      "cell_type": "code",
      "metadata": {
        "id": "eyOLcn-yzL2F",
        "trusted": true,
        "colab_type": "code",
        "colab": {}
      },
      "source": [
        "train_df['target_relabeled'] = train_df['target'].copy()\n",
        "\n",
        "train_df.loc[train_df['text'] == 'like for the music video I want some real action shit like burning buildings and police chases not some weak ben winston shit', 'target_relabeled'] = 0\n",
        "train_df.loc[train_df['text'] == 'Hellfire is surrounded by desires so be careful and donÛªt let your desires control you! #Afterlife', 'target_relabeled'] = 0\n",
        "train_df.loc[train_df['text'] == 'To fight bioterrorism sir.', 'target_relabeled'] = 0\n",
        "train_df.loc[train_df['text'] == '.POTUS #StrategicPatience is a strategy for #Genocide; refugees; IDP Internally displaced people; horror; etc. https://t.co/rqWuoy1fm4', 'target_relabeled'] = 1\n",
        "train_df.loc[train_df['text'] == 'CLEARED:incident with injury:I-495  inner loop Exit 31 - MD 97/Georgia Ave Silver Spring', 'target_relabeled'] = 1\n",
        "train_df.loc[train_df['text'] == '#foodscare #offers2go #NestleIndia slips into loss after #Magginoodle #ban unsafe and hazardous for #humanconsumption', 'target_relabeled'] = 0\n",
        "train_df.loc[train_df['text'] == 'In #islam saving a person is equal in reward to saving all humans! Islam is the opposite of terrorism!', 'target_relabeled'] = 0\n",
        "train_df.loc[train_df['text'] == 'Who is bringing the tornadoes and floods. Who is bringing the climate change. God is after America He is plaguing her\\n \\n#FARRAKHAN #QUOTE', 'target_relabeled'] = 1\n",
        "train_df.loc[train_df['text'] == 'RT NotExplained: The only known image of infamous hijacker D.B. Cooper. http://t.co/JlzK2HdeTG', 'target_relabeled'] = 1\n",
        "train_df.loc[train_df['text'] == \"Mmmmmm I'm burning.... I'm burning buildings I'm building.... Oooooohhhh oooh ooh...\", 'target_relabeled'] = 0\n",
        "train_df.loc[train_df['text'] == \"wowo--=== 12000 Nigerian refugees repatriated from Cameroon\", 'target_relabeled'] = 0\n",
        "train_df.loc[train_df['text'] == \"He came to a land which was engulfed in tribal war and turned it into a land of peace i.e. Madinah. #ProphetMuhammad #islam\", 'target_relabeled'] = 0\n",
        "train_df.loc[train_df['text'] == \"Hellfire! We donÛªt even want to think about it or mention it so letÛªs not do anything that leads to it #islam!\", 'target_relabeled'] = 0\n",
        "train_df.loc[train_df['text'] == \"The Prophet (peace be upon him) said 'Save yourself from Hellfire even if it is by giving half a date in charity.'\", 'target_relabeled'] = 0\n",
        "train_df.loc[train_df['text'] == \"Caution: breathing may be hazardous to your health.\", 'target_relabeled'] = 1\n",
        "train_df.loc[train_df['text'] == \"I Pledge Allegiance To The P.O.P.E. And The Burning Buildings of Epic City. ??????\", 'target_relabeled'] = 0\n",
        "train_df.loc[train_df['text'] == \"#Allah describes piling up #wealth thinking it would last #forever as the description of the people of #Hellfire in Surah Humaza. #Reflect\", 'target_relabeled'] = 0\n",
        "train_df.loc[train_df['text'] == \"that horrible sinking feeling when youÛªve been at home on your phone for a while and you realise its been on 3G this whole time\", 'target_relabeled'] = 0\n"
      ],
      "execution_count": null,
      "outputs": []
    },
    {
      "cell_type": "markdown",
      "metadata": {
        "id": "f3cw6fpNwWYY",
        "colab_type": "text"
      },
      "source": [
        "New dataframes for simplicity"
      ]
    },
    {
      "cell_type": "code",
      "metadata": {
        "id": "wxRKUooez9Sa",
        "trusted": true,
        "colab_type": "code",
        "colab": {}
      },
      "source": [
        "train_cleaned = pd.DataFrame({'text': train_df.text,\n",
        "                         'label': train_df.target_relabeled})\n",
        "test_cleaned = pd.DataFrame({'text': test_df.text})"
      ],
      "execution_count": null,
      "outputs": []
    },
    {
      "cell_type": "code",
      "metadata": {
        "id": "iqJWY83XsfP7",
        "trusted": true,
        "colab_type": "code",
        "colab": {},
        "outputId": "6254b0d8-887d-4b48-d011-1ab708e24f97"
      },
      "source": [
        "pd.set_option('display.max_colwidth', -1)\n",
        "print(train_cleaned.head(40))"
      ],
      "execution_count": null,
      "outputs": [
        {
          "output_type": "stream",
          "text": [
            "                                                                                                                                            text  \\\n",
            "0   Our Deeds are the Reason of this #earthquake May ALLAH Forgive us all                                                                          \n",
            "1   Forest fire near La Ronge Sask. Canada                                                                                                         \n",
            "2   All residents asked to 'shelter in place' are being notified by officers. No other evacuation or shelter in place orders are expected          \n",
            "3   13,000 people receive #wildfires evacuation orders in California                                                                               \n",
            "4   Just got sent this photo from Ruby #Alaska as smoke from #wildfires pours into a school                                                        \n",
            "5   #RockyFire Update => California Hwy. 20 closed in both directions due to Lake County fire - #CAfire #wildfires                                 \n",
            "6   #flood #disaster Heavy rain causes flash flooding of streets in Manitou, Colorado Springs areas                                                \n",
            "7   I'm on top of the hill and I can see a fire in the woods...                                                                                    \n",
            "8   There's an emergency evacuation happening now in the building across the street                                                                \n",
            "9   I'm afraid that the tornado is coming to our area...                                                                                           \n",
            "10  Three people died from the heat wave so far                                                                                                    \n",
            "11  Haha South Tampa is getting flooded hah- WAIT A SECOND I LIVE IN SOUTH TAMPA WHAT AM I GONNA DO WHAT AM I GONNA DO FVCK #flooding              \n",
            "12  #raining #flooding #Florida #TampaBay #Tampa 18 or 19 days. I've lost count                                                                    \n",
            "13  #Flood in Bago Myanmar #We arrived Bago                                                                                                        \n",
            "14  Damage to school bus on 80 in multi car crash #BREAKING                                                                                        \n",
            "15  What's up man?                                                                                                                                 \n",
            "16  I love fruits                                                                                                                                  \n",
            "17  Summer is lovely                                                                                                                               \n",
            "18  My car is so fast                                                                                                                              \n",
            "19  What a goooooooaaaaaal!!!!!!                                                                                                                   \n",
            "20  this is ridiculous....                                                                                                                         \n",
            "21  London is cool ;)                                                                                                                              \n",
            "22  Love skiing                                                                                                                                    \n",
            "23  What a wonderful day!                                                                                                                          \n",
            "24  LOOOOOOL                                                                                                                                       \n",
            "25  No way...I can't eat that shit                                                                                                                 \n",
            "26  Was in NYC last week!                                                                                                                          \n",
            "27  Love my girlfriend                                                                                                                             \n",
            "28  Cooool :)                                                                                                                                      \n",
            "29  Do you like pasta?                                                                                                                             \n",
            "30  The end!                                                                                                                                       \n",
            "31  @bbcmtd Wholesale Markets ablaze http://t.co/lHYXEOHY6C                                                                                        \n",
            "32  We always try to bring the heavy. #metal #RT http://t.co/YAo1e0xngw                                                                            \n",
            "33  #AFRICANBAZE: Breaking news:Nigeria flag set ablaze in Aba. http://t.co/2nndBGwyEi                                                             \n",
            "34  Crying out for more! Set me ablaze                                                                                                             \n",
            "35  On plus side LOOK AT THE SKY LAST NIGHT IT WAS ABLAZE http://t.co/qqsmshaJ3N                                                                   \n",
            "36  @PhDSquares #mufc they've built so much hype around new acquisitions but I doubt they will set the EPL ablaze this season.                     \n",
            "37  INEC Office in Abia Set Ablaze - http://t.co/3ImaomknnA                                                                                        \n",
            "38  Barbados #Bridgetown JAMAICA ÛÒ Two cars set ablaze: SANTA CRUZ ÛÓ Head of the St Elizabeth Police Superintende...  http://t.co/wDUEaj8Q4J   \n",
            "39  Ablaze for you Lord :D                                                                                                                         \n",
            "\n",
            "    label  \n",
            "0   1      \n",
            "1   1      \n",
            "2   1      \n",
            "3   1      \n",
            "4   1      \n",
            "5   1      \n",
            "6   1      \n",
            "7   1      \n",
            "8   1      \n",
            "9   1      \n",
            "10  1      \n",
            "11  1      \n",
            "12  1      \n",
            "13  1      \n",
            "14  1      \n",
            "15  0      \n",
            "16  0      \n",
            "17  0      \n",
            "18  0      \n",
            "19  0      \n",
            "20  0      \n",
            "21  0      \n",
            "22  0      \n",
            "23  0      \n",
            "24  0      \n",
            "25  0      \n",
            "26  0      \n",
            "27  0      \n",
            "28  0      \n",
            "29  0      \n",
            "30  0      \n",
            "31  1      \n",
            "32  0      \n",
            "33  1      \n",
            "34  0      \n",
            "35  0      \n",
            "36  0      \n",
            "37  1      \n",
            "38  1      \n",
            "39  0      \n"
          ],
          "name": "stdout"
        },
        {
          "output_type": "stream",
          "text": [
            "/opt/conda/lib/python3.7/site-packages/ipykernel_launcher.py:1: FutureWarning: Passing a negative integer is deprecated in version 1.0 and will not be supported in future version. Instead, use None to not limit the column width.\n",
            "  \"\"\"Entry point for launching an IPython kernel.\n"
          ],
          "name": "stderr"
        }
      ]
    },
    {
      "cell_type": "markdown",
      "metadata": {
        "id": "CdG1g1ziwWYl",
        "colab_type": "text"
      },
      "source": [
        "Here BERT was used as a part of `transformers` class of huggingface library, available for PyTorch. We're using `uncased` version, so tokenizing would be applied to lowercased text. I've seen some tutorials which used `cased` version for sentiment classification and got better accuracy (makes sence for \"COOL\" sounds more emotionally expressive than \"cool\") but for this task `uncased` seemes to work better."
      ]
    },
    {
      "cell_type": "code",
      "metadata": {
        "id": "KBIu_NStsksE",
        "trusted": true,
        "colab_type": "code",
        "colab": {}
      },
      "source": [
        "PRE_TRAINED_MODEL_NAME = 'bert-base-uncased'\n",
        "tokenizer = BertTokenizer.from_pretrained(PRE_TRAINED_MODEL_NAME, \n",
        "                                          do_lower_case=True)"
      ],
      "execution_count": null,
      "outputs": []
    },
    {
      "cell_type": "markdown",
      "metadata": {
        "id": "1GU8mEAHwWYs",
        "colab_type": "text"
      },
      "source": [
        "# Text preprocessing for BERT"
      ]
    },
    {
      "cell_type": "markdown",
      "metadata": {
        "id": "l0CK30lXwWYt",
        "colab_type": "text"
      },
      "source": [
        "In order to feed the text to BERT, we need to properly format it first. This procedure involves padding (truncating) sentences to a certain length, adding special symbols at the beginning and at the end of each sentence (`[CLS]` and `[SEP]`), and deriving an attention mask that simply allows BERT to distinguish between actual sentence tokens and zero padding (it contains `1`s for real tokens and `0`s for padded part). Instead of doing it all manually, we can make use of `encode_plus` method.\n",
        "\n",
        "But first, we should come up with padding length. Max/default BERT value is `512`, but it's computationally demanding, so people usually go with the length of the longest sentence in the dataset. Despite in our case, the longest tokenized tweet was 84 tokens long, choosing the length of `128` showed better performance (although worse than 256, 512, etc.)."
      ]
    },
    {
      "cell_type": "code",
      "metadata": {
        "id": "aJInLd8vsnNs",
        "trusted": true,
        "colab_type": "code",
        "colab": {},
        "outputId": "87611933-8470-4b5d-ff66-77fbdf210c30"
      },
      "source": [
        "token_lens = []\n",
        "\n",
        "for tweet in list(train_cleaned.text)+list(test_cleaned.text):\n",
        "  tokens = tokenizer.encode(tweet, truncation=True, max_length=512)\n",
        "  token_lens.append(len(tokens))\n",
        "\n",
        "print('Max length: ', max(token_lens))\n",
        "print(' '*40)\n",
        "\n",
        "sns.distplot(token_lens)\n",
        "plt.xlim([0, 100]);\n",
        "plt.xlabel('Token count');"
      ],
      "execution_count": null,
      "outputs": [
        {
          "output_type": "stream",
          "text": [
            "Max length:  84\n",
            "                                        \n"
          ],
          "name": "stdout"
        },
        {
          "output_type": "display_data",
          "data": {
            "text/plain": [
              "<Figure size 864x576 with 1 Axes>"
            ],
            "image/png": "[encoded data removed]"
          },
          "metadata": {
            "tags": [],
            "image/png": {
              "width": 735,
              "height": 489
            }
          }
        }
      ]
    },
    {
      "cell_type": "code",
      "metadata": {
        "id": "I6pBmAh8sq3y",
        "trusted": true,
        "colab_type": "code",
        "colab": {}
      },
      "source": [
        "MAX_LEN = 128"
      ],
      "execution_count": null,
      "outputs": []
    },
    {
      "cell_type": "markdown",
      "metadata": {
        "id": "mKRaR_ixwWY4",
        "colab_type": "text"
      },
      "source": [
        "Here we're creating a class that takes all the hyperparameters and utilizes `encode_plus` tokenizer method to return a dictionary containing tweet text, tokenized tweet, attention mask and tweet label."
      ]
    },
    {
      "cell_type": "code",
      "metadata": {
        "id": "wdKBj7EysrqE",
        "trusted": true,
        "colab_type": "code",
        "colab": {}
      },
      "source": [
        "class TweetDataset(Dataset):\n",
        "\n",
        "  def __init__(self, tweets, labels, tokenizer, max_len):\n",
        "    self.tweets = tweets\n",
        "    self.labels = labels\n",
        "    self.tokenizer = tokenizer\n",
        "    self.max_len = max_len\n",
        "  \n",
        "  def __len__(self):\n",
        "    return len(self.tweets)\n",
        "  \n",
        "  def __getitem__(self, item):\n",
        "    tweet = str(self.tweets[item])\n",
        "    label = self.labels[item]\n",
        "\n",
        "    encoding = self.tokenizer.encode_plus(\n",
        "      tweet,\n",
        "      add_special_tokens=True, # add [CLS] and [SEP]\n",
        "      max_length=self.max_len, # 128\n",
        "      truncation=True, # to avoid warnings\n",
        "      return_token_type_ids=False,\n",
        "      pad_to_max_length=True,\n",
        "      return_attention_mask=True,\n",
        "      return_tensors='pt',\n",
        "    )\n",
        "\n",
        "    return {\n",
        "      'tweet_text': tweet,\n",
        "      'input_ids': encoding['input_ids'].flatten(),\n",
        "      'attention_mask': encoding['attention_mask'].flatten(),\n",
        "      'labels': torch.tensor(label, dtype=torch.long)\n",
        "    }"
      ],
      "execution_count": null,
      "outputs": []
    },
    {
      "cell_type": "markdown",
      "metadata": {
        "id": "eA0xpPrrwWY9",
        "colab_type": "text"
      },
      "source": [
        "Train-valid-test split of the training set (0.8, 0.1, 0.1)."
      ]
    },
    {
      "cell_type": "code",
      "metadata": {
        "id": "SuviKFPPsvFr",
        "trusted": true,
        "colab_type": "code",
        "colab": {},
        "outputId": "a354bbba-9b4b-418c-aba7-3cc004e163c5"
      },
      "source": [
        "df_train, df_test = train_test_split(train_cleaned, test_size=0.2, random_state=RANDOM_SEED)\n",
        "df_val, df_test = train_test_split(df_test, test_size=0.5, random_state=RANDOM_SEED)\n",
        "\n",
        "df_train.shape, df_val.shape, df_test.shape"
      ],
      "execution_count": null,
      "outputs": [
        {
          "output_type": "execute_result",
          "data": {
            "text/plain": [
              "((6090, 2), (761, 2), (762, 2))"
            ]
          },
          "metadata": {
            "tags": []
          },
          "execution_count": 30
        }
      ]
    },
    {
      "cell_type": "markdown",
      "metadata": {
        "id": "OA6q0bKGwWiC",
        "colab_type": "text"
      },
      "source": [
        "Helper function to create PyTorch data loader."
      ]
    },
    {
      "cell_type": "code",
      "metadata": {
        "id": "Hf7Z5chbsxhA",
        "trusted": true,
        "colab_type": "code",
        "colab": {}
      },
      "source": [
        "def create_data_loader(df, tokenizer, max_len, batch_size):\n",
        "  ds = TweetDataset(\n",
        "    tweets=df.text.to_numpy(),\n",
        "    labels=df.label.to_numpy(),\n",
        "    tokenizer=tokenizer,\n",
        "    max_len=max_len\n",
        "  )\n",
        "\n",
        "  return DataLoader(\n",
        "    ds,\n",
        "    batch_size=batch_size,\n",
        "    num_workers=4\n",
        "  )"
      ],
      "execution_count": null,
      "outputs": []
    },
    {
      "cell_type": "code",
      "metadata": {
        "id": "_k8dX-ufszq3",
        "trusted": true,
        "colab_type": "code",
        "colab": {}
      },
      "source": [
        "BATCH_SIZE = 32\n",
        "\n",
        "train_data_loader = create_data_loader(df_train, tokenizer, MAX_LEN, BATCH_SIZE)\n",
        "val_data_loader = create_data_loader(df_val, tokenizer, MAX_LEN, BATCH_SIZE)\n",
        "test_data_loader = create_data_loader(df_test, tokenizer, MAX_LEN, BATCH_SIZE)"
      ],
      "execution_count": null,
      "outputs": []
    },
    {
      "cell_type": "markdown",
      "metadata": {
        "id": "4lcKoD4swWiS",
        "colab_type": "text"
      },
      "source": [
        "Here you can see an original tweet, its tokenized representation, attention mask, and label. Note that BERT doesn't tokenize words by simply turning them into numbers sequentially, but uses separate parts of words instead (with total vocab size of 30000), that's why by looking at the original sentence you'll never know its length after tokenizing.\n",
        "\n",
        "As you can see, `[CLS]` token has index 101, `[SEP]` is 102."
      ]
    },
    {
      "cell_type": "code",
      "metadata": {
        "id": "Az8ZPKWys2Pt",
        "trusted": true,
        "colab_type": "code",
        "colab": {},
        "outputId": "df081169-56e3-48d6-b7cd-68bf522e95c6"
      },
      "source": [
        "print([i for i in train_data_loader][0]['tweet_text'][0])\n",
        "print([i for i in train_data_loader][0]['input_ids'][0])\n",
        "print([i for i in train_data_loader][0]['attention_mask'][0])\n",
        "print([i for i in train_data_loader][0]['labels'][0])"
      ],
      "execution_count": null,
      "outputs": [
        {
          "output_type": "stream",
          "text": [
            "Courageous and honest analysis of need to use Atomic Bomb in 1945. #Hiroshima70 Japanese military refused surrender. https://t.co/VhmtyTptGR\n",
            "tensor([  101, 26103,  1998,  7481,  4106,  1997,  2342,  2000,  2224,  9593,\n",
            "         5968,  1999,  3386,  1012,  1001, 20168, 19841,  2887,  2510,  4188,\n",
            "         7806,  1012, 16770,  1024,  1013,  1013,  1056,  1012,  2522,  1013,\n",
            "         1058, 14227,  3723, 25856,  2102, 16523,   102,     0,     0,     0,\n",
            "            0,     0,     0,     0,     0,     0,     0,     0,     0,     0,\n",
            "            0,     0,     0,     0,     0,     0,     0,     0,     0,     0,\n",
            "            0,     0,     0,     0,     0,     0,     0,     0,     0,     0,\n",
            "            0,     0,     0,     0,     0,     0,     0,     0,     0,     0,\n",
            "            0,     0,     0,     0,     0,     0,     0,     0,     0,     0,\n",
            "            0,     0,     0,     0,     0,     0,     0,     0,     0,     0,\n",
            "            0,     0,     0,     0,     0,     0,     0,     0,     0,     0,\n",
            "            0,     0,     0,     0,     0,     0,     0,     0,     0,     0,\n",
            "            0,     0,     0,     0,     0,     0,     0,     0])\n",
            "tensor([1, 1, 1, 1, 1, 1, 1, 1, 1, 1, 1, 1, 1, 1, 1, 1, 1, 1, 1, 1, 1, 1, 1, 1,\n",
            "        1, 1, 1, 1, 1, 1, 1, 1, 1, 1, 1, 1, 1, 0, 0, 0, 0, 0, 0, 0, 0, 0, 0, 0,\n",
            "        0, 0, 0, 0, 0, 0, 0, 0, 0, 0, 0, 0, 0, 0, 0, 0, 0, 0, 0, 0, 0, 0, 0, 0,\n",
            "        0, 0, 0, 0, 0, 0, 0, 0, 0, 0, 0, 0, 0, 0, 0, 0, 0, 0, 0, 0, 0, 0, 0, 0,\n",
            "        0, 0, 0, 0, 0, 0, 0, 0, 0, 0, 0, 0, 0, 0, 0, 0, 0, 0, 0, 0, 0, 0, 0, 0,\n",
            "        0, 0, 0, 0, 0, 0, 0, 0])\n",
            "tensor(1)\n"
          ],
          "name": "stdout"
        }
      ]
    },
    {
      "cell_type": "code",
      "metadata": {
        "id": "oi6g9HJws3rN",
        "trusted": true,
        "colab_type": "code",
        "colab": {},
        "outputId": "92e610f0-66ec-409f-9568-2905670cf4d6"
      },
      "source": [
        "data = next(iter(train_data_loader))\n",
        "\n",
        "print(data['input_ids'].shape) # batch_size * tweet length\n",
        "print(data['attention_mask'].shape)  # batch_size * tweet length\n",
        "print(data['labels'].shape) # batch_size"
      ],
      "execution_count": null,
      "outputs": [
        {
          "output_type": "stream",
          "text": [
            "torch.Size([32, 128])\n",
            "torch.Size([32, 128])\n",
            "torch.Size([32])\n"
          ],
          "name": "stdout"
        }
      ]
    },
    {
      "cell_type": "markdown",
      "metadata": {
        "id": "5eO03LHKwWif",
        "colab_type": "text"
      },
      "source": [
        "We use a pre-trained base version of BERT model (110M parameters, 12-headed attention, 12 Transformer layers, hidden states of size 768). huggingface provides `BertForSequenceClassification` class with additional linear layer specifically for classification tasks (remember that BERT could be used for variety of NLP (NLU) tasks, such as question answering, named entity recognition, classification), but raw BERT allows for more flexibility when adding head layers on top (it outputs only hidden states)."
      ]
    },
    {
      "cell_type": "code",
      "metadata": {
        "id": "BV4D0UXFs7KV",
        "trusted": true,
        "colab_type": "code",
        "colab": {
          "referenced_widgets": [
            "a9f5b59536174975ae2dabeed2486a4d",
            "dfca35c1828645d8a9c4080d1fd503ee"
          ]
        },
        "outputId": "2887e1be-9aae-4bdf-bce2-ce529c82f131"
      },
      "source": [
        "bert_model = BertModel.from_pretrained(PRE_TRAINED_MODEL_NAME)"
      ],
      "execution_count": null,
      "outputs": [
        {
          "output_type": "display_data",
          "data": {
            "text/plain": [
              "HBox(children=(FloatProgress(value=0.0, description='Downloading', max=433.0, style=ProgressStyle(description_…"
            ],
            "application/vnd.jupyter.widget-view+json": {
              "version_major": 2,
              "version_minor": 0,
              "model_id": "a9f5b59536174975ae2dabeed2486a4d"
            }
          },
          "metadata": {
            "tags": []
          }
        },
        {
          "output_type": "stream",
          "text": [
            "\n"
          ],
          "name": "stdout"
        },
        {
          "output_type": "display_data",
          "data": {
            "text/plain": [
              "HBox(children=(FloatProgress(value=0.0, description='Downloading', max=440473133.0, style=ProgressStyle(descri…"
            ],
            "application/vnd.jupyter.widget-view+json": {
              "version_major": 2,
              "version_minor": 0,
              "model_id": "dfca35c1828645d8a9c4080d1fd503ee"
            }
          },
          "metadata": {
            "tags": []
          }
        },
        {
          "output_type": "stream",
          "text": [
            "\n"
          ],
          "name": "stdout"
        }
      ]
    },
    {
      "cell_type": "markdown",
      "metadata": {
        "id": "-oO5_Z48wWi_",
        "colab_type": "text"
      },
      "source": [
        "# The Model"
      ]
    },
    {
      "cell_type": "markdown",
      "metadata": {
        "id": "2_AhotIowWjA",
        "colab_type": "text"
      },
      "source": [
        "Defining the model architecture. Here we're using pooled_output which is just the hidden state of the `[CLS]` token from the last layer put through a linear layer with `tanh` activation without changes in dimensionality. \n",
        "\n",
        "![](https://miro.medium.com/max/500/1*9KZDq9Zu2kxdZxS5Ip5JRg.png\n",
        ")\n",
        "\n",
        "This is a common way to extract data from BERT for classification (reminds of a regular LSTM classification), and it's equivalent to `BertForSequenceClassification` except for dropout tuning. We could've also extracted hidden states for all tokens, and then concatenate or average them. I've tried out various architectures, including adding more linear layers on top, adding sigmoid activation, tweaking the number of nodes, dropout probability, etc., but the one below resulted in the best performance."
      ]
    },
    {
      "cell_type": "code",
      "metadata": {
        "id": "hYwBMaOutBvr",
        "trusted": true,
        "colab_type": "code",
        "colab": {}
      },
      "source": [
        "class DisasterClassifier(nn.Module):\n",
        "\n",
        "  def __init__(self, n_classes):\n",
        "    super(DisasterClassifier, self).__init__()\n",
        "    self.bert = BertModel.from_pretrained(PRE_TRAINED_MODEL_NAME)\n",
        "    self.drop = nn.Dropout(.4)\n",
        "    self.out = nn.Linear(self.bert.config.hidden_size, n_classes)\n",
        "  \n",
        "  def forward(self, input_ids, attention_mask):\n",
        "    _, pooled_output = self.bert(\n",
        "      input_ids=input_ids,\n",
        "      attention_mask=attention_mask\n",
        "    )\n",
        "    output = self.drop(pooled_output)\n",
        "    return self.out(output)"
      ],
      "execution_count": null,
      "outputs": []
    },
    {
      "cell_type": "markdown",
      "metadata": {
        "id": "u8kqBFmTwWjG",
        "colab_type": "text"
      },
      "source": [
        "Specifying the number of classes and printing out whole BERT architecture, including the pooler layer that we use as output and our custom linear layer with `2` neurons as final output."
      ]
    },
    {
      "cell_type": "code",
      "metadata": {
        "id": "n0BcCCWstFbe",
        "trusted": true,
        "colab_type": "code",
        "colab": {},
        "outputId": "5fab778a-17b4-42c6-ff37-23af09a7bf0d"
      },
      "source": [
        "model = DisasterClassifier(2)\n",
        "model = model.to(device)\n",
        "\n",
        "print(model)"
      ],
      "execution_count": null,
      "outputs": [
        {
          "output_type": "stream",
          "text": [
            "DisasterClassifier(\n",
            "  (bert): BertModel(\n",
            "    (embeddings): BertEmbeddings(\n",
            "      (word_embeddings): Embedding(30522, 768, padding_idx=0)\n",
            "      (position_embeddings): Embedding(512, 768)\n",
            "      (token_type_embeddings): Embedding(2, 768)\n",
            "      (LayerNorm): LayerNorm((768,), eps=1e-12, elementwise_affine=True)\n",
            "      (dropout): Dropout(p=0.1, inplace=False)\n",
            "    )\n",
            "    (encoder): BertEncoder(\n",
            "      (layer): ModuleList(\n",
            "        (0): BertLayer(\n",
            "          (attention): BertAttention(\n",
            "            (self): BertSelfAttention(\n",
            "              (query): Linear(in_features=768, out_features=768, bias=True)\n",
            "              (key): Linear(in_features=768, out_features=768, bias=True)\n",
            "              (value): Linear(in_features=768, out_features=768, bias=True)\n",
            "              (dropout): Dropout(p=0.1, inplace=False)\n",
            "            )\n",
            "            (output): BertSelfOutput(\n",
            "              (dense): Linear(in_features=768, out_features=768, bias=True)\n",
            "              (LayerNorm): LayerNorm((768,), eps=1e-12, elementwise_affine=True)\n",
            "              (dropout): Dropout(p=0.1, inplace=False)\n",
            "            )\n",
            "          )\n",
            "          (intermediate): BertIntermediate(\n",
            "            (dense): Linear(in_features=768, out_features=3072, bias=True)\n",
            "          )\n",
            "          (output): BertOutput(\n",
            "            (dense): Linear(in_features=3072, out_features=768, bias=True)\n",
            "            (LayerNorm): LayerNorm((768,), eps=1e-12, elementwise_affine=True)\n",
            "            (dropout): Dropout(p=0.1, inplace=False)\n",
            "          )\n",
            "        )\n",
            "        (1): BertLayer(\n",
            "          (attention): BertAttention(\n",
            "            (self): BertSelfAttention(\n",
            "              (query): Linear(in_features=768, out_features=768, bias=True)\n",
            "              (key): Linear(in_features=768, out_features=768, bias=True)\n",
            "              (value): Linear(in_features=768, out_features=768, bias=True)\n",
            "              (dropout): Dropout(p=0.1, inplace=False)\n",
            "            )\n",
            "            (output): BertSelfOutput(\n",
            "              (dense): Linear(in_features=768, out_features=768, bias=True)\n",
            "              (LayerNorm): LayerNorm((768,), eps=1e-12, elementwise_affine=True)\n",
            "              (dropout): Dropout(p=0.1, inplace=False)\n",
            "            )\n",
            "          )\n",
            "          (intermediate): BertIntermediate(\n",
            "            (dense): Linear(in_features=768, out_features=3072, bias=True)\n",
            "          )\n",
            "          (output): BertOutput(\n",
            "            (dense): Linear(in_features=3072, out_features=768, bias=True)\n",
            "            (LayerNorm): LayerNorm((768,), eps=1e-12, elementwise_affine=True)\n",
            "            (dropout): Dropout(p=0.1, inplace=False)\n",
            "          )\n",
            "        )\n",
            "        (2): BertLayer(\n",
            "          (attention): BertAttention(\n",
            "            (self): BertSelfAttention(\n",
            "              (query): Linear(in_features=768, out_features=768, bias=True)\n",
            "              (key): Linear(in_features=768, out_features=768, bias=True)\n",
            "              (value): Linear(in_features=768, out_features=768, bias=True)\n",
            "              (dropout): Dropout(p=0.1, inplace=False)\n",
            "            )\n",
            "            (output): BertSelfOutput(\n",
            "              (dense): Linear(in_features=768, out_features=768, bias=True)\n",
            "              (LayerNorm): LayerNorm((768,), eps=1e-12, elementwise_affine=True)\n",
            "              (dropout): Dropout(p=0.1, inplace=False)\n",
            "            )\n",
            "          )\n",
            "          (intermediate): BertIntermediate(\n",
            "            (dense): Linear(in_features=768, out_features=3072, bias=True)\n",
            "          )\n",
            "          (output): BertOutput(\n",
            "            (dense): Linear(in_features=3072, out_features=768, bias=True)\n",
            "            (LayerNorm): LayerNorm((768,), eps=1e-12, elementwise_affine=True)\n",
            "            (dropout): Dropout(p=0.1, inplace=False)\n",
            "          )\n",
            "        )\n",
            "        (3): BertLayer(\n",
            "          (attention): BertAttention(\n",
            "            (self): BertSelfAttention(\n",
            "              (query): Linear(in_features=768, out_features=768, bias=True)\n",
            "              (key): Linear(in_features=768, out_features=768, bias=True)\n",
            "              (value): Linear(in_features=768, out_features=768, bias=True)\n",
            "              (dropout): Dropout(p=0.1, inplace=False)\n",
            "            )\n",
            "            (output): BertSelfOutput(\n",
            "              (dense): Linear(in_features=768, out_features=768, bias=True)\n",
            "              (LayerNorm): LayerNorm((768,), eps=1e-12, elementwise_affine=True)\n",
            "              (dropout): Dropout(p=0.1, inplace=False)\n",
            "            )\n",
            "          )\n",
            "          (intermediate): BertIntermediate(\n",
            "            (dense): Linear(in_features=768, out_features=3072, bias=True)\n",
            "          )\n",
            "          (output): BertOutput(\n",
            "            (dense): Linear(in_features=3072, out_features=768, bias=True)\n",
            "            (LayerNorm): LayerNorm((768,), eps=1e-12, elementwise_affine=True)\n",
            "            (dropout): Dropout(p=0.1, inplace=False)\n",
            "          )\n",
            "        )\n",
            "        (4): BertLayer(\n",
            "          (attention): BertAttention(\n",
            "            (self): BertSelfAttention(\n",
            "              (query): Linear(in_features=768, out_features=768, bias=True)\n",
            "              (key): Linear(in_features=768, out_features=768, bias=True)\n",
            "              (value): Linear(in_features=768, out_features=768, bias=True)\n",
            "              (dropout): Dropout(p=0.1, inplace=False)\n",
            "            )\n",
            "            (output): BertSelfOutput(\n",
            "              (dense): Linear(in_features=768, out_features=768, bias=True)\n",
            "              (LayerNorm): LayerNorm((768,), eps=1e-12, elementwise_affine=True)\n",
            "              (dropout): Dropout(p=0.1, inplace=False)\n",
            "            )\n",
            "          )\n",
            "          (intermediate): BertIntermediate(\n",
            "            (dense): Linear(in_features=768, out_features=3072, bias=True)\n",
            "          )\n",
            "          (output): BertOutput(\n",
            "            (dense): Linear(in_features=3072, out_features=768, bias=True)\n",
            "            (LayerNorm): LayerNorm((768,), eps=1e-12, elementwise_affine=True)\n",
            "            (dropout): Dropout(p=0.1, inplace=False)\n",
            "          )\n",
            "        )\n",
            "        (5): BertLayer(\n",
            "          (attention): BertAttention(\n",
            "            (self): BertSelfAttention(\n",
            "              (query): Linear(in_features=768, out_features=768, bias=True)\n",
            "              (key): Linear(in_features=768, out_features=768, bias=True)\n",
            "              (value): Linear(in_features=768, out_features=768, bias=True)\n",
            "              (dropout): Dropout(p=0.1, inplace=False)\n",
            "            )\n",
            "            (output): BertSelfOutput(\n",
            "              (dense): Linear(in_features=768, out_features=768, bias=True)\n",
            "              (LayerNorm): LayerNorm((768,), eps=1e-12, elementwise_affine=True)\n",
            "              (dropout): Dropout(p=0.1, inplace=False)\n",
            "            )\n",
            "          )\n",
            "          (intermediate): BertIntermediate(\n",
            "            (dense): Linear(in_features=768, out_features=3072, bias=True)\n",
            "          )\n",
            "          (output): BertOutput(\n",
            "            (dense): Linear(in_features=3072, out_features=768, bias=True)\n",
            "            (LayerNorm): LayerNorm((768,), eps=1e-12, elementwise_affine=True)\n",
            "            (dropout): Dropout(p=0.1, inplace=False)\n",
            "          )\n",
            "        )\n",
            "        (6): BertLayer(\n",
            "          (attention): BertAttention(\n",
            "            (self): BertSelfAttention(\n",
            "              (query): Linear(in_features=768, out_features=768, bias=True)\n",
            "              (key): Linear(in_features=768, out_features=768, bias=True)\n",
            "              (value): Linear(in_features=768, out_features=768, bias=True)\n",
            "              (dropout): Dropout(p=0.1, inplace=False)\n",
            "            )\n",
            "            (output): BertSelfOutput(\n",
            "              (dense): Linear(in_features=768, out_features=768, bias=True)\n",
            "              (LayerNorm): LayerNorm((768,), eps=1e-12, elementwise_affine=True)\n",
            "              (dropout): Dropout(p=0.1, inplace=False)\n",
            "            )\n",
            "          )\n",
            "          (intermediate): BertIntermediate(\n",
            "            (dense): Linear(in_features=768, out_features=3072, bias=True)\n",
            "          )\n",
            "          (output): BertOutput(\n",
            "            (dense): Linear(in_features=3072, out_features=768, bias=True)\n",
            "            (LayerNorm): LayerNorm((768,), eps=1e-12, elementwise_affine=True)\n",
            "            (dropout): Dropout(p=0.1, inplace=False)\n",
            "          )\n",
            "        )\n",
            "        (7): BertLayer(\n",
            "          (attention): BertAttention(\n",
            "            (self): BertSelfAttention(\n",
            "              (query): Linear(in_features=768, out_features=768, bias=True)\n",
            "              (key): Linear(in_features=768, out_features=768, bias=True)\n",
            "              (value): Linear(in_features=768, out_features=768, bias=True)\n",
            "              (dropout): Dropout(p=0.1, inplace=False)\n",
            "            )\n",
            "            (output): BertSelfOutput(\n",
            "              (dense): Linear(in_features=768, out_features=768, bias=True)\n",
            "              (LayerNorm): LayerNorm((768,), eps=1e-12, elementwise_affine=True)\n",
            "              (dropout): Dropout(p=0.1, inplace=False)\n",
            "            )\n",
            "          )\n",
            "          (intermediate): BertIntermediate(\n",
            "            (dense): Linear(in_features=768, out_features=3072, bias=True)\n",
            "          )\n",
            "          (output): BertOutput(\n",
            "            (dense): Linear(in_features=3072, out_features=768, bias=True)\n",
            "            (LayerNorm): LayerNorm((768,), eps=1e-12, elementwise_affine=True)\n",
            "            (dropout): Dropout(p=0.1, inplace=False)\n",
            "          )\n",
            "        )\n",
            "        (8): BertLayer(\n",
            "          (attention): BertAttention(\n",
            "            (self): BertSelfAttention(\n",
            "              (query): Linear(in_features=768, out_features=768, bias=True)\n",
            "              (key): Linear(in_features=768, out_features=768, bias=True)\n",
            "              (value): Linear(in_features=768, out_features=768, bias=True)\n",
            "              (dropout): Dropout(p=0.1, inplace=False)\n",
            "            )\n",
            "            (output): BertSelfOutput(\n",
            "              (dense): Linear(in_features=768, out_features=768, bias=True)\n",
            "              (LayerNorm): LayerNorm((768,), eps=1e-12, elementwise_affine=True)\n",
            "              (dropout): Dropout(p=0.1, inplace=False)\n",
            "            )\n",
            "          )\n",
            "          (intermediate): BertIntermediate(\n",
            "            (dense): Linear(in_features=768, out_features=3072, bias=True)\n",
            "          )\n",
            "          (output): BertOutput(\n",
            "            (dense): Linear(in_features=3072, out_features=768, bias=True)\n",
            "            (LayerNorm): LayerNorm((768,), eps=1e-12, elementwise_affine=True)\n",
            "            (dropout): Dropout(p=0.1, inplace=False)\n",
            "          )\n",
            "        )\n",
            "        (9): BertLayer(\n",
            "          (attention): BertAttention(\n",
            "            (self): BertSelfAttention(\n",
            "              (query): Linear(in_features=768, out_features=768, bias=True)\n",
            "              (key): Linear(in_features=768, out_features=768, bias=True)\n",
            "              (value): Linear(in_features=768, out_features=768, bias=True)\n",
            "              (dropout): Dropout(p=0.1, inplace=False)\n",
            "            )\n",
            "            (output): BertSelfOutput(\n",
            "              (dense): Linear(in_features=768, out_features=768, bias=True)\n",
            "              (LayerNorm): LayerNorm((768,), eps=1e-12, elementwise_affine=True)\n",
            "              (dropout): Dropout(p=0.1, inplace=False)\n",
            "            )\n",
            "          )\n",
            "          (intermediate): BertIntermediate(\n",
            "            (dense): Linear(in_features=768, out_features=3072, bias=True)\n",
            "          )\n",
            "          (output): BertOutput(\n",
            "            (dense): Linear(in_features=3072, out_features=768, bias=True)\n",
            "            (LayerNorm): LayerNorm((768,), eps=1e-12, elementwise_affine=True)\n",
            "            (dropout): Dropout(p=0.1, inplace=False)\n",
            "          )\n",
            "        )\n",
            "        (10): BertLayer(\n",
            "          (attention): BertAttention(\n",
            "            (self): BertSelfAttention(\n",
            "              (query): Linear(in_features=768, out_features=768, bias=True)\n",
            "              (key): Linear(in_features=768, out_features=768, bias=True)\n",
            "              (value): Linear(in_features=768, out_features=768, bias=True)\n",
            "              (dropout): Dropout(p=0.1, inplace=False)\n",
            "            )\n",
            "            (output): BertSelfOutput(\n",
            "              (dense): Linear(in_features=768, out_features=768, bias=True)\n",
            "              (LayerNorm): LayerNorm((768,), eps=1e-12, elementwise_affine=True)\n",
            "              (dropout): Dropout(p=0.1, inplace=False)\n",
            "            )\n",
            "          )\n",
            "          (intermediate): BertIntermediate(\n",
            "            (dense): Linear(in_features=768, out_features=3072, bias=True)\n",
            "          )\n",
            "          (output): BertOutput(\n",
            "            (dense): Linear(in_features=3072, out_features=768, bias=True)\n",
            "            (LayerNorm): LayerNorm((768,), eps=1e-12, elementwise_affine=True)\n",
            "            (dropout): Dropout(p=0.1, inplace=False)\n",
            "          )\n",
            "        )\n",
            "        (11): BertLayer(\n",
            "          (attention): BertAttention(\n",
            "            (self): BertSelfAttention(\n",
            "              (query): Linear(in_features=768, out_features=768, bias=True)\n",
            "              (key): Linear(in_features=768, out_features=768, bias=True)\n",
            "              (value): Linear(in_features=768, out_features=768, bias=True)\n",
            "              (dropout): Dropout(p=0.1, inplace=False)\n",
            "            )\n",
            "            (output): BertSelfOutput(\n",
            "              (dense): Linear(in_features=768, out_features=768, bias=True)\n",
            "              (LayerNorm): LayerNorm((768,), eps=1e-12, elementwise_affine=True)\n",
            "              (dropout): Dropout(p=0.1, inplace=False)\n",
            "            )\n",
            "          )\n",
            "          (intermediate): BertIntermediate(\n",
            "            (dense): Linear(in_features=768, out_features=3072, bias=True)\n",
            "          )\n",
            "          (output): BertOutput(\n",
            "            (dense): Linear(in_features=3072, out_features=768, bias=True)\n",
            "            (LayerNorm): LayerNorm((768,), eps=1e-12, elementwise_affine=True)\n",
            "            (dropout): Dropout(p=0.1, inplace=False)\n",
            "          )\n",
            "        )\n",
            "      )\n",
            "    )\n",
            "    (pooler): BertPooler(\n",
            "      (dense): Linear(in_features=768, out_features=768, bias=True)\n",
            "      (activation): Tanh()\n",
            "    )\n",
            "  )\n",
            "  (drop): Dropout(p=0.4, inplace=False)\n",
            "  (out): Linear(in_features=768, out_features=2, bias=True)\n",
            ")\n"
          ],
          "name": "stdout"
        }
      ]
    },
    {
      "cell_type": "code",
      "metadata": {
        "id": "IUFtkb84tGIG",
        "trusted": true,
        "colab_type": "code",
        "colab": {},
        "outputId": "478540d9-2a54-4c4c-90a0-96c11dfba4ca"
      },
      "source": [
        "input_ids = data['input_ids'].to(device)\n",
        "attention_mask = data['attention_mask'].to(device)\n",
        "\n",
        "print(input_ids.shape)\n",
        "print(attention_mask.shape)"
      ],
      "execution_count": null,
      "outputs": [
        {
          "output_type": "stream",
          "text": [
            "torch.Size([32, 128])\n",
            "torch.Size([32, 128])\n"
          ],
          "name": "stdout"
        }
      ]
    },
    {
      "cell_type": "markdown",
      "metadata": {
        "id": "NpXlwu1gwWjW",
        "colab_type": "text"
      },
      "source": [
        "# Training"
      ]
    },
    {
      "cell_type": "markdown",
      "metadata": {
        "id": "SHs24dvBwWjX",
        "colab_type": "text"
      },
      "source": [
        "We're conducting fine-tuning for `4` epochs here (only 3 of which are usually helpful), using `AdamW` optimizer (proposed by huggingface, to be fair, regular Adam showed almost identical results for this task), learning rate of `0.00001`, and a default scheduler. Since we have 2 logits output we use cross-entropy as our loss function, which will apply softmax internally."
      ]
    },
    {
      "cell_type": "code",
      "metadata": {
        "id": "azr00HXmtLOu",
        "trusted": true,
        "colab_type": "code",
        "colab": {}
      },
      "source": [
        "EPOCHS = 4\n",
        "\n",
        "optimizer = AdamW(model.parameters(), lr=1e-5, correct_bias=False)\n",
        "total_steps = len(train_data_loader) * EPOCHS\n",
        "\n",
        "scheduler = get_linear_schedule_with_warmup(\n",
        "  optimizer,\n",
        "  num_warmup_steps=0,\n",
        "  num_training_steps=total_steps\n",
        ")\n",
        "\n",
        "loss_fn = nn.CrossEntropyLoss().to(device)"
      ],
      "execution_count": null,
      "outputs": []
    },
    {
      "cell_type": "markdown",
      "metadata": {
        "id": "XaLHeskywWjc",
        "colab_type": "text"
      },
      "source": [
        "Two helper functions for training and validation are used. Each returns accuracy, loss, and f1-score of the epoch. The validation function also returns a full classification report for later evaluation of test results. Note that we're clipping gradients to the value of `1` to prevent exploding gradients."
      ]
    },
    {
      "cell_type": "code",
      "metadata": {
        "id": "mtlTZqOotMMQ",
        "trusted": true,
        "colab_type": "code",
        "colab": {}
      },
      "source": [
        "def train_epoch(\n",
        "  model, \n",
        "  data_loader, \n",
        "  loss_fn, \n",
        "  optimizer, \n",
        "  device, \n",
        "  scheduler, \n",
        "  n_examples\n",
        "):\n",
        "  model = model.train()\n",
        "  y_pred_tr = []\n",
        "  y_true_tr = []\n",
        "\n",
        "  losses = []\n",
        "  \n",
        "  for d in data_loader:\n",
        "    input_ids = d[\"input_ids\"].to(device)\n",
        "    attention_mask = d[\"attention_mask\"].to(device)\n",
        "    labels = d[\"labels\"].to(device)\n",
        "\n",
        "    outputs = model(\n",
        "      input_ids=input_ids,\n",
        "      attention_mask=attention_mask\n",
        "    )\n",
        "\n",
        "    preds = torch.argmax(outputs, dim=1) # choose index with max value\n",
        "    \n",
        "    loss = loss_fn(outputs, labels)\n",
        "    \n",
        "    for i in preds.cpu().numpy():\n",
        "        y_pred_tr.append(i)\n",
        "    for i in labels.cpu().numpy():\n",
        "        y_true_tr.append(i)\n",
        "    \n",
        "    losses.append(loss.item())\n",
        "\n",
        "    loss.backward()\n",
        "    nn.utils.clip_grad_norm_(model.parameters(), max_norm=1.0)\n",
        "    optimizer.step()\n",
        "    scheduler.step()\n",
        "    optimizer.zero_grad()\n",
        "\n",
        "  return accuracy_score(y_true_tr, y_pred_tr), np.mean(losses), \\\n",
        "         f1_score(y_true_tr, y_pred_tr)"
      ],
      "execution_count": null,
      "outputs": []
    },
    {
      "cell_type": "code",
      "metadata": {
        "id": "HsXrGL5FtPj4",
        "trusted": true,
        "colab_type": "code",
        "colab": {}
      },
      "source": [
        "def eval_model(model, data_loader, loss_fn, device, n_examples):\n",
        "  model = model.eval()\n",
        "\n",
        "  losses = []\n",
        "\n",
        "  y_pred_val = []\n",
        "  y_true_val = []\n",
        "\n",
        "  with torch.no_grad():\n",
        "    for d in data_loader:\n",
        "      input_ids = d[\"input_ids\"].to(device)\n",
        "      attention_mask = d[\"attention_mask\"].to(device)\n",
        "      labels = d[\"labels\"].to(device)\n",
        "\n",
        "      outputs = model(\n",
        "        input_ids=input_ids,\n",
        "        attention_mask=attention_mask\n",
        "      )\n",
        "      \n",
        "      preds = torch.argmax(outputs, dim=1)\n",
        "\n",
        "      loss = loss_fn(outputs, labels)\n",
        "\n",
        "      for i in preds.cpu().numpy():\n",
        "        y_pred_val.append(i)\n",
        "      for i in labels.cpu().numpy():\n",
        "        y_true_val.append(i)\n",
        "\n",
        "      losses.append(loss.item())\n",
        "\n",
        "  return accuracy_score(y_true_val, y_pred_val), np.mean(losses), \\\n",
        "         f1_score(y_true_val, y_pred_val), \\\n",
        "         classification_report(y_true_val, y_pred_val)"
      ],
      "execution_count": null,
      "outputs": []
    },
    {
      "cell_type": "markdown",
      "metadata": {
        "id": "wNCYodMUwWjn",
        "colab_type": "text"
      },
      "source": [
        "Since the goal of this kaggle competition is to achieve maximum [f1-score](https://en.wikipedia.org/wiki/F1_score) (harmonic mean of the precision and recall), we'll be saving the model after each increase in validation f1."
      ]
    },
    {
      "cell_type": "code",
      "metadata": {
        "id": "rYaGNeFOtR7f",
        "trusted": true,
        "colab_type": "code",
        "colab": {},
        "outputId": "61b99932-7a96-4376-aace-a18c96ecb2bb"
      },
      "source": [
        "%%time\n",
        "\n",
        "history = defaultdict(list)\n",
        "best_f1 = 0\n",
        "\n",
        "for epoch in range(EPOCHS):\n",
        "\n",
        "  print(f'Epoch {epoch + 1}/{EPOCHS}')\n",
        "  print('-' * 10)\n",
        "\n",
        "  train_acc, train_loss, train_f1 = train_epoch(\n",
        "    model,\n",
        "    train_data_loader,    \n",
        "    loss_fn, \n",
        "    optimizer, \n",
        "    device, \n",
        "    scheduler, \n",
        "    len(df_train)\n",
        "  )\n",
        "\n",
        "  print(f'Train loss: {train_loss}, Accuracy: {train_acc}, f1: {train_f1}')\n",
        "\n",
        "  val_acc, val_loss, val_f1, _ = eval_model(\n",
        "    model,\n",
        "    val_data_loader,\n",
        "    loss_fn, \n",
        "    device, \n",
        "    len(df_val)\n",
        "  )\n",
        "\n",
        "  print(f'Val loss: {val_loss}, Accuracy: {val_acc}, f1: {val_f1}')\n",
        "  \n",
        "  # saving to history\n",
        "  history['train_acc'].append(train_acc.item())\n",
        "  history['train_loss'].append(train_loss.item())\n",
        "  history['val_acc'].append(val_acc.item())\n",
        "  history['val_loss'].append(val_loss.item())\n",
        "  history['train_f1'].append(train_f1.item())\n",
        "  history['val_f1'].append(val_f1.item())\n",
        "\n",
        "  # if current f1 is larger than the previous one, save the model\n",
        "  if val_f1 > best_f1:\n",
        "    torch.save(model.state_dict(), 'best_model_state.pt')\n",
        "    best_f1 = val_f1"
      ],
      "execution_count": null,
      "outputs": [
        {
          "output_type": "stream",
          "text": [
            "Epoch 1/4\n",
            "----------\n",
            "Train loss: 0.4453192315020486, Accuracy: 0.8055829228243021, f1: 0.7605177993527508\n",
            "Val loss: 0.39713778843482334, Accuracy: 0.8331143232588699, f1: 0.7900826446280991\n",
            "Epoch 2/4\n",
            "----------\n",
            "Train loss: 0.3014472157777292, Accuracy: 0.8845648604269294, f1: 0.8597086409898222\n",
            "Val loss: 0.4201988863448302, Accuracy: 0.8318002628120894, f1: 0.7928802588996764\n",
            "Epoch 3/4\n",
            "----------\n",
            "Train loss: 0.2162010245298216, Accuracy: 0.9226600985221675, f1: 0.9068985965605849\n",
            "Val loss: 0.5439890411992868, Accuracy: 0.812089356110381, f1: 0.7843137254901962\n",
            "Epoch 4/4\n",
            "----------\n",
            "Train loss: 0.17843186635894612, Accuracy: 0.9384236453201971, f1: 0.926166568222091\n",
            "Val loss: 0.5631393417716026, Accuracy: 0.8186596583442839, f1: 0.7863777089783281\n",
            "CPU times: user 3min 22s, sys: 1min 37s, total: 5min\n",
            "Wall time: 5min 8s\n"
          ],
          "name": "stdout"
        }
      ]
    },
    {
      "cell_type": "markdown",
      "metadata": {
        "id": "kzv82tXmwWjr",
        "colab_type": "text"
      },
      "source": [
        "Thanks to the initial BERT parameters' ability to generalize, fine-tuning didn't take much time.\n",
        "\n",
        "Plot training history of f1-score, accuracy, and losses."
      ]
    },
    {
      "cell_type": "code",
      "metadata": {
        "id": "cxbJMOLvtU6b",
        "trusted": true,
        "colab_type": "code",
        "colab": {},
        "outputId": "2f0df058-2f2d-4194-d3e6-43740cc37205"
      },
      "source": [
        "plt.plot(history['train_f1'], label='train f1 score')\n",
        "plt.plot(history['val_f1'], label='validation f1 score')\n",
        "\n",
        "plt.title('Training history')\n",
        "plt.ylabel('f1 score')\n",
        "plt.xlabel('Epoch')\n",
        "plt.legend()\n",
        "plt.ylim([0, 1]);"
      ],
      "execution_count": null,
      "outputs": [
        {
          "output_type": "display_data",
          "data": {
            "text/plain": [
              "<Figure size 864x576 with 1 Axes>"
            ],
            "image/png": "[encoded data removed]"
          },
          "metadata": {
            "tags": [],
            "image/png": {
              "width": 732,
              "height": 506
            }
          }
        }
      ]
    },
    {
      "cell_type": "code",
      "metadata": {
        "trusted": true,
        "id": "pWzPWWqfwWjv",
        "colab_type": "code",
        "colab": {},
        "outputId": "79a6565e-ceb1-4fa8-adbd-ca7b4a5ffa9c"
      },
      "source": [
        "plt.plot(history['train_acc'], label='train accuracy')\n",
        "plt.plot(history['val_acc'], label='validation accuracy')\n",
        "\n",
        "plt.title('Training history')\n",
        "plt.ylabel('Accuracy')\n",
        "plt.xlabel('Epoch')\n",
        "plt.legend()\n",
        "plt.ylim([0, 1]);"
      ],
      "execution_count": null,
      "outputs": [
        {
          "output_type": "display_data",
          "data": {
            "text/plain": [
              "<Figure size 864x576 with 1 Axes>"
            ],
            "image/png": "[encoded data removed]"
          },
          "metadata": {
            "tags": [],
            "image/png": {
              "width": 732,
              "height": 506
            }
          }
        }
      ]
    },
    {
      "cell_type": "code",
      "metadata": {
        "trusted": true,
        "id": "PlXXufNpwWjz",
        "colab_type": "code",
        "colab": {},
        "outputId": "d93037e2-f1ba-49fb-d543-4d0023228acc"
      },
      "source": [
        "plt.plot(history['train_loss'], label='train loss')\n",
        "plt.plot(history['val_loss'], label='validation loss')\n",
        "\n",
        "plt.title('Training history')\n",
        "plt.ylabel('Loss')\n",
        "plt.xlabel('Epoch')\n",
        "plt.legend()\n",
        "plt.ylim([0, 1]);"
      ],
      "execution_count": null,
      "outputs": [
        {
          "output_type": "display_data",
          "data": {
            "text/plain": [
              "<Figure size 864x576 with 1 Axes>"
            ],
            "image/png": "[encoded data removed]"
          },
          "metadata": {
            "tags": [],
            "image/png": {
              "width": 732,
              "height": 506
            }
          }
        }
      ]
    },
    {
      "cell_type": "markdown",
      "metadata": {
        "id": "vi80UbQz2Fmr",
        "colab_type": "text"
      },
      "source": [
        "No observable progress in validation metrics throughout 4 epochs. However, validation f1-score is slightly higher during 2nd epoch, so we save the model at that point."
      ]
    },
    {
      "cell_type": "markdown",
      "metadata": {
        "id": "7XQyO9DX38jN",
        "colab_type": "text"
      },
      "source": [
        "Reloading the model"
      ]
    },
    {
      "cell_type": "code",
      "metadata": {
        "id": "GZo2r3CWtVzZ",
        "trusted": true,
        "colab_type": "code",
        "colab": {},
        "outputId": "64c689f9-6a31-40dd-e4bb-a5a110547d14"
      },
      "source": [
        "model = DisasterClassifier(2)\n",
        "model = model.to(device)\n",
        "model.load_state_dict(torch.load('best_model_state.pt'))"
      ],
      "execution_count": null,
      "outputs": [
        {
          "output_type": "execute_result",
          "data": {
            "text/plain": [
              "<All keys matched successfully>"
            ]
          },
          "metadata": {
            "tags": []
          },
          "execution_count": 46
        }
      ]
    },
    {
      "cell_type": "markdown",
      "metadata": {
        "id": "s0_i6Bgx37uw",
        "colab_type": "text"
      },
      "source": [
        "# Evaluation"
      ]
    },
    {
      "cell_type": "markdown",
      "metadata": {
        "id": "abvhPV2E4G89",
        "colab_type": "text"
      },
      "source": [
        "Classification report on the test set. We're seeing that the model has a little more trouble detecting real disaster tweets, with disaster recall being `0.82` against `0.91` for fake disaster (it mistakes real ones for fake ones).\n",
        "\n",
        "Overall test f1-score on 762 tweets is about `84.3%` and test accuracy is ~`87%`, which is almost 10% improvement comparing to the regular LSTM model I have been using for this competition earlier."
      ]
    },
    {
      "cell_type": "code",
      "metadata": {
        "id": "gofSkkEXtZSN",
        "trusted": true,
        "colab_type": "code",
        "colab": {},
        "outputId": "a6c7f8a3-0e1c-4f60-af79-6ca49420e13c"
      },
      "source": [
        "test_acc, _, f1, report = eval_model(\n",
        "  model,\n",
        "  test_data_loader,\n",
        "  loss_fn,\n",
        "  device,\n",
        "  len(df_test)\n",
        ")\n",
        "print(f'Test f1 score: {round(f1*100, 3)}%')\n",
        "print(f'Test accuracy: {round(test_acc.item()*100, 3)}%')\n",
        "print('Report:')\n",
        "print(report)"
      ],
      "execution_count": null,
      "outputs": [
        {
          "output_type": "stream",
          "text": [
            "Test f1 score: 84.295%\n",
            "Test accuracy: 87.139%\n",
            "Report:\n",
            "              precision    recall  f1-score   support\n",
            "\n",
            "           0       0.87      0.91      0.89       440\n",
            "           1       0.87      0.82      0.84       322\n",
            "\n",
            "    accuracy                           0.87       762\n",
            "   macro avg       0.87      0.86      0.87       762\n",
            "weighted avg       0.87      0.87      0.87       762\n",
            "\n"
          ],
          "name": "stdout"
        }
      ]
    },
    {
      "cell_type": "markdown",
      "metadata": {
        "id": "aIv-EDDg4PG4",
        "colab_type": "text"
      },
      "source": [
        "Let's have a quick look at how our model behaves on custom pseudo tweets. The first one is supposed to be about a real disaster, while the second one is a kind of imitation."
      ]
    },
    {
      "cell_type": "code",
      "metadata": {
        "trusted": true,
        "id": "yY5qkjvbwWkX",
        "colab_type": "code",
        "colab": {}
      },
      "source": [
        "test_tweet_1 = '15,000 people have died because of the earthquakes last year'\n",
        "test_tweet_2 = 'OMG have you seen those spindrift clouds? They are monstrous!'"
      ],
      "execution_count": null,
      "outputs": []
    },
    {
      "cell_type": "code",
      "metadata": {
        "trusted": true,
        "id": "qGFZ_QG-wWka",
        "colab_type": "code",
        "colab": {}
      },
      "source": [
        "tknzd = [tokenizer.encode_plus(\n",
        "      tweet,\n",
        "      add_special_tokens=True,\n",
        "      max_length=MAX_LEN,\n",
        "      return_token_type_ids=False,\n",
        "      pad_to_max_length=True,\n",
        "      return_attention_mask=True,\n",
        "      return_tensors='pt',\n",
        "      truncation=True,\n",
        "    ) for tweet in [test_tweet_1, test_tweet_2]]"
      ],
      "execution_count": null,
      "outputs": []
    },
    {
      "cell_type": "markdown",
      "metadata": {
        "id": "jyREv7UR4XBL",
        "colab_type": "text"
      },
      "source": [
        "As we can see, the model correctly identifies both tweets, however, it has somewhat lower confidence when predicting a label for non-disaster tweets."
      ]
    },
    {
      "cell_type": "code",
      "metadata": {
        "trusted": true,
        "id": "jWky_K_iwWkk",
        "colab_type": "code",
        "colab": {},
        "outputId": "74648f49-ea96-4403-d52f-27c6976bf633"
      },
      "source": [
        "model.eval()\n",
        "\n",
        "for i in tknzd:\n",
        "    out = model(i[\"input_ids\"].cuda(), i[\"attention_mask\"].cuda())\n",
        "    pred = torch.argmax(out)\n",
        "    # softmax probability for chosen class\n",
        "    confidence = torch.max(F.softmax(out, dim=1)).detach().cpu().numpy()\n",
        "    if pred==0:\n",
        "        res = 'non-disaster'\n",
        "    else: res = 'disaster'\n",
        "        \n",
        "    print(f'Result: {res}, confidence: {round(confidence*100, 2)}%')"
      ],
      "execution_count": null,
      "outputs": [
        {
          "output_type": "stream",
          "text": [
            "Result: disaster, confidence: 99.45%\n",
            "Result: non-disaster, confidence: 84.29%\n"
          ],
          "name": "stdout"
        }
      ]
    },
    {
      "cell_type": "markdown",
      "metadata": {
        "id": "f59_Yocj4f-s",
        "colab_type": "text"
      },
      "source": [
        "Finally, submitting our predictions for the competition."
      ]
    },
    {
      "cell_type": "code",
      "metadata": {
        "id": "-rIxVA1ztkOZ",
        "trusted": true,
        "colab_type": "code",
        "colab": {}
      },
      "source": [
        "test_t_data_loader = DataLoader([tokenizer.encode_plus(\n",
        "      tweet,\n",
        "      add_special_tokens=True,\n",
        "      max_length=MAX_LEN,\n",
        "      return_token_type_ids=False,\n",
        "      pad_to_max_length=True,\n",
        "      return_attention_mask=True,\n",
        "      return_tensors='pt',\n",
        "      truncation=True,\n",
        "    ) for tweet in test_cleaned.text.values], batch_size=BATCH_SIZE)"
      ],
      "execution_count": null,
      "outputs": []
    },
    {
      "cell_type": "code",
      "metadata": {
        "id": "HNuCFWRgtnNk",
        "trusted": true,
        "colab_type": "code",
        "colab": {}
      },
      "source": [
        "def get_test_predictions(model, data_loader):\n",
        "  model = model.eval()\n",
        "\n",
        "  predictions = []\n",
        " \n",
        "  with torch.no_grad():\n",
        "    for d in data_loader:\n",
        "      input_ids = d[\"input_ids\"].squeeze().to(device)\n",
        "      attention_mask = d[\"attention_mask\"].squeeze().to(device)\n",
        "      \n",
        "      outputs = model(input_ids=input_ids, attention_mask=attention_mask)\n",
        "      preds = torch.argmax(outputs, dim=1)     \n",
        "      predictions.extend(preds)\n",
        "\n",
        "  return torch.stack(predictions).cpu()"
      ],
      "execution_count": null,
      "outputs": []
    },
    {
      "cell_type": "code",
      "metadata": {
        "id": "LCuSCCyqtu_b",
        "trusted": true,
        "colab_type": "code",
        "colab": {}
      },
      "source": [
        "subm = pd.DataFrame({\n",
        "    'id': test_df.id,\n",
        "    'target': get_test_predictions(model, test_t_data_loader).numpy()\n",
        "})\n",
        "\n",
        "subm.to_csv('submission.csv', index=False)"
      ],
      "execution_count": null,
      "outputs": []
    }
  ]
}