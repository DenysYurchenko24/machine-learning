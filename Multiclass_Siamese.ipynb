{
  "nbformat": 4,
  "nbformat_minor": 0,
  "metadata": {
    "colab": {
      "name": "Multiclass_Siamese",
      "provenance": [],
      "collapsed_sections": [],
      "mount_file_id": "https://github.com/yorketh/machine-learning/blob/master/Multiclass_Siamese.ipynb",
      "authorship_tag": "ABX9TyOl5HN+kma0vsxxlyZisl4D",
      "include_colab_link": true
    },
    "kernelspec": {
      "name": "python3",
      "display_name": "Python 3"
    },
    "language_info": {
      "name": "python"
    },
    "widgets": {
      "application/vnd.jupyter.widget-state+json": {
        "bb210dc2a2674c1184fa6fb7dec94971": {
          "model_module": "@jupyter-widgets/controls",
          "model_name": "HBoxModel",
          "model_module_version": "1.5.0",
          "state": {
            "_view_name": "HBoxView",
            "_dom_classes": [],
            "_model_name": "HBoxModel",
            "_view_module": "@jupyter-widgets/controls",
            "_model_module_version": "1.5.0",
            "_view_count": null,
            "_view_module_version": "1.5.0",
            "box_style": "",
            "layout": "IPY_MODEL_8c372de6f2654f07a7b8cecaaa2c186a",
            "_model_module": "@jupyter-widgets/controls",
            "children": [
              "IPY_MODEL_59917952365e4082abb78e2ce044727c",
              "IPY_MODEL_72f72f153ab847dbb960530a23b8f99f",
              "IPY_MODEL_747e703aead04e99ac6c13314c16115f"
            ]
          }
        },
        "8c372de6f2654f07a7b8cecaaa2c186a": {
          "model_module": "@jupyter-widgets/base",
          "model_name": "LayoutModel",
          "model_module_version": "1.2.0",
          "state": {
            "_view_name": "LayoutView",
            "grid_template_rows": null,
            "right": null,
            "justify_content": null,
            "_view_module": "@jupyter-widgets/base",
            "overflow": null,
            "_model_module_version": "1.2.0",
            "_view_count": null,
            "flex_flow": null,
            "width": null,
            "min_width": null,
            "border": null,
            "align_items": null,
            "bottom": null,
            "_model_module": "@jupyter-widgets/base",
            "top": null,
            "grid_column": null,
            "overflow_y": null,
            "overflow_x": null,
            "grid_auto_flow": null,
            "grid_area": null,
            "grid_template_columns": null,
            "flex": null,
            "_model_name": "LayoutModel",
            "justify_items": null,
            "grid_row": null,
            "max_height": null,
            "align_content": null,
            "visibility": null,
            "align_self": null,
            "height": null,
            "min_height": null,
            "padding": null,
            "grid_auto_rows": null,
            "grid_gap": null,
            "max_width": null,
            "order": null,
            "_view_module_version": "1.2.0",
            "grid_template_areas": null,
            "object_position": null,
            "object_fit": null,
            "grid_auto_columns": null,
            "margin": null,
            "display": null,
            "left": null
          }
        },
        "59917952365e4082abb78e2ce044727c": {
          "model_module": "@jupyter-widgets/controls",
          "model_name": "HTMLModel",
          "model_module_version": "1.5.0",
          "state": {
            "_view_name": "HTMLView",
            "style": "IPY_MODEL_5ca0bf320f6b49d395efa1994bb43540",
            "_dom_classes": [],
            "description": "",
            "_model_name": "HTMLModel",
            "placeholder": "​",
            "_view_module": "@jupyter-widgets/controls",
            "_model_module_version": "1.5.0",
            "value": "Downloading: 100%",
            "_view_count": null,
            "_view_module_version": "1.5.0",
            "description_tooltip": null,
            "_model_module": "@jupyter-widgets/controls",
            "layout": "IPY_MODEL_1856bcee3d7745bca70064e921385891"
          }
        },
        "72f72f153ab847dbb960530a23b8f99f": {
          "model_module": "@jupyter-widgets/controls",
          "model_name": "FloatProgressModel",
          "model_module_version": "1.5.0",
          "state": {
            "_view_name": "ProgressView",
            "style": "IPY_MODEL_e8d65d8030824206ab0c530a80fd6e20",
            "_dom_classes": [],
            "description": "",
            "_model_name": "FloatProgressModel",
            "bar_style": "success",
            "max": 898823,
            "_view_module": "@jupyter-widgets/controls",
            "_model_module_version": "1.5.0",
            "value": 898823,
            "_view_count": null,
            "_view_module_version": "1.5.0",
            "orientation": "horizontal",
            "min": 0,
            "description_tooltip": null,
            "_model_module": "@jupyter-widgets/controls",
            "layout": "IPY_MODEL_0664735f9c6c4225afa9649ee6bfd254"
          }
        },
        "747e703aead04e99ac6c13314c16115f": {
          "model_module": "@jupyter-widgets/controls",
          "model_name": "HTMLModel",
          "model_module_version": "1.5.0",
          "state": {
            "_view_name": "HTMLView",
            "style": "IPY_MODEL_0e25d2931f4541aa9b688fa8cb68e645",
            "_dom_classes": [],
            "description": "",
            "_model_name": "HTMLModel",
            "placeholder": "​",
            "_view_module": "@jupyter-widgets/controls",
            "_model_module_version": "1.5.0",
            "value": " 899k/899k [00:01&lt;00:00, 1.08MB/s]",
            "_view_count": null,
            "_view_module_version": "1.5.0",
            "description_tooltip": null,
            "_model_module": "@jupyter-widgets/controls",
            "layout": "IPY_MODEL_495cd6db37434a0fa61acb1813216b34"
          }
        },
        "5ca0bf320f6b49d395efa1994bb43540": {
          "model_module": "@jupyter-widgets/controls",
          "model_name": "DescriptionStyleModel",
          "model_module_version": "1.5.0",
          "state": {
            "_view_name": "StyleView",
            "_model_name": "DescriptionStyleModel",
            "description_width": "",
            "_view_module": "@jupyter-widgets/base",
            "_model_module_version": "1.5.0",
            "_view_count": null,
            "_view_module_version": "1.2.0",
            "_model_module": "@jupyter-widgets/controls"
          }
        },
        "1856bcee3d7745bca70064e921385891": {
          "model_module": "@jupyter-widgets/base",
          "model_name": "LayoutModel",
          "model_module_version": "1.2.0",
          "state": {
            "_view_name": "LayoutView",
            "grid_template_rows": null,
            "right": null,
            "justify_content": null,
            "_view_module": "@jupyter-widgets/base",
            "overflow": null,
            "_model_module_version": "1.2.0",
            "_view_count": null,
            "flex_flow": null,
            "width": null,
            "min_width": null,
            "border": null,
            "align_items": null,
            "bottom": null,
            "_model_module": "@jupyter-widgets/base",
            "top": null,
            "grid_column": null,
            "overflow_y": null,
            "overflow_x": null,
            "grid_auto_flow": null,
            "grid_area": null,
            "grid_template_columns": null,
            "flex": null,
            "_model_name": "LayoutModel",
            "justify_items": null,
            "grid_row": null,
            "max_height": null,
            "align_content": null,
            "visibility": null,
            "align_self": null,
            "height": null,
            "min_height": null,
            "padding": null,
            "grid_auto_rows": null,
            "grid_gap": null,
            "max_width": null,
            "order": null,
            "_view_module_version": "1.2.0",
            "grid_template_areas": null,
            "object_position": null,
            "object_fit": null,
            "grid_auto_columns": null,
            "margin": null,
            "display": null,
            "left": null
          }
        },
        "e8d65d8030824206ab0c530a80fd6e20": {
          "model_module": "@jupyter-widgets/controls",
          "model_name": "ProgressStyleModel",
          "model_module_version": "1.5.0",
          "state": {
            "_view_name": "StyleView",
            "_model_name": "ProgressStyleModel",
            "description_width": "",
            "_view_module": "@jupyter-widgets/base",
            "_model_module_version": "1.5.0",
            "_view_count": null,
            "_view_module_version": "1.2.0",
            "bar_color": null,
            "_model_module": "@jupyter-widgets/controls"
          }
        },
        "0664735f9c6c4225afa9649ee6bfd254": {
          "model_module": "@jupyter-widgets/base",
          "model_name": "LayoutModel",
          "model_module_version": "1.2.0",
          "state": {
            "_view_name": "LayoutView",
            "grid_template_rows": null,
            "right": null,
            "justify_content": null,
            "_view_module": "@jupyter-widgets/base",
            "overflow": null,
            "_model_module_version": "1.2.0",
            "_view_count": null,
            "flex_flow": null,
            "width": null,
            "min_width": null,
            "border": null,
            "align_items": null,
            "bottom": null,
            "_model_module": "@jupyter-widgets/base",
            "top": null,
            "grid_column": null,
            "overflow_y": null,
            "overflow_x": null,
            "grid_auto_flow": null,
            "grid_area": null,
            "grid_template_columns": null,
            "flex": null,
            "_model_name": "LayoutModel",
            "justify_items": null,
            "grid_row": null,
            "max_height": null,
            "align_content": null,
            "visibility": null,
            "align_self": null,
            "height": null,
            "min_height": null,
            "padding": null,
            "grid_auto_rows": null,
            "grid_gap": null,
            "max_width": null,
            "order": null,
            "_view_module_version": "1.2.0",
            "grid_template_areas": null,
            "object_position": null,
            "object_fit": null,
            "grid_auto_columns": null,
            "margin": null,
            "display": null,
            "left": null
          }
        },
        "0e25d2931f4541aa9b688fa8cb68e645": {
          "model_module": "@jupyter-widgets/controls",
          "model_name": "DescriptionStyleModel",
          "model_module_version": "1.5.0",
          "state": {
            "_view_name": "StyleView",
            "_model_name": "DescriptionStyleModel",
            "description_width": "",
            "_view_module": "@jupyter-widgets/base",
            "_model_module_version": "1.5.0",
            "_view_count": null,
            "_view_module_version": "1.2.0",
            "_model_module": "@jupyter-widgets/controls"
          }
        },
        "495cd6db37434a0fa61acb1813216b34": {
          "model_module": "@jupyter-widgets/base",
          "model_name": "LayoutModel",
          "model_module_version": "1.2.0",
          "state": {
            "_view_name": "LayoutView",
            "grid_template_rows": null,
            "right": null,
            "justify_content": null,
            "_view_module": "@jupyter-widgets/base",
            "overflow": null,
            "_model_module_version": "1.2.0",
            "_view_count": null,
            "flex_flow": null,
            "width": null,
            "min_width": null,
            "border": null,
            "align_items": null,
            "bottom": null,
            "_model_module": "@jupyter-widgets/base",
            "top": null,
            "grid_column": null,
            "overflow_y": null,
            "overflow_x": null,
            "grid_auto_flow": null,
            "grid_area": null,
            "grid_template_columns": null,
            "flex": null,
            "_model_name": "LayoutModel",
            "justify_items": null,
            "grid_row": null,
            "max_height": null,
            "align_content": null,
            "visibility": null,
            "align_self": null,
            "height": null,
            "min_height": null,
            "padding": null,
            "grid_auto_rows": null,
            "grid_gap": null,
            "max_width": null,
            "order": null,
            "_view_module_version": "1.2.0",
            "grid_template_areas": null,
            "object_position": null,
            "object_fit": null,
            "grid_auto_columns": null,
            "margin": null,
            "display": null,
            "left": null
          }
        },
        "733aabf465f340a583c5c8b8d0bfd868": {
          "model_module": "@jupyter-widgets/controls",
          "model_name": "HBoxModel",
          "model_module_version": "1.5.0",
          "state": {
            "_view_name": "HBoxView",
            "_dom_classes": [],
            "_model_name": "HBoxModel",
            "_view_module": "@jupyter-widgets/controls",
            "_model_module_version": "1.5.0",
            "_view_count": null,
            "_view_module_version": "1.5.0",
            "box_style": "",
            "layout": "IPY_MODEL_8744659c5c7443249df17346a5fab7f1",
            "_model_module": "@jupyter-widgets/controls",
            "children": [
              "IPY_MODEL_637d96e825ad415ba6b045c891b69868",
              "IPY_MODEL_cca533cd736c437c8f5d246b987125d9",
              "IPY_MODEL_787c038a863b4ff09e74e0abc330dba4"
            ]
          }
        },
        "8744659c5c7443249df17346a5fab7f1": {
          "model_module": "@jupyter-widgets/base",
          "model_name": "LayoutModel",
          "model_module_version": "1.2.0",
          "state": {
            "_view_name": "LayoutView",
            "grid_template_rows": null,
            "right": null,
            "justify_content": null,
            "_view_module": "@jupyter-widgets/base",
            "overflow": null,
            "_model_module_version": "1.2.0",
            "_view_count": null,
            "flex_flow": null,
            "width": null,
            "min_width": null,
            "border": null,
            "align_items": null,
            "bottom": null,
            "_model_module": "@jupyter-widgets/base",
            "top": null,
            "grid_column": null,
            "overflow_y": null,
            "overflow_x": null,
            "grid_auto_flow": null,
            "grid_area": null,
            "grid_template_columns": null,
            "flex": null,
            "_model_name": "LayoutModel",
            "justify_items": null,
            "grid_row": null,
            "max_height": null,
            "align_content": null,
            "visibility": null,
            "align_self": null,
            "height": null,
            "min_height": null,
            "padding": null,
            "grid_auto_rows": null,
            "grid_gap": null,
            "max_width": null,
            "order": null,
            "_view_module_version": "1.2.0",
            "grid_template_areas": null,
            "object_position": null,
            "object_fit": null,
            "grid_auto_columns": null,
            "margin": null,
            "display": null,
            "left": null
          }
        },
        "637d96e825ad415ba6b045c891b69868": {
          "model_module": "@jupyter-widgets/controls",
          "model_name": "HTMLModel",
          "model_module_version": "1.5.0",
          "state": {
            "_view_name": "HTMLView",
            "style": "IPY_MODEL_cc98fc4b35294e56a1b4686c53207ecc",
            "_dom_classes": [],
            "description": "",
            "_model_name": "HTMLModel",
            "placeholder": "​",
            "_view_module": "@jupyter-widgets/controls",
            "_model_module_version": "1.5.0",
            "value": "Downloading: 100%",
            "_view_count": null,
            "_view_module_version": "1.5.0",
            "description_tooltip": null,
            "_model_module": "@jupyter-widgets/controls",
            "layout": "IPY_MODEL_e6cc9eb7632946e293c0fa278ada110e"
          }
        },
        "cca533cd736c437c8f5d246b987125d9": {
          "model_module": "@jupyter-widgets/controls",
          "model_name": "FloatProgressModel",
          "model_module_version": "1.5.0",
          "state": {
            "_view_name": "ProgressView",
            "style": "IPY_MODEL_288c268e56424469876e4b89a92cf049",
            "_dom_classes": [],
            "description": "",
            "_model_name": "FloatProgressModel",
            "bar_style": "success",
            "max": 456318,
            "_view_module": "@jupyter-widgets/controls",
            "_model_module_version": "1.5.0",
            "value": 456318,
            "_view_count": null,
            "_view_module_version": "1.5.0",
            "orientation": "horizontal",
            "min": 0,
            "description_tooltip": null,
            "_model_module": "@jupyter-widgets/controls",
            "layout": "IPY_MODEL_f18ff2e0b6a541e392ff6fd240ca6850"
          }
        },
        "787c038a863b4ff09e74e0abc330dba4": {
          "model_module": "@jupyter-widgets/controls",
          "model_name": "HTMLModel",
          "model_module_version": "1.5.0",
          "state": {
            "_view_name": "HTMLView",
            "style": "IPY_MODEL_42dd61f0a4084d9baf8af0012dd2693d",
            "_dom_classes": [],
            "description": "",
            "_model_name": "HTMLModel",
            "placeholder": "​",
            "_view_module": "@jupyter-widgets/controls",
            "_model_module_version": "1.5.0",
            "value": " 456k/456k [00:00&lt;00:00, 493kB/s]",
            "_view_count": null,
            "_view_module_version": "1.5.0",
            "description_tooltip": null,
            "_model_module": "@jupyter-widgets/controls",
            "layout": "IPY_MODEL_fae207840c434218a148d15dcde175eb"
          }
        },
        "cc98fc4b35294e56a1b4686c53207ecc": {
          "model_module": "@jupyter-widgets/controls",
          "model_name": "DescriptionStyleModel",
          "model_module_version": "1.5.0",
          "state": {
            "_view_name": "StyleView",
            "_model_name": "DescriptionStyleModel",
            "description_width": "",
            "_view_module": "@jupyter-widgets/base",
            "_model_module_version": "1.5.0",
            "_view_count": null,
            "_view_module_version": "1.2.0",
            "_model_module": "@jupyter-widgets/controls"
          }
        },
        "e6cc9eb7632946e293c0fa278ada110e": {
          "model_module": "@jupyter-widgets/base",
          "model_name": "LayoutModel",
          "model_module_version": "1.2.0",
          "state": {
            "_view_name": "LayoutView",
            "grid_template_rows": null,
            "right": null,
            "justify_content": null,
            "_view_module": "@jupyter-widgets/base",
            "overflow": null,
            "_model_module_version": "1.2.0",
            "_view_count": null,
            "flex_flow": null,
            "width": null,
            "min_width": null,
            "border": null,
            "align_items": null,
            "bottom": null,
            "_model_module": "@jupyter-widgets/base",
            "top": null,
            "grid_column": null,
            "overflow_y": null,
            "overflow_x": null,
            "grid_auto_flow": null,
            "grid_area": null,
            "grid_template_columns": null,
            "flex": null,
            "_model_name": "LayoutModel",
            "justify_items": null,
            "grid_row": null,
            "max_height": null,
            "align_content": null,
            "visibility": null,
            "align_self": null,
            "height": null,
            "min_height": null,
            "padding": null,
            "grid_auto_rows": null,
            "grid_gap": null,
            "max_width": null,
            "order": null,
            "_view_module_version": "1.2.0",
            "grid_template_areas": null,
            "object_position": null,
            "object_fit": null,
            "grid_auto_columns": null,
            "margin": null,
            "display": null,
            "left": null
          }
        },
        "288c268e56424469876e4b89a92cf049": {
          "model_module": "@jupyter-widgets/controls",
          "model_name": "ProgressStyleModel",
          "model_module_version": "1.5.0",
          "state": {
            "_view_name": "StyleView",
            "_model_name": "ProgressStyleModel",
            "description_width": "",
            "_view_module": "@jupyter-widgets/base",
            "_model_module_version": "1.5.0",
            "_view_count": null,
            "_view_module_version": "1.2.0",
            "bar_color": null,
            "_model_module": "@jupyter-widgets/controls"
          }
        },
        "f18ff2e0b6a541e392ff6fd240ca6850": {
          "model_module": "@jupyter-widgets/base",
          "model_name": "LayoutModel",
          "model_module_version": "1.2.0",
          "state": {
            "_view_name": "LayoutView",
            "grid_template_rows": null,
            "right": null,
            "justify_content": null,
            "_view_module": "@jupyter-widgets/base",
            "overflow": null,
            "_model_module_version": "1.2.0",
            "_view_count": null,
            "flex_flow": null,
            "width": null,
            "min_width": null,
            "border": null,
            "align_items": null,
            "bottom": null,
            "_model_module": "@jupyter-widgets/base",
            "top": null,
            "grid_column": null,
            "overflow_y": null,
            "overflow_x": null,
            "grid_auto_flow": null,
            "grid_area": null,
            "grid_template_columns": null,
            "flex": null,
            "_model_name": "LayoutModel",
            "justify_items": null,
            "grid_row": null,
            "max_height": null,
            "align_content": null,
            "visibility": null,
            "align_self": null,
            "height": null,
            "min_height": null,
            "padding": null,
            "grid_auto_rows": null,
            "grid_gap": null,
            "max_width": null,
            "order": null,
            "_view_module_version": "1.2.0",
            "grid_template_areas": null,
            "object_position": null,
            "object_fit": null,
            "grid_auto_columns": null,
            "margin": null,
            "display": null,
            "left": null
          }
        },
        "42dd61f0a4084d9baf8af0012dd2693d": {
          "model_module": "@jupyter-widgets/controls",
          "model_name": "DescriptionStyleModel",
          "model_module_version": "1.5.0",
          "state": {
            "_view_name": "StyleView",
            "_model_name": "DescriptionStyleModel",
            "description_width": "",
            "_view_module": "@jupyter-widgets/base",
            "_model_module_version": "1.5.0",
            "_view_count": null,
            "_view_module_version": "1.2.0",
            "_model_module": "@jupyter-widgets/controls"
          }
        },
        "fae207840c434218a148d15dcde175eb": {
          "model_module": "@jupyter-widgets/base",
          "model_name": "LayoutModel",
          "model_module_version": "1.2.0",
          "state": {
            "_view_name": "LayoutView",
            "grid_template_rows": null,
            "right": null,
            "justify_content": null,
            "_view_module": "@jupyter-widgets/base",
            "overflow": null,
            "_model_module_version": "1.2.0",
            "_view_count": null,
            "flex_flow": null,
            "width": null,
            "min_width": null,
            "border": null,
            "align_items": null,
            "bottom": null,
            "_model_module": "@jupyter-widgets/base",
            "top": null,
            "grid_column": null,
            "overflow_y": null,
            "overflow_x": null,
            "grid_auto_flow": null,
            "grid_area": null,
            "grid_template_columns": null,
            "flex": null,
            "_model_name": "LayoutModel",
            "justify_items": null,
            "grid_row": null,
            "max_height": null,
            "align_content": null,
            "visibility": null,
            "align_self": null,
            "height": null,
            "min_height": null,
            "padding": null,
            "grid_auto_rows": null,
            "grid_gap": null,
            "max_width": null,
            "order": null,
            "_view_module_version": "1.2.0",
            "grid_template_areas": null,
            "object_position": null,
            "object_fit": null,
            "grid_auto_columns": null,
            "margin": null,
            "display": null,
            "left": null
          }
        },
        "f1d1b93b7d4b4b5a8a3906a6ec34e830": {
          "model_module": "@jupyter-widgets/controls",
          "model_name": "HBoxModel",
          "model_module_version": "1.5.0",
          "state": {
            "_view_name": "HBoxView",
            "_dom_classes": [],
            "_model_name": "HBoxModel",
            "_view_module": "@jupyter-widgets/controls",
            "_model_module_version": "1.5.0",
            "_view_count": null,
            "_view_module_version": "1.5.0",
            "box_style": "",
            "layout": "IPY_MODEL_ed5872759023403bbce85291ccb4ff68",
            "_model_module": "@jupyter-widgets/controls",
            "children": [
              "IPY_MODEL_87547f0f226c4617aaee0d7fc230a4fb",
              "IPY_MODEL_c4993aeda5834a7c9ea65bc4d38c9ff3",
              "IPY_MODEL_880245fcedd94dec94dfcc712dc1b05c"
            ]
          }
        },
        "ed5872759023403bbce85291ccb4ff68": {
          "model_module": "@jupyter-widgets/base",
          "model_name": "LayoutModel",
          "model_module_version": "1.2.0",
          "state": {
            "_view_name": "LayoutView",
            "grid_template_rows": null,
            "right": null,
            "justify_content": null,
            "_view_module": "@jupyter-widgets/base",
            "overflow": null,
            "_model_module_version": "1.2.0",
            "_view_count": null,
            "flex_flow": null,
            "width": null,
            "min_width": null,
            "border": null,
            "align_items": null,
            "bottom": null,
            "_model_module": "@jupyter-widgets/base",
            "top": null,
            "grid_column": null,
            "overflow_y": null,
            "overflow_x": null,
            "grid_auto_flow": null,
            "grid_area": null,
            "grid_template_columns": null,
            "flex": null,
            "_model_name": "LayoutModel",
            "justify_items": null,
            "grid_row": null,
            "max_height": null,
            "align_content": null,
            "visibility": null,
            "align_self": null,
            "height": null,
            "min_height": null,
            "padding": null,
            "grid_auto_rows": null,
            "grid_gap": null,
            "max_width": null,
            "order": null,
            "_view_module_version": "1.2.0",
            "grid_template_areas": null,
            "object_position": null,
            "object_fit": null,
            "grid_auto_columns": null,
            "margin": null,
            "display": null,
            "left": null
          }
        },
        "87547f0f226c4617aaee0d7fc230a4fb": {
          "model_module": "@jupyter-widgets/controls",
          "model_name": "HTMLModel",
          "model_module_version": "1.5.0",
          "state": {
            "_view_name": "HTMLView",
            "style": "IPY_MODEL_8ca47251e4634de3a6972d86bb800c5f",
            "_dom_classes": [],
            "description": "",
            "_model_name": "HTMLModel",
            "placeholder": "​",
            "_view_module": "@jupyter-widgets/controls",
            "_model_module_version": "1.5.0",
            "value": "Downloading: 100%",
            "_view_count": null,
            "_view_module_version": "1.5.0",
            "description_tooltip": null,
            "_model_module": "@jupyter-widgets/controls",
            "layout": "IPY_MODEL_75a6acc674504c2db8cc340c08fa9b06"
          }
        },
        "c4993aeda5834a7c9ea65bc4d38c9ff3": {
          "model_module": "@jupyter-widgets/controls",
          "model_name": "FloatProgressModel",
          "model_module_version": "1.5.0",
          "state": {
            "_view_name": "ProgressView",
            "style": "IPY_MODEL_79140a138d7741b18476211022568b73",
            "_dom_classes": [],
            "description": "",
            "_model_name": "FloatProgressModel",
            "bar_style": "success",
            "max": 481,
            "_view_module": "@jupyter-widgets/controls",
            "_model_module_version": "1.5.0",
            "value": 481,
            "_view_count": null,
            "_view_module_version": "1.5.0",
            "orientation": "horizontal",
            "min": 0,
            "description_tooltip": null,
            "_model_module": "@jupyter-widgets/controls",
            "layout": "IPY_MODEL_4b262ffade204376b6f40c057fa26e64"
          }
        },
        "880245fcedd94dec94dfcc712dc1b05c": {
          "model_module": "@jupyter-widgets/controls",
          "model_name": "HTMLModel",
          "model_module_version": "1.5.0",
          "state": {
            "_view_name": "HTMLView",
            "style": "IPY_MODEL_6bfe5b7710a544139b48d9a53f7b1be2",
            "_dom_classes": [],
            "description": "",
            "_model_name": "HTMLModel",
            "placeholder": "​",
            "_view_module": "@jupyter-widgets/controls",
            "_model_module_version": "1.5.0",
            "value": " 481/481 [00:00&lt;00:00, 11.5kB/s]",
            "_view_count": null,
            "_view_module_version": "1.5.0",
            "description_tooltip": null,
            "_model_module": "@jupyter-widgets/controls",
            "layout": "IPY_MODEL_7c35aec3f8f847a59662eaf8abe77a37"
          }
        },
        "8ca47251e4634de3a6972d86bb800c5f": {
          "model_module": "@jupyter-widgets/controls",
          "model_name": "DescriptionStyleModel",
          "model_module_version": "1.5.0",
          "state": {
            "_view_name": "StyleView",
            "_model_name": "DescriptionStyleModel",
            "description_width": "",
            "_view_module": "@jupyter-widgets/base",
            "_model_module_version": "1.5.0",
            "_view_count": null,
            "_view_module_version": "1.2.0",
            "_model_module": "@jupyter-widgets/controls"
          }
        },
        "75a6acc674504c2db8cc340c08fa9b06": {
          "model_module": "@jupyter-widgets/base",
          "model_name": "LayoutModel",
          "model_module_version": "1.2.0",
          "state": {
            "_view_name": "LayoutView",
            "grid_template_rows": null,
            "right": null,
            "justify_content": null,
            "_view_module": "@jupyter-widgets/base",
            "overflow": null,
            "_model_module_version": "1.2.0",
            "_view_count": null,
            "flex_flow": null,
            "width": null,
            "min_width": null,
            "border": null,
            "align_items": null,
            "bottom": null,
            "_model_module": "@jupyter-widgets/base",
            "top": null,
            "grid_column": null,
            "overflow_y": null,
            "overflow_x": null,
            "grid_auto_flow": null,
            "grid_area": null,
            "grid_template_columns": null,
            "flex": null,
            "_model_name": "LayoutModel",
            "justify_items": null,
            "grid_row": null,
            "max_height": null,
            "align_content": null,
            "visibility": null,
            "align_self": null,
            "height": null,
            "min_height": null,
            "padding": null,
            "grid_auto_rows": null,
            "grid_gap": null,
            "max_width": null,
            "order": null,
            "_view_module_version": "1.2.0",
            "grid_template_areas": null,
            "object_position": null,
            "object_fit": null,
            "grid_auto_columns": null,
            "margin": null,
            "display": null,
            "left": null
          }
        },
        "79140a138d7741b18476211022568b73": {
          "model_module": "@jupyter-widgets/controls",
          "model_name": "ProgressStyleModel",
          "model_module_version": "1.5.0",
          "state": {
            "_view_name": "StyleView",
            "_model_name": "ProgressStyleModel",
            "description_width": "",
            "_view_module": "@jupyter-widgets/base",
            "_model_module_version": "1.5.0",
            "_view_count": null,
            "_view_module_version": "1.2.0",
            "bar_color": null,
            "_model_module": "@jupyter-widgets/controls"
          }
        },
        "4b262ffade204376b6f40c057fa26e64": {
          "model_module": "@jupyter-widgets/base",
          "model_name": "LayoutModel",
          "model_module_version": "1.2.0",
          "state": {
            "_view_name": "LayoutView",
            "grid_template_rows": null,
            "right": null,
            "justify_content": null,
            "_view_module": "@jupyter-widgets/base",
            "overflow": null,
            "_model_module_version": "1.2.0",
            "_view_count": null,
            "flex_flow": null,
            "width": null,
            "min_width": null,
            "border": null,
            "align_items": null,
            "bottom": null,
            "_model_module": "@jupyter-widgets/base",
            "top": null,
            "grid_column": null,
            "overflow_y": null,
            "overflow_x": null,
            "grid_auto_flow": null,
            "grid_area": null,
            "grid_template_columns": null,
            "flex": null,
            "_model_name": "LayoutModel",
            "justify_items": null,
            "grid_row": null,
            "max_height": null,
            "align_content": null,
            "visibility": null,
            "align_self": null,
            "height": null,
            "min_height": null,
            "padding": null,
            "grid_auto_rows": null,
            "grid_gap": null,
            "max_width": null,
            "order": null,
            "_view_module_version": "1.2.0",
            "grid_template_areas": null,
            "object_position": null,
            "object_fit": null,
            "grid_auto_columns": null,
            "margin": null,
            "display": null,
            "left": null
          }
        },
        "6bfe5b7710a544139b48d9a53f7b1be2": {
          "model_module": "@jupyter-widgets/controls",
          "model_name": "DescriptionStyleModel",
          "model_module_version": "1.5.0",
          "state": {
            "_view_name": "StyleView",
            "_model_name": "DescriptionStyleModel",
            "description_width": "",
            "_view_module": "@jupyter-widgets/base",
            "_model_module_version": "1.5.0",
            "_view_count": null,
            "_view_module_version": "1.2.0",
            "_model_module": "@jupyter-widgets/controls"
          }
        },
        "7c35aec3f8f847a59662eaf8abe77a37": {
          "model_module": "@jupyter-widgets/base",
          "model_name": "LayoutModel",
          "model_module_version": "1.2.0",
          "state": {
            "_view_name": "LayoutView",
            "grid_template_rows": null,
            "right": null,
            "justify_content": null,
            "_view_module": "@jupyter-widgets/base",
            "overflow": null,
            "_model_module_version": "1.2.0",
            "_view_count": null,
            "flex_flow": null,
            "width": null,
            "min_width": null,
            "border": null,
            "align_items": null,
            "bottom": null,
            "_model_module": "@jupyter-widgets/base",
            "top": null,
            "grid_column": null,
            "overflow_y": null,
            "overflow_x": null,
            "grid_auto_flow": null,
            "grid_area": null,
            "grid_template_columns": null,
            "flex": null,
            "_model_name": "LayoutModel",
            "justify_items": null,
            "grid_row": null,
            "max_height": null,
            "align_content": null,
            "visibility": null,
            "align_self": null,
            "height": null,
            "min_height": null,
            "padding": null,
            "grid_auto_rows": null,
            "grid_gap": null,
            "max_width": null,
            "order": null,
            "_view_module_version": "1.2.0",
            "grid_template_areas": null,
            "object_position": null,
            "object_fit": null,
            "grid_auto_columns": null,
            "margin": null,
            "display": null,
            "left": null
          }
        },
        "5ab595f4498545aea9aadf54b6201459": {
          "model_module": "@jupyter-widgets/controls",
          "model_name": "HBoxModel",
          "model_module_version": "1.5.0",
          "state": {
            "_view_name": "HBoxView",
            "_dom_classes": [],
            "_model_name": "HBoxModel",
            "_view_module": "@jupyter-widgets/controls",
            "_model_module_version": "1.5.0",
            "_view_count": null,
            "_view_module_version": "1.5.0",
            "box_style": "",
            "layout": "IPY_MODEL_301724d11cb748b09411fd7bc007cd3f",
            "_model_module": "@jupyter-widgets/controls",
            "children": [
              "IPY_MODEL_c3994215748d4baca0d57ccb77c6ac0e",
              "IPY_MODEL_ed2b573cf8734febaf81f85b8e888769",
              "IPY_MODEL_938ad1c5a9074cd88864ecb76402cc64"
            ]
          }
        },
        "301724d11cb748b09411fd7bc007cd3f": {
          "model_module": "@jupyter-widgets/base",
          "model_name": "LayoutModel",
          "model_module_version": "1.2.0",
          "state": {
            "_view_name": "LayoutView",
            "grid_template_rows": null,
            "right": null,
            "justify_content": null,
            "_view_module": "@jupyter-widgets/base",
            "overflow": null,
            "_model_module_version": "1.2.0",
            "_view_count": null,
            "flex_flow": null,
            "width": null,
            "min_width": null,
            "border": null,
            "align_items": null,
            "bottom": null,
            "_model_module": "@jupyter-widgets/base",
            "top": null,
            "grid_column": null,
            "overflow_y": null,
            "overflow_x": null,
            "grid_auto_flow": null,
            "grid_area": null,
            "grid_template_columns": null,
            "flex": null,
            "_model_name": "LayoutModel",
            "justify_items": null,
            "grid_row": null,
            "max_height": null,
            "align_content": null,
            "visibility": null,
            "align_self": null,
            "height": null,
            "min_height": null,
            "padding": null,
            "grid_auto_rows": null,
            "grid_gap": null,
            "max_width": null,
            "order": null,
            "_view_module_version": "1.2.0",
            "grid_template_areas": null,
            "object_position": null,
            "object_fit": null,
            "grid_auto_columns": null,
            "margin": null,
            "display": null,
            "left": null
          }
        },
        "c3994215748d4baca0d57ccb77c6ac0e": {
          "model_module": "@jupyter-widgets/controls",
          "model_name": "HTMLModel",
          "model_module_version": "1.5.0",
          "state": {
            "_view_name": "HTMLView",
            "style": "IPY_MODEL_7b35c9a796ba4d70864f7cea48af5581",
            "_dom_classes": [],
            "description": "",
            "_model_name": "HTMLModel",
            "placeholder": "​",
            "_view_module": "@jupyter-widgets/controls",
            "_model_module_version": "1.5.0",
            "value": "Downloading: 100%",
            "_view_count": null,
            "_view_module_version": "1.5.0",
            "description_tooltip": null,
            "_model_module": "@jupyter-widgets/controls",
            "layout": "IPY_MODEL_f69cbbbeabae413daa1806e71424a7e5"
          }
        },
        "ed2b573cf8734febaf81f85b8e888769": {
          "model_module": "@jupyter-widgets/controls",
          "model_name": "FloatProgressModel",
          "model_module_version": "1.5.0",
          "state": {
            "_view_name": "ProgressView",
            "style": "IPY_MODEL_c57176d3cc3f42f58bd10bf93f3bf696",
            "_dom_classes": [],
            "description": "",
            "_model_name": "FloatProgressModel",
            "bar_style": "success",
            "max": 501200538,
            "_view_module": "@jupyter-widgets/controls",
            "_model_module_version": "1.5.0",
            "value": 501200538,
            "_view_count": null,
            "_view_module_version": "1.5.0",
            "orientation": "horizontal",
            "min": 0,
            "description_tooltip": null,
            "_model_module": "@jupyter-widgets/controls",
            "layout": "IPY_MODEL_cf94af90031948c08c49ec1c1e8d2d1b"
          }
        },
        "938ad1c5a9074cd88864ecb76402cc64": {
          "model_module": "@jupyter-widgets/controls",
          "model_name": "HTMLModel",
          "model_module_version": "1.5.0",
          "state": {
            "_view_name": "HTMLView",
            "style": "IPY_MODEL_2bdb5854ad9f4a82a0b98419b79fb28d",
            "_dom_classes": [],
            "description": "",
            "_model_name": "HTMLModel",
            "placeholder": "​",
            "_view_module": "@jupyter-widgets/controls",
            "_model_module_version": "1.5.0",
            "value": " 501M/501M [00:16&lt;00:00, 31.1MB/s]",
            "_view_count": null,
            "_view_module_version": "1.5.0",
            "description_tooltip": null,
            "_model_module": "@jupyter-widgets/controls",
            "layout": "IPY_MODEL_75eda073b7034670956353e25acbabb3"
          }
        },
        "7b35c9a796ba4d70864f7cea48af5581": {
          "model_module": "@jupyter-widgets/controls",
          "model_name": "DescriptionStyleModel",
          "model_module_version": "1.5.0",
          "state": {
            "_view_name": "StyleView",
            "_model_name": "DescriptionStyleModel",
            "description_width": "",
            "_view_module": "@jupyter-widgets/base",
            "_model_module_version": "1.5.0",
            "_view_count": null,
            "_view_module_version": "1.2.0",
            "_model_module": "@jupyter-widgets/controls"
          }
        },
        "f69cbbbeabae413daa1806e71424a7e5": {
          "model_module": "@jupyter-widgets/base",
          "model_name": "LayoutModel",
          "model_module_version": "1.2.0",
          "state": {
            "_view_name": "LayoutView",
            "grid_template_rows": null,
            "right": null,
            "justify_content": null,
            "_view_module": "@jupyter-widgets/base",
            "overflow": null,
            "_model_module_version": "1.2.0",
            "_view_count": null,
            "flex_flow": null,
            "width": null,
            "min_width": null,
            "border": null,
            "align_items": null,
            "bottom": null,
            "_model_module": "@jupyter-widgets/base",
            "top": null,
            "grid_column": null,
            "overflow_y": null,
            "overflow_x": null,
            "grid_auto_flow": null,
            "grid_area": null,
            "grid_template_columns": null,
            "flex": null,
            "_model_name": "LayoutModel",
            "justify_items": null,
            "grid_row": null,
            "max_height": null,
            "align_content": null,
            "visibility": null,
            "align_self": null,
            "height": null,
            "min_height": null,
            "padding": null,
            "grid_auto_rows": null,
            "grid_gap": null,
            "max_width": null,
            "order": null,
            "_view_module_version": "1.2.0",
            "grid_template_areas": null,
            "object_position": null,
            "object_fit": null,
            "grid_auto_columns": null,
            "margin": null,
            "display": null,
            "left": null
          }
        },
        "c57176d3cc3f42f58bd10bf93f3bf696": {
          "model_module": "@jupyter-widgets/controls",
          "model_name": "ProgressStyleModel",
          "model_module_version": "1.5.0",
          "state": {
            "_view_name": "StyleView",
            "_model_name": "ProgressStyleModel",
            "description_width": "",
            "_view_module": "@jupyter-widgets/base",
            "_model_module_version": "1.5.0",
            "_view_count": null,
            "_view_module_version": "1.2.0",
            "bar_color": null,
            "_model_module": "@jupyter-widgets/controls"
          }
        },
        "cf94af90031948c08c49ec1c1e8d2d1b": {
          "model_module": "@jupyter-widgets/base",
          "model_name": "LayoutModel",
          "model_module_version": "1.2.0",
          "state": {
            "_view_name": "LayoutView",
            "grid_template_rows": null,
            "right": null,
            "justify_content": null,
            "_view_module": "@jupyter-widgets/base",
            "overflow": null,
            "_model_module_version": "1.2.0",
            "_view_count": null,
            "flex_flow": null,
            "width": null,
            "min_width": null,
            "border": null,
            "align_items": null,
            "bottom": null,
            "_model_module": "@jupyter-widgets/base",
            "top": null,
            "grid_column": null,
            "overflow_y": null,
            "overflow_x": null,
            "grid_auto_flow": null,
            "grid_area": null,
            "grid_template_columns": null,
            "flex": null,
            "_model_name": "LayoutModel",
            "justify_items": null,
            "grid_row": null,
            "max_height": null,
            "align_content": null,
            "visibility": null,
            "align_self": null,
            "height": null,
            "min_height": null,
            "padding": null,
            "grid_auto_rows": null,
            "grid_gap": null,
            "max_width": null,
            "order": null,
            "_view_module_version": "1.2.0",
            "grid_template_areas": null,
            "object_position": null,
            "object_fit": null,
            "grid_auto_columns": null,
            "margin": null,
            "display": null,
            "left": null
          }
        },
        "2bdb5854ad9f4a82a0b98419b79fb28d": {
          "model_module": "@jupyter-widgets/controls",
          "model_name": "DescriptionStyleModel",
          "model_module_version": "1.5.0",
          "state": {
            "_view_name": "StyleView",
            "_model_name": "DescriptionStyleModel",
            "description_width": "",
            "_view_module": "@jupyter-widgets/base",
            "_model_module_version": "1.5.0",
            "_view_count": null,
            "_view_module_version": "1.2.0",
            "_model_module": "@jupyter-widgets/controls"
          }
        },
        "75eda073b7034670956353e25acbabb3": {
          "model_module": "@jupyter-widgets/base",
          "model_name": "LayoutModel",
          "model_module_version": "1.2.0",
          "state": {
            "_view_name": "LayoutView",
            "grid_template_rows": null,
            "right": null,
            "justify_content": null,
            "_view_module": "@jupyter-widgets/base",
            "overflow": null,
            "_model_module_version": "1.2.0",
            "_view_count": null,
            "flex_flow": null,
            "width": null,
            "min_width": null,
            "border": null,
            "align_items": null,
            "bottom": null,
            "_model_module": "@jupyter-widgets/base",
            "top": null,
            "grid_column": null,
            "overflow_y": null,
            "overflow_x": null,
            "grid_auto_flow": null,
            "grid_area": null,
            "grid_template_columns": null,
            "flex": null,
            "_model_name": "LayoutModel",
            "justify_items": null,
            "grid_row": null,
            "max_height": null,
            "align_content": null,
            "visibility": null,
            "align_self": null,
            "height": null,
            "min_height": null,
            "padding": null,
            "grid_auto_rows": null,
            "grid_gap": null,
            "max_width": null,
            "order": null,
            "_view_module_version": "1.2.0",
            "grid_template_areas": null,
            "object_position": null,
            "object_fit": null,
            "grid_auto_columns": null,
            "margin": null,
            "display": null,
            "left": null
          }
        }
      }
    },
    "accelerator": "GPU"
  },
  "cells": [
    {
      "cell_type": "markdown",
      "metadata": {
        "id": "view-in-github",
        "colab_type": "text"
      },
      "source": [
        "<a href=\"https://colab.research.google.com/github/yorketh/machine-learning/blob/master/Multiclass_Siamese.ipynb\" target=\"_parent\"><img src=\"https://colab.research.google.com/assets/colab-badge.svg\" alt=\"Open In Colab\"/></a>"
      ]
    },
    {
      "cell_type": "markdown",
      "metadata": {
        "id": "7BzOce_d8p-Q"
      },
      "source": [
        "## This notebook attempts to solve multiclass classification problem via using various types of NNs, including Siamese and RoBERTa."
      ]
    },
    {
      "cell_type": "code",
      "metadata": {
        "id": "IbyZN35Z4Zyq",
        "colab": {
          "base_uri": "https://localhost:8080/"
        },
        "outputId": "ba3be202-8ece-472d-ef92-d8c7295a7ebc"
      },
      "source": [
        "import pandas as pd\n",
        "import numpy as np\n",
        "import json\n",
        "import seaborn as sns\n",
        "from pylab import rcParams\n",
        "import matplotlib.pyplot as plt\n",
        "from matplotlib import rc\n",
        "import sklearn\n",
        "import xgboost\n",
        "from tqdm import tqdm\n",
        "import torch\n",
        "from torch import nn, optim\n",
        "from sklearn.model_selection import train_test_split\n",
        "from sklearn.metrics import accuracy_score, classification_report\n",
        "from tensorflow.keras.preprocessing.text import Tokenizer\n",
        "from tensorflow.keras.preprocessing.sequence import pad_sequences\n",
        "from sklearn import preprocessing\n",
        "from torch.utils.data import TensorDataset, DataLoader\n",
        "from string import punctuation\n",
        "import re\n",
        "import torch.nn.functional as F\n",
        "import math\n",
        "import nltk\n",
        "nltk.download('punkt')\n",
        "nltk.download('wordnet')\n",
        "nltk.download('averaged_perceptron_tagger')\n",
        "nltk.download('stopwords')\n",
        "import torchtext\n",
        "from nltk.tokenize import word_tokenize\n",
        "from nltk import pos_tag\n",
        "from nltk.corpus import stopwords\n",
        "from nltk.stem import WordNetLemmatizer\n",
        "from sklearn.preprocessing import LabelEncoder\n",
        "from collections import defaultdict\n",
        "from nltk.corpus import wordnet as wn\n",
        "from sklearn.feature_extraction.text import TfidfVectorizer\n",
        "from sklearn import model_selection, naive_bayes, svm\n",
        "from sklearn import feature_extraction, pipeline"
      ],
      "execution_count": null,
      "outputs": [
        {
          "output_type": "stream",
          "name": "stdout",
          "text": [
            "[nltk_data] Downloading package punkt to /root/nltk_data...\n",
            "[nltk_data]   Unzipping tokenizers/punkt.zip.\n",
            "[nltk_data] Downloading package wordnet to /root/nltk_data...\n",
            "[nltk_data]   Unzipping corpora/wordnet.zip.\n",
            "[nltk_data] Downloading package averaged_perceptron_tagger to\n",
            "[nltk_data]     /root/nltk_data...\n",
            "[nltk_data]   Unzipping taggers/averaged_perceptron_tagger.zip.\n",
            "[nltk_data] Downloading package stopwords to /root/nltk_data...\n",
            "[nltk_data]   Unzipping corpora/stopwords.zip.\n"
          ]
        }
      ]
    },
    {
      "cell_type": "code",
      "metadata": {
        "id": "Jdk0fJs280L6"
      },
      "source": [
        "%config InlineBackend.figure_format='retina'\n",
        "sns.set(style='whitegrid', palette='muted', font_scale=1.2)\n",
        "HAPPY_COLORS_PALETTE = [\"#01BEFE\", \"#FFDD00\", \"#FF7D00\", \"#FF006D\", \"#ADFF02\", \"#8F00FF\"]\n",
        "sns.set_palette(sns.color_palette(HAPPY_COLORS_PALETTE))\n",
        "rcParams['figure.figsize'] = 12, 8"
      ],
      "execution_count": null,
      "outputs": []
    },
    {
      "cell_type": "code",
      "metadata": {
        "colab": {
          "base_uri": "https://localhost:8080/"
        },
        "id": "6-_Ibd5P2P_x",
        "outputId": "b91d5cb9-9ddb-4bb0-ae28-3507d5c9916a"
      },
      "source": [
        "from sklearn.model_selection import train_test_split\n",
        "import zipfile\n",
        "from torch.utils.data import Dataset, DataLoader\n",
        "import torch.nn.functional as F\n",
        "from collections import defaultdict\n",
        "from textwrap import wrap\n",
        "\n",
        "!pip install transformers==3\n",
        "\n",
        "import transformers\n",
        "from transformers import BertModel, BertTokenizer, AdamW,  \\\n",
        "get_linear_schedule_with_warmup, BertForSequenceClassification, RobertaModel, RobertaTokenizer\n",
        "\n",
        "\n",
        "import random\n",
        "\n",
        "RANDOM_SEED = 42\n",
        "random.seed(RANDOM_SEED)\n",
        "np.random.seed(RANDOM_SEED)\n",
        "torch.manual_seed(RANDOM_SEED)\n",
        "device = torch.device(\"cuda:0\" if torch.cuda.is_available() else \"cpu\")"
      ],
      "execution_count": null,
      "outputs": [
        {
          "output_type": "stream",
          "name": "stdout",
          "text": [
            "Collecting transformers==3\n",
            "  Downloading transformers-3.0.0-py3-none-any.whl (754 kB)\n",
            "\u001b[K     |████████████████████████████████| 754 kB 4.2 MB/s \n",
            "\u001b[?25hRequirement already satisfied: regex!=2019.12.17 in /usr/local/lib/python3.7/dist-packages (from transformers==3) (2019.12.20)\n",
            "Collecting tokenizers==0.8.0-rc4\n",
            "  Downloading tokenizers-0.8.0rc4-cp37-cp37m-manylinux1_x86_64.whl (3.0 MB)\n",
            "\u001b[K     |████████████████████████████████| 3.0 MB 18.1 MB/s \n",
            "\u001b[?25hRequirement already satisfied: packaging in /usr/local/lib/python3.7/dist-packages (from transformers==3) (21.3)\n",
            "Requirement already satisfied: tqdm>=4.27 in /usr/local/lib/python3.7/dist-packages (from transformers==3) (4.62.3)\n",
            "Requirement already satisfied: requests in /usr/local/lib/python3.7/dist-packages (from transformers==3) (2.23.0)\n",
            "Collecting sentencepiece\n",
            "  Downloading sentencepiece-0.1.96-cp37-cp37m-manylinux_2_17_x86_64.manylinux2014_x86_64.whl (1.2 MB)\n",
            "\u001b[K     |████████████████████████████████| 1.2 MB 24.0 MB/s \n",
            "\u001b[?25hRequirement already satisfied: filelock in /usr/local/lib/python3.7/dist-packages (from transformers==3) (3.4.0)\n",
            "Requirement already satisfied: numpy in /usr/local/lib/python3.7/dist-packages (from transformers==3) (1.19.5)\n",
            "Collecting sacremoses\n",
            "  Downloading sacremoses-0.0.46-py3-none-any.whl (895 kB)\n",
            "\u001b[K     |████████████████████████████████| 895 kB 48.0 MB/s \n",
            "\u001b[?25hRequirement already satisfied: pyparsing!=3.0.5,>=2.0.2 in /usr/local/lib/python3.7/dist-packages (from packaging->transformers==3) (3.0.6)\n",
            "Requirement already satisfied: idna<3,>=2.5 in /usr/local/lib/python3.7/dist-packages (from requests->transformers==3) (2.10)\n",
            "Requirement already satisfied: certifi>=2017.4.17 in /usr/local/lib/python3.7/dist-packages (from requests->transformers==3) (2021.10.8)\n",
            "Requirement already satisfied: chardet<4,>=3.0.2 in /usr/local/lib/python3.7/dist-packages (from requests->transformers==3) (3.0.4)\n",
            "Requirement already satisfied: urllib3!=1.25.0,!=1.25.1,<1.26,>=1.21.1 in /usr/local/lib/python3.7/dist-packages (from requests->transformers==3) (1.24.3)\n",
            "Requirement already satisfied: six in /usr/local/lib/python3.7/dist-packages (from sacremoses->transformers==3) (1.15.0)\n",
            "Requirement already satisfied: click in /usr/local/lib/python3.7/dist-packages (from sacremoses->transformers==3) (7.1.2)\n",
            "Requirement already satisfied: joblib in /usr/local/lib/python3.7/dist-packages (from sacremoses->transformers==3) (1.1.0)\n",
            "Installing collected packages: tokenizers, sentencepiece, sacremoses, transformers\n",
            "Successfully installed sacremoses-0.0.46 sentencepiece-0.1.96 tokenizers-0.8.0rc4 transformers-3.0.0\n"
          ]
        }
      ]
    },
    {
      "cell_type": "code",
      "metadata": {
        "id": "QNgrpqb04dvs"
      },
      "source": [
        "with zipfile.ZipFile('/content/drive/MyDrive/task.zip', 'r') as zip_ref:\n",
        "    zip_ref.extractall('task')"
      ],
      "execution_count": null,
      "outputs": []
    },
    {
      "cell_type": "code",
      "metadata": {
        "id": "bG6q528v5g1p"
      },
      "source": [
        "train = pd.read_csv('/content/task/task/train_data.csv')\n",
        "valid = pd.read_csv('/content/task/task/validation_set.csv')"
      ],
      "execution_count": null,
      "outputs": []
    },
    {
      "cell_type": "code",
      "metadata": {
        "colab": {
          "base_uri": "https://localhost:8080/",
          "height": 363
        },
        "id": "KwtO4zKB5ykT",
        "outputId": "b02b6d6c-3833-4958-f785-0577e5f586a9"
      },
      "source": [
        "train.head(10)"
      ],
      "execution_count": null,
      "outputs": [
        {
          "output_type": "execute_result",
          "data": {
            "text/html": [
              "<div>\n",
              "<style scoped>\n",
              "    .dataframe tbody tr th:only-of-type {\n",
              "        vertical-align: middle;\n",
              "    }\n",
              "\n",
              "    .dataframe tbody tr th {\n",
              "        vertical-align: top;\n",
              "    }\n",
              "\n",
              "    .dataframe thead th {\n",
              "        text-align: right;\n",
              "    }\n",
              "</style>\n",
              "<table border=\"1\" class=\"dataframe\">\n",
              "  <thead>\n",
              "    <tr style=\"text-align: right;\">\n",
              "      <th></th>\n",
              "      <th>Class_ID</th>\n",
              "      <th>Phrases</th>\n",
              "    </tr>\n",
              "  </thead>\n",
              "  <tbody>\n",
              "    <tr>\n",
              "      <th>0</th>\n",
              "      <td>22806315</td>\n",
              "      <td>50 MW Floating Solar PV tender document</td>\n",
              "    </tr>\n",
              "    <tr>\n",
              "      <th>1</th>\n",
              "      <td>22806315</td>\n",
              "      <td>ABC Design guideline</td>\n",
              "    </tr>\n",
              "    <tr>\n",
              "      <th>2</th>\n",
              "      <td>22806315</td>\n",
              "      <td>access control to roof top</td>\n",
              "    </tr>\n",
              "    <tr>\n",
              "      <th>3</th>\n",
              "      <td>22806315</td>\n",
              "      <td>After drinking water mr Koh he farted why</td>\n",
              "    </tr>\n",
              "    <tr>\n",
              "      <th>4</th>\n",
              "      <td>22806315</td>\n",
              "      <td>Any increment in price for 2020</td>\n",
              "    </tr>\n",
              "    <tr>\n",
              "      <th>5</th>\n",
              "      <td>22806315</td>\n",
              "      <td>any permit for carnival</td>\n",
              "    </tr>\n",
              "    <tr>\n",
              "      <th>6</th>\n",
              "      <td>22806315</td>\n",
              "      <td>Any vacancy at wsn Johor</td>\n",
              "    </tr>\n",
              "    <tr>\n",
              "      <th>7</th>\n",
              "      <td>22806315</td>\n",
              "      <td>application for fire hydrant relocation</td>\n",
              "    </tr>\n",
              "    <tr>\n",
              "      <th>8</th>\n",
              "      <td>22806315</td>\n",
              "      <td>Apply for gas</td>\n",
              "    </tr>\n",
              "    <tr>\n",
              "      <th>9</th>\n",
              "      <td>22806315</td>\n",
              "      <td>approval for permit through ltaPROMPT</td>\n",
              "    </tr>\n",
              "  </tbody>\n",
              "</table>\n",
              "</div>"
            ],
            "text/plain": [
              "   Class_ID                                    Phrases\n",
              "0  22806315    50 MW Floating Solar PV tender document\n",
              "1  22806315                       ABC Design guideline\n",
              "2  22806315                 access control to roof top\n",
              "3  22806315  After drinking water mr Koh he farted why\n",
              "4  22806315            Any increment in price for 2020\n",
              "5  22806315                    any permit for carnival\n",
              "6  22806315                   Any vacancy at wsn Johor\n",
              "7  22806315    application for fire hydrant relocation\n",
              "8  22806315                              Apply for gas\n",
              "9  22806315      approval for permit through ltaPROMPT"
            ]
          },
          "metadata": {},
          "execution_count": 6
        }
      ]
    },
    {
      "cell_type": "code",
      "metadata": {
        "colab": {
          "base_uri": "https://localhost:8080/",
          "height": 363
        },
        "id": "ypF5zJCE5z53",
        "outputId": "360707f4-a8e1-4e2b-bdc8-3ae9a9f7a023"
      },
      "source": [
        "valid.head(10)"
      ],
      "execution_count": null,
      "outputs": [
        {
          "output_type": "execute_result",
          "data": {
            "text/html": [
              "<div>\n",
              "<style scoped>\n",
              "    .dataframe tbody tr th:only-of-type {\n",
              "        vertical-align: middle;\n",
              "    }\n",
              "\n",
              "    .dataframe tbody tr th {\n",
              "        vertical-align: top;\n",
              "    }\n",
              "\n",
              "    .dataframe thead th {\n",
              "        text-align: right;\n",
              "    }\n",
              "</style>\n",
              "<table border=\"1\" class=\"dataframe\">\n",
              "  <thead>\n",
              "    <tr style=\"text-align: right;\">\n",
              "      <th></th>\n",
              "      <th>Phrases</th>\n",
              "      <th>Class_ID</th>\n",
              "    </tr>\n",
              "  </thead>\n",
              "  <tbody>\n",
              "    <tr>\n",
              "      <th>0</th>\n",
              "      <td>Is there a difference between the rates betwee...</td>\n",
              "      <td>27818940</td>\n",
              "    </tr>\n",
              "    <tr>\n",
              "      <th>1</th>\n",
              "      <td>Is there a difference between the water rates ...</td>\n",
              "      <td>27818940</td>\n",
              "    </tr>\n",
              "    <tr>\n",
              "      <th>2</th>\n",
              "      <td>Can you please recommend a licensed plumber to...</td>\n",
              "      <td>27818847</td>\n",
              "    </tr>\n",
              "    <tr>\n",
              "      <th>3</th>\n",
              "      <td>Can a building be served by 100 newater if the...</td>\n",
              "      <td>27818888</td>\n",
              "    </tr>\n",
              "    <tr>\n",
              "      <th>4</th>\n",
              "      <td>Water supply stopped</td>\n",
              "      <td>27818909</td>\n",
              "    </tr>\n",
              "    <tr>\n",
              "      <th>5</th>\n",
              "      <td>How do i get non potable NEWater to a lab in a...</td>\n",
              "      <td>22809639</td>\n",
              "    </tr>\n",
              "    <tr>\n",
              "      <th>6</th>\n",
              "      <td>Lab use</td>\n",
              "      <td>22813502</td>\n",
              "    </tr>\n",
              "    <tr>\n",
              "      <th>7</th>\n",
              "      <td>What is pub email address</td>\n",
              "      <td>33741874</td>\n",
              "    </tr>\n",
              "    <tr>\n",
              "      <th>8</th>\n",
              "      <td>Water got poison</td>\n",
              "      <td>34879242</td>\n",
              "    </tr>\n",
              "    <tr>\n",
              "      <th>9</th>\n",
              "      <td>Water got germ</td>\n",
              "      <td>34879242</td>\n",
              "    </tr>\n",
              "  </tbody>\n",
              "</table>\n",
              "</div>"
            ],
            "text/plain": [
              "                                             Phrases  Class_ID\n",
              "0  Is there a difference between the rates betwee...  27818940\n",
              "1  Is there a difference between the water rates ...  27818940\n",
              "2  Can you please recommend a licensed plumber to...  27818847\n",
              "3  Can a building be served by 100 newater if the...  27818888\n",
              "4                               Water supply stopped  27818909\n",
              "5  How do i get non potable NEWater to a lab in a...  22809639\n",
              "6                                            Lab use  22813502\n",
              "7                          What is pub email address  33741874\n",
              "8                                   Water got poison  34879242\n",
              "9                                     Water got germ  34879242"
            ]
          },
          "metadata": {},
          "execution_count": 7
        }
      ]
    },
    {
      "cell_type": "code",
      "metadata": {
        "colab": {
          "base_uri": "https://localhost:8080/"
        },
        "id": "4uCioz9w53VB",
        "outputId": "6dc0f834-c53f-46ba-eda4-534df0e284b3"
      },
      "source": [
        "# 358 unique classes in train set\n",
        "len(train.Class_ID.unique())"
      ],
      "execution_count": null,
      "outputs": [
        {
          "output_type": "execute_result",
          "data": {
            "text/plain": [
              "358"
            ]
          },
          "metadata": {},
          "execution_count": 8
        }
      ]
    },
    {
      "cell_type": "code",
      "metadata": {
        "colab": {
          "base_uri": "https://localhost:8080/"
        },
        "id": "EieKXd0s57FL",
        "outputId": "262069ed-2449-4116-c170-c48f0d18215f"
      },
      "source": [
        "# 140 unique classes in valid set\n",
        "len(valid.Class_ID.unique())"
      ],
      "execution_count": null,
      "outputs": [
        {
          "output_type": "execute_result",
          "data": {
            "text/plain": [
              "140"
            ]
          },
          "metadata": {},
          "execution_count": 9
        }
      ]
    },
    {
      "cell_type": "code",
      "metadata": {
        "id": "FcQlTlCA8fTR"
      },
      "source": [
        "pd.set_option('display.float_format', lambda x: '%.0f' % x)"
      ],
      "execution_count": null,
      "outputs": []
    },
    {
      "cell_type": "code",
      "metadata": {
        "colab": {
          "base_uri": "https://localhost:8080/",
          "height": 300
        },
        "id": "P7RuV9kS7gIY",
        "outputId": "0d621252-842b-45f9-bb94-4d3f1196f156"
      },
      "source": [
        "train.describe()"
      ],
      "execution_count": null,
      "outputs": [
        {
          "output_type": "execute_result",
          "data": {
            "text/html": [
              "<div>\n",
              "<style scoped>\n",
              "    .dataframe tbody tr th:only-of-type {\n",
              "        vertical-align: middle;\n",
              "    }\n",
              "\n",
              "    .dataframe tbody tr th {\n",
              "        vertical-align: top;\n",
              "    }\n",
              "\n",
              "    .dataframe thead th {\n",
              "        text-align: right;\n",
              "    }\n",
              "</style>\n",
              "<table border=\"1\" class=\"dataframe\">\n",
              "  <thead>\n",
              "    <tr style=\"text-align: right;\">\n",
              "      <th></th>\n",
              "      <th>Class_ID</th>\n",
              "    </tr>\n",
              "  </thead>\n",
              "  <tbody>\n",
              "    <tr>\n",
              "      <th>count</th>\n",
              "      <td>9693</td>\n",
              "    </tr>\n",
              "    <tr>\n",
              "      <th>mean</th>\n",
              "      <td>29276900</td>\n",
              "    </tr>\n",
              "    <tr>\n",
              "      <th>std</th>\n",
              "      <td>5058443</td>\n",
              "    </tr>\n",
              "    <tr>\n",
              "      <th>min</th>\n",
              "      <td>22806315</td>\n",
              "    </tr>\n",
              "    <tr>\n",
              "      <th>25%</th>\n",
              "      <td>27818847</td>\n",
              "    </tr>\n",
              "    <tr>\n",
              "      <th>50%</th>\n",
              "      <td>27956629</td>\n",
              "    </tr>\n",
              "    <tr>\n",
              "      <th>75%</th>\n",
              "      <td>33741874</td>\n",
              "    </tr>\n",
              "    <tr>\n",
              "      <th>max</th>\n",
              "      <td>53256124</td>\n",
              "    </tr>\n",
              "  </tbody>\n",
              "</table>\n",
              "</div>"
            ],
            "text/plain": [
              "       Class_ID\n",
              "count      9693\n",
              "mean   29276900\n",
              "std     5058443\n",
              "min    22806315\n",
              "25%    27818847\n",
              "50%    27956629\n",
              "75%    33741874\n",
              "max    53256124"
            ]
          },
          "metadata": {},
          "execution_count": 11
        }
      ]
    },
    {
      "cell_type": "code",
      "metadata": {
        "colab": {
          "base_uri": "https://localhost:8080/",
          "height": 300
        },
        "id": "L1oHB1Vi7sRA",
        "outputId": "07bad5bb-e6cf-4336-bb93-a041be4e1880"
      },
      "source": [
        "valid.describe()"
      ],
      "execution_count": null,
      "outputs": [
        {
          "output_type": "execute_result",
          "data": {
            "text/html": [
              "<div>\n",
              "<style scoped>\n",
              "    .dataframe tbody tr th:only-of-type {\n",
              "        vertical-align: middle;\n",
              "    }\n",
              "\n",
              "    .dataframe tbody tr th {\n",
              "        vertical-align: top;\n",
              "    }\n",
              "\n",
              "    .dataframe thead th {\n",
              "        text-align: right;\n",
              "    }\n",
              "</style>\n",
              "<table border=\"1\" class=\"dataframe\">\n",
              "  <thead>\n",
              "    <tr style=\"text-align: right;\">\n",
              "      <th></th>\n",
              "      <th>Class_ID</th>\n",
              "    </tr>\n",
              "  </thead>\n",
              "  <tbody>\n",
              "    <tr>\n",
              "      <th>count</th>\n",
              "      <td>1062</td>\n",
              "    </tr>\n",
              "    <tr>\n",
              "      <th>mean</th>\n",
              "      <td>29490632</td>\n",
              "    </tr>\n",
              "    <tr>\n",
              "      <th>std</th>\n",
              "      <td>5735918</td>\n",
              "    </tr>\n",
              "    <tr>\n",
              "      <th>min</th>\n",
              "      <td>22806315</td>\n",
              "    </tr>\n",
              "    <tr>\n",
              "      <th>25%</th>\n",
              "      <td>27810629</td>\n",
              "    </tr>\n",
              "    <tr>\n",
              "      <th>50%</th>\n",
              "      <td>27818928</td>\n",
              "    </tr>\n",
              "    <tr>\n",
              "      <th>75%</th>\n",
              "      <td>33741874</td>\n",
              "    </tr>\n",
              "    <tr>\n",
              "      <th>max</th>\n",
              "      <td>53255308</td>\n",
              "    </tr>\n",
              "  </tbody>\n",
              "</table>\n",
              "</div>"
            ],
            "text/plain": [
              "       Class_ID\n",
              "count      1062\n",
              "mean   29490632\n",
              "std     5735918\n",
              "min    22806315\n",
              "25%    27810629\n",
              "50%    27818928\n",
              "75%    33741874\n",
              "max    53255308"
            ]
          },
          "metadata": {},
          "execution_count": 12
        }
      ]
    },
    {
      "cell_type": "code",
      "metadata": {
        "colab": {
          "base_uri": "https://localhost:8080/"
        },
        "id": "N60agKmi3L_Q",
        "outputId": "402cf927-0a0d-4f0c-bace-7ea4936fead1"
      },
      "source": [
        "# class_id=36136698 is not in train set\n",
        "f = [i for i in valid.Class_ID.unique() if i not in train.Class_ID.unique()]\n",
        "f"
      ],
      "execution_count": null,
      "outputs": [
        {
          "output_type": "execute_result",
          "data": {
            "text/plain": [
              "[36136698]"
            ]
          },
          "metadata": {},
          "execution_count": 13
        }
      ]
    },
    {
      "cell_type": "code",
      "metadata": {
        "colab": {
          "base_uri": "https://localhost:8080/",
          "height": 112
        },
        "id": "oxQBdkW73Uwx",
        "outputId": "d3a7a6a2-7a1c-4546-8ea0-b46220ca4814"
      },
      "source": [
        "valid[valid.Class_ID==f[0]]"
      ],
      "execution_count": null,
      "outputs": [
        {
          "output_type": "execute_result",
          "data": {
            "text/html": [
              "<div>\n",
              "<style scoped>\n",
              "    .dataframe tbody tr th:only-of-type {\n",
              "        vertical-align: middle;\n",
              "    }\n",
              "\n",
              "    .dataframe tbody tr th {\n",
              "        vertical-align: top;\n",
              "    }\n",
              "\n",
              "    .dataframe thead th {\n",
              "        text-align: right;\n",
              "    }\n",
              "</style>\n",
              "<table border=\"1\" class=\"dataframe\">\n",
              "  <thead>\n",
              "    <tr style=\"text-align: right;\">\n",
              "      <th></th>\n",
              "      <th>Phrases</th>\n",
              "      <th>Class_ID</th>\n",
              "    </tr>\n",
              "  </thead>\n",
              "  <tbody>\n",
              "    <tr>\n",
              "      <th>87</th>\n",
              "      <td>who is responsible for mainting the external w...</td>\n",
              "      <td>36136698</td>\n",
              "    </tr>\n",
              "    <tr>\n",
              "      <th>591</th>\n",
              "      <td>Can i know who is the term contractor for wate...</td>\n",
              "      <td>36136698</td>\n",
              "    </tr>\n",
              "  </tbody>\n",
              "</table>\n",
              "</div>"
            ],
            "text/plain": [
              "                                               Phrases  Class_ID\n",
              "87   who is responsible for mainting the external w...  36136698\n",
              "591  Can i know who is the term contractor for wate...  36136698"
            ]
          },
          "metadata": {},
          "execution_count": 14
        }
      ]
    },
    {
      "cell_type": "code",
      "metadata": {
        "colab": {
          "base_uri": "https://localhost:8080/"
        },
        "id": "ewGK1e593hGM",
        "outputId": "4e6fb42a-3cc0-49c7-f23d-42d99f080aca"
      },
      "source": [
        "# class_id=22813502 is 10% of all train samples\n",
        "train.groupby('Class_ID').count().Phrases.sort_values(ascending=False)"
      ],
      "execution_count": null,
      "outputs": [
        {
          "output_type": "execute_result",
          "data": {
            "text/plain": [
              "Class_ID\n",
              "22813502    962\n",
              "27818896    682\n",
              "22809639    539\n",
              "33741874    486\n",
              "22806315    380\n",
              "           ... \n",
              "27964707      1\n",
              "27964710      1\n",
              "27964718      1\n",
              "27957957      1\n",
              "27966415      1\n",
              "Name: Phrases, Length: 358, dtype: int64"
            ]
          },
          "metadata": {},
          "execution_count": 15
        }
      ]
    },
    {
      "cell_type": "code",
      "metadata": {
        "colab": {
          "base_uri": "https://localhost:8080/",
          "height": 540
        },
        "id": "lkIWsUlP3sNZ",
        "outputId": "2d94ddb5-2fcc-406e-daf8-a2a4c4978f9a"
      },
      "source": [
        "plt.hist(train.Class_ID)\n",
        "\n",
        "plt.title('Histogram of Train Class Lables')\n",
        "plt.xlabel('Classes')\n",
        "plt.ylabel('Frequency')"
      ],
      "execution_count": null,
      "outputs": [
        {
          "output_type": "execute_result",
          "data": {
            "text/plain": [
              "Text(0, 0.5, 'Frequency')"
            ]
          },
          "metadata": {},
          "execution_count": 16
        },
        {
          "output_type": "display_data",
          "data": {
            "image/png": "[encoded data removed]",
            "text/plain": [
              "<Figure size 864x576 with 1 Axes>"
            ]
          },
          "metadata": {
            "image/png": {
              "width": 745,
              "height": 506
            }
          }
        }
      ]
    },
    {
      "cell_type": "code",
      "metadata": {
        "colab": {
          "base_uri": "https://localhost:8080/"
        },
        "id": "A6lAbOYL5PDa",
        "outputId": "ffa111df-c74f-4a33-df0f-e0f73d45a5c7"
      },
      "source": [
        "valid.groupby('Class_ID').count().Phrases.sort_values(ascending=False)"
      ],
      "execution_count": null,
      "outputs": [
        {
          "output_type": "execute_result",
          "data": {
            "text/plain": [
              "Class_ID\n",
              "22813502    107\n",
              "33741874     87\n",
              "22806315     81\n",
              "27818896     73\n",
              "34879242     49\n",
              "           ... \n",
              "53254667      1\n",
              "27956615      1\n",
              "27882870      1\n",
              "27855908      1\n",
              "32399450      1\n",
              "Name: Phrases, Length: 140, dtype: int64"
            ]
          },
          "metadata": {},
          "execution_count": 17
        }
      ]
    },
    {
      "cell_type": "code",
      "metadata": {
        "colab": {
          "base_uri": "https://localhost:8080/",
          "height": 540
        },
        "id": "MOZ3It5E4OdL",
        "outputId": "4d2b0aff-b670-4fca-9745-2dce6d8a7a02"
      },
      "source": [
        "plt.hist(valid.Class_ID)\n",
        "\n",
        "plt.title('Histogram of Valid Class Lables')\n",
        "plt.xlabel('Classes')\n",
        "plt.ylabel('Frequency')"
      ],
      "execution_count": null,
      "outputs": [
        {
          "output_type": "execute_result",
          "data": {
            "text/plain": [
              "Text(0, 0.5, 'Frequency')"
            ]
          },
          "metadata": {},
          "execution_count": 18
        },
        {
          "output_type": "display_data",
          "data": {
            "image/png": "[encoded data removed]",
            "text/plain": [
              "<Figure size 864x576 with 1 Axes>"
            ]
          },
          "metadata": {
            "image/png": {
              "width": 736,
              "height": 506
            }
          }
        }
      ]
    },
    {
      "cell_type": "code",
      "metadata": {
        "colab": {
          "base_uri": "https://localhost:8080/"
        },
        "id": "PZcvhEPxDoxY",
        "outputId": "d973e23f-e052-4272-8ccc-09b9a3080899"
      },
      "source": [
        "train.duplicated().sum()"
      ],
      "execution_count": null,
      "outputs": [
        {
          "output_type": "execute_result",
          "data": {
            "text/plain": [
              "0"
            ]
          },
          "metadata": {},
          "execution_count": 19
        }
      ]
    },
    {
      "cell_type": "code",
      "metadata": {
        "colab": {
          "base_uri": "https://localhost:8080/"
        },
        "id": "xtFTF4bb4bbB",
        "outputId": "c635c891-01a7-42df-97da-09a5cb71a0cb"
      },
      "source": [
        "valid.duplicated().sum()"
      ],
      "execution_count": null,
      "outputs": [
        {
          "output_type": "execute_result",
          "data": {
            "text/plain": [
              "0"
            ]
          },
          "metadata": {},
          "execution_count": 20
        }
      ]
    },
    {
      "cell_type": "code",
      "metadata": {
        "colab": {
          "base_uri": "https://localhost:8080/"
        },
        "id": "BTk5z4emByqm",
        "outputId": "7e31cff1-e70b-4aae-d346-82b5c15f6439"
      },
      "source": [
        "# 74 duplicated phrases in train set\n",
        "train.Phrases.duplicated().sum()"
      ],
      "execution_count": null,
      "outputs": [
        {
          "output_type": "execute_result",
          "data": {
            "text/plain": [
              "74"
            ]
          },
          "metadata": {},
          "execution_count": 21
        }
      ]
    },
    {
      "cell_type": "code",
      "metadata": {
        "colab": {
          "base_uri": "https://localhost:8080/"
        },
        "id": "X_jQ18Qt4ef1",
        "outputId": "bc083514-0b78-4415-b936-b87401deaba1"
      },
      "source": [
        "valid.Phrases.duplicated().sum()"
      ],
      "execution_count": null,
      "outputs": [
        {
          "output_type": "execute_result",
          "data": {
            "text/plain": [
              "0"
            ]
          },
          "metadata": {},
          "execution_count": 22
        }
      ]
    },
    {
      "cell_type": "code",
      "metadata": {
        "id": "b6ZwtaM7DuRN",
        "colab": {
          "base_uri": "https://localhost:8080/",
          "height": 455
        },
        "outputId": "dd04ccb1-6dbb-4c39-a7fb-b0306f9fcfa3"
      },
      "source": [
        "duplic = train.groupby('Phrases').count().sort_values('Class_ID',ascending=False)\n",
        "duplic = duplic[duplic.Class_ID>1]\n",
        "duplic"
      ],
      "execution_count": null,
      "outputs": [
        {
          "output_type": "execute_result",
          "data": {
            "text/html": [
              "<div>\n",
              "<style scoped>\n",
              "    .dataframe tbody tr th:only-of-type {\n",
              "        vertical-align: middle;\n",
              "    }\n",
              "\n",
              "    .dataframe tbody tr th {\n",
              "        vertical-align: top;\n",
              "    }\n",
              "\n",
              "    .dataframe thead th {\n",
              "        text-align: right;\n",
              "    }\n",
              "</style>\n",
              "<table border=\"1\" class=\"dataframe\">\n",
              "  <thead>\n",
              "    <tr style=\"text-align: right;\">\n",
              "      <th></th>\n",
              "      <th>Class_ID</th>\n",
              "    </tr>\n",
              "    <tr>\n",
              "      <th>Phrases</th>\n",
              "      <th></th>\n",
              "    </tr>\n",
              "  </thead>\n",
              "  <tbody>\n",
              "    <tr>\n",
              "      <th>Water charges</th>\n",
              "      <td>3</td>\n",
              "    </tr>\n",
              "    <tr>\n",
              "      <th>Why is water so expensive</th>\n",
              "      <td>2</td>\n",
              "    </tr>\n",
              "    <tr>\n",
              "      <th>Grease trap</th>\n",
              "      <td>2</td>\n",
              "    </tr>\n",
              "    <tr>\n",
              "      <th>form E</th>\n",
              "      <td>2</td>\n",
              "    </tr>\n",
              "    <tr>\n",
              "      <th>how to get a meter</th>\n",
              "      <td>2</td>\n",
              "    </tr>\n",
              "    <tr>\n",
              "      <th>...</th>\n",
              "      <td>...</td>\n",
              "    </tr>\n",
              "    <tr>\n",
              "      <th>how to apply temporary supply</th>\n",
              "      <td>2</td>\n",
              "    </tr>\n",
              "    <tr>\n",
              "      <th>what is metering east number</th>\n",
              "      <td>2</td>\n",
              "    </tr>\n",
              "    <tr>\n",
              "      <th>What are the documents to be submitted for TOP</th>\n",
              "      <td>2</td>\n",
              "    </tr>\n",
              "    <tr>\n",
              "      <th>Is it time to change the pipeline for us</th>\n",
              "      <td>2</td>\n",
              "    </tr>\n",
              "    <tr>\n",
              "      <th>New water saving kit</th>\n",
              "      <td>2</td>\n",
              "    </tr>\n",
              "  </tbody>\n",
              "</table>\n",
              "<p>73 rows × 1 columns</p>\n",
              "</div>"
            ],
            "text/plain": [
              "                                                Class_ID\n",
              "Phrases                                                 \n",
              "Water charges                                          3\n",
              "Why is water so expensive                              2\n",
              "Grease trap                                            2\n",
              "form E                                                 2\n",
              "how to get a meter                                     2\n",
              "...                                                  ...\n",
              "how to apply temporary supply                          2\n",
              "what is metering east number                           2\n",
              "What are the documents to be submitted for TOP         2\n",
              "Is it time to change the pipeline for us               2\n",
              "New water saving kit                                   2\n",
              "\n",
              "[73 rows x 1 columns]"
            ]
          },
          "metadata": {},
          "execution_count": 23
        }
      ]
    },
    {
      "cell_type": "code",
      "metadata": {
        "colab": {
          "base_uri": "https://localhost:8080/",
          "height": 143
        },
        "id": "h6Gl7hz0EYA9",
        "outputId": "a01c343b-d8fb-4377-e673-4a704ca1de04"
      },
      "source": [
        "# this phrase has 3 different labels\n",
        "train[train.Phrases=='Water charges']"
      ],
      "execution_count": null,
      "outputs": [
        {
          "output_type": "execute_result",
          "data": {
            "text/html": [
              "<div>\n",
              "<style scoped>\n",
              "    .dataframe tbody tr th:only-of-type {\n",
              "        vertical-align: middle;\n",
              "    }\n",
              "\n",
              "    .dataframe tbody tr th {\n",
              "        vertical-align: top;\n",
              "    }\n",
              "\n",
              "    .dataframe thead th {\n",
              "        text-align: right;\n",
              "    }\n",
              "</style>\n",
              "<table border=\"1\" class=\"dataframe\">\n",
              "  <thead>\n",
              "    <tr style=\"text-align: right;\">\n",
              "      <th></th>\n",
              "      <th>Class_ID</th>\n",
              "      <th>Phrases</th>\n",
              "    </tr>\n",
              "  </thead>\n",
              "  <tbody>\n",
              "    <tr>\n",
              "      <th>1717</th>\n",
              "      <td>22813502</td>\n",
              "      <td>Water charges</td>\n",
              "    </tr>\n",
              "    <tr>\n",
              "      <th>4350</th>\n",
              "      <td>27818940</td>\n",
              "      <td>Water charges</td>\n",
              "    </tr>\n",
              "    <tr>\n",
              "      <th>4469</th>\n",
              "      <td>27818973</td>\n",
              "      <td>Water charges</td>\n",
              "    </tr>\n",
              "  </tbody>\n",
              "</table>\n",
              "</div>"
            ],
            "text/plain": [
              "      Class_ID        Phrases\n",
              "1717  22813502  Water charges\n",
              "4350  27818940  Water charges\n",
              "4469  27818973  Water charges"
            ]
          },
          "metadata": {},
          "execution_count": 24
        }
      ]
    },
    {
      "cell_type": "code",
      "metadata": {
        "colab": {
          "base_uri": "https://localhost:8080/",
          "height": 424
        },
        "id": "BWiCaFWKC9ON",
        "outputId": "bd9ae64d-89b6-473b-fae7-4d16aff7f751"
      },
      "source": [
        "train[train.Phrases.duplicated(keep=False)].sort_values('Phrases')"
      ],
      "execution_count": null,
      "outputs": [
        {
          "output_type": "execute_result",
          "data": {
            "text/html": [
              "<div>\n",
              "<style scoped>\n",
              "    .dataframe tbody tr th:only-of-type {\n",
              "        vertical-align: middle;\n",
              "    }\n",
              "\n",
              "    .dataframe tbody tr th {\n",
              "        vertical-align: top;\n",
              "    }\n",
              "\n",
              "    .dataframe thead th {\n",
              "        text-align: right;\n",
              "    }\n",
              "</style>\n",
              "<table border=\"1\" class=\"dataframe\">\n",
              "  <thead>\n",
              "    <tr style=\"text-align: right;\">\n",
              "      <th></th>\n",
              "      <th>Class_ID</th>\n",
              "      <th>Phrases</th>\n",
              "    </tr>\n",
              "  </thead>\n",
              "  <tbody>\n",
              "    <tr>\n",
              "      <th>950</th>\n",
              "      <td>22813502</td>\n",
              "      <td>Any payment for booking of tours</td>\n",
              "    </tr>\n",
              "    <tr>\n",
              "      <th>6930</th>\n",
              "      <td>33665762</td>\n",
              "      <td>Any payment for booking of tours</td>\n",
              "    </tr>\n",
              "    <tr>\n",
              "      <th>391</th>\n",
              "      <td>22809639</td>\n",
              "      <td>Average recycling rate</td>\n",
              "    </tr>\n",
              "    <tr>\n",
              "      <th>966</th>\n",
              "      <td>22813502</td>\n",
              "      <td>Average recycling rate</td>\n",
              "    </tr>\n",
              "    <tr>\n",
              "      <th>968</th>\n",
              "      <td>22813502</td>\n",
              "      <td>B</td>\n",
              "    </tr>\n",
              "    <tr>\n",
              "      <th>...</th>\n",
              "      <td>...</td>\n",
              "      <td>...</td>\n",
              "    </tr>\n",
              "    <tr>\n",
              "      <th>4402</th>\n",
              "      <td>27818940</td>\n",
              "      <td>why is my water bill very high</td>\n",
              "    </tr>\n",
              "    <tr>\n",
              "      <th>912</th>\n",
              "      <td>22809639</td>\n",
              "      <td>why pink residue appears on wash basin surface</td>\n",
              "    </tr>\n",
              "    <tr>\n",
              "      <th>9322</th>\n",
              "      <td>39869452</td>\n",
              "      <td>why pink residue appears on wash basin surface</td>\n",
              "    </tr>\n",
              "    <tr>\n",
              "      <th>913</th>\n",
              "      <td>22809639</td>\n",
              "      <td>why pink residue left on wash basin</td>\n",
              "    </tr>\n",
              "    <tr>\n",
              "      <th>9323</th>\n",
              "      <td>39869452</td>\n",
              "      <td>why pink residue left on wash basin</td>\n",
              "    </tr>\n",
              "  </tbody>\n",
              "</table>\n",
              "<p>147 rows × 2 columns</p>\n",
              "</div>"
            ],
            "text/plain": [
              "      Class_ID                                         Phrases\n",
              "950   22813502                Any payment for booking of tours\n",
              "6930  33665762                Any payment for booking of tours\n",
              "391   22809639                          Average recycling rate\n",
              "966   22813502                          Average recycling rate\n",
              "968   22813502                                               B\n",
              "...        ...                                             ...\n",
              "4402  27818940                  why is my water bill very high\n",
              "912   22809639  why pink residue appears on wash basin surface\n",
              "9322  39869452  why pink residue appears on wash basin surface\n",
              "913   22809639             why pink residue left on wash basin\n",
              "9323  39869452             why pink residue left on wash basin\n",
              "\n",
              "[147 rows x 2 columns]"
            ]
          },
          "metadata": {},
          "execution_count": 25
        }
      ]
    },
    {
      "cell_type": "code",
      "metadata": {
        "id": "Jd2yG_sIPNdh"
      },
      "source": [
        "# as much as same phrase could've belonged to different people,\n",
        "# these would most certainly confuse classifier\n",
        "train.drop_duplicates(subset=['Phrases'], inplace=True)"
      ],
      "execution_count": null,
      "outputs": []
    },
    {
      "cell_type": "code",
      "metadata": {
        "colab": {
          "base_uri": "https://localhost:8080/",
          "height": 49
        },
        "id": "SJ71Pq6YPa4N",
        "outputId": "33e95f89-11cf-4b55-dace-3b34d4839669"
      },
      "source": [
        "train[train.Phrases.duplicated(keep=False)].sort_values('Phrases')"
      ],
      "execution_count": null,
      "outputs": [
        {
          "output_type": "execute_result",
          "data": {
            "text/html": [
              "<div>\n",
              "<style scoped>\n",
              "    .dataframe tbody tr th:only-of-type {\n",
              "        vertical-align: middle;\n",
              "    }\n",
              "\n",
              "    .dataframe tbody tr th {\n",
              "        vertical-align: top;\n",
              "    }\n",
              "\n",
              "    .dataframe thead th {\n",
              "        text-align: right;\n",
              "    }\n",
              "</style>\n",
              "<table border=\"1\" class=\"dataframe\">\n",
              "  <thead>\n",
              "    <tr style=\"text-align: right;\">\n",
              "      <th></th>\n",
              "      <th>Class_ID</th>\n",
              "      <th>Phrases</th>\n",
              "    </tr>\n",
              "  </thead>\n",
              "  <tbody>\n",
              "  </tbody>\n",
              "</table>\n",
              "</div>"
            ],
            "text/plain": [
              "Empty DataFrame\n",
              "Columns: [Class_ID, Phrases]\n",
              "Index: []"
            ]
          },
          "metadata": {},
          "execution_count": 27
        }
      ]
    },
    {
      "cell_type": "code",
      "metadata": {
        "id": "la_d3XgzCZZW",
        "colab": {
          "base_uri": "https://localhost:8080/"
        },
        "outputId": "9e66f321-febe-4078-b04f-86091bfb1009"
      },
      "source": [
        "# no train phrases in valid set\n",
        "f1 = [i for i in valid.Phrases if i in train.Phrases]\n",
        "f1"
      ],
      "execution_count": null,
      "outputs": [
        {
          "output_type": "execute_result",
          "data": {
            "text/plain": [
              "[]"
            ]
          },
          "metadata": {},
          "execution_count": 28
        }
      ]
    },
    {
      "cell_type": "code",
      "metadata": {
        "id": "KeEUa2MXQYbA"
      },
      "source": [
        "valid.drop(valid[valid.Class_ID==f[0]].index, inplace=True)"
      ],
      "execution_count": null,
      "outputs": []
    },
    {
      "cell_type": "code",
      "metadata": {
        "id": "m-Bvj6HJQLWc"
      },
      "source": [
        "df_train = train.copy()\n",
        "df_test = valid.copy()\n",
        "df_train['text'] = train['Phrases']\n",
        "df_train['label'] = train['Class_ID']\n",
        "df_test['text'] = valid['Phrases']\n",
        "df_test['label'] = valid['Class_ID']\n",
        "df_train.drop(['Phrases', 'Class_ID'], axis=1, inplace=True)\n",
        "df_test.drop(['Phrases', 'Class_ID'], axis=1, inplace=True)"
      ],
      "execution_count": null,
      "outputs": []
    },
    {
      "cell_type": "code",
      "metadata": {
        "id": "mOY6SIrdQnBd"
      },
      "source": [
        "le = sklearn.preprocessing.LabelEncoder()\n",
        "df_train['label'] = le.fit_transform(df_train['label'])\n",
        "df_test['label'] = le.transform(df_test['label'])"
      ],
      "execution_count": null,
      "outputs": []
    },
    {
      "cell_type": "markdown",
      "metadata": {
        "id": "5w27pQXP1Aea"
      },
      "source": [
        "Text cleaning, tokenization, lemmatizing"
      ]
    },
    {
      "cell_type": "code",
      "metadata": {
        "id": "ZLiDJskCr46c"
      },
      "source": [
        "def clean(sentence): \n",
        "    \n",
        "    sentence = sentence.replace(\"`\", \"'\")\n",
        "     # ... and ..\n",
        "    sentence = sentence.replace('...', ' ... ')\n",
        "    if '...' not in sentence:\n",
        "        sentence = sentence.replace('..', ' .. ') \n",
        "\n",
        "   \n",
        "    # Urls\n",
        "    sentence = re.sub(r\"https?:\\/\\/t.co\\/[A-Za-z0-9]+\", \"\", sentence)\n",
        "    sentence = re.sub('\\w*\\d\\w*', '', sentence)\n",
        "    sentence = re.sub('https?://\\S+|www\\.\\S+', '', sentence)\n",
        "    \n",
        "    # Contractions\n",
        "    \n",
        "    sentence = sentence.lower()\n",
        "\n",
        "\n",
        "    sentence = re.sub(r\"im\", \"i am\", sentence)\n",
        "    sentence = re.sub(r\"plumberto\", \"plumber to\", sentence)\n",
        "    sentence = re.sub(r\" ww\", \"\", sentence)\n",
        "    sentence = re.sub(r\"wasnt\", \"was not\", sentence)\n",
        "    sentence = re.sub(r\"soo\", \"so\", sentence)\n",
        "    sentence = re.sub(r\"nm\", \"never mind\", sentence)\n",
        "    sentence = re.sub(r\"yer\", \"your\", sentence)\n",
        "    sentence = re.sub(r\"gorjuz\", \"gorgeous\", sentence)\n",
        "    sentence = re.sub(r\" u \", \" you \", sentence)\n",
        "    \n",
        "    sentence = re.sub(r\"btw\", \"by the way\", sentence)\n",
        "    sentence = re.sub(r\"sooo\", \"so\", sentence)\n",
        "    sentence = re.sub(r\"hes\", \"he is\", sentence)\n",
        "    sentence = re.sub(r\"he's\", \"he is\", sentence)\n",
        "    sentence = re.sub(r\"there's\", \"there is\", sentence)\n",
        "    sentence = re.sub(r\"won't\", \"will not\", sentence)\n",
        "    sentence = re.sub(r\"they're\", \"they are\", sentence)\n",
        "    sentence = re.sub(r\"can't\", \"cannot\", sentence)\n",
        "    sentence = re.sub(r\"wasn't\", \"was not\", sentence)\n",
        "    \n",
        "    sentence = re.sub(r\"aren't\", \"are not\", sentence)\n",
        "    sentence = re.sub(r\"isn't\", \"is not\", sentence)\n",
        "    sentence = re.sub(r\"havent\", \"have not\", sentence)\n",
        "    sentence = re.sub(r\"haven't\", \"have not\", sentence)\n",
        "    sentence = re.sub(r\"hasn't\", \"has not\", sentence)\n",
        "    sentence = re.sub(r\"it's\", \"it is\", sentence)\n",
        "    sentence = re.sub(r\"shouldn't\", \"should not\", sentence)\n",
        "    sentence = re.sub(r\"wouldn't\", \"would not\", sentence)\n",
        "    sentence = re.sub(r\"i'm\", \"i am\", sentence)\n",
        "    \n",
        "    sentence = re.sub(r\"here's\", \"here is\", sentence)\n",
        "    sentence = re.sub(r\"you've\", \"you have\", sentence)\n",
        "   \n",
        "    sentence = re.sub(r\"we're\", \"we are\", sentence)\n",
        "    sentence = re.sub(r\"what's\", \"what is\", sentence)\n",
        "    sentence = re.sub(r\"couldn't\", \"could not\", sentence)\n",
        "    sentence = re.sub(r\"we've\", \"we have\", sentence)\n",
        "   \n",
        "    sentence = re.sub(r\"who's\", \"who is\", sentence)\n",
        "    \n",
        "    sentence = re.sub(r\"y'all\", \"you all\", sentence)\n",
        "    \n",
        "    sentence = re.sub(r\"would've\", \"would have\", sentence)\n",
        "    sentence = re.sub(r\"it'll\", \"it will\", sentence)\n",
        "    sentence = re.sub(r\"we'll\", \"we will\", sentence)\n",
        "    \n",
        "    sentence = re.sub(r\"he'll\", \"he will\", sentence)\n",
        "    sentence = re.sub(r\"they'll\", \"they will\", sentence)\n",
        "    sentence = re.sub(r\"they'd\", \"they would\", sentence)\n",
        "    \n",
        "    sentence = re.sub(r\"they've\", \"they have\", sentence)\n",
        "    sentence = re.sub(r\"i'd\", \"i would\", sentence)\n",
        "    sentence = re.sub(r\"should've\", \"should have\", sentence)\n",
        "    \n",
        "    sentence = re.sub(r\"where's\", \"where is\", sentence)\n",
        "    \n",
        "    sentence = re.sub(r\"we'd\", \"we would\", sentence)\n",
        "    sentence = re.sub(r\"i'll\", \"i will\", sentence)\n",
        "    sentence = re.sub(r\"weren't\", \"were not\", sentence)\n",
        "    \n",
        "    sentence = re.sub(r\"let's\", \"let us\", sentence)\n",
        "    sentence = re.sub(r\"it's\", \"it is\", sentence)\n",
        "    sentence = re.sub(r\"can't\", \"can not\", sentence)\n",
        "    sentence = re.sub(r\"don't\", \"do not\", sentence)\n",
        "    sentence = re.sub(r\"you're\", \"you are\", sentence)\n",
        "    sentence = re.sub(r\"i've\", \"I have\", sentence)\n",
        "    sentence = re.sub(r\"that's\", \"that is\", sentence)\n",
        "    sentence = re.sub(r\"doesn't\", \"does not\", sentence)\n",
        "    sentence = re.sub(r\"didn't\", \"did not\", sentence)\n",
        "    sentence = re.sub(r\"ain't\", \"am not\", sentence)\n",
        "    sentence = re.sub(r\"you'll\", \"you will\", sentence)\n",
        "    sentence = re.sub(r\"you'd\", \"you would\", sentence)\n",
        "    sentence = re.sub(r\"haven't\", \"have not\", sentence)\n",
        "    sentence = re.sub(r\"could've\", \"could have\", sentence)\n",
        "    sentence = re.sub(r\"youve\", \"you have\", sentence) \n",
        "    sentence = re.sub(r\"donbt\", \"do not\", sentence)\n",
        "    sentence = re.sub(r\"dont\", \"do not\", sentence)\n",
        "    sentence = re.sub(r\"thats\", \"that is\", sentence) \n",
        "    \n",
        "    \n",
        "    \n",
        "    # Special characters\n",
        "    sentence = re.sub(r\"\\x89Û_\", \"\", sentence)\n",
        "    sentence = re.sub(r\"\\x89ÛÒ\", \"\", sentence)\n",
        "    sentence = re.sub(r\"\\x89ÛÓ\", \"\", sentence)\n",
        "    \n",
        "    sentence = re.sub(r\"\\x89ÛÏ\", \"\", sentence)\n",
        "    \n",
        "    sentence = re.sub(r\"\\x89Û÷\", \"\", sentence)\n",
        "    sentence = re.sub(r\"\\x89Ûª\", \"\", sentence)\n",
        "    sentence = re.sub(r\"\\x89Û\\x9d\", \"\", sentence)\n",
        "    sentence = re.sub(r\"å_\", \"\", sentence)\n",
        "    sentence = re.sub(r\"\\x89Û¢\", \"\", sentence)\n",
        "    sentence = re.sub(r\"\\x89Û¢åÊ\", \"\", sentence)\n",
        "    \n",
        "    sentence = re.sub(r\"åÊ\", \"\", sentence)\n",
        "    sentence = re.sub(r\"åÈ\", \"\", sentence)\n",
        "    \n",
        "    sentence = re.sub(r\"Ì©\", \"e\", sentence)\n",
        "    sentence = re.sub(r\"å¨\", \"\", sentence)\n",
        "    \n",
        "    sentence = re.sub(r\"åÇ\", \"\", sentence)\n",
        "    \n",
        "    sentence = re.sub(r\"åÀ\", \"\", sentence)\n",
        "\n",
        "    # Words with punctuations and special characters\n",
        "    punctuations = '@#!?+&[]-%.*:/();$=><|{}^'\n",
        "    for p in punctuations:\n",
        "        sentence = sentence.replace(p, f' {p} ')\n",
        "    \n",
        "    # Character entity references\n",
        "    sentence = re.sub(r\"&gt;\", \">\", sentence)\n",
        "    sentence = re.sub(r\"&lt;\", \"<\", sentence)\n",
        "    sentence = re.sub(r\"&amp;\", \"&\", sentence)\n",
        "    sentence = re.sub('<.?>+', '', sentence)\n",
        "    sentence = re.sub('[%s]' % re.escape(punctuation), '', sentence)\n",
        "    sentence = re.sub('\\n', '', sentence)\n",
        "    sentence = re.sub('\\[.?\\]', '', sentence)\n",
        "\n",
        "    \n",
        "    return sentence\n",
        "\n",
        "def prepr(Corpus):\n",
        "  # Step - a : Remove blank rows if any.\n",
        "  Corpus['text'].dropna(inplace=True)\n",
        "  # Step - b : Change all the text to lower case. This is required as python interprets 'dog' and 'DOG' differently\n",
        "  \n",
        "  Corpus['text'] = [entry.lower() for entry in Corpus['text']]\n",
        "  # Step - c : Tokenization : In this each entry in the corpus will be broken into set of words\n",
        "  Corpus['text']= [word_tokenize(entry) for entry in Corpus['text']]\n",
        "  # Step - d : Remove Stop words, Non-Numeric and perfom Word Stemming/Lemmenting.\n",
        "  # WordNetLemmatizer requires Pos tags to understand if the word is noun or verb or adjective etc. By default it is set to Noun\n",
        "  tag_map = defaultdict(lambda : wn.NOUN)\n",
        "  tag_map['J'] = wn.ADJ\n",
        "  tag_map['V'] = wn.VERB\n",
        "  tag_map['R'] = wn.ADV\n",
        "  for index,entry in enumerate(Corpus['text']):\n",
        "      # Declaring Empty List to store the words that follow the rules for this step\n",
        "      Final_words = []\n",
        "      s = ''\n",
        "      # Initializing WordNetLemmatizer()\n",
        "      word_Lemmatized = WordNetLemmatizer()\n",
        "      # pos_tag function below will provide the 'tag' i.e if the word is Noun(N) or Verb(V) or something else.\n",
        "      for word, tag in pos_tag(entry):\n",
        "          # Below condition is to check for Stop words and consider only alphabets\n",
        "          if word not in stopwords.words('english') and word.isalpha():\n",
        "              word_Final = word_Lemmatized.lemmatize(word,tag_map[tag[0]])\n",
        "              Final_words.append(word_Final)\n",
        "      # The final processed set of words for each iteration will be stored in 'text_final'\n",
        "      for i in Final_words:\n",
        "        s+=(i+' ')\n",
        "      \n",
        "      Corpus.loc[index,'text_final'] = s[:-1]\n",
        "      \n",
        "\n",
        "  return Corpus\n",
        "\n",
        "train1 = df_train.copy()\n",
        "valid1 = df_test.copy()\n",
        "train1['text'] = train1['text'].apply(lambda s: clean(s))\n",
        "valid1['text'] = valid1['text'].apply(lambda s: clean(s))\n"
      ],
      "execution_count": null,
      "outputs": []
    },
    {
      "cell_type": "code",
      "metadata": {
        "colab": {
          "base_uri": "https://localhost:8080/",
          "height": 424
        },
        "id": "sKplDskrEH--",
        "outputId": "69bbc828-a33a-4931-a8e1-6ba2cf560253"
      },
      "source": [
        "train1"
      ],
      "execution_count": null,
      "outputs": [
        {
          "output_type": "execute_result",
          "data": {
            "text/html": [
              "<div>\n",
              "<style scoped>\n",
              "    .dataframe tbody tr th:only-of-type {\n",
              "        vertical-align: middle;\n",
              "    }\n",
              "\n",
              "    .dataframe tbody tr th {\n",
              "        vertical-align: top;\n",
              "    }\n",
              "\n",
              "    .dataframe thead th {\n",
              "        text-align: right;\n",
              "    }\n",
              "</style>\n",
              "<table border=\"1\" class=\"dataframe\">\n",
              "  <thead>\n",
              "    <tr style=\"text-align: right;\">\n",
              "      <th></th>\n",
              "      <th>text</th>\n",
              "      <th>label</th>\n",
              "    </tr>\n",
              "  </thead>\n",
              "  <tbody>\n",
              "    <tr>\n",
              "      <th>0</th>\n",
              "      <td>mw floating solar pv tender document</td>\n",
              "      <td>0</td>\n",
              "    </tr>\n",
              "    <tr>\n",
              "      <th>1</th>\n",
              "      <td>abc design guideline</td>\n",
              "      <td>0</td>\n",
              "    </tr>\n",
              "    <tr>\n",
              "      <th>2</th>\n",
              "      <td>access control to roof top</td>\n",
              "      <td>0</td>\n",
              "    </tr>\n",
              "    <tr>\n",
              "      <th>3</th>\n",
              "      <td>after drinking water mr koh he farted why</td>\n",
              "      <td>0</td>\n",
              "    </tr>\n",
              "    <tr>\n",
              "      <th>4</th>\n",
              "      <td>any increment in price for</td>\n",
              "      <td>0</td>\n",
              "    </tr>\n",
              "    <tr>\n",
              "      <th>...</th>\n",
              "      <td>...</td>\n",
              "      <td>...</td>\n",
              "    </tr>\n",
              "    <tr>\n",
              "      <th>9688</th>\n",
              "      <td>may i know how feces is treated in singapore</td>\n",
              "      <td>355</td>\n",
              "    </tr>\n",
              "    <tr>\n",
              "      <th>9689</th>\n",
              "      <td>is the pub flood management map working</td>\n",
              "      <td>356</td>\n",
              "    </tr>\n",
              "    <tr>\n",
              "      <th>9690</th>\n",
              "      <td>where can i find the flood management map</td>\n",
              "      <td>356</td>\n",
              "    </tr>\n",
              "    <tr>\n",
              "      <th>9691</th>\n",
              "      <td>for smart shower how to see the temp of water</td>\n",
              "      <td>357</td>\n",
              "    </tr>\n",
              "    <tr>\n",
              "      <th>9692</th>\n",
              "      <td>how can i check for the temperature using a sm...</td>\n",
              "      <td>357</td>\n",
              "    </tr>\n",
              "  </tbody>\n",
              "</table>\n",
              "<p>9619 rows × 2 columns</p>\n",
              "</div>"
            ],
            "text/plain": [
              "                                                   text  label\n",
              "0                  mw floating solar pv tender document      0\n",
              "1                                  abc design guideline      0\n",
              "2                            access control to roof top      0\n",
              "3             after drinking water mr koh he farted why      0\n",
              "4                           any increment in price for       0\n",
              "...                                                 ...    ...\n",
              "9688       may i know how feces is treated in singapore    355\n",
              "9689            is the pub flood management map working    356\n",
              "9690        where can i find the flood management map      356\n",
              "9691      for smart shower how to see the temp of water    357\n",
              "9692  how can i check for the temperature using a sm...    357\n",
              "\n",
              "[9619 rows x 2 columns]"
            ]
          },
          "metadata": {},
          "execution_count": 33
        }
      ]
    },
    {
      "cell_type": "code",
      "metadata": {
        "colab": {
          "base_uri": "https://localhost:8080/",
          "height": 424
        },
        "id": "kghmjKHnEb2T",
        "outputId": "cf35afd6-7e1f-467b-e30e-e68c6d48afa6"
      },
      "source": [
        "valid1"
      ],
      "execution_count": null,
      "outputs": [
        {
          "output_type": "execute_result",
          "data": {
            "text/html": [
              "<div>\n",
              "<style scoped>\n",
              "    .dataframe tbody tr th:only-of-type {\n",
              "        vertical-align: middle;\n",
              "    }\n",
              "\n",
              "    .dataframe tbody tr th {\n",
              "        vertical-align: top;\n",
              "    }\n",
              "\n",
              "    .dataframe thead th {\n",
              "        text-align: right;\n",
              "    }\n",
              "</style>\n",
              "<table border=\"1\" class=\"dataframe\">\n",
              "  <thead>\n",
              "    <tr style=\"text-align: right;\">\n",
              "      <th></th>\n",
              "      <th>text</th>\n",
              "      <th>label</th>\n",
              "    </tr>\n",
              "  </thead>\n",
              "  <tbody>\n",
              "    <tr>\n",
              "      <th>0</th>\n",
              "      <td>is there a difference between the rates betwee...</td>\n",
              "      <td>47</td>\n",
              "    </tr>\n",
              "    <tr>\n",
              "      <th>1</th>\n",
              "      <td>is there a difference between the water rates ...</td>\n",
              "      <td>47</td>\n",
              "    </tr>\n",
              "    <tr>\n",
              "      <th>2</th>\n",
              "      <td>can you please recommend a licensed plumber to...</td>\n",
              "      <td>33</td>\n",
              "    </tr>\n",
              "    <tr>\n",
              "      <th>3</th>\n",
              "      <td>can a building be served by  newater if the ow...</td>\n",
              "      <td>39</td>\n",
              "    </tr>\n",
              "    <tr>\n",
              "      <th>4</th>\n",
              "      <td>water supply stopped</td>\n",
              "      <td>42</td>\n",
              "    </tr>\n",
              "    <tr>\n",
              "      <th>...</th>\n",
              "      <td>...</td>\n",
              "      <td>...</td>\n",
              "    </tr>\n",
              "    <tr>\n",
              "      <th>1057</th>\n",
              "      <td>need license plumber to replace washing basin</td>\n",
              "      <td>33</td>\n",
              "    </tr>\n",
              "    <tr>\n",
              "      <th>1058</th>\n",
              "      <td>submit meter reading</td>\n",
              "      <td>254</td>\n",
              "    </tr>\n",
              "    <tr>\n",
              "      <th>1059</th>\n",
              "      <td>hi there how i want to apply job at pub</td>\n",
              "      <td>3</td>\n",
              "    </tr>\n",
              "    <tr>\n",
              "      <th>1060</th>\n",
              "      <td>did you have any web site to apply any job opp...</td>\n",
              "      <td>3</td>\n",
              "    </tr>\n",
              "    <tr>\n",
              "      <th>1061</th>\n",
              "      <td>need to contact a plumber</td>\n",
              "      <td>33</td>\n",
              "    </tr>\n",
              "  </tbody>\n",
              "</table>\n",
              "<p>1060 rows × 2 columns</p>\n",
              "</div>"
            ],
            "text/plain": [
              "                                                   text  label\n",
              "0     is there a difference between the rates betwee...     47\n",
              "1     is there a difference between the water rates ...     47\n",
              "2     can you please recommend a licensed plumber to...     33\n",
              "3     can a building be served by  newater if the ow...     39\n",
              "4                                  water supply stopped     42\n",
              "...                                                 ...    ...\n",
              "1057      need license plumber to replace washing basin     33\n",
              "1058                               submit meter reading    254\n",
              "1059            hi there how i want to apply job at pub      3\n",
              "1060  did you have any web site to apply any job opp...      3\n",
              "1061                          need to contact a plumber     33\n",
              "\n",
              "[1060 rows x 2 columns]"
            ]
          },
          "metadata": {},
          "execution_count": 34
        }
      ]
    },
    {
      "cell_type": "code",
      "metadata": {
        "id": "VapqLjnLDdzW"
      },
      "source": [
        "train1 =  prepr(train1.reset_index())\n",
        "valid1 =  prepr(valid1.reset_index())"
      ],
      "execution_count": null,
      "outputs": []
    },
    {
      "cell_type": "code",
      "metadata": {
        "colab": {
          "base_uri": "https://localhost:8080/",
          "height": 424
        },
        "id": "PAKrNQgxD42P",
        "outputId": "3443a922-f7e2-4b37-d057-5c215dc2a7f9"
      },
      "source": [
        "train1"
      ],
      "execution_count": null,
      "outputs": [
        {
          "output_type": "execute_result",
          "data": {
            "text/html": [
              "<div>\n",
              "<style scoped>\n",
              "    .dataframe tbody tr th:only-of-type {\n",
              "        vertical-align: middle;\n",
              "    }\n",
              "\n",
              "    .dataframe tbody tr th {\n",
              "        vertical-align: top;\n",
              "    }\n",
              "\n",
              "    .dataframe thead th {\n",
              "        text-align: right;\n",
              "    }\n",
              "</style>\n",
              "<table border=\"1\" class=\"dataframe\">\n",
              "  <thead>\n",
              "    <tr style=\"text-align: right;\">\n",
              "      <th></th>\n",
              "      <th>index</th>\n",
              "      <th>text</th>\n",
              "      <th>label</th>\n",
              "      <th>text_final</th>\n",
              "    </tr>\n",
              "  </thead>\n",
              "  <tbody>\n",
              "    <tr>\n",
              "      <th>0</th>\n",
              "      <td>0</td>\n",
              "      <td>[mw, floating, solar, pv, tender, document]</td>\n",
              "      <td>0</td>\n",
              "      <td>mw float solar pv tender document</td>\n",
              "    </tr>\n",
              "    <tr>\n",
              "      <th>1</th>\n",
              "      <td>1</td>\n",
              "      <td>[abc, design, guideline]</td>\n",
              "      <td>0</td>\n",
              "      <td>abc design guideline</td>\n",
              "    </tr>\n",
              "    <tr>\n",
              "      <th>2</th>\n",
              "      <td>2</td>\n",
              "      <td>[access, control, to, roof, top]</td>\n",
              "      <td>0</td>\n",
              "      <td>access control roof top</td>\n",
              "    </tr>\n",
              "    <tr>\n",
              "      <th>3</th>\n",
              "      <td>3</td>\n",
              "      <td>[after, drinking, water, mr, koh, he, farted, ...</td>\n",
              "      <td>0</td>\n",
              "      <td>drink water mr koh fart</td>\n",
              "    </tr>\n",
              "    <tr>\n",
              "      <th>4</th>\n",
              "      <td>4</td>\n",
              "      <td>[any, increment, in, price, for]</td>\n",
              "      <td>0</td>\n",
              "      <td>increment price</td>\n",
              "    </tr>\n",
              "    <tr>\n",
              "      <th>...</th>\n",
              "      <td>...</td>\n",
              "      <td>...</td>\n",
              "      <td>...</td>\n",
              "      <td>...</td>\n",
              "    </tr>\n",
              "    <tr>\n",
              "      <th>9614</th>\n",
              "      <td>9688</td>\n",
              "      <td>[may, i, know, how, feces, is, treated, in, si...</td>\n",
              "      <td>355</td>\n",
              "      <td>may know feces treat singapore</td>\n",
              "    </tr>\n",
              "    <tr>\n",
              "      <th>9615</th>\n",
              "      <td>9689</td>\n",
              "      <td>[is, the, pub, flood, management, map, working]</td>\n",
              "      <td>356</td>\n",
              "      <td>pub flood management map work</td>\n",
              "    </tr>\n",
              "    <tr>\n",
              "      <th>9616</th>\n",
              "      <td>9690</td>\n",
              "      <td>[where, can, i, find, the, flood, management, ...</td>\n",
              "      <td>356</td>\n",
              "      <td>find flood management map</td>\n",
              "    </tr>\n",
              "    <tr>\n",
              "      <th>9617</th>\n",
              "      <td>9691</td>\n",
              "      <td>[for, smart, shower, how, to, see, the, temp, ...</td>\n",
              "      <td>357</td>\n",
              "      <td>smart shower see temp water</td>\n",
              "    </tr>\n",
              "    <tr>\n",
              "      <th>9618</th>\n",
              "      <td>9692</td>\n",
              "      <td>[how, can, i, check, for, the, temperature, us...</td>\n",
              "      <td>357</td>\n",
              "      <td>check temperature use smart water device</td>\n",
              "    </tr>\n",
              "  </tbody>\n",
              "</table>\n",
              "<p>9619 rows × 4 columns</p>\n",
              "</div>"
            ],
            "text/plain": [
              "      index  ...                                text_final\n",
              "0         0  ...         mw float solar pv tender document\n",
              "1         1  ...                      abc design guideline\n",
              "2         2  ...                   access control roof top\n",
              "3         3  ...                   drink water mr koh fart\n",
              "4         4  ...                           increment price\n",
              "...     ...  ...                                       ...\n",
              "9614   9688  ...            may know feces treat singapore\n",
              "9615   9689  ...             pub flood management map work\n",
              "9616   9690  ...                 find flood management map\n",
              "9617   9691  ...               smart shower see temp water\n",
              "9618   9692  ...  check temperature use smart water device\n",
              "\n",
              "[9619 rows x 4 columns]"
            ]
          },
          "metadata": {},
          "execution_count": 36
        }
      ]
    },
    {
      "cell_type": "code",
      "metadata": {
        "colab": {
          "base_uri": "https://localhost:8080/",
          "height": 424
        },
        "id": "9ir6cmBnEZR4",
        "outputId": "b5a1b674-960f-4da1-ffd8-27a0c8a915b5"
      },
      "source": [
        "valid1"
      ],
      "execution_count": null,
      "outputs": [
        {
          "output_type": "execute_result",
          "data": {
            "text/html": [
              "<div>\n",
              "<style scoped>\n",
              "    .dataframe tbody tr th:only-of-type {\n",
              "        vertical-align: middle;\n",
              "    }\n",
              "\n",
              "    .dataframe tbody tr th {\n",
              "        vertical-align: top;\n",
              "    }\n",
              "\n",
              "    .dataframe thead th {\n",
              "        text-align: right;\n",
              "    }\n",
              "</style>\n",
              "<table border=\"1\" class=\"dataframe\">\n",
              "  <thead>\n",
              "    <tr style=\"text-align: right;\">\n",
              "      <th></th>\n",
              "      <th>index</th>\n",
              "      <th>text</th>\n",
              "      <th>label</th>\n",
              "      <th>text_final</th>\n",
              "    </tr>\n",
              "  </thead>\n",
              "  <tbody>\n",
              "    <tr>\n",
              "      <th>0</th>\n",
              "      <td>0</td>\n",
              "      <td>[is, there, a, difference, between, the, rates...</td>\n",
              "      <td>47</td>\n",
              "      <td>difference rate hdb flat private property</td>\n",
              "    </tr>\n",
              "    <tr>\n",
              "      <th>1</th>\n",
              "      <td>1</td>\n",
              "      <td>[is, there, a, difference, between, the, water...</td>\n",
              "      <td>47</td>\n",
              "      <td>difference water rate hdb flat private property</td>\n",
              "    </tr>\n",
              "    <tr>\n",
              "      <th>2</th>\n",
              "      <td>2</td>\n",
              "      <td>[can, you, please, recommend, a, licensed, plu...</td>\n",
              "      <td>33</td>\n",
              "      <td>please recommend licensed plumber install wate...</td>\n",
              "    </tr>\n",
              "    <tr>\n",
              "      <th>3</th>\n",
              "      <td>3</td>\n",
              "      <td>[can, a, building, be, served, by, newater, if...</td>\n",
              "      <td>39</td>\n",
              "      <td>building serve newater owner willing</td>\n",
              "    </tr>\n",
              "    <tr>\n",
              "      <th>4</th>\n",
              "      <td>4</td>\n",
              "      <td>[water, supply, stopped]</td>\n",
              "      <td>42</td>\n",
              "      <td>water supply stop</td>\n",
              "    </tr>\n",
              "    <tr>\n",
              "      <th>...</th>\n",
              "      <td>...</td>\n",
              "      <td>...</td>\n",
              "      <td>...</td>\n",
              "      <td>...</td>\n",
              "    </tr>\n",
              "    <tr>\n",
              "      <th>1055</th>\n",
              "      <td>1057</td>\n",
              "      <td>[need, license, plumber, to, replace, washing,...</td>\n",
              "      <td>33</td>\n",
              "      <td>need license plumber replace wash basin</td>\n",
              "    </tr>\n",
              "    <tr>\n",
              "      <th>1056</th>\n",
              "      <td>1058</td>\n",
              "      <td>[submit, meter, reading]</td>\n",
              "      <td>254</td>\n",
              "      <td>submit meter reading</td>\n",
              "    </tr>\n",
              "    <tr>\n",
              "      <th>1057</th>\n",
              "      <td>1059</td>\n",
              "      <td>[hi, there, how, i, want, to, apply, job, at, ...</td>\n",
              "      <td>3</td>\n",
              "      <td>hi want apply job pub</td>\n",
              "    </tr>\n",
              "    <tr>\n",
              "      <th>1058</th>\n",
              "      <td>1060</td>\n",
              "      <td>[did, you, have, any, web, site, to, apply, an...</td>\n",
              "      <td>3</td>\n",
              "      <td>web site apply job opportunity</td>\n",
              "    </tr>\n",
              "    <tr>\n",
              "      <th>1059</th>\n",
              "      <td>1061</td>\n",
              "      <td>[need, to, contact, a, plumber]</td>\n",
              "      <td>33</td>\n",
              "      <td>need contact plumber</td>\n",
              "    </tr>\n",
              "  </tbody>\n",
              "</table>\n",
              "<p>1060 rows × 4 columns</p>\n",
              "</div>"
            ],
            "text/plain": [
              "      index  ...                                         text_final\n",
              "0         0  ...          difference rate hdb flat private property\n",
              "1         1  ...    difference water rate hdb flat private property\n",
              "2         2  ...  please recommend licensed plumber install wate...\n",
              "3         3  ...               building serve newater owner willing\n",
              "4         4  ...                                  water supply stop\n",
              "...     ...  ...                                                ...\n",
              "1055   1057  ...            need license plumber replace wash basin\n",
              "1056   1058  ...                               submit meter reading\n",
              "1057   1059  ...                              hi want apply job pub\n",
              "1058   1060  ...                     web site apply job opportunity\n",
              "1059   1061  ...                               need contact plumber\n",
              "\n",
              "[1060 rows x 4 columns]"
            ]
          },
          "metadata": {},
          "execution_count": 37
        }
      ]
    },
    {
      "cell_type": "code",
      "metadata": {
        "id": "LIx8Jjq-D3lf"
      },
      "source": [
        "all_sentences = list(train1['text_final'])\n",
        "all_sentences_val = list(valid1['text_final'])"
      ],
      "execution_count": null,
      "outputs": []
    },
    {
      "cell_type": "code",
      "metadata": {
        "colab": {
          "base_uri": "https://localhost:8080/"
        },
        "id": "P-HZ95-Cr4zw",
        "outputId": "cf48d6c2-5dfe-41b6-c23c-2714692099b7"
      },
      "source": [
        "all_sentences[:2]"
      ],
      "execution_count": null,
      "outputs": [
        {
          "output_type": "execute_result",
          "data": {
            "text/plain": [
              "['mw float solar pv tender document', 'abc design guideline']"
            ]
          },
          "metadata": {},
          "execution_count": 39
        }
      ]
    },
    {
      "cell_type": "code",
      "metadata": {
        "colab": {
          "base_uri": "https://localhost:8080/"
        },
        "id": "XFzzp_c6CoGg",
        "outputId": "2fd3dd72-f26a-4914-b8b2-43cf1e7ab57b"
      },
      "source": [
        "len(all_sentences+all_sentences_val)"
      ],
      "execution_count": null,
      "outputs": [
        {
          "output_type": "execute_result",
          "data": {
            "text/plain": [
              "10679"
            ]
          },
          "metadata": {},
          "execution_count": 40
        }
      ]
    },
    {
      "cell_type": "markdown",
      "metadata": {
        "id": "MId393k61KtW"
      },
      "source": [
        "Pretrained Glove embeddings"
      ]
    },
    {
      "cell_type": "code",
      "metadata": {
        "colab": {
          "base_uri": "https://localhost:8080/"
        },
        "id": "H_LvmZZRr4sw",
        "outputId": "1c07f7af-e63c-4478-ed48-1fcb6c79e7e3"
      },
      "source": [
        "vocabulary = []\n",
        "\n",
        "for i in all_sentences+all_sentences_val:\n",
        "  for y in i.split():\n",
        "    if y not in vocabulary:\n",
        "      vocabulary.append(y)\n",
        "\n",
        "# pretrained glove embeddings for twitter with dim of 200\n",
        "glove = torchtext.vocab.GloVe(name=\"twitter.27B\", dim=200)\n",
        "\n",
        "\n",
        "matrix_len = len(vocabulary)\n",
        "weights_matrix = np.zeros((matrix_len+1, 200))\n",
        "#weights_matrix[0] = np.random.normal(scale=0.6, size=(100, ))\n",
        "\n",
        "words_found = 0\n",
        "\n",
        "for i, word in enumerate(vocabulary, start=1):\n",
        "    if float(torch.sum(glove[word]))!=0.:\n",
        "        weights_matrix[i] = glove[word]\n",
        "        words_found += 1\n",
        "    else:\n",
        "        weights_matrix[i] = np.random.normal(scale=0.6, size=(200, ))\n",
        "\n",
        "print(f'Words found: {words_found} out of {len(vocabulary)}')"
      ],
      "execution_count": null,
      "outputs": [
        {
          "output_type": "stream",
          "name": "stderr",
          "text": [
            ".vector_cache/glove.twitter.27B.zip: 1.52GB [04:48, 5.27MB/s]                            \n",
            "100%|█████████▉| 1193513/1193514 [01:53<00:00, 10515.28it/s]\n"
          ]
        },
        {
          "output_type": "stream",
          "name": "stdout",
          "text": [
            "Words found: 3691 out of 4480\n"
          ]
        }
      ]
    },
    {
      "cell_type": "code",
      "metadata": {
        "colab": {
          "base_uri": "https://localhost:8080/"
        },
        "id": "3Mtd9ctfs_IW",
        "outputId": "9bed24d6-caff-4f70-ac65-a0b10a5554e3"
      },
      "source": [
        "# function for inserting embeddings into neural net\n",
        "def create_emb_layer(weights_matrix, non_trainable=False):\n",
        "    num_embeddings, embedding_dim = weights_matrix.shape\n",
        "    emb_layer = nn.Embedding(num_embeddings, embedding_dim)\n",
        "    emb_layer.load_state_dict({'weight': torch.tensor(weights_matrix)})\n",
        "    if non_trainable:\n",
        "        emb_layer.weight.requires_grad = False\n",
        "\n",
        "    return emb_layer, num_embeddings, embedding_dim\n",
        "\n",
        "voc_dic = {i:vocabulary.index(i)+1 for i in vocabulary}\n",
        "print('Dictionary: ', voc_dic)\n"
      ],
      "execution_count": null,
      "outputs": [
        {
          "output_type": "stream",
          "name": "stdout",
          "text": [
            "Dictionary:  {'mw': 1, 'float': 2, 'solar': 3, 'pv': 4, 'tender': 5, 'document': 6, 'abc': 7, 'design': 8, 'guideline': 9, 'access': 10, 'control': 11, 'roof': 12, 'top': 13, 'drink': 14, 'water': 15, 'mr': 16, 'koh': 17, 'fart': 18, 'increment': 19, 'price': 20, 'permit': 21, 'carnival': 22, 'vacancy': 23, 'wsn': 24, 'johor': 25, 'application': 26, 'fire': 27, 'hydrant': 28, 'relocation': 29, 'apply': 30, 'gas': 31, 'approval': 32, 'ltaprompt': 33, 'ai': 34, 'ask': 35, 'judyhdb': 36, 'whar': 37, 'service': 38, 'reach': 39, 'bsc': 40, 'saint': 41, 'george': 42, 'tower': 43, 'burner': 44, 'isnt': 45, 'respond': 46, 'architect': 47, 'work': 48, 'fish': 49, 'whampoa': 50, 'river': 51, 'bring': 52, 'roast': 53, 'goose': 54, 'singapore': 55, 'buy': 56, 'cooker': 57, 'n': 58, 'oven': 59, 'pub': 60, 'clam': 61, 'krangi': 62, 'get': 63, 'sandbag': 64, 'number': 65, 'wdmi': 66, 'know': 67, 'link': 68, 'inlis': 69, 'website': 70, 'use': 71, 'hose': 72, 'car': 73, 'wash': 74, 'architects': 75, 'aa': 76, 'new': 77, 'process': 78, 'naoh': 79, 'recommend': 80, 'boyfriend': 81, 'give': 82, 'handicap': 83, 'toilet': 84, 'drawing': 85, 'detail': 86, 'send': 87, 'staff': 88, 'check': 89, 'leak': 90, 'catch': 91, 'unrelated': 92, 'electrician': 93, 'license': 94, 'childcare': 95, 'shop': 96, 'mall': 97, 'chrisfeltonchinagmailcom': 98, 'ckeanriver': 99, 'krangibdam': 100, 'kranji': 101, 'dam': 102, 'connection': 103, 'pipe': 104, 'cooking': 105, 'stove': 106, 'contact': 107, 'christabel': 108, 'ler': 109, 'sewer': 110, 'officer': 111, 'csc': 112, 'department': 113, 'conventional': 114, 'tap': 115, 'australian': 116, 'sole': 117, 'distribution': 118, 'agreement': 119, 'asia': 120, 'information': 121, 'please': 122, 'core': 123, 'trade': 124, 'foreman': 125, 'handyman': 126, 'corpass': 127, 'course': 128, 'certify': 129, 'plumber': 130, 'crocodile': 131, 'reservoir': 132, 'cyber': 133, 'security': 134, 'dept': 135, 'demolish': 136, 'building': 137, 'build': 138, 'nea': 139, 'dip': 140, 'dishwasher': 141, 'need': 142, 'operating': 143, 'operate': 144, 'inflatable': 145, 'sport': 146, 'game': 147, 'sea': 148, 'certificate': 149, 'terminate': 150, 'supply': 151, 'change': 152, 'electric': 153, 'dish': 154, 'machine': 155, 'wels': 156, 'label': 157, 'seller': 158, 'mixer': 159, 'suitable': 160, 'commercial': 161, 'food': 162, 'beverage': 163, 'heavy': 164, 'duty': 165, 'usage': 166, 'guy': 167, 'electricity': 168, 'tc': 169, 'provide': 170, 'elevation': 171, 'land': 172, 'depend': 173, 'level': 174, 'finance': 175, 'firework': 176, 'stall': 177, 'cress': 178, 'trap': 179, 'diversion': 180, 'consult': 181, 'scholarship': 182, 'form': 183, 'b': 184, 'qp': 185, 'renewal': 186, 'worker': 187, 'dormitory': 188, 'g': 189, 'vvb': 190, 'zb': 191, 'installation': 192, 'modification': 193, 'turn': 194, 'request': 195, 'gebiz': 196, 'gi': 197, 'wsoc': 198, 'goh': 199, 'wei': 200, 'yao': 201, 'good': 202, 'day': 203, 'happy': 204, 'youi': 205, 'big': 206, 'purchouse': 207, 'quantity': 208, 'china': 209, 'urban': 210, 'furniturei': 211, 'manufacturer': 212, 'make': 213, 'manhole': 214, 'cover': 215, 'fu': 216, 'morning': 217, 'someone': 218, 'fix': 219, 'green': 220, 'corrido': 221, 'corridor': 222, 'gst': 223, 'voucherusave': 224, 'hack': 225, 'wc': 226, 'harassment': 227, 'harkwer': 228, 'receive': 229, 'bill': 230, 'haze': 231, 'hello': 232, 'home': 233, 'possible': 234, 'fly': 235, 'drone': 236, 'marina': 237, 'sir': 238, 'suhai': 239, 'ami': 240, 'neddy': 241, 'enterprise': 242, 'sdn': 243, 'bhd': 244, 'tnb': 245, 'contractor': 246, 'hi': 247, 'help': 248, 'log': 249, 'ipmb': 250, 'thanks': 251, 'pls': 252, 'want': 253, 'notice': 254, 'today': 255, 'power': 256, 'blk': 257, 'pasir': 258, 'ri': 259, 'st': 260, 'commencement': 261, 'earthwork': 262, 'mrt': 263, 'project': 264, 'hop': 265, 'take': 266, 'video': 267, 'ppl': 268, 'dance': 269, 'indra': 270, 'jakarta': 271, 'hoq': 272, 'pay': 273, 'utility': 274, 'abroad': 275, 'reside': 276, 'braddell': 277, 'view': 278, 'suddenly': 279, 'become': 280, 'low': 281, 'outage': 282, 'ny': 283, 'right': 284, 'rent': 285, 'flat': 286, 'many': 287, 'year': 288, 'sure': 289, 'thing': 290, 'ise': 291, 'tenant': 292, 'move': 293, 'october': 294, 'back': 295, 'understand': 296, 'house': 297, 'advise': 298, 'would': 299, 'like': 300, 'book': 301, 'chalet': 302, 'priority': 303, 'code': 304, 'enquire': 305, 'visit': 306, 'fro': 307, 'preschool': 308, 'child': 309, 'arrange': 310, 'cut': 311, 'refer': 312, 'look': 313, 'jamie': 314, 'beach': 315, 'legal': 316, 'jamiethere': 317, 'youngster': 318, 'cli': 319, 'ambed': 320, 'barrier': 321, 'fishing': 322, 'venue': 323, 'near': 324, 'mb': 325, 'garden': 326, 'bay': 327, 'may': 328, 'height': 329, 'clearance': 330, 'vessel': 331, 'esplanade': 332, 'bridge': 333, 'anderson': 334, 'interview': 335, 'sengkang': 336, 'wetland': 337, 'cbd': 338, 'orchard': 339, 'location': 340, 'watercourse': 341, 'corporate': 342, 'social': 343, 'responsibility': 344, 'hawker': 345, 'centre': 346, 'barrage': 347, 'go': 348, 'consultation': 349, 'lp': 350, 'portal': 351, 'tax': 352, 'kayak': 353, 'report': 354, 'mosquito': 355, 'issue': 356, 'payu': 357, 'device': 358, 'lose': 359, 'detri': 360, 'amental': 361, 'human': 362, 'weather': 363, 'long': 364, 'plan': 365, 'approve': 366, 'baby': 367, 'bonus': 368, 'much': 369, 'wasre': 370, 'alpply': 371, 'piped': 372, 'april': 373, 'contract': 374, 'address': 375, 'appointment': 376, 'checking': 377, 'sp': 378, 'find': 379, 'muki': 380, 'lot': 381, 'sentosa': 382, 'login': 383, 'obtain': 384, 'online': 385, 'underground': 386, 'detection': 387, 'pledge': 388, 'amate': 389, 'myenv': 390, 'app': 391, 'register': 392, 'kallang': 393, 'trail': 394, 'seek': 395, 'submit': 396, 'shd': 397, 'hows': 398, 'hungry': 399, 'hydraulic': 400, 'excavator': 401, 'operation': 402, 'hdb': 403, 'resident': 404, 'activate': 405, 'cook': 406, 'cast': 407, 'drainage': 408, 'grate': 409, 'system': 410, 'foundry': 411, 'base': 412, 'botou': 413, 'city': 414, 'call': 415, 'pillar': 416, 'tank': 417, 'fishe': 418, 'die': 419, 'electrical': 420, 'pole': 421, 'front': 422, 'convert': 423, 'private': 424, 'meter': 425, 'reading': 426, 'press': 427, 'kit': 428, 'old': 429, 'ap': 430, 'payment': 431, 'due': 432, 'u': 433, 'supplier': 434, 'stay': 435, 'east': 436, 'side': 437, 'join': 438, 'sep': 439, 'inaugural': 440, 'open': 441, 'account': 442, 'premise': 443, 'kaki': 444, 'bukit': 445, 'avenue': 446, 'accept': 447, 'workspace': 448, 'sg': 449, 'exchange': 450, 'amport': 451, 'sell': 452, 'showerhead': 453, 'sink': 454, 'etc': 455, 'charge': 456, 'litter': 457, 'inside': 458, 'sungei': 459, 'api': 460, 'sponsorship': 461, 'bottle': 462, 'elderly': 463, 'event': 464, 'email': 465, 'public': 466, 'relation': 467, 'cr': 468, 'confirm': 469, 'still': 470, 'complaint': 471, 'sbt': 472, 'wire': 473, 'illegal': 474, 'illustration': 475, 'lonely': 476, 'unit': 477, 'hand': 478, 'key': 479, 'owner': 480, 'june': 481, 'close': 482, 'sc': 483, 'wait': 484, 'till': 485, 'eligible': 486, 'save': 487, 'voucher': 488, 'income': 489, 'insurance': 490, 'provider': 491, 'c': 492, 'valid': 493, 'cheap': 494, 'rain': 495, 'wrp': 496, 'malaysia': 497, 'riverside': 498, 'allow': 499, 'artificial': 500, 'available': 501, 'track': 502, 'conversion': 503, 'operator': 504, 'yishun': 505, 'ktph': 506, 'activity': 507, 'alligator': 508, 'resivours': 509, 'infringement': 510, 'retail': 511, 'sanitary': 512, 'hardware': 513, 'carry': 514, 'saving': 515, 'tick': 516, 'require': 517, 'filter': 518, 'novita': 519, 'everpure': 520, 'mention': 521, 'rfp': 522, 'cd': 523, 'purchase': 524, 'joint': 525, 'kindly': 526, 'let': 527, 'download': 528, 'landscape': 529, 'late': 530, 'anti': 531, 'vacuum': 532, 'relief': 533, 'valve': 534, 'heater': 535, 'laying': 536, 'hydant': 537, 'licensed': 538, 'list': 539, 'ecm': 540, 'offender': 541, 'main': 542, 'builder': 543, 'tuas': 544, 'nexus': 545, 'consultant': 546, 'team': 547, 'james': 548, 'leong': 549, 'subscribe': 550, 'alert': 551, 'sm': 552, 'teo': 553, 'sock': 554, 'hwa': 555, 'm': 556, 'meaters': 557, 'meaning': 558, 'medium': 559, 'company': 560, 'thank': 561, 'mrl': 562, 'read': 563, 'mths': 564, 'friend': 565, 'didint': 566, 'extend': 567, 'one': 568, 'week': 569, 'resume': 570, 'finish': 571, 'trip': 572, 'plug': 573, 'appliance': 574, 'vein': 575, 'try': 576, 'board': 577, 'able': 578, 'ware': 579, 'full': 580, 'insect': 581, 'catchment': 582, 'fog': 583, 'ong': 584, 'chuan': 585, 'window': 586, 'explain': 587, 'bca': 588, 'approved': 589, 'cwi': 590, 'e': 591, 'phone': 592, 'pollution': 593, 'po': 594, 'academy': 595, 'pubsewclrdev': 596, 'punggol': 597, 'chemical': 598, 'smell': 599, 'table': 600, 'qualified': 601, 'checker': 602, 'scheme': 603, 'training': 604, 'product': 605, 'relay': 606, 'dormiotry': 607, 'money': 608, 'poster': 609, 'rooftop': 610, 'submission': 611, 'sda': 612, 'search': 613, 'kuy': 614, 'wah': 615, 'sec': 616, 'stand': 617, 'eco': 618, 'friendly': 619, 'laundry': 620, 'detergent': 621, 'si': 622, 'mean': 623, 'safe': 624, 'ss': 625, 'taman': 626, 'jurong': 627, 'temporary': 628, 'shut': 629, 'dor': 630, 'renovation': 631, 'light': 632, 'ok': 633, 'stench': 634, 'kitchen': 635, 'lengkong': 636, 'tiga': 637, 'seem': 638, 'fault': 639, 'sabmiton': 640, 'transfer': 641, 'counter': 642, 'area': 643, 'road': 644, 'uen': 645, 'polytechnic': 646, 'wsp': 647, 'vfd': 648, 'faulty': 649, 'communication': 650, 'videography': 651, 'condo': 652, 'clog': 653, 'hougang': 654, 'ave': 655, 'wish': 656, 'termination': 657, 'construction': 658, 'site': 659, 'locate': 660, 'bidaari': 661, 'drivepls': 662, 'incharge': 663, 'forecast': 664, 'font': 665, 'wemp': 666, 'hob': 667, 'ani': 668, 'amals': 669, 'cause': 670, 'pollute': 671, 'cwsids': 672, 'cheowkwangyahoocom': 673, 'decada': 674, 'dpip': 675, 'r': 676, 'ror': 677, 'datum': 678, 'sourcepathwayreceptor': 679, 'sydney': 680, 'nsw': 681, 'management': 682, 'tfl': 683, 'hotline': 684, 'wrn': 685, 'criterion': 686, 'mohd': 687, 'sofian': 688, 'kemat': 689, 'paul': 690, 'li': 691, 'amit': 692, 'internet': 693, 'bank': 694, 'msf': 695, 'opening': 696, 'hour': 697, 'procedure': 698, 'standard': 699, 'dissolved': 700, 'oxygen': 701, 'drinking': 702, 'toto': 703, 'win': 704, 'wscc': 705, 'wsi': 706, 'arcade': 707, 'spot': 708, 'illegalfishing': 709, 'body': 710, 'pow': 711, 'whats': 712, 'eat': 713, 'wd': 714, 'whe': 715, 'smrd': 716, 'infinity': 717, 'stone': 718, 'vulnerability': 719, 'strategic': 720, 'advantage': 721, 'affect': 722, 'canaldrain': 723, 'allan': 724, 'drain': 725, 'sip': 726, 'piping': 727, 'infringe': 728, 'worksiteexample': 729, 'direct': 730, 'enforcement': 731, 'deptthank': 732, 'changi': 733, 'far': 734, 'plaza': 735, 'ion': 736, 'source': 737, 'macritchie': 738, 'upwrp': 739, 'create': 740, 'ring': 741, 'regard': 742, 'glass': 743, 'repair': 744, 'matter': 745, 'pricipal': 746, 'engineer': 747, 'post': 748, 'overall': 749, 'ce': 750, 'cio': 751, 'street': 752, 'write': 753, 'lamp': 754, 'property': 755, 'amphiro': 756, 'display': 757, 'temperature': 758, 'letter': 759, 'client': 760, 'angler': 761, 'canal': 762, 'lorong': 763, 'amau': 764, 'dew': 765, 'enforce': 766, 'cctv': 767, 'summon': 768, 'abt': 769, 'waste': 770, 'treatment': 771, 'difference': 772, 'upgrade': 773, 'wastewater': 774, 'plant': 775, 'effluent': 776, 'pad': 777, 'lock': 778, 'brand': 779, 'padlock': 780, 'watertank': 781, 'shower': 782, 'facility': 783, 'ass': 784, 'swichroom': 785, 'average': 786, 'recycle': 787, 'rate': 788, 'collaboration': 789, 'collaborstion': 790, 'campaign': 791, 'pasar': 792, 'malam': 793, 'hold': 794, 'store': 795, 'used': 796, 'temporarily': 797, 'air': 798, 'con': 799, 'shallow': 800, 'flow': 801, 'clean': 802, 'condensed': 803, 'propose': 804, 'data': 805, 'discharge': 806, 'roadside': 807, 'common': 808, 'sewerage': 809, 'line': 810, 'mailing': 811, 'update': 812, 'technical': 813, 'briefing': 814, 'session': 815, 'conduct': 816, 'run': 817, 'domestic': 818, 'rule': 819, 'start': 820, 'small': 821, 'point': 822, 'function': 823, 'bto': 824, 'pubs': 825, 'unique': 826, 'entity': 827, 'internal': 828, 'routing': 829, 'inspect': 830, 'whether': 831, 'chamber': 832, 'chockage': 833, 'harvest': 834, 'sewage': 835, 'install': 836, 'balcony': 837, 'mandatory': 838, 'bidet': 839, 'spray': 840, 'cost': 841, 'involve': 842, 'microbiological': 843, 'incident': 844, 'pdf': 845, 'format': 846, 'raw': 847, 'waiver': 848, 'detention': 849, 'development': 850, 'runoff': 851, 'directly': 852, 'shift': 853, 'boundary': 854, 'wall': 855, 'next': 856, 'hide': 857, 'come': 858, 'school': 859, 'talk': 860, 'conservation': 861, 'pandan': 862, 'answer': 863, 'question': 864, 'tropical': 865, 'forest': 866, 'paint': 867, 'blue': 868, 'desalination': 869, 'precast': 870, 'ic': 871, 'show': 872, 'chinese': 873, 'tell': 874, 'reclamation': 875, 'requirement': 876, 'surroundings': 877, 'extg': 878, 'minor': 879, 'distance': 880, 'away': 881, 'pla': 882, 'coastal': 883, 'protection': 884, 'practice': 885, 'rengaraj': 886, 'prusotamen': 887, 'instal': 888, 'diagram': 889, 'newater': 890, 'potable': 891, 'permission': 892, 'utilise': 893, 'belukar': 894, 'pipeline': 895, 'sitiated': 896, 'ti': 897, 'amah': 898, 'nature': 899, 'reserve': 900, 'race': 901, 'inform': 902, 'remove': 903, 'double': 904, 'disposal': 905, 'test': 906, 'program': 907, 'riser': 908, 'introduction': 909, 'version': 910, 'deep': 911, 'depth': 912, 'chart': 913, 'housing': 914, 'consumption': 915, 'month': 916, 'different': 917, 'type': 918, 'draw': 919, 'floor': 920, 'connect': 921, 'ejector': 922, 'diameter': 923, 'clause': 924, 'necessary': 925, 'dtss': 926, 'phase': 927, 'evaporation': 928, 'loss': 929, 'expiry': 930, 'date': 931, 'office': 932, 'pvc': 933, 'material': 934, 'smart': 935, 'temp': 936, 'proposal': 937, 'helpful': 938, 'production': 939, 'incurr': 940, 'stop': 941, 'order': 942, 'cramoil': 943, 'apr': 944, 'fixture': 945, 'model': 946, 'dp': 947, 'exist': 948, 'statistic': 949, 'are': 950, 'contrete': 951, 'overflow': 952, 'carela': 953, 'method': 954, 'cable': 955, 'wonder': 956, 'rf': 957, 'separate': 958, 'produce': 959, 'per': 960, 'presentation': 961, 'technology': 962, 'tour': 963, 'must': 964, 'maintain': 965, 'tks': 966, 'ive': 967, 'executive': 968, 'sti': 969, 'man': 970, 'hole': 971, 'fee': 972, 'girowhere': 973, 'giro': 974, 'schedule': 975, 'swettenham': 976, 'bait': 977, 'seminar': 978, 'november': 979, 'hiw': 980, 'slp': 981, 'name': 982, 'licence': 983, 'uni': 984, 'capacity': 985, 'flood': 986, 'datarecord': 987, 'notification': 988, 'physical': 989, 'quality': 990, 'undertaking': 991, 'overcrossing': 992, 'differentiate': 993, 'dirty': 994, 'spring': 995, 'previous': 996, 'record': 997, 'eshop': 998, 'scale': 999, 'cock': 1000, 'pe': 1001, 'detect': 1002, 'rehabilitation': 1003, 'last': 1004, 'cap': 1005, 'processing': 1006, 'ame': 1007, 'depts': 1008, 'employee': 1009, 'spend': 1010, 'fall': 1011, 'fluoride': 1012, 'poison': 1013, 'add': 1014, 'mixed': 1015, 'hv': 1016, 'often': 1017, 'estate': 1018, 'canel': 1019, 'prevent': 1020, 'choke': 1021, 'purpose': 1022, 'calculate': 1023, 'rainwater': 1024, 'downpipe': 1025, 'high': 1026, 'declaration': 1027, 'stormwater': 1028, 'engage': 1029, 'corenet': 1030, 'reduced': 1031, 'submeter': 1032, 'professional': 1033, 'raingarden': 1034, 'unsubscribe': 1035, 'map': 1036, 'verify': 1037, 'connector': 1038, 'keep': 1039, 'smoothly': 1040, 'official': 1041, 'every': 1042, 'feedback': 1043, 'washing': 1044, 'conditioner': 1045, 'compressor': 1046, 'discharged': 1047, 'freely': 1048, 'english': 1049, 'group': 1050, 'say': 1051, 'load': 1052, 'apps': 1053, 'speak': 1054, 'ball': 1055, 'fell': 1056, 'dry': 1057, 'pierce': 1058, 'activation': 1059, 'appt': 1060, 'actoday': 1061, 'status': 1062, 'response': 1063, 'chat': 1064, 'leave': 1065, 'message': 1066, 'chironomid': 1067, 'midget': 1068, 'happening': 1069, 'urinal': 1070, 'basin': 1071, 'live': 1072, 'tampines': 1073, 'l': 1074, 'loitet': 1075, 'ssve': 1076, 'earlier': 1077, 'feb': 1078, 'there': 1079, 'red': 1080, 'stain': 1081, 'bathroom': 1082, 'place': 1083, 'evaporate': 1084, 'occur': 1085, 'quickly': 1086, 'delivery': 1087, 'large': 1088, 'serangoon': 1089, 'irrigation': 1090, 'manualregulationsguidelines': 1091, 'reservior': 1092, 'enquiry': 1093, 'fail': 1094, 'replace': 1095, 'efficiency': 1096, 'manager': 1097, 'within': 1098, 'ameline': 1099, 'penalty': 1100, 'amposed': 1101, 'licenced': 1102, 'current': 1103, 'id': 1104, 'amation': 1105, 'music': 1106, 'interested': 1107, 'recommendation': 1108, 'landed': 1109, 'weld': 1110, 'tomorrowair': 1111, 'container': 1112, 'distilled': 1113, 'epoxy': 1114, 'permissable': 1115, 'fluoridation': 1116, 'blast': 1117, 'faucet': 1118, 'compare': 1119, 'opened': 1120, 'storm': 1121, 'step': 1122, 'maintenance': 1123, 'microplastic': 1124, 'purification': 1125, 'non': 1126, 'drinkable': 1127, 'portable': 1128, 'pure': 1129, 'follow': 1130, 'set': 1131, 'resurface': 1132, 'opposite': 1133, 'sufficient': 1134, 'inspection': 1135, 'soapy': 1136, 'national': 1137, 'agency': 1138, 'reopen': 1139, 'recreational': 1140, 'club': 1141, 'ready': 1142, 'closure': 1143, 'spore': 1144, 'ndp': 1145, 'tomorrow': 1146, 'stopcock': 1147, 'manual': 1148, 'specific': 1149, 'colour': 1150, 'organic': 1151, 'park': 1152, 'villa': 1153, 'terrace': 1154, 'reinstate': 1155, 'knowledge': 1156, 'gap': 1157, 'law': 1158, 'govern': 1159, 'linggiu': 1160, 'maxi': 1161, 'amum': 1162, 'rod': 1163, 'length': 1164, 'hung': 1165, 'residential': 1166, 'extract': 1167, 'local': 1168, 'mode': 1169, 'quotation': 1170, 'diferent': 1171, 'offence': 1172, 'without': 1173, 'wa': 1174, 'specify': 1175, 'act': 1176, 'indirect': 1177, 'bedok': 1178, 'completely': 1179, 'do': 1180, 'publish': 1181, 'ranking': 1182, 'shall': 1183, 'host': 1184, 'running': 1185, 'murnane': 1186, 'mandai': 1187, 'error': 1188, 'refuse': 1189, 'instruct': 1190, 'bpu': 1191, 'passing': 1192, 'query': 1193, 'mo': 1194, 'gson': 1195, 'ur': 1196, 'general': 1197, 'yo': 1198, 'spoil': 1199, 'blend': 1200, 'vs': 1201, 'plastic': 1202, 'cone': 1203, 'mark': 1204, 'pubwere': 1205, 'lay': 1206, 'along': 1207, 'roadthere': 1208, 'indication': 1209, 'incharged': 1210, 'onan': 1211, 'past': 1212, 'ppwhat': 1213, 'twin': 1214, 'cross': 1215, 'south': 1216, 'award': 1217, 'annual': 1218, 'servicing': 1219, 'switch': 1220, 'room': 1221, 'pump': 1222, 'civil': 1223, 'mechanical': 1224, 'workshop': 1225, 'redo': 1226, 'secondary': 1227, 'secure': 1228, 'sprinkler': 1229, 'yes': 1230, 'correct': 1231, 'thrust': 1232, 'block': 1233, 'mm': 1234, 'di': 1235, 'vault': 1236, 'suspicious': 1237, 'character': 1238, 'outside': 1239, 'sw': 1240, 'shopping': 1241, 'tds': 1242, 'range': 1243, 'ppm': 1244, 'could': 1245, 'reduce': 1246, 'state': 1247, 'encroache': 1248, 'divert': 1249, 'encroach': 1250, 'partially': 1251, 'acceptable': 1252, 'west': 1253, 'ames': 1254, 'watering': 1255, 'nozzle': 1256, 'onto': 1257, 'doesnt': 1258, 'licensing': 1259, 'wan': 1260, 'na': 1261, 'testing': 1262, 'lead': 1263, 'upstairs': 1264, 'rusty': 1265, 'outer': 1266, 'surface': 1267, 'kb': 1268, 'end': 1269, 'radio': 1270, 'micro': 1271, 'organism': 1272, 'sludge': 1273, 'experi': 1274, 'ament': 1275, 'activated': 1276, 'responsible': 1277, 'well': 1278, 'early': 1279, 'amout': 1280, 'energy': 1281, 'ressources': 1282, 'produse': 1283, 'gallon': 1284, 'disadvantage': 1285, 'musli': 1286, 'ams': 1287, 'opinion': 1288, 'danger': 1289, 'workng': 1290, 'happen': 1291, 'regarding': 1292, 'resevoirs': 1293, 'availale': 1294, 'serve': 1295, 'tengah': 1296, 'effect': 1297, 'flouride': 1298, 'treat': 1299, 'upcoming': 1300, 'waterway': 1301, 'parameter': 1302, 'anaylsed': 1303, 'sub': 1304, 'sector': 1305, 'industry': 1306, 'appendix': 1307, 'consider': 1308, 'corbel': 1309, 'digital': 1310, 'hydrostatic': 1311, 'include': 1312, 'geographical': 1313, 'investigation': 1314, 'programme': 1315, 'ambo': 1316, 'nw': 1317, 'rc': 1318, 'trench': 1319, 'oil': 1320, 'sws': 1321, 'allowable': 1322, 'value': 1323, 'silt': 1324, 'age': 1325, 'singaporean': 1326, 'environever': 1327, 'mindent': 1328, 'ampact': 1329, 'newwater': 1330, 'deslained': 1331, 'alaexandra': 1332, 'esti': 1333, 'amated': 1334, 'ideal': 1335, 'amount': 1336, 'household': 1337, 'alexandra': 1338, 'mini': 1339, 'center': 1340, 'term': 1341, 'pumped': 1342, 'detentionretention': 1343, 'recommended': 1344, 'gradient': 1345, 'entrance': 1346, 'culvert': 1347, 'footbridge': 1348, 'validity': 1349, 'period': 1350, 'waterworks': 1351, 'undertake': 1352, 'undertakings': 1353, 'wally': 1354, 'burst': 1355, 'sic': 1356, 'pionneer': 1357, 'rd': 1358, 'alloy': 1359, 'healthy': 1360, 'lasting': 1361, 'size': 1362, 'incoming': 1363, 'completion': 1364, 'platform': 1365, 'waive': 1366, 'first': 1367, 'expire': 1368, 'existance': 1369, 'amplementation': 1370, 's': 1371, 'bad': 1372, 'drought': 1373, 'safety': 1374, 'railing': 1375, 'waterour': 1376, 'future': 1377, 'cop': 1378, 'utilities': 1379, 'complete': 1380, 'eng': 1381, 'kong': 1382, 'cleaning': 1383, 'cam': 1384, 'annex': 1385, 'additional': 1386, 'collect': 1387, 'sticker': 1388, 'cat': 1389, 'ladder': 1390, 'catladder': 1391, 'sum': 1392, 'fill': 1393, 'refill': 1394, 'litre': 1395, 'pcn': 1396, 'endorsement': 1397, 'compartment': 1398, 'cp': 1399, 'sump': 1400, 'monitoring': 1401, 'stream': 1402, 'guidline': 1403, 'profession': 1404, 'asbuilt': 1405, 'plumbing': 1406, 'scots': 1407, 'infotech': 1408, 'transformation': 1409, 'singapores': 1410, 'stephanie': 1411, 'yap': 1412, 'photo': 1413, 'relate': 1414, 'washout': 1415, 'face': 1416, 'charged': 1417, 'cork': 1418, 'person': 1419, 'covered': 1420, 'linkway': 1421, 'suicide': 1422, 'stingray': 1423, 'cant': 1424, 'explorer': 1425, 'reconstruct': 1426, 'composite': 1427, 'channel': 1428, 'udrain': 1429, 'dawnice': 1430, 'pricing': 1431, 'expensive': 1432, 'pink': 1433, 'residue': 1434, 'appear': 1435, 'wr': 1436, 'toa': 1437, 'payoh': 1438, 'inlet': 1439, 'md': 1440, 'serial': 1441, 'pdm': 1442, 'vol': 1443, 'shelltube': 1444, 'presstemp': 1445, 'shell': 1446, 'tube': 1447, 'server': 1448, 'aav': 1449, 'kangen': 1450, 'already': 1451, 'unever': 1452, 'mindteen': 1453, 'switche': 1454, 'fitting': 1455, 'advertisement': 1456, 'excavation': 1457, 'oparetor': 1458, 'airborne': 1459, 'bacteria': 1460, 'allen': 1461, 'woodland': 1462, 'postal': 1463, 'stayin': 1464, 'newly': 1465, 'case': 1466, 'affexted': 1467, 'booking': 1468, 'regulation': 1469, 'forbid': 1470, 'pressure': 1471, 'sample': 1472, 'appeal': 1473, 'disabled': 1474, 'registrable': 1475, 'wastage': 1476, 'crescent': 1477, 'authorisation': 1478, 'automatic': 1479, 'availability': 1480, 'baku': 1481, 'pile': 1482, 'subcontractor': 1483, 'bidadari': 1484, 'drive': 1485, 'billing': 1486, 'bishan': 1487, 'north': 1488, 'atour': 1489, 'branche': 1490, 'business': 1491, 'calcium': 1492, 'people': 1493, 'caller': 1494, 'enquries': 1495, 'updating': 1496, 'overseas': 1497, 'free': 1498, 'camping': 1499, 'allows': 1500, 'bath': 1501, 'info': 1502, 'assist': 1503, 'vent': 1504, 'outlet': 1505, 'release': 1506, 'mail': 1507, 'bowl': 1508, 'charlotte': 1509, 'htoo': 1510, 'om': 1511, 'chlorine': 1512, 'chokage': 1513, 'circular': 1514, 'clementi': 1515, 'watee': 1516, 'clqi': 1517, 'concession': 1518, 'liner': 1519, 'confirmation': 1520, 'reference': 1521, 'permanent': 1522, 'correction': 1523, 'dc': 1524, 'objection': 1525, 'dear': 1526, 'sirskindly': 1527, 'fid': 1528, 'sh': 1529, 'deposit': 1530, 'desalinated': 1531, 'advice': 1532, 'detailed': 1533, 'affluent': 1534, 'effluence': 1535, 'dismantle': 1536, 'town': 1537, 'council': 1538, 'fb': 1539, 'template': 1540, 'soft': 1541, 'copy': 1542, 'icon': 1543, 'fastener': 1544, 'cert': 1545, 'everyone': 1546, 'companyneed': 1547, 'san': 1548, 'drawpit': 1549, 'drip': 1550, 'drop': 1551, 'earth': 1552, 'ecornet': 1553, 'v': 1554, 'onebpu': 1555, 'eservice': 1556, 'estatement': 1557, 'exempt': 1558, 'exemption': 1559, 'express': 1560, 'reopens': 1561, 'flush': 1562, 'establishment': 1563, 'applicable': 1564, 'survey': 1565, 'commersial': 1566, 'pubiwsdfpubgovsgtopicsfunding': 1567, 'pageforumsseminars': 1568, 'page': 1569, 'planttuas': 1570, 'plantwatch': 1571, 'foreigner': 1572, 'plumb': 1573, 'pantry': 1574, 'j': 1575, 'freebie': 1576, 'gdpm': 1577, 'co': 1578, 'billi': 1579, 'afraid': 1580, 'disruptionplease': 1581, 'advisethankssua': 1582, 'grease': 1583, 'overview': 1584, 'grohe': 1585, 'hard': 1586, 'hasjd': 1587, 'hauweh': 1588, 'awhe': 1589, 'ad': 1590, 'article': 1591, 'wroted': 1592, 'afternoon': 1593, 'emma': 1594, 'palyja': 1595, 'langsat': 1596, 'disruption': 1597, 'cambridge': 1598, 'ago': 1599, 'interuption': 1600, 'mom': 1601, 'punnagaiselvan': 1602, 'jobi': 1603, 'amprove': 1604, 'sarah': 1605, 'mexico': 1606, 'student': 1607, 'jenny': 1608, 'shi': 1609, 'amizu': 1610, 'corporation': 1611, 'undergo': 1612, 'chemotherapy': 1613, 'hence': 1614, 'ammune': 1615, 'factory': 1616, 'footage': 1617, 'seletar': 1618, 'zui': 1619, 'yu': 1620, 'xuan': 1621, 'teochew': 1622, 'cusine': 1623, 'amoy': 1624, 'largescale': 1625, 'photovoltaic': 1626, 'tengeh': 1627, 'jai': 1628, 'forum': 1629, 'philippine': 1630, 'elect': 1631, 'mayor': 1632, 'telok': 1633, 'kurau': 1634, 'tmr': 1635, 'slightly': 1636, 'mod': 1637, 'tss': 1638, 'longer': 1639, 'cad': 1640, 'dr': 1641, 'pertaining': 1642, 'ct': 1643, 'sembcorp': 1644, 'marine': 1645, 'active': 1646, 'crane': 1647, 'teck': 1648, 'whye': 1649, 'lane': 1650, 'previously': 1651, 'spgroup': 1652, 'somebdoy': 1653, 'takea': 1654, 'openable': 1655, 'hijabi': 1656, 'hion': 1657, 'yoir': 1658, 'amer': 1659, 'hot': 1660, 'pip': 1661, 'saftey': 1662, 'hotel': 1663, 'electrcity': 1664, 'analysis': 1665, 'postcode': 1666, 'rebate': 1667, 'yr': 1668, 'see': 1669, 'bottom': 1670, 'text': 1671, 'fast': 1672, 'cite': 1673, 'amage': 1674, 'participate': 1675, 'initiative': 1676, 'newsletter': 1677, 'direction': 1678, 'mgd': 1679, 'employ': 1680, 'cancel': 1681, 'fine': 1682, 'submisison': 1683, 'conenction': 1684, 'item': 1685, 'statment': 1686, 'ownership': 1687, 'topcsc': 1688, 'surive': 1689, 'life': 1690, 'subsequent': 1691, 'actually': 1692, 'phd': 1693, 'karlsruhe': 1694, 'institute': 1695, 'germany': 1696, 'engineering': 1697, 'degree': 1698, 'attend': 1699, 'resource': 1700, 'besides': 1701, 'curious': 1702, 'wont': 1703, 'taleb': 1704, 'eswar': 1705, 'learn': 1706, 'represent': 1707, 'drunking': 1708, 'residence': 1709, 'alrdy': 1710, 'think': 1711, 'mount': 1712, 'sinai': 1713, 'rise': 1714, 'ridgewood': 1715, 'hardness': 1716, 'correspondence': 1717, 'select': 1718, 'freshwater': 1719, 'financial': 1720, 'assistance': 1721, 'metre': 1722, 'really': 1723, 'uk': 1724, 'manufacture': 1725, 'fit': 1726, 'normal': 1727, 'third': 1728, 'saw': 1729, 'bangladesh': 1730, 'beside': 1731, 'geylang': 1732, 'koi': 1733, 'dead': 1734, 'seriously': 1735, 'hope': 1736, 'reject': 1737, 'turnon': 1738, 'opub': 1739, 'naional': 1740, 'branch': 1741, 'prompt': 1742, 'unavailable': 1743, 'click': 1744, 'ministry': 1745, 'queretaro': 1746, 'projected': 1747, 'demand': 1748, 'fr': 1749, 'son': 1750, 'regularise': 1751, 'storage': 1752, 'replacement': 1753, 'igdmorning': 1754, 'mdm': 1755, 'milky': 1756, 'settle': 1757, 'powdery': 1758, 'ignore': 1759, 'explore': 1760, 'lake': 1761, 'cool': 1762, 'usafe': 1763, 'frm': 1764, 'loop': 1765, 'madeline': 1766, 'baywater': 1767, 'amported': 1768, 'industrial': 1769, 'solutionsoverviewrecycling': 1770, 'reuse': 1771, 'wastewaterindustrial': 1772, 'byproduct': 1773, 'manufacturing': 1774, 'comme': 1775, 'instant': 1776, 'instruction': 1777, 'ban': 1778, 'sustainable': 1779, 'termwhy': 1780, 'pte': 1781, 'ltd': 1782, 'lift': 1783, 'chargeable': 1784, 'mother': 1785, 'annually': 1786, 'parking': 1787, 'since': 1788, 'halfhour': 1789, 'woodleigh': 1790, 'button': 1791, 'jetty': 1792, 'joc': 1793, 'addition': 1794, 'governing': 1795, 'journey': 1796, 'seng': 1797, 'chye': 1798, 'licensend': 1799, 'bearing': 1800, 'electrode': 1801, 'box': 1802, 'lodgement': 1803, 'island': 1804, 'qualify': 1805, 'lucky': 1806, 'mailtopubonepubgovsg': 1807, 'marketing': 1808, 'marrina': 1809, 'preferable': 1810, 'docuent': 1811, 'kown': 1812, 'elbow': 1813, 'socket': 1814, 'dicl': 1815, 'dia': 1816, 'maybe': 1817, 'mediapublications': 1818, 'section': 1819, 'methane': 1820, 'minister': 1821, 'speech': 1822, 'miss': 1823, 'wesite': 1824, 'richard': 1825, 'mpl': 1826, 'mwels': 1827, 'waterford': 1828, 'residences': 1829, 'ki': 1830, 'yam': 1831, 'aunty': 1832, 'condominium': 1833, 'credit': 1834, 'card': 1835, 'ez': 1836, 'isbroken': 1837, 'pubg': 1838, 'bann': 1839, 'health': 1840, 'reminder': 1841, 'bi': 1842, 'cmi': 1843, 'disconnect': 1844, 'yet': 1845, 'whole': 1846, 'break': 1847, 'bus': 1848, 'holland': 1849, 'anchorvale': 1850, 'cc': 1851, 'unclog': 1852, 'newaer': 1853, 'havet': 1854, 'problem': 1855, 'also': 1856, 'nonrevenue': 1857, 'nonspecified': 1858, 'consumer': 1859, 'residentialis': 1860, 'nothing': 1861, 'notify': 1862, 'oh': 1863, 'alright': 1864, 'amply': 1865, 'walk': 1866, 'mordor': 1867, 'sumbit': 1868, 'church': 1869, 'ow': 1870, 'partial': 1871, 'tol': 1872, 'pinkish': 1873, 'planning': 1874, 'reserviour': 1875, 'polymer': 1876, 'poor': 1877, 'cct': 1878, 'potong': 1879, 'pre': 1880, 'preconsultation': 1881, 'pamphlet': 1882, 'clinic': 1883, 'central': 1884, 'inustle': 1885, 'subscription': 1886, 'submissiob': 1887, 'pubsewclrdevoversew': 1888, 'pubwsn': 1889, 'pulau': 1890, 'ubin': 1891, 'qr': 1892, 'sumer': 1893, 'recently': 1894, 'member': 1895, 'refund': 1896, 'neater': 1897, 'bidder': 1898, 'reinforcement': 1899, 'concrete': 1900, 'tile': 1901, 'defu': 1902, 'removal': 1903, 'washroom': 1904, 'rephrase': 1905, 'failure': 1906, 'reporting': 1907, 'research': 1908, 'devlopment': 1909, 'reservation': 1910, 'retrieve': 1911, 'return': 1912, 'jtc': 1913, 'reverse': 1914, 'osmosis': 1915, 'screen': 1916, 'champer': 1917, 'reservices': 1918, 'hanuching': 1919, 'shape': 1920, 'file': 1921, 'quit': 1922, 'sin': 1923, 'ming': 1924, 'autocare': 1925, 'logistic': 1926, 'india': 1927, 'mmy': 1928, 'country': 1929, 'metering': 1930, 'pib': 1931, 'sorry': 1932, 'amend': 1933, 'increase': 1934, 'handle': 1935, 'cppu': 1936, 'agrotechnology': 1937, 'package': 1938, 'tab': 1939, 'thi': 1940, 'amble': 1941, 'higj': 1942, 'occupation': 1943, 'terrence': 1944, 'commissiong': 1945, 'tape': 1946, 'nitrate': 1947, 'dis': 1948, 'jalan': 1949, 'senang': 1950, 'leakage': 1951, 'restaurant': 1952, 'tanjong': 1953, 'pagar': 1954, 'keisuke': 1955, 'tendon': 1956, 'properly': 1957, 'around': 1958, 'breeze': 1959, 'behind': 1960, 'changkat': 1961, 'pri': 1962, 'amary': 1963, 'spell': 1964, 'bo': 1965, 'monument': 1966, 'sms': 1967, 'anyti': 1968, 'condomium': 1969, 'tip': 1970, 'balance': 1971, 'trasportation': 1972, 'airtightness': 1973, 'pipleline': 1974, 'united': 1975, 'arab': 1976, 'emirate': 1977, 'unpopular': 1978, 'upper': 1979, 'upvc': 1980, 'vel': 1981, 'ventilation': 1982, 'tunnel': 1983, 'visitor': 1984, 'nov': 1985, 'voume': 1986, 'consume': 1987, 'oen': 1988, 'wasing': 1989, 'diacharge': 1990, 'audit': 1991, 'color': 1992, 'cooler': 1993, 'hammer': 1994, 'roda': 1995, 'ration': 1996, 'measure': 1997, 'network': 1998, 'transmission': 1999, 'waterproof': 2000, 'watsapp': 2001, 'crystal': 2002, 'clear': 2003, 'mindental': 2004, 'shophouse': 2005, 'specialist': 2006, 'corppass': 2007, 'paln': 2008, 'singpass': 2009, 'anyway': 2010, 'cn': 2011, 'membrane': 2012, 'web': 2013, 'challenge': 2014, 'indicator': 2015, 'action': 2016, 'compliance': 2017, 'reply': 2018, 'sttes': 2019, 'abd': 2020, 'ckearance': 2021, 'draft': 2022, 'grade': 2023, 'elite': 2024, 'cutoff': 2025, 'definition': 2026, 'structure': 2027, 'ph': 2028, 'whatsapp': 2029, 'updated': 2030, 'citation': 2031, 'pubddcsidra': 2032, 'sunday': 2033, 'legislation': 2034, 'webside': 2035, 'whistleblowing': 2036, 'househods': 2037, 'who': 2038, 'author': 2039, 'uninterrupted': 2040, 'generator': 2041, 'invalid': 2042, 'comapny': 2043, 'spsupplyspgroupcomsg': 2044, 'accountant': 2045, 'career': 2046, 'diploma': 2047, 'job': 2048, 'instrument': 2049, 'filipino': 2050, 'international': 2051, 'knw': 2052, 'chargeman': 2053, 'oficer': 2054, 'kota': 2055, 'tinggi': 2056, 'citizen': 2057, 'recruit': 2058, 'architecture': 2059, 'revelant': 2060, 'wife': 2061, 'replyhe': 2062, 'experience': 2063, 'ammediately': 2064, 'hr': 2065, 'nitec': 2066, 'result': 2067, 'ite': 2068, 'college': 2069, 'mechatronics': 2070, 'aidil': 2071, 'aware': 2072, 'rizal': 2073, 'mam': 2074, 'muhammad': 2075, 'isa': 2076, 'ord': 2077, 'intrested': 2078, 'higood': 2079, 'eveningcan': 2080, 'esteemed': 2081, 'organisation': 2082, 'customer': 2083, 'care': 2084, 'forward': 2085, 'cv': 2086, 'graduate': 2087, 'position': 2088, 'nce': 2089, 'engineerign': 2090, 'hear': 2091, 'opportunites': 2092, 'assistanf': 2093, 'malaysian': 2094, 'citizenship': 2095, 'hometown': 2096, 'recruitment': 2097, 'carrier': 2098, 'draftsman': 2099, 'johore': 2100, 'guide': 2101, 'wsh': 2102, 'coordinator': 2103, 'part': 2104, 'vacany': 2105, 'michael': 2106, 'dts': 2107, 'fresh': 2108, 'benefit': 2109, 'seeker': 2110, 'offer': 2111, 'internship': 2112, 'hey': 2113, 'darshini': 2114, 'study': 2115, 'inti': 2116, 'university': 2117, 'poly': 2118, 'developer': 2119, 'wishe': 2120, 'widen': 2121, 'amb': 2122, 'fence': 2123, 'enclosure': 2124, 'neighbour': 2125, 'rear': 2126, 'conduit': 2127, 'instead': 2128, 'wide': 2129, 'backyard': 2130, 'across': 2131, 'undercrossing': 2132, 'flash': 2133, 'flashflood': 2134, 'floodprone': 2135, 'prone': 2136, 'flooded': 2137, 'probe': 2138, 'shapefile': 2139, 'likely': 2140, 'stick': 2141, 'us': 2142, 'flooding': 2143, 'lying': 2144, 'lie': 2145, 'manage': 2146, 'risk': 2147, 'strategy': 2148, 'alleviate': 2149, 'floodb': 2150, 'crest': 2151, 'mitigate': 2152, 'serious': 2153, 'contribute': 2154, 'cleanse': 2155, 'solve': 2156, 'deepen': 2157, 'recent': 2158, 'alleviation': 2159, 'urbanisation': 2160, 'urbanization': 2161, 'cannotclick': 2162, 'innovation': 2163, 'magazine': 2164, 'sensor': 2165, 'informed': 2166, 'raise': 2167, 'station': 2168, 'pioneer': 2169, 'traffic': 2170, 'warning': 2171, 'regulate': 2172, 'ensure': 2173, 'currently': 2174, 'oressure': 2175, 'wayour': 2176, 'presure': 2177, 'residental': 2178, 'weak': 2179, 'thqt': 2180, 'appropriate': 2181, 'encounter': 2182, 'slow': 2183, 'konw': 2184, 'domwstic': 2185, 'booster': 2186, 'noisy': 2187, 'normally': 2188, 'cu': 2189, 'excessive': 2190, 'amits': 2191, 'plessure': 2192, 'psi': 2193, 'typical': 2194, 'bar': 2195, 'input': 2196, 'nin': 2197, 'among': 2198, 'asap': 2199, 'clothe': 2200, 'kind': 2201, 'little': 2202, 'monday': 2203, 'aljunied': 2204, 'cresent': 2205, 'adjust': 2206, 'issit': 2207, 'master': 2208, 'attic': 2209, 'kebaya': 2210, 'way': 2211, 'forever': 2212, 'strong': 2213, 'especially': 2214, 'ever': 2215, 'throttle': 2216, 'regulator': 2217, 'two': 2218, 'single': 2219, 'koufu': 2220, 'court': 2221, 'gent': 2222, 'interchange': 2223, 'watch': 2224, 'fully': 2225, 'preasure': 2226, 'couldnt': 2227, 'apartment': 2228, 'complain': 2229, 'lowuneven': 2230, 'bro': 2231, 'stopcork': 2232, 'even': 2233, 'though': 2234, 'shouldnt': 2235, 'head': 2236, 'neighbor': 2237, 'remedy': 2238, 'terrible': 2239, 'investigate': 2240, 'dover': 2241, 'yesterday': 2242, 'intermittently': 2243, 'pressurr': 2244, 'diy': 2245, 'approach': 2246, 'thru': 2247, 'several': 2248, 'tapcoming': 2249, 'lesser': 2250, 'peak': 2251, 'anticlockwise': 2252, 'cycle': 2253, 'however': 2254, 'detector': 2255, 'tool': 2256, 'conceal': 2257, 'ground': 2258, 'reliable': 2259, 'specialise': 2260, 'trust': 2261, 'registered': 2262, 'conso': 2263, 'reasonable': 2264, 'cense': 2265, 'carryout': 2266, 'renovate': 2267, 'ample': 2268, 'layout': 2269, 'pioeline': 2270, 'lining': 2271, 'handy': 2272, 'men': 2273, 'shoplot': 2274, 'concealed': 2275, 'h': 2276, 'lickin': 2277, 'ang': 2278, 'kio': 2279, 'nonlicensed': 2280, 'nrp': 2281, 'coffee': 2282, 'fair': 2283, 'hire': 2284, 'ac': 2285, 'vender': 2286, 'review': 2287, 'eastern': 2288, 'zone': 2289, 'authorize': 2290, 'seal': 2291, 'iam': 2292, 'plot': 2293, 'suspend': 2294, 'theres': 2295, 'amprovement': 2296, 'liaison': 2297, 'kaneksan': 2298, 'capability': 2299, 'plumbler': 2300, 'violation': 2301, 'lisenced': 2302, 'plumbes': 2303, 'authorised': 2304, 'wear': 2305, 'tear': 2306, 'listing': 2307, 'bowlthanks': 2308, 'locksmith': 2309, 'ourself': 2310, 'ntuc': 2311, 'regulated': 2312, 'sort': 2313, 'malay': 2314, 'qps': 2315, 'plubingt': 2316, 'choked': 2317, 'leaking': 2318, 'less': 2319, 'coretrade': 2320, 'forman': 2321, 'lesson': 2322, 'mandarin': 2323, 'academic': 2324, 'education': 2325, 'qualification': 2326, 'holder': 2327, 'askedis': 2328, 'creation': 2329, 'unsuccessful': 2330, 'appy': 2331, 'saturday': 2332, 'hie': 2333, 'headquarter': 2334, 'later': 2335, 'edition': 2336, 'handbook': 2337, 'acc': 2338, 'enquirer': 2339, 'surrender': 2340, 'august': 2341, 'inquire': 2342, 'toapply': 2343, 'permanet': 2344, 'rental': 2345, 'companys': 2346, 'cancellation': 2347, 'capitcha': 2348, 'verification': 2349, 'ck': 2350, 'thx': 2351, 'choa': 2352, 'chu': 2353, 'kang': 2354, 'ubi': 2355, 'techpark': 2356, 'ngo': 2357, 'society': 2358, 'intend': 2359, 'acct': 2360, 'occunt': 2361, 'reapply': 2362, 'electricitywater': 2363, 'terminateclose': 2364, 'arrangement': 2365, 'closed': 2366, 'installatuion': 2367, 'ebill': 2368, 'appling': 2369, 'resale': 2370, 'sembawang': 2371, 'termnate': 2372, 'mu': 2373, 'friday': 2374, 'anyone': 2375, 'another': 2376, 'meed': 2377, 'rermintion': 2378, 'contactor': 2379, 'accout': 2380, 'utilitiesas': 2381, 'complex': 2382, 'hse': 2383, 'ammediate': 2384, 'oct': 2385, 'applied': 2386, 'sevice': 2387, 'ill': 2388, 'landlord': 2389, 'together': 2390, 'itility': 2391, 'hbd': 2392, 'user': 2393, 'password': 2394, 'amk': 2395, 'therefore': 2396, 'ho': 2397, 'swee': 2398, 'supplywhere': 2399, 'party': 2400, 'sul': 2401, 'never': 2402, 'spsupplyspgroup': 2403, 'cfmd': 2404, 'apt': 2405, 'hillgrove': 2406, 'batok': 2407, 'approxi': 2408, 'amately': 2409, 'unable': 2410, 'present': 2411, 'applicant': 2412, 'plse': 2413, 'nees': 2414, 'reschedule': 2415, 'technician': 2416, 'pick': 2417, 'phonelines': 2418, 'always': 2419, 'busy': 2420, 'onwhat': 2421, 'submisisons': 2422, 'allocated': 2423, 'aming': 2424, 'closet': 2425, 'subsidized': 2426, 'special': 2427, 'iwant': 2428, 'best': 2429, 'spoilt': 2430, 'fore': 2431, 'sponsor': 2432, 'community': 2433, 'eservices': 2434, 'hii': 2435, 'amay': 2436, 'family': 2437, 'wed': 2438, 'stanthony': 2439, 'bottled': 2440, 'invoice': 2441, 'coast': 2442, 'acknowledge': 2443, 'payable': 2444, 'opt': 2445, 'paperless': 2446, 'monthly': 2447, 'statement': 2448, 'aloneout': 2449, 'mid': 2450, 'nightconsume': 2451, 'wisely': 2452, 'shock': 2453, 'yuan': 2454, 'ching': 2455, 'amr': 2456, 'analogue': 2457, 'apart': 2458, 'basic': 2459, 'automate': 2460, 'automated': 2461, 'billibg': 2462, 'inquiry': 2463, 'texting': 2464, 'uabout': 2465, 'paymrnt': 2466, 'combine': 2467, 'cash': 2468, 'offset': 2469, 'closing': 2470, 'svc': 2471, 'missing': 2472, 'installment': 2473, 'instalment': 2474, 'print': 2475, 'holiday': 2476, 'outstanding': 2477, 'via': 2478, 'profile': 2479, 'restaurants': 2480, 'believe': 2481, 'cabinet': 2482, 'sam': 2483, 'sudden': 2484, 'recieved': 2485, 'coz': 2486, 'door': 2487, 'related': 2488, 'addressthks': 2489, 'everage': 2490, 'usuage': 2491, 'jumbo': 2492, 'although': 2493, 'originally': 2494, 'revert': 2495, 'deduction': 2496, 'afternooni': 2497, 'didnt': 2498, 'monthlty': 2499, 'jamieiam': 2500, 'rynnai': 2501, 'wateractually': 2502, 'hellodo': 2503, 'continuous': 2504, 'assig': 2505, 'circle': 2506, 'shutdown': 2507, 'gud': 2508, 'evening': 2509, 'volume': 2510, 'avail': 2511, 'chandra': 2512, 'areamay': 2513, 'smrt': 2514, 'ulu': 2515, 'train': 2516, 'depot': 2517, 'moisturize': 2518, 'maznin': 2519, 'rm': 2520, 'attach': 2521, 'monitor': 2522, 'square': 2523, 'salon': 2524, 'orient': 2525, 'raffle': 2526, 'boulevard': 2527, 'reno': 2528, 'waterr': 2529, 'reflect': 2530, 'parent': 2531, 'collection': 2532, 'singpost': 2533, 'accord': 2534, 'forget': 2535, 'accidentally': 2536, 'stack': 2537, 'smthing': 2538, 'suspect': 2539, 'brother': 2540, 'meeter': 2541, 'clarify': 2542, 'figure': 2543, 'liase': 2544, 'soil': 2545, 'sit': 2546, 'wel': 2547, 'aerator': 2548, 'usually': 2549, 'reconnect': 2550, 'kid': 2551, 'milk': 2552, 'governever': 2553, 'rosa': 2554, 'three': 2555, 'lates': 2556, 'ard': 2557, 'chance': 2558, 'upon': 2559, 'sept': 2560, 'marsiling': 2561, 'tq': 2562, 'inaccurate': 2563, 'reinstament': 2564, 'urgently': 2565, 'despite': 2566, 'behalf': 2567, 'friendhis': 2568, 'accurate': 2569, 'tge': 2570, 'administration': 2571, 'actual': 2572, 'gyro': 2573, 'suppliermy': 2574, 'cos': 2575, 'else': 2576, 'meyour': 2577, 'clai': 2578, 'paper': 2579, 'no': 2580, 'belong': 2581, 'daily': 2582, 'nondomestic': 2583, 'cal': 2584, 'cubic': 2585, 'spoiling': 2586, 'restart': 2587, 'tanent': 2588, 'retreive': 2589, 'december': 2590, 'march': 2591, 'adress': 2592, 'jobless': 2593, 'grant': 2594, 'ettrick': 2595, 'knock': 2596, 'worry': 2597, 'isolate': 2598, 'hpw': 2599, 'hubby': 2600, 'final': 2601, 'dripping': 2602, 'overcharge': 2603, 'confused': 2604, 'waterborne': 2605, 'stool': 2606, 'picture': 2607, 'wrong': 2608, 'whose': 2609, 'purging': 2610, 'swi': 2611, 'amming': 2612, 'pool': 2613, 'mummy': 2614, 'nric': 2615, 'readingcan': 2616, 'thete': 2617, 'recover': 2618, 'tel': 2619, 'wrongly': 2620, 'owe': 2621, 'moment': 2622, 'scotts': 2623, 'pacific': 2624, 'topic': 2625, 'amsville': 2626, 'pin': 2627, 'physically': 2628, 'pass': 2629, 'kin': 2630, 'decease': 2631, 'andthen': 2632, 'transferrer': 2633, 'crack': 2634, 'wdm': 2635, 'certain': 2636, 'receipt': 2637, 'strongly': 2638, 'reactivate': 2639, 'compulsory': 2640, 'compulsiory': 2641, 'utilites': 2642, 'binchang': 2643, 'fuse': 2644, 'major': 2645, 'breakdown': 2646, 'signal': 2647, 'pemi': 2648, 'ampin': 2649, 'nt': 2650, 'recieve': 2651, 'almost': 2652, 'misplace': 2653, 'oversease': 2654, 'licsened': 2655, 'kno': 2656, 'january': 2657, 'tenancy': 2658, 'uncontactable': 2659, 'blur': 2660, 'spolit': 2661, 'condohow': 2662, 'ii': 2663, 'jan': 2664, 'july': 2665, 'incorrect': 2666, 'firt': 2667, 'father': 2668, 'rtoom': 2669, 'billl': 2670, 'damage': 2671, 'white': 2672, 'rest': 2673, 'calculation': 2674, 'sister': 2675, 'occupant': 2676, 'rectify': 2677, 'housemate': 2678, 'following': 2679, 'something': 2680, 'reader': 2681, 'mistake': 2682, 'jam': 2683, 'theft': 2684, 'instate': 2685, 'payas': 2686, 'exam': 2687, 'mattets': 2688, 'composition': 2689, 'conract': 2690, 'plumper': 2691, 'shunfu': 2692, 'calculator': 2693, 'hasnt': 2694, 'arrive': 2695, 'puc': 2696, 'recur': 2697, 'dueand': 2698, 'supplybut': 2699, 'pu': 2700, 'pa': 2701, 'lee': 2702, 'kuo': 2703, 'defective': 2704, 'black': 2705, 'nose': 2706, 'film': 2707, 'neighborhood': 2708, 'paip': 2709, 'unusually': 2710, 'bal': 2711, 'urgent': 2712, 'corrode': 2713, 'badly': 2714, 'condition': 2715, 'summary': 2716, 'wen': 2717, 'certification': 2718, 'scheduled': 2719, 'yhr': 2720, 'lost': 2721, 'quarter': 2722, 'nowis': 2723, 'liable': 2724, 'unpaid': 2725, 'ex': 2726, 'knob': 2727, 'cab': 2728, 'enquires': 2729, 'incall': 2730, 'hfind': 2731, 'continue': 2732, 'saf': 2733, 'vacant': 2734, 'recorded': 2735, 'difficult': 2736, 'electricit': 2737, 'bough': 2738, 'alway': 2739, 'urong': 2740, 'electronic': 2741, 'consecutive': 2742, 'anything': 2743, 'frequent': 2744, 'sign': 2745, 'shortage': 2746, 'interrupt': 2747, 'ahmad': 2748, 'ibrahi': 2749, 'decrease': 2750, 'proceed': 2751, 'interruption': 2752, 'overnight': 2753, 'grove': 2754, 'abruptly': 2755, 'buangkok': 2756, 'sago': 2757, 'contamination': 2758, 'hill': 2759, 'destruction': 2760, 'soverignsi': 2761, 'amon': 2762, 'queen': 2763, 'astrid': 2764, 'woodlands': 2765, 'mum': 2766, 'disrupt': 2767, 'suppluy': 2768, 'edgefield': 2769, 'plain': 2770, 'boon': 2771, 'somethgs': 2772, 'bypass': 2773, 'commonwealth': 2774, 'distruption': 2775, 'chai': 2776, 'chee': 2777, 'corrosion': 2778, 'jammed': 2779, 'portability': 2780, 'reconnection': 2781, 'buroh': 2782, 'issies': 2783, 'emergency': 2784, 'situation': 2785, 'moulmein': 2786, 'assume': 2787, 'housebut': 2788, 'samei': 2789, 'correctly': 2790, 'ridiculously': 2791, 'persist': 2792, 'wat': 2793, 'rust': 2794, 'abovementioned': 2795, 'skyline': 2796, 'loosen': 2797, 'yio': 2798, 'faultyit': 2799, 'highe': 2800, 'ist': 2801, 'stopcok': 2802, 'hp': 2803, 'pavement': 2804, 'logged': 2805, 'stagnant': 2806, 'puddle': 2807, 'min': 2808, 'discolor': 2809, 'bos': 2810, 'mega': 2811, 'infront': 2812, 'penjuru': 2813, 'suspected': 2814, 'redhill': 2815, 'seep': 2816, 'corner': 2817, 'ponding': 2818, 'bulk': 2819, 'carpark': 2820, 'trace': 2821, 'craig': 2822, 'vav': 2823, 'spelling': 2824, 'khatib': 2825, 'beneath': 2826, 'seepage': 2827, 'pumper': 2828, 'jun': 2829, 'jul': 2830, 'remember': 2831, 'causing': 2832, 'somewhere': 2833, 'leakeage': 2834, 'onoff': 2835, 'therejus': 2836, 'askout': 2837, 'dial': 2838, 'tight': 2839, 'ceiling': 2840, 'rivertrees': 2841, 'fountain': 2842, 'reason': 2843, 'broken': 2844, 'gush': 2845, 'yard': 2846, 'bell': 2847, 'joo': 2848, 'chiat': 2849, 'enter': 2850, 'hearing': 2851, 'sound': 2852, 'basement': 2853, 'drai': 2854, 'pisang': 2855, 'hijau': 2856, 'tapwhat': 2857, 'leakgage': 2858, 'entire': 2859, 'tiny': 2860, 'particle': 2861, 'mcst': 2862, 'ni': 2863, 'atop': 2864, 'possibly': 2865, 'severe': 2866, 'built': 2867, 'flexible': 2868, 'saturady': 2869, 'outflow': 2870, 'terraced': 2871, 'oversee': 2872, 'internally': 2873, 'fixed': 2874, 'rattle': 2875, 'kangneed': 2876, 'leakingwhat': 2877, 'switchoff': 2878, 'rectification': 2879, 'watermeter': 2880, 'unitwho': 2881, 'tiolet': 2882, 'stopper': 2883, 'constantly': 2884, 'pup': 2885, 'weekend': 2886, 'leakagover': 2887, 'exhorbitant': 2888, 'assistant': 2889, 'restrict': 2890, 'roche': 2891, 'ister': 2892, 'found': 2893, 'paya': 2894, 'lebar': 2895, 'besar': 2896, 'ems': 2897, 'insight': 2898, 'penjuro': 2899, 'raod': 2900, 'martin': 2901, 'flowinng': 2902, 'stopping': 2903, 'watwr': 2904, 'alamak': 2905, 'mineral': 2906, 'minute': 2907, 'determine': 2908, 'worth': 2909, 'desanilate': 2910, 'treated': 2911, 'cube': 2912, 'equal': 2913, 'investivate': 2914, 'tariff': 2915, 'prize': 2916, 'tarrif': 2917, 'component': 2918, 'singapre': 2919, 'caput': 2920, 'history': 2921, 'borne': 2922, 'wbf': 2923, 'percent': 2924, 'revised': 2925, 'amt': 2926, 'wad': 2927, 'ec': 2928, 'capita': 2929, 'basis': 2930, 'penalise': 2931, 'wavier': 2932, 'usw': 2933, 'count': 2934, 'consumptiob': 2935, 'percentage': 2936, 'tiered': 2937, 'second': 2938, 'tier': 2939, 'wct': 2940, 'levy': 2941, 'hygiene': 2942, 'subject': 2943, 'taxation': 2944, 'amposing': 2945, 'geneco': 2946, 'amp': 2947, 'bungalow': 2948, 'language': 2949, 'rabtes': 2950, 'revision': 2951, 'fwchpiomwreflpmjkwrefl': 2952, 'mpkomprefwklmwcpkkm': 2953, 'documentsinformation': 2954, 'permissible': 2955, 'masterplan': 2956, 'landowner': 2957, 'sla': 2958, 'ampede': 2959, 'footbath': 2960, 'proposed': 2961, 'define': 2962, 'comply': 2963, 'construct': 2964, 'underpass': 2965, 'required': 2966, 'linkage': 2967, 'exit': 2968, 'rapid': 2969, 'transit': 2970, 'slabover': 2971, 'slab': 2972, 'allowed': 2973, 'inche': 2974, 'total': 2975, 'integrate': 2976, 'redirect': 2977, 'erect': 2978, 'quick': 2979, 'cscx': 2980, 'institution': 2981, 'feature': 2982, 'amendment': 2983, 'eg': 2984, 'external': 2985, 'onsite': 2986, 'provision': 2987, 'scope': 2988, 'consist': 2989, 'monson': 2990, 'stage': 2991, 'vesting': 2992, 'sewerline': 2993, 'handover': 2994, 'handing': 2995, 'completed': 2996, 'vest': 2997, 'widening': 2998, 'seweeage': 2999, 'requirementa': 3000, 'working': 3001, 'movein': 3002, 'occupy': 3003, 'space': 3004, 'lease': 3005, 'attention': 3006, 'vertical': 3007, 'proper': 3008, 'adhere': 3009, 'duration': 3010, 'expedite': 3011, 'discolouration': 3012, 'het': 3013, 'dranage': 3014, 'structural': 3015, 'helpline': 3016, 'seweragesanitary': 3017, 'individual': 3018, 'sipwspdip': 3019, 'sheet': 3020, 'interpretqtion': 3021, 'interpretation': 3022, 'sipdipwsp': 3023, 'infrastructure': 3024, 'panjang': 3025, 'saver': 3026, 'piece': 3027, 'rout': 3028, 'sipdip': 3029, 'requisition': 3030, 'esubmission': 3031, 'mh': 3032, 'amplify': 3033, 'suppose': 3034, 'existingnew': 3035, 'dispenser': 3036, 'polypropylene': 3037, 'nylon': 3038, 'rope': 3039, 'netting': 3040, 'dwg': 3041, 'setback': 3042, 'extension': 3043, 'gravity': 3044, 'connecting': 3045, 'tray': 3046, 'f': 3047, 'preparation': 3048, 'exceeds': 3049, 'strainer': 3050, 'protect': 3051, 'sitr': 3052, 'upgrading': 3053, 'showcase': 3054, 'sewe': 3055, 'ownerdeveloper': 3056, 'ecorenet': 3057, 'tub': 3058, 'caf': 3059, 'longbath': 3060, 'maintains': 3061, 'maintanenece': 3062, 'decide': 3063, 'pm': 3064, 'option': 3065, 'constraint': 3066, 'bapplication': 3067, 'nondevelopment': 3068, 'commission': 3069, 'choking': 3070, 'registration': 3071, 'anymore': 3072, 'tumble': 3073, 'amphior': 3074, 'yconnection': 3075, 'semidetached': 3076, 'suitation': 3077, 'cqpsew': 3078, 'pedestal': 3079, 'pan': 3080, 'demolition': 3081, 'foodstalls': 3082, 'eform': 3083, 'frorm': 3084, 'prepare': 3085, 'renew': 3086, 'dorm': 3087, 'prefabricated': 3088, 'proofing': 3089, 'rubbish': 3090, 'bin': 3091, 'swirl': 3092, 'soap': 3093, 'pave': 3094, 'ventilating': 3095, 'ventilate': 3096, 'prepost': 3097, 'loocate': 3098, 'precon': 3099, 'postcon': 3100, 'expedited': 3101, 'amed': 3102, 'homeowner': 3103, 'dec': 3104, 'neptune': 3105, 'vista': 3106, 'cny': 3107, 'soh': 3108, 'sumbmission': 3109, 'buildi': 3110, 'amg': 3111, 'satisfactory': 3112, 'sublet': 3113, 'indtall': 3114, 'extra': 3115, 'sing': 3116, 'pas': 3117, 'returning': 3118, 'storeyresidential': 3119, 'relocate': 3120, 'pubbpu': 3121, 'nol': 3122, 'nonobjection': 3123, 'noobjection': 3124, 'successfully': 3125, 'acknowledgement': 3126, 'hardcopy': 3127, 'resubmission': 3128, 'delay': 3129, 'withdraw': 3130, 'jasmine': 3131, 'precinsultation': 3132, 'cencel': 3133, 'sizing': 3134, 'shopmy': 3135, 'put': 3136, 'subdivide': 3137, 'alteration': 3138, 'reticulation': 3139, 'in': 3140, 'exisiting': 3141, 'everything': 3142, 'recess': 3143, 'submeters': 3144, 'eree': 3145, 'relocating': 3146, 'shifting': 3147, 'metee': 3148, 'submetwr': 3149, 'judy': 3150, 'standa': 3151, 'competion': 3152, 'subit': 3153, 'share': 3154, 'cornice': 3155, 'coat': 3156, 'dosarrest': 3157, 'rl': 3158, 'filtration': 3159, 'flitration': 3160, 'filteration': 3161, 'feces': 3162, 'coating': 3163, 'support': 3164, 'reapir': 3165, 'choose': 3166, 'preferred': 3167, 'secetion': 3168, 'fitter': 3169, 'meet': 3170, 'existing': 3171, 'pur': 3172, 'killiney': 3173, 'enquary': 3174, 'liquid': 3175, 'solid': 3176, 'consultantsinvolved': 3177, 'waterhub': 3178, 'prior': 3179, 'env': 3180, 'preconsult': 3181, 'consultaion': 3182, 'various': 3183, 'conncetion': 3184, 'efficient': 3185, 'rubber': 3186, 'reducy': 3187, 'cup': 3188, 'iron': 3189, 'symbol': 3190, 'bromide': 3191, 'nurture': 3192, 'young': 3193, 'households': 3194, 'conserve': 3195, 'class': 3196, 'banner': 3197, 'fun': 3198, 'encourage': 3199, 'deliver': 3200, 'watersaving': 3201, 'wast': 3202, 'brochure': 3203, 'habit': 3204, 'httpswwwpubgovsgdocumentswelsbrochureenglishpdf': 3205, 'pupil': 3206, 'charger': 3207, 'appreciate': 3208, 'amise': 3209, 'posetr': 3210, 'conversation': 3211, 'promotion': 3212, 'outdoorsuse': 3213, 'bucket': 3214, 'watrt': 3215, 'grind': 3216, 'salt': 3217, 'instrusion': 3218, 'intrusion': 3219, 'reused': 3220, 'greywater': 3221, 'greywatwer': 3222, 'grey': 3223, 'neighbouring': 3224, 'unsheltered': 3225, 'stratum': 3226, 'wet': 3227, 'grinder': 3228, 'disposer': 3229, 'taxi': 3230, 'boat': 3231, 'note': 3232, 'attire': 3233, 'canoe': 3234, 'paddle': 3235, 'paddleboard': 3236, 'mushroom': 3237, 'cafe': 3238, 'dress': 3239, 'dragonboating': 3240, 'dragonboat': 3241, 'smoke': 3242, 'prawn': 3243, 'bread': 3244, 'reserviors': 3245, 'etiquette': 3246, 'practise': 3247, 'towatch': 3248, 'lakeside': 3249, 'pang': 3250, 'sua': 3251, 'night': 3252, 'net': 3253, 'feeding': 3254, 'observe': 3255, 'pail': 3256, 'peirce': 3257, 'pond': 3258, 'reservoit': 3259, 'lower': 3260, 'designated': 3261, 'gombak': 3262, 'catche': 3263, 'ilegal': 3264, 'deck': 3265, 'macrichie': 3266, 'vivo': 3267, 'personnel': 3268, 'catchbay': 3269, 'pier': 3270, 'mac': 3271, 'richie': 3272, 'designate': 3273, 'padan': 3274, 'amited': 3275, 'consequence': 3276, 'quire': 3277, 'bit': 3278, 'unauthorised': 3279, 'sungai': 3280, 'dangerous': 3281, 'creat': 3282, 'anyhow': 3283, 'residentam': 3284, 'changing': 3285, 'genuine': 3286, 'compli': 3287, 'amentary': 3288, 'waterefficient': 3289, 'cater': 3290, 'expected': 3291, 'expect': 3292, 'undrinkable': 3293, 'terminal': 3294, 'continuously': 3295, 'flushing': 3296, 'performance': 3297, 'brown': 3298, 'straight': 3299, 'sustain': 3300, 'boil': 3301, 'worm': 3302, 'purifier': 3303, 'lab': 3304, 'micron': 3305, 'duksung': 3306, 'woman': 3307, 'korea': 3308, 'deeply': 3309, 'cloride': 3310, 'brownish': 3311, 'concern': 3312, 'machin': 3313, 'neutral': 3314, 'dispense': 3315, 'multistorey': 3316, 'caroark': 3317, 'aquarium': 3318, 'ammonia': 3319, 'brain': 3320, 'amoeba': 3321, 'lye': 3322, 'sodium': 3323, 'hydroxide': 3324, 'laboratory': 3325, 'microfilter': 3326, 'microfiltration': 3327, 'koon': 3328, 'pouch': 3329, 'pee': 3330, 'poo': 3331, 'quite': 3332, 'feel': 3333, 'mud': 3334, 'tx': 3335, 'hydrogen': 3336, 'peroxide': 3337, 'filtering': 3338, 'cloth': 3339, 'amportant': 3340, 'gather': 3341, 'sou': 3342, 'aquatic': 3343, 'concentration': 3344, 'phosphorous': 3345, 'content': 3346, 'chloromine': 3347, 'policy': 3348, 'contain': 3349, 'chloramine': 3350, 'electrolised': 3351, 'amplementing': 3352, 'amaging': 3353, 'briefly': 3354, 'stepsprocess': 3355, 'purifaying': 3356, 'sulphur': 3357, 'achieve': 3358, 'sustainability': 3359, 'indusstries': 3360, 'farm': 3361, 'poeple': 3362, 'purify': 3363, 'ariani': 3364, 'utm': 3365, 'skudai': 3366, 'haemodialysis': 3367, 'nursing': 3368, 'quantitative': 3369, 'iodine': 3370, 'authority': 3371, 'tolerancesli': 3372, 'bu': 3373, 'suggest': 3374, 'holmes': 3375, 'phosphate': 3376, 'introucting': 3377, 'ecofriendly': 3378, 'costefficient': 3379, 'softness': 3380, 'waulity': 3381, 'wha': 3382, 'play': 3383, 'chloride': 3384, 'zinc': 3385, 'sustsinability': 3386, 'recycled': 3387, 'mountbatten': 3388, 'comprehensively': 3389, 'tester': 3390, 'corporatize': 3391, 'slight': 3392, 'cloudy': 3393, 'sandy': 3394, 'kettle': 3395, 'layour': 3396, 'powder': 3397, 'chalky': 3398, 'alkaline': 3399, 'cloudiness': 3400, 'alot': 3401, 'noise': 3402, 'whenever': 3403, 'travel': 3404, 'loud': 3405, 'knocking': 3406, 'hiss': 3407, 'ferrys': 3408, 'horn': 3409, 'aloud': 3410, 'keeeek': 3411, 'someti': 3412, 'noisesound': 3413, 'anf': 3414, 'supporr': 3415, 'finishe': 3416, 'fiash': 3417, 'reddish': 3418, 'sedi': 3419, 'reported': 3420, 'kembangan': 3421, 'verde': 3422, 'dark': 3423, 'idea': 3424, 'dirt': 3425, 'tao': 3426, 'murky': 3427, 'watet': 3428, 'salty': 3429, 'resuspension': 3430, 'natu': 3431, 'asssit': 3432, 'yellowish': 3433, 'discoloured': 3434, 'discolour': 3435, 'yellow': 3436, 'turbidyellow': 3437, 'abnormal': 3438, 'bag': 3439, 'resolve': 3440, 'reaervoirs': 3441, 'mobile': 3442, 'vehicle': 3443, 'wagon': 3444, 'dispose': 3445, 'italian': 3446, 'producerwhat': 3447, 'cettification': 3448, 'camp': 3449, 'baarage': 3450, 'wedding': 3451, 'lunch': 3452, 'kite': 3453, 'aug': 3454, 'birthday': 3455, 'barriage': 3456, 'howmuch': 3457, 'voluntary': 3458, 'teach': 3459, 'exibitions': 3460, 'christmas': 3461, 'eve': 3462, 'learning': 3463, 'shuttle': 3464, 'ticket': 3465, 'shoot': 3466, 'barage': 3467, 'curret': 3468, 'ceo': 3469, 'graduation': 3470, 'photoshoot': 3471, 'photography': 3472, 'filming': 3473, 'photoshoots': 3474, 'filmingphotographyphotoshoots': 3475, 'prewedding': 3476, 'aerial': 3477, 'restriction': 3478, 'restricted': 3479, 'conducting': 3480, 'expert': 3481, 'volunteer': 3482, 'effort': 3483, 'example': 3484, 'seleta': 3485, 'reservoirs': 3486, 'reservors': 3487, 'singpore': 3488, 'marathon': 3489, 'auditorium': 3490, 'hub': 3491, 'published': 3492, 'personal': 3493, 'macrithie': 3494, 'effective': 3495, 'news': 3496, 'equip': 3497, 'showering': 3498, 'discard': 3499, 'obike': 3500, 'connectorpcn': 3501, 'bike': 3502, 'indiscri': 3503, 'aminate': 3504, 'ofo': 3505, 'mobike': 3506, 'rail': 3507, 'offical': 3508, 'playground': 3509, 'gallery': 3510, 'ssg': 3511, 'certificatinon': 3512, 'abcwaters': 3513, 'calendar': 3514, 'difficulty': 3515, 'amilar': 3516, 'punggold': 3517, 'beautiful': 3518, 'lebah': 3519, 'completedwhere': 3520, 'pet': 3521, 'dog': 3522, 'leash': 3523, 'speaking': 3524, 'february': 3525, 'disconnection': 3526, 'mabager': 3527, 'cuz': 3528, 'mess': 3529, 'regd': 3530, 'vendor': 3531, 'alternative': 3532, 'toll': 3533, 'saysi': 3534, 'utilitie': 3535, 'sayssp': 3536, 'might': 3537, 'handlingplease': 3538, 'gro': 3539, 'tried': 3540, 'telephone': 3541, 'reachable': 3542, 'sps': 3543, 'handphone': 3544, 'interceptor': 3545, 'graphene': 3546, 'describe': 3547, 'nearby': 3548, 'panasonic': 3549, 'ie': 3550, 'mach': 3551, 'pct': 3552, 'locally': 3553, 'nearer': 3554, 'pore': 3555, 'independent': 3556, 'teacher': 3557, 'world': 3558, 'amportance': 3559, 'amporting': 3560, 'educate': 3561, 'overcome': 3562, 'diversified': 3563, 'desalinate': 3564, 'rap': 3565, 'bahru': 3566, 'linggui': 3567, 'scarce': 3568, 'evaluate': 3569, 'effectiveness': 3570, 'revenue': 3571, 'develop': 3572, 'four': 3573, 'target': 3574, 'turbidity': 3575, 'threshold': 3576, 'mechanism': 3577, 'treaty': 3578, 'jb': 3579, 'supple': 3580, 'short': 3581, 'cheaper': 3582, 'speed': 3583, 'motorised': 3584, 'yacht': 3585, 'erservoir': 3586, 'swing': 3587, 'success': 3588, 'story': 3589, 'salcocerceaqueretarogobmx': 3590, 'agent': 3591, 'workeris': 3592, 'amplement': 3593, 'ant': 3594, 'gate': 3595, 'idiot': 3596, 'openon': 3597, 'hq': 3598, 'ms': 3599, 'kai': 3600, 'emal': 3601, 'tenglaychanpubgovsg': 3602, 'cw': 3603, 'boost': 3604, 'communicate': 3605, 'route': 3606, 'background': 3607, 'melvin': 3608, 'ng': 3609, 'discoloration': 3610, 'costumer': 3611, 'industies': 3612, 'reseviors': 3613, 'emaill': 3614, 'fax': 3615, 'publication': 3616, 'rita': 3617, 'informationever': 3618, 'mindedia': 3619, 'cultural': 3620, 'affairsembassy': 3621, 'republic': 3622, 'indonesia': 3623, 'folty': 3624, 'mashhor': 3625, 'bitter': 3626, 'poscode': 3627, 'poh': 3628, 'nparks': 3629, 'drough': 3630, 'inportance': 3631, 'roving': 3632, 'exhibition': 3633, 'cooperative': 3634, 'comercial': 3635, 'relationship': 3636, 'peru': 3637, 'hican': 3638, 'ir': 3639, 'hihi': 3640, 'compliant': 3641, 'tenaga': 3642, 'renovationlast': 3643, 'flowingpls': 3644, 'zulkifli': 3645, 'tanah': 3646, 'merah': 3647, 'hee': 3648, 'real': 3649, 'solutionwe': 3650, 'willing': 3651, 'touch': 3652, 'assurance': 3653, 'hall': 3654, 'solution': 3655, 'consumptionneed': 3656, 'discuss': 3657, 'cso': 3658, 'introduce': 3659, 'coompany': 3660, 'superviser': 3661, 'tamil': 3662, 'word': 3663, 'esquire': 3664, 'contraactor': 3665, 'woking': 3666, 'rto': 3667, 'lta': 3668, 'hrlo': 3669, 'tolrt': 3670, 'monopoly': 3671, 'supervisor': 3672, 'lodge': 3673, 'jwrp': 3674, 'tagline': 3675, 'mate': 3676, 'qecp': 3677, 'ewi': 3678, 'pertain': 3679, 'msy': 3680, 'addreas': 3681, 'viewing': 3682, 'asst': 3683, 'wong': 3684, 'jia': 3685, 'yit': 3686, 'renovationwe': 3687, 'husband': 3688, 'chg': 3689, 'accountbyo': 3690, 'steal': 3691, 'reserved': 3692, 'pl': 3693, 'plz': 3694, 'pr': 3695, 'scott': 3696, 'somerset': 3697, 'pubone': 3698, 'cloke': 3699, 'mwss': 3700, 'administrator': 3701, 'reynaldo': 3702, 'velasco': 3703, 'cphn': 3704, 'match': 3705, 'berep': 3706, 'cloak': 3707, 'gad': 3708, 'helpdesk': 3709, 'waterways': 3710, 'filing': 3711, 'roadmap': 3712, 'turnover': 3713, 'adrress': 3714, 'deadline': 3715, 'qsm': 3716, 'felix': 3717, 'tan': 3718, 'onestop': 3719, 'aw': 3720, 'kheng': 3721, 'bendemeer': 3722, 'role': 3723, 'bldg': 3724, 'roles': 3725, 'pun': 3726, 'registry': 3727, 'season': 3728, 'midge': 3729, 'rivervale': 3730, 'locatrd': 3731, 'loca': 3732, 'asset': 3733, 'own': 3734, 'singapoore': 3735, 'kranchi': 3736, 'motorise': 3737, 'kayakingw': 3738, 'organise': 3739, 'waterrelated': 3740, 'natural': 3741, 'factor': 3742, 'organize': 3743, 'activties': 3744, 'mariti': 3745, 'port': 3746, 'mpa': 3747, 'hoist': 3748, 'belt': 3749, 'marking': 3750, 'chancery': 3751, 'chain': 3752, 'erection': 3753, 'circumstance': 3754, 'amplifies': 3755, 'identification': 3756, 'plate': 3757, 'subsoil': 3758, 'collapse': 3759, 'crossing': 3760, 'grating': 3761, 'eup': 3762, 'storey': 3763, 'showflats': 3764, 'annotate': 3765, 'shoul': 3766, 'airport': 3767, 'revise': 3768, 'retain': 3769, 'retrench': 3770, 'width': 3771, 'trenching': 3772, 'admittance': 3773, 'downpipes': 3774, 'harvesting': 3775, 'incorporate': 3776, 'relaxes': 3777, 'harvester': 3778, 'facilitiestoilets': 3779, 'neas': 3780, 'watermain': 3781, 'disinfection': 3782, 'inhouse': 3783, 'ahead': 3784, 'progress': 3785, 'incomplete': 3786, 'lomg': 3787, 'approvec': 3788, 'interactivity': 3789, 'schematic': 3790, 'undetected': 3791, 'plea': 3792, 'lossleakage': 3793, 'rebatew': 3794, 'excess': 3795, 'spoilage': 3796, 'deduct': 3797, 'refundrebate': 3798, 'concessation': 3799, 'reqest': 3800, 'consession': 3801, 'reduction': 3802, 'te': 3803, 'deviation': 3804, 'defect': 3805, 'liability': 3806, 'refresher': 3807, 'effecciency': 3808, 'recertification': 3809, 'chin': 3810, 'bee': 3811, 'continuity': 3812, 'buti': 3813, 'salary': 3814, 'comcare': 3815, 'captcha': 3816, 'validation': 3817, 'contextual': 3818, 'hatch': 3819, 'uob': 3820, 'kay': 3821, 'hian': 3822, 'blank': 3823, 'tru': 3824, 'conseravation': 3825, 'mine': 3826, 'lacang': 3827, 'mamerto': 3828, 'jr': 3829, 'okey': 3830, 'num': 3831, 'governemnt': 3832, 'drainng': 3833, 'highquality': 3834, 'contrast': 3835, 'multistage': 3836, 'multieffect': 3837, 'med': 3838, 'expose': 3839, 'submision': 3840, 'amplified': 3841, 'uis': 3842, 'merchandize': 3843, 'merchandise': 3844, 'qsms': 3845, 'rude': 3846, 'adult': 3847, 'perios': 3848, 'tourist': 3849, 'educational': 3850, 'ambassador': 3851, 'field': 3852, 'fieldtrip': 3853, 'pax': 3854, 'bookingwhat': 3855, 'padang': 3856, 'advance': 3857, 'pengurusan': 3858, 'selangor': 3859, 'planthow': 3860, 'visi': 3861, 'keen': 3862, 'indoor': 3863, 'fri': 3864, 'guided': 3865, 'childrens': 3866, 'output': 3867, 'outreach': 3868, 'five': 3869, 'scientific': 3870, 'saudi': 3871, 'arabia': 3872, 'oversea': 3873, 'shoddy': 3874, 'workmanship': 3875, 'atatemwnt': 3876, 'citi': 3877, 'paynow': 3878, 'axs': 3879, 'epay': 3880, 'epayment': 3881, 'amake': 3882, 'arrg': 3883, 'enroll': 3884, 'everyday': 3885, 'staement': 3886, 'utilies': 3887, 'visa': 3888, 'posb': 3889, 'notable': 3890, 'rung': 3891, 'specification': 3892, 'outgo': 3893, 'snapshot': 3894, 'returnwhich': 3895, 'capture': 3896, 'montly': 3897, 'manually': 3898, 'submitour': 3899, 'cange': 3900, 'payee': 3901, 'easy': 3902, 'monthing': 3903, 'acquire': 3904, 'tenated': 3905, 'billname': 3906, 'hichange': 3907, 'hoe': 3908, 'original': 3909, 'tranfer': 3910, 'recipient': 3911, 'death': 3912, 'payour': 3913, 'deceased': 3914, 'resaleflathow': 3915, 'renants': 3916, 'dad': 3917, 'niw': 3918, 'psying': 3919, 'lke': 3920, 'fo': 3921, 'fdo': 3922, 'thay': 3923, 'hiif': 3924, 'alr': 3925, 'agobut': 3926, 'wil': 3927, 'market': 3928, 'relative': 3929, 'dy': 3930, 'employment': 3931, 'banking': 3932, 'boss': 3933, 'chief': 3934, 'accredited': 3935, 'director': 3936, 'organisatoon': 3937, 'senior': 3938, 'colours': 3939, 'chrome': 3940, 'retailer': 3941, 'dual': 3942, 'awarded': 3943, 'miniumun': 3944, 'rating': 3945, 'flushinh': 3946, 'sale': 3947, 'least': 3948, 'blood': 3949, 'silver': 3950, 'thread': 3951, 'partickes': 3952, 'turbid': 3953, 'pour': 3954, 'consumptionthere': 3955, 'whitish': 3956, 'reposnce': 3957, 'chekc': 3958, 'khartoumsudan': 3959, 'constructuon': 3960, 'experienced': 3961, 'jc': 3962, 'publicity': 3963, 'perception': 3964, 'airpod': 3965, 'rake': 3966, 'mascot': 3967, 'elias': 3968, 'cold': 3969, 'witness': 3970, 'realize': 3971, 'tapmeter': 3972, 'planinh': 3973, 'httpswwwchannelnewsasiacomnewssingaporepubtodeploysingaporesfirstlar': 3974, 'opera': 3975, 'foul': 3976, 'swanlake': 3977, 'baker': 3978, 'jelapang': 3979, 'advisory': 3980, 'announce': 3981, 'foi': 3982, 'equipment': 3983, 'blocked': 3984, 'guan': 3985, 'positive': 3986, 'saff': 3987, 'panel': 3988, 'dropped': 3989, 'sop': 3990, 'redy': 3991, 'fikarlo': 3992, 'mas': 3993, 'kuning': 3994, 'deem': 3995, 'beyond': 3996, 'tubifex': 3997, 'horrible': 3998, 'cardiff': 3999, 'gr': 4000, 'ttioae': 4001, 'accumulate': 4002, 'incase': 4003, 'noticeable': 4004, 'debris': 4005, 'riverbed': 4006, 'highlight': 4007, 'ridley': 4008, 'mgmt': 4009, 'tanglin': 4010, 'breeding': 4011, 'mosqutoes': 4012, 'cluny': 4013, 'qaulity': 4014, 'force': 4015, 'supplyquality': 4016, 'rajawali': 4017, 'thunderstorm': 4018, 'blockage': 4019, 'chock': 4020, 'dewatering': 4021, 'centrifuge': 4022, 'sswd': 4023, 'dried': 4024, 'leaf': 4025, 'chokedwho': 4026, 'chokedunable': 4027, 'chokedpls': 4028, 'fernvale': 4029, 'none': 4030, 'rat': 4031, 'damege': 4032, 'adv': 4033, 'mi': 4034, 'whampo': 4035, 'kemaman': 4036, 'warrant': 4037, 'attentionsomebody': 4038, 'colored': 4039, 'packet': 4040, 'circuit': 4041, 'breaker': 4042, 'pungool': 4043, 'propellor': 4044, 'circulation': 4045, 'arenow': 4046, 'grass': 4047, 'abstraction': 4048, 'ampa': 4049, 'kiri': 4050, 'fencing': 4051, 'sew': 4052, 'obstruction': 4053, 'dig': 4054, 'stjnk': 4055, 'flesh': 4056, 'backflow': 4057, 'smelly': 4058, 'half': 4059, 'workkng': 4060, 'toh': 4061, 'tuck': 4062, 'undergroth': 4063, 'moe': 4064, 'plummer': 4065, 'gul': 4066, 'footway': 4067, 'narayanan': 4068, 'chetty': 4069, 'downpour': 4070, 'hormon': 4071, 'resolved': 4072, 'vibrate': 4073, 'pipeburst': 4074, 'tanker': 4075, 'illegally': 4076, 'siphon': 4077, 'benaan': 4078, 'kapal': 4079, 'dairy': 4080, 'manhattan': 4081, 'amei': 4082, 'weird': 4083, 'wood': 4084, 'cabin': 4085, 'camera': 4086, 'merchant': 4087, 'sunk': 4088, 'loose': 4089, 'dent': 4090, 'electical': 4091, 'motor': 4092, 'circulate': 4093, 'punngol': 4094, 'pak': 4095, 'atre': 4096, 'metropole': 4097, 'ramzi': 4098, 'weve': 4099, 'katong': 4100, 'taste': 4101, 'strange': 4102, 'tankwho': 4103, 'metal': 4104, 'muddy': 4105, 'funny': 4106, 'warm': 4107, 'sleep': 4108, 'isit': 4109, 'metallic': 4110, 'neighbours': 4111, 'cum': 4112, 'couple': 4113, 'adam': 4114, 'yay': 4115, 'unusual': 4116, 'bnf': 4117, 'vietnam': 4118, 'centee': 4119, 'allocation': 4120, 'mapsheets': 4121, 'sids': 4122, 'ent': 4123, 'provisonal': 4124, 'eath': 4125, 'resubmit': 4126, 'submssion': 4127, 'particular': 4128, 'funding': 4129, 'bathtub': 4130, 'razaul': 4131, 'kari': 4132, 'conductor': 4133, 'argent': 4134, 'roadif': 4135, 'busyi': 4136, 'noification': 4137, 'duplicable': 4138, 'srvice': 4139, 'madatory': 4140, 'dioxide': 4141, 'frequency': 4142, 'medical': 4143, 'leach': 4144, 'whee': 4145, 'reinforced': 4146, 'regular': 4147, 'inject': 4148, 'preventive': 4149, 'disease': 4150, 'quote': 4151, 'electricty': 4152, 'electricityprivate': 4153, 'siglap': 4154, 'delete': 4155, 'wiring': 4156, 'stainless': 4157, 'steel': 4158, 'rerun': 4159, 'supoly': 4160, 'staircase': 4161, 'bracket': 4162, 'copper': 4163, 'alignever': 4164, 'pumping': 4165, 'req': 4166, 'coney': 4167, 'haunching': 4168, 'representative': 4169, 'pows': 4170, 'posw': 4171, 'relevant': 4172, 'hdpe': 4173, 'nots': 4174, 'watermains': 4175, 'vicinity': 4176, 'cleanup': 4177, 'polluted': 4178, 'canwe': 4179, 'rhat': 4180, 'remain': 4181, 'ssangyong': 4182, 'onconstruction': 4183, 'biogas': 4184, 'digester': 4185, 'bid': 4186, 'httpswwwpubgovsgtendersawardedcontractspes': 4187, 'kalyan': 4188, 'systea': 4189, 'italy': 4190, 'analyser': 4191, 'ot': 4192, 'expand': 4193, 'regardless': 4194, 'contaminant': 4195, 'export': 4196, 'contains': 4197, 'interest': 4198, 'downside': 4199, 'footpath': 4200, 'troughout': 4201, 'frp': 4202, 'inflow': 4203, 'forbids': 4204, 'se': 4205, 'singapoee': 4206, 'seawater': 4207, 'reclai': 4208, 'anythjng': 4209, 'pro': 4210, 'retard': 4211, 'singaporewaterstory': 4212, 'exercise': 4213, 'licnesing': 4214, 'prevalent': 4215, 'w': 4216, 'paste': 4217, 'developed': 4218, 'checklist': 4219, 'theme': 4220, 'significance': 4221, 'conc': 4222, 'hanunch': 4223, 'separately': 4224, 'connectio': 4225, 'watercouse': 4226, 'fogging': 4227, 'todsy': 4228, 'teban': 4229, 'infest': 4230, 'onlinepurchased': 4231, 'bought': 4232, 'dissolve': 4233, 'completeion': 4234, 'greenleaf': 4235, 'artist': 4236, 'ampression': 4237, 'herbicide': 4238, 'golf': 4239, 'recycling': 4240, 'wafer': 4241, 'fabrication': 4242, 'semiconductor': 4243, 'vision': 4244, 'mission': 4245, 'van': 4246, 'kleef': 4247, 'meanin': 4248, 'sessionub': 4249, 'controllable': 4250, 'erosion': 4251, 'clogged': 4252, 'privides': 4253, 'pie': 4254, 'slowmy': 4255, 'unsatisfied': 4256, 'authorise': 4257, 'fund': 4258, 'qualifying': 4259, 'germ': 4260, 'cwtp': 4261, 'cwrp': 4262, 'tocontact': 4263, 'tarigg': 4264, 'kar': 4265, 'geok': 4266, 'tambling': 4267, 'trop': 4268, 'emporary': 4269, 'numbr': 4270, 'uiltity': 4271, 'chilled': 4272, 'washer': 4273, 'tekong': 4274, 'obstruct': 4275, 'balmoral': 4276, 'disturb': 4277, 'chiolin': 4278, 'hd': 4279, 'd': 4280, 'eli': 4281, 'lid': 4282, 'endorses': 4283, 'norm': 4284, 'wster': 4285, 'slippery': 4286, 'nsc': 4287, 'marymount': 4288, 'invert': 4289, 'reinstall': 4290, 'standup': 4291, 'boarding': 4292, 'canels': 4293, 'expact': 4294, 'teleport': 4295, 'filling': 4296, 'chute': 4297, 'repipe': 4298, 'bracing': 4299, 'brace': 4300, 'clay': 4301, 'groundwater': 4302, 'reset': 4303, 'lizard': 4304, 'snake': 4305, 'reaervoir': 4306, 'subsidy': 4307, 'stockpile': 4308, 'sakra': 4309, 'hah': 4310, 'lekage': 4311, 'boy': 4312, 'nrw': 4313, 'yoy': 4314, 'yep': 4315, 'bore': 4316, 'hotlikne': 4317, 'district': 4318, 'poke': 4319, 'macrithchi': 4320, 'che': 4321, 'istnut': 4322, 'lin': 4323, 'gui': 4324, 'denn': 4325, 'copyright': 4326, 'amages': 4327, 'gateway': 4328, 'westgate': 4329, 'jgtpl': 4330, 'papillon': 4331, 'wedsite': 4332, 'retention': 4333, 'pulao': 4334, 'desal': 4335, 'existence': 4336, 'oilwater': 4337, 'treatmenthow': 4338, 'cubicle': 4339, 'serwer': 4340, 'p': 4341, 'wilson': 4342, 'winson': 4343, 'blair': 4344, 'pubcompofwork': 4345, 'walkway': 4346, 'pound': 4347, 'pedestrian': 4348, 'hyflux': 4349, 'rip': 4350, 'loan': 4351, 'perform': 4352, 'president': 4353, 'tuaspring': 4354, 'nuwater': 4355, 'kria': 4356, 'coleman': 4357, 'labelling': 4358, 'tuesday': 4359, 'inconsistent': 4360, 'kian': 4361, 'pheng': 4362, 'yello': 4363, 'repairing': 4364, 'trouble': 4365, 'bangkit': 4366, 'webpage': 4367, 'speck': 4368, 'nee': 4369, 'army': 4370, 'thr': 4371, 'finishing': 4372, 'fortp': 4373, 'clemanti': 4374, 'truck': 4375, 'murai': 4376, 'liscen': 4377, 'lampost': 4378, 'drainline': 4379, 'cckww': 4380, 'peb': 4381, 'grid': 4382, 'flower': 4383, 'bed': 4384, 'rainwate': 4385, 'nvc': 4386, 'gu': 4387, 'wwwpebgovsg': 4388, 'auto': 4389, 'aknowledgement': 4390, 'nutritional': 4391, 'neet': 4392, 'schedue': 4393, 'desalinating': 4394, 'powshowever': 4395, 'warn': 4396, 'fong': 4397, 'xi': 4398, 'ning': 4399, 'jestoni': 4400, 'scada': 4401, 'dispute': 4402, 'warranty': 4403, 'spec': 4404, 'discover': 4405, 'skin': 4406, 'irritation': 4407, 'purchasing': 4408, 'intern': 4409, 'lingiu': 4410, 'feed': 4411, 'loadgement': 4412, 'outdoor': 4413, 'refreshment': 4414, 'advisedby': 4415, 'coordinate': 4416, 'contactme': 4417, 'pubonepubgovsg': 4418, 'acknowledgment': 4419, 'conseal': 4420, 'formet': 4421, 'gismapping': 4422, 'eventsfloodpone': 4423, 'araes': 4424, 'cheng': 4425, 'hwee': 4426, 'meng': 4427, 'shun': 4428, 'ty': 4429, 'pollutant': 4430, 'dainage': 4431, 'kadiel': 4432, 'unot': 4433, 'cctvreport': 4434, 'han': 4435, 'loong': 4436, 'callig': 4437, 'phon': 4438, 'enumber': 4439, 'procurement': 4440, 'harry': 4441, 'seah': 4442, 'assitant': 4443, 'whereby': 4444, 'plus': 4445, 'valut': 4446, 'ritchie': 4447, 'flame': 4448, 'opportunity': 4449, 'resultcan': 4450, 'gon': 4451, 'takeover': 4452, 'drinage': 4453, 'requirment': 4454, 'dunbar': 4455, 'deccan': 4456, 'hell': 4457, 'takeshi': 4458, 'itagaki': 4459, 'japanese': 4460, 'maker': 4461, 'jis': 4462, 'orange': 4463, 'substance': 4464, 'wipe': 4465, 'tissue': 4466, 'hotspot': 4467, 'wholesale': 4468, 'ssw': 4469, 'hazel': 4470, 'indian': 4471, 'left': 4472, 'fluh': 4473, 'pumbers': 4474, 'applicat': 4475, 'dedication': 4476, 'bankmay': 4477, 'nowmy': 4478, 'biz': 4479, 'setup': 4480}\n"
          ]
        }
      ]
    },
    {
      "cell_type": "code",
      "metadata": {
        "colab": {
          "base_uri": "https://localhost:8080/"
        },
        "id": "CSANKVVa8I5l",
        "outputId": "6a43c710-19e0-412d-fdcb-3a83d5e84b72"
      },
      "source": [
        "weights_matrix.shape"
      ],
      "execution_count": null,
      "outputs": [
        {
          "output_type": "execute_result",
          "data": {
            "text/plain": [
              "(4481, 200)"
            ]
          },
          "metadata": {},
          "execution_count": 43
        }
      ]
    },
    {
      "cell_type": "code",
      "metadata": {
        "colab": {
          "base_uri": "https://localhost:8080/"
        },
        "id": "l0Jb4ZnauZr5",
        "outputId": "12591d94-bf95-465d-e5a2-53b53dc5c914"
      },
      "source": [
        "sentences_num = []\n",
        "\n",
        "for i in all_sentences+all_sentences_val:\n",
        "  sentences_num.append([voc_dic[y] for y in i.split()])\n",
        "\n",
        "print('Tokenized: ', sentences_num[1])"
      ],
      "execution_count": null,
      "outputs": [
        {
          "output_type": "stream",
          "name": "stdout",
          "text": [
            "Tokenized:  [7, 8, 9]\n"
          ]
        }
      ]
    },
    {
      "cell_type": "code",
      "metadata": {
        "colab": {
          "base_uri": "https://localhost:8080/"
        },
        "id": "2aVEceSWt2dE",
        "outputId": "edd40594-be7e-4605-d6d7-aa0f6c32207e"
      },
      "source": [
        "#sentence zero-padding\n",
        "padded = pad_sequences(sentences_num, padding='post')\n",
        "\n",
        "print('Padded: ', padded[0])"
      ],
      "execution_count": null,
      "outputs": [
        {
          "output_type": "stream",
          "name": "stdout",
          "text": [
            "Padded:  [1 2 3 4 5 6 0 0 0 0 0 0 0 0 0 0 0 0 0 0 0 0]\n"
          ]
        }
      ]
    },
    {
      "cell_type": "code",
      "metadata": {
        "colab": {
          "base_uri": "https://localhost:8080/"
        },
        "id": "xOWSlbPOr4mQ",
        "outputId": "e6350318-5c46-452d-b050-ed209eb093bd"
      },
      "source": [
        "vocab_reversed = {v:k for k,v in voc_dic.items()}\n",
        "\n",
        "print('Text', [vocab_reversed[i] if i!=0 else 0 for i in padded[0]])"
      ],
      "execution_count": null,
      "outputs": [
        {
          "output_type": "stream",
          "name": "stdout",
          "text": [
            "Text ['mw', 'float', 'solar', 'pv', 'tender', 'document', 0, 0, 0, 0, 0, 0, 0, 0, 0, 0, 0, 0, 0, 0, 0, 0]\n"
          ]
        }
      ]
    },
    {
      "cell_type": "code",
      "metadata": {
        "id": "OmoVhF0vr4ex"
      },
      "source": [
        "y_train = df_train.label.to_numpy()\n",
        "y_test = df_test.label.to_numpy()"
      ],
      "execution_count": null,
      "outputs": []
    },
    {
      "cell_type": "code",
      "metadata": {
        "colab": {
          "base_uri": "https://localhost:8080/"
        },
        "id": "j_FZQmbrxG30",
        "outputId": "726defc4-d127-40e5-fa3b-3ba871c97f30"
      },
      "source": [
        "padded"
      ],
      "execution_count": null,
      "outputs": [
        {
          "output_type": "execute_result",
          "data": {
            "text/plain": [
              "array([[   1,    2,    3, ...,    0,    0,    0],\n",
              "       [   7,    8,    9, ...,    0,    0,    0],\n",
              "       [  10,   11,   12, ...,    0,    0,    0],\n",
              "       ...,\n",
              "       [ 247,  253,   30, ...,    0,    0,    0],\n",
              "       [2013,  659,   30, ...,    0,    0,    0],\n",
              "       [ 142,  107,  130, ...,    0,    0,    0]], dtype=int32)"
            ]
          },
          "metadata": {},
          "execution_count": 48
        }
      ]
    },
    {
      "cell_type": "markdown",
      "metadata": {
        "id": "16_-60QA0rJW"
      },
      "source": [
        "TF-IDF and SVM for baseline"
      ]
    },
    {
      "cell_type": "code",
      "source": [
        "#baseline by the most frequent class\n",
        "df_test.groupby('label').count().sort_values('text').iloc[-1].values[0]/len(df_test)*100"
      ],
      "metadata": {
        "id": "pu5-e0Dhe6u8",
        "outputId": "70329a25-ed36-40b4-c920-bf0e3347d4ff",
        "colab": {
          "base_uri": "https://localhost:8080/"
        }
      },
      "execution_count": null,
      "outputs": [
        {
          "output_type": "execute_result",
          "data": {
            "text/plain": [
              "10.09433962264151"
            ]
          },
          "metadata": {},
          "execution_count": 49
        }
      ]
    },
    {
      "cell_type": "code",
      "source": [
        "vectorizer = TfidfVectorizer(max_features=20000, ngram_range=(1,4))"
      ],
      "metadata": {
        "id": "LoZi_b0Be8Yi"
      },
      "execution_count": null,
      "outputs": []
    },
    {
      "cell_type": "code",
      "source": [
        "svm = LinearSVC()\n",
        "model = pipeline.Pipeline([(\"vectorizer\", vectorizer),  \n",
        "                           (\"svm\", svm)])\n",
        "\n",
        "model.fit(train1[\"text_final\"].values, y_train)\n",
        "predicted = model.predict(valid1[\"text_final\"].values)"
      ],
      "metadata": {
        "id": "bk9s3B2be71x"
      },
      "execution_count": null,
      "outputs": []
    },
    {
      "cell_type": "code",
      "source": [
        "accuracy_score(predicted, y_test)"
      ],
      "metadata": {
        "id": "yqyDI3gTgRQ1",
        "outputId": "87a28406-bc46-421d-c1b0-cc8f086b54c9",
        "colab": {
          "base_uri": "https://localhost:8080/"
        }
      },
      "execution_count": null,
      "outputs": [
        {
          "output_type": "execute_result",
          "data": {
            "text/plain": [
              "0.5009433962264151"
            ]
          },
          "metadata": {},
          "execution_count": 90
        }
      ]
    },
    {
      "cell_type": "code",
      "source": [
        "predicted"
      ],
      "metadata": {
        "id": "MARtBm_5hnX5",
        "outputId": "a3ecdf93-03ed-4363-ff37-39c5e6135752",
        "colab": {
          "base_uri": "https://localhost:8080/"
        }
      },
      "execution_count": null,
      "outputs": [
        {
          "output_type": "execute_result",
          "data": {
            "text/plain": [
              "array([ 1,  1, 33, ...,  3,  3, 33])"
            ]
          },
          "metadata": {},
          "execution_count": 91
        }
      ]
    },
    {
      "cell_type": "markdown",
      "metadata": {
        "id": "j2AQeKmhPTvM"
      },
      "source": [
        "Straightforward LSTM-based classifier + self-attention (not as in Transformers, simplier one, see my [other experiment](https://github.com/yorketh/machine-learning/blob/master/tweets_attention.ipynb) with this module)"
      ]
    },
    {
      "cell_type": "code",
      "metadata": {
        "id": "KCQJmGuV1qYJ"
      },
      "source": [
        "train_data = TensorDataset(torch.from_numpy(padded[:len(train),:]), torch.tensor(y_train))\n",
        "valid_data = TensorDataset(torch.from_numpy(padded[len(train):,:]), torch.tensor(y_test))\n",
        "\n",
        "\n",
        "batch_size = 30\n",
        "\n",
        "train_loader = DataLoader(train_data, shuffle=True, batch_size=batch_size, \n",
        "                          drop_last=True)\n",
        "valid_loader = DataLoader(valid_data, shuffle=True, batch_size=batch_size, \n",
        "                          drop_last=True)\n",
        "\n",
        "\n",
        "train_on_gpu = torch.cuda.is_available()"
      ],
      "execution_count": null,
      "outputs": []
    },
    {
      "cell_type": "code",
      "metadata": {
        "id": "g6lijP22weed"
      },
      "source": [
        "class Sent(nn.Module):\n",
        "    def __init__(self, weights_matrix, hidden_size, linear_hid, d, r):\n",
        "        super(Sent, self).__init__()\n",
        "        self.hidden_size = hidden_size\n",
        "        self.d = d\n",
        "        self.r = r\n",
        "        self.linear_hid = linear_hid\n",
        "        self.embed, num_embeddings, embedding_dim = create_emb_layer(weights_matrix, True)\n",
        "\n",
        "        self.lstm = nn.LSTM(embedding_dim, hidden_size, batch_first=True, \n",
        "                            bidirectional=True)\n",
        "        self.w1 = nn.Linear(2*hidden_size, d, bias=False)\n",
        "        self.tanh = nn.Tanh()\n",
        "        self.w2 = nn.Linear(d, r, bias = False)\n",
        "        self.soft = nn.Softmax(dim=1)\n",
        "        self.drop = nn.Dropout(.3)\n",
        "\n",
        "        self.lin1 = nn.Linear(2*hidden_size, linear_hid)\n",
        "        self.relu = nn.ReLU()\n",
        "        self.lin2 = nn.Linear(linear_hid, train.Class_ID.nunique())\n",
        "\n",
        "      \n",
        "    def forward(self, x, hidden):\n",
        "      \n",
        "      batch_size = x.size(0)\n",
        "      x = x.long()\n",
        "      em = self.embed(x)\n",
        "      \n",
        "      out, hidden = self.lstm(em, hidden)\n",
        "      \n",
        "      out = self.drop(out)\n",
        "     \n",
        "      _w = self.tanh(self.w1(out))\n",
        "      w = self.w2(_w)\n",
        "      w = torch.abs(w)\n",
        "      \n",
        "      \n",
        "      att = self.soft(w)\n",
        "      \n",
        "      att = w.transpose(dim0=1, dim1=2)\n",
        "    \n",
        "      m = torch.matmul(att, out)\n",
        "      m = m.mean(dim=1)\n",
        "      \n",
        "      m = m.view(batch_size, -1)\n",
        "      \n",
        "      x = self.relu(self.lin1(m))\n",
        "     \n",
        "      x = self.lin2(x)\n",
        "\n",
        "      return x, hidden\n",
        "\n",
        "    def initHidden(self, batch_size):\n",
        "        weight = next(self.parameters()).data\n",
        "        if train_on_gpu:\n",
        "          hidden = (weight.new(2, batch_size, self.hidden_size).zero_().cuda(), #//2\n",
        "                  weight.new(2, batch_size, self.hidden_size).zero_().cuda())\n",
        "        else:\n",
        "          hidden = (weight.new(2, batch_size, self.hidden_size).zero_().cpu(), #//2\n",
        "                  weight.new(2, batch_size, self.hidden_size).zero_().cpu())\n",
        "        return hidden\n",
        "\n",
        "\n",
        "hidden_size = 32\n",
        "d = 10\n",
        "r = 1\n",
        "linear_hid = 200\n",
        "\n",
        "net = Sent(weights_matrix, hidden_size, linear_hid, d, r)\n"
      ],
      "execution_count": null,
      "outputs": []
    },
    {
      "cell_type": "code",
      "metadata": {
        "id": "_MM5gMI_HcVE"
      },
      "source": [
        "def count_parameters(model):\n",
        "    return sum(p.numel() for p in net.parameters() if p.requires_grad)\n",
        "\n",
        "print(f'Number of parameters: {count_parameters(net)}')\n",
        "\n",
        "optimizer = torch.optim.AdamW(net.parameters(), lr=0.001)\n",
        "criterion = torch.nn.CrossEntropyLoss()\n",
        "\n",
        "epochs = 30\n",
        "counter = 0\n",
        "clip = 5\n",
        "print_every = 200\n",
        "count_ep = 0\n",
        "\n",
        "if train_on_gpu:\n",
        "    net.cuda()\n",
        "\n",
        "net.train()"
      ],
      "execution_count": null,
      "outputs": []
    },
    {
      "cell_type": "code",
      "metadata": {
        "colab": {
          "base_uri": "https://localhost:8080/"
        },
        "id": "IEKVMQpzHkJn",
        "outputId": "ed72e4b9-e733-4edf-cfbe-3976fbb873df"
      },
      "source": [
        "for epoch in range(epochs):\n",
        "  val_attention = []\n",
        "  input_text = []\n",
        "  selected = []\n",
        "  my_texts = []\n",
        "  result = []\n",
        "  selectedd = []\n",
        "  atten = []\n",
        "  \n",
        "  count_ep+=1\n",
        "  \n",
        "  train_res = []\n",
        "  train_lab = []\n",
        "  valid_res = []\n",
        "  valid_lab = []\n",
        "  hidden = net.initHidden(batch_size)\n",
        "  for input, label in train_loader:\n",
        "\n",
        "    counter += 1\n",
        "    if train_on_gpu:\n",
        "        input, label = input.cuda(), label.cuda()\n",
        "    \n",
        "    hidden = tuple([e.data for e in hidden])\n",
        "    \n",
        "    net.zero_grad()\n",
        "    \n",
        "    output, hidden= net(input, hidden)\n",
        "    \n",
        "    for i in output:\n",
        "      train_res.append(int(torch.argmax(i)))\n",
        "    \n",
        "    for i in label:\n",
        "      train_lab.append(int(i))\n",
        "    \n",
        "    loss = criterion(output,label.long())\n",
        "    loss.backward()\n",
        "    \n",
        "    \n",
        "    optimizer.step()\n",
        "    \n",
        "    acc = np.sum(np.array(train_res) == np.array(train_lab)) / len(np.array(train_lab))\n",
        "\n",
        "  valid_hidden_state = net.initHidden(batch_size)\n",
        "  valid_losses = []\n",
        "  valid_losses1 = []\n",
        "  net.eval()\n",
        "  for input, label in valid_loader:\n",
        "    \n",
        "    valid_hidden_state = tuple([e.data for e in valid_hidden_state])\n",
        "    if train_on_gpu:\n",
        "      input, label = input.cuda(), label.cuda()\n",
        "\n",
        "    val_output, valid_hidden_state = net(input, valid_hidden_state)\n",
        "\n",
        "    for i in val_output:\n",
        "      valid_res.append(int(torch.argmax(i)))\n",
        "    for i in label:\n",
        "      valid_lab.append(int(i))\n",
        "\n",
        "    val_loss = criterion(val_output, label.long())\n",
        "    \n",
        "    valid_losses.append(val_loss.item())\n",
        "    \n",
        "    \n",
        "    val_acc = np.sum(np.array(valid_res) == np.array(valid_lab)) / len(np.array(valid_lab))\n",
        "    \n",
        "    \n",
        "  net.train()\n",
        "\n",
        "  print(f'Epoch: {epoch + 1}/{epochs}')\n",
        "  print(f'Step: {counter}')\n",
        "  print(f'Train_acc: {acc}')\n",
        "  print(f'Valid_acc: {val_acc}')\n",
        "  \n",
        "  print(f'Loss Cross: :{loss.item()}')\n",
        "  print(f'Val_loss Cross: {np.mean(valid_losses)}')\n",
        "\n",
        "  \n",
        "  "
      ],
      "execution_count": null,
      "outputs": [
        {
          "output_type": "stream",
          "name": "stdout",
          "text": [
            "Epoch: 1/30\n",
            "Step: 320\n",
            "Train_acc: 0.12427083333333333\n",
            "Valid_acc: 0.17047619047619048\n",
            "Loss Cross: :4.5163960456848145\n",
            "Val_loss Cross: 3.740082311630249\n",
            "Epoch: 2/30\n",
            "Step: 640\n",
            "Train_acc: 0.21260416666666668\n",
            "Valid_acc: 0.2580952380952381\n",
            "Loss Cross: :3.793637275695801\n",
            "Val_loss Cross: 3.2998247146606445\n",
            "Epoch: 3/30\n",
            "Step: 960\n",
            "Train_acc: 0.27145833333333336\n",
            "Valid_acc: 0.31142857142857144\n",
            "Loss Cross: :3.99200439453125\n",
            "Val_loss Cross: 2.9870305810655866\n",
            "Epoch: 4/30\n",
            "Step: 1280\n",
            "Train_acc: 0.3101041666666667\n",
            "Valid_acc: 0.3333333333333333\n",
            "Loss Cross: :2.274887800216675\n",
            "Val_loss Cross: 2.8201943056924\n",
            "Epoch: 5/30\n",
            "Step: 1600\n",
            "Train_acc: 0.3509375\n",
            "Valid_acc: 0.3638095238095238\n",
            "Loss Cross: :2.4597456455230713\n",
            "Val_loss Cross: 2.677168345451355\n",
            "Epoch: 6/30\n",
            "Step: 1920\n",
            "Train_acc: 0.3807291666666667\n",
            "Valid_acc: 0.38666666666666666\n",
            "Loss Cross: :2.5303280353546143\n",
            "Val_loss Cross: 2.6062708173479354\n",
            "Epoch: 7/30\n",
            "Step: 2240\n",
            "Train_acc: 0.40177083333333335\n",
            "Valid_acc: 0.3923809523809524\n",
            "Loss Cross: :2.2126762866973877\n",
            "Val_loss Cross: 2.5988057034356253\n",
            "Epoch: 8/30\n",
            "Step: 2560\n",
            "Train_acc: 0.4240625\n",
            "Valid_acc: 0.38095238095238093\n",
            "Loss Cross: :1.6579197645187378\n",
            "Val_loss Cross: 2.5848474400384087\n",
            "Epoch: 9/30\n",
            "Step: 2880\n",
            "Train_acc: 0.4430208333333333\n",
            "Valid_acc: 0.3923809523809524\n",
            "Loss Cross: :2.0839648246765137\n",
            "Val_loss Cross: 2.575752466065543\n",
            "Epoch: 10/30\n",
            "Step: 3200\n",
            "Train_acc: 0.4640625\n",
            "Valid_acc: 0.38666666666666666\n",
            "Loss Cross: :1.782189130783081\n",
            "Val_loss Cross: 2.555973155157907\n",
            "Epoch: 11/30\n",
            "Step: 3520\n",
            "Train_acc: 0.4796875\n",
            "Valid_acc: 0.38857142857142857\n",
            "Loss Cross: :2.7922284603118896\n",
            "Val_loss Cross: 2.5353223936898366\n",
            "Epoch: 12/30\n",
            "Step: 3840\n",
            "Train_acc: 0.49572916666666667\n",
            "Valid_acc: 0.42\n",
            "Loss Cross: :1.353242039680481\n",
            "Val_loss Cross: 2.51242960861751\n",
            "Epoch: 13/30\n",
            "Step: 4160\n",
            "Train_acc: 0.5096875\n",
            "Valid_acc: 0.43047619047619046\n",
            "Loss Cross: :1.7615606784820557\n",
            "Val_loss Cross: 2.546148725918361\n",
            "Epoch: 14/30\n",
            "Step: 4480\n",
            "Train_acc: 0.5255208333333333\n",
            "Valid_acc: 0.4095238095238095\n",
            "Loss Cross: :1.8580843210220337\n",
            "Val_loss Cross: 2.526269691331046\n",
            "Epoch: 15/30\n",
            "Step: 4800\n",
            "Train_acc: 0.5325\n",
            "Valid_acc: 0.41714285714285715\n",
            "Loss Cross: :1.8355830907821655\n",
            "Val_loss Cross: 2.5617468902042932\n",
            "Epoch: 16/30\n",
            "Step: 5120\n",
            "Train_acc: 0.5397916666666667\n",
            "Valid_acc: 0.4228571428571429\n",
            "Loss Cross: :1.7666698694229126\n",
            "Val_loss Cross: 2.529396002633231\n",
            "Epoch: 17/30\n",
            "Step: 5440\n",
            "Train_acc: 0.5473958333333333\n",
            "Valid_acc: 0.4114285714285714\n",
            "Loss Cross: :2.0192651748657227\n",
            "Val_loss Cross: 2.630258458001273\n",
            "Epoch: 18/30\n",
            "Step: 5760\n",
            "Train_acc: 0.5558333333333333\n",
            "Valid_acc: 0.4123809523809524\n",
            "Loss Cross: :1.6337460279464722\n",
            "Val_loss Cross: 2.720148917606899\n",
            "Epoch: 19/30\n",
            "Step: 6080\n",
            "Train_acc: 0.5664583333333333\n",
            "Valid_acc: 0.4038095238095238\n",
            "Loss Cross: :1.4392808675765991\n",
            "Val_loss Cross: 2.6059294734682354\n",
            "Epoch: 20/30\n",
            "Step: 6400\n",
            "Train_acc: 0.5728125\n",
            "Valid_acc: 0.4228571428571429\n",
            "Loss Cross: :1.4528663158416748\n",
            "Val_loss Cross: 2.7152057034628734\n",
            "Epoch: 21/30\n",
            "Step: 6720\n",
            "Train_acc: 0.5782291666666667\n",
            "Valid_acc: 0.42095238095238097\n",
            "Loss Cross: :1.6464430093765259\n",
            "Val_loss Cross: 2.671555645125253\n",
            "Epoch: 22/30\n",
            "Step: 7040\n",
            "Train_acc: 0.5896875\n",
            "Valid_acc: 0.4342857142857143\n",
            "Loss Cross: :1.1694999933242798\n",
            "Val_loss Cross: 2.6342706407819474\n",
            "Epoch: 23/30\n",
            "Step: 7360\n",
            "Train_acc: 0.5954166666666667\n",
            "Valid_acc: 0.41619047619047617\n",
            "Loss Cross: :1.5783274173736572\n",
            "Val_loss Cross: 2.786746975353786\n",
            "Epoch: 24/30\n",
            "Step: 7680\n",
            "Train_acc: 0.5965625\n",
            "Valid_acc: 0.44285714285714284\n",
            "Loss Cross: :1.000708818435669\n",
            "Val_loss Cross: 2.835632474081857\n",
            "Epoch: 25/30\n",
            "Step: 8000\n",
            "Train_acc: 0.6079166666666667\n",
            "Valid_acc: 0.4266666666666667\n",
            "Loss Cross: :1.6678344011306763\n",
            "Val_loss Cross: 2.756179574557713\n",
            "Epoch: 26/30\n",
            "Step: 8320\n",
            "Train_acc: 0.6180208333333334\n",
            "Valid_acc: 0.42\n",
            "Loss Cross: :1.3534387350082397\n",
            "Val_loss Cross: 2.7451517275401525\n",
            "Epoch: 27/30\n",
            "Step: 8640\n",
            "Train_acc: 0.6140625\n",
            "Valid_acc: 0.42095238095238097\n",
            "Loss Cross: :0.9025048613548279\n",
            "Val_loss Cross: 2.855001027243478\n",
            "Epoch: 28/30\n",
            "Step: 8960\n",
            "Train_acc: 0.6351041666666667\n",
            "Valid_acc: 0.43523809523809526\n",
            "Loss Cross: :1.2710844278335571\n",
            "Val_loss Cross: 2.8577549151011876\n",
            "Epoch: 29/30\n",
            "Step: 9280\n",
            "Train_acc: 0.6351041666666667\n",
            "Valid_acc: 0.43238095238095237\n",
            "Loss Cross: :1.2884470224380493\n",
            "Val_loss Cross: 2.944563617025103\n",
            "Epoch: 30/30\n",
            "Step: 9600\n",
            "Train_acc: 0.6304166666666666\n",
            "Valid_acc: 0.42\n",
            "Loss Cross: :1.554052710533142\n",
            "Val_loss Cross: 2.974046860422407\n"
          ]
        }
      ]
    },
    {
      "cell_type": "code",
      "metadata": {
        "id": "nRf1aTX2MHdp"
      },
      "source": [
        "valid_lab, valid_res = [],[]\n",
        "valid_loader1 = DataLoader(valid_data, shuffle=False, batch_size=1, \n",
        "                          )\n",
        "valid_hidden_state = net.initHidden(1)\n",
        "\n",
        "net.eval()\n",
        "for input, label in valid_loader1:\n",
        "  \n",
        "  valid_hidden_state = tuple([e.data for e in valid_hidden_state])\n",
        "  if train_on_gpu:\n",
        "    input, label = input.cuda(), label.cuda()\n",
        "\n",
        "  val_output, valid_hidden_state = net(input, valid_hidden_state)\n",
        "\n",
        "  \n",
        "  valid_res.append(int(torch.argmax(val_output)))\n",
        "  \n",
        "  valid_lab.append(int(label))\n"
      ],
      "execution_count": null,
      "outputs": []
    },
    {
      "cell_type": "code",
      "metadata": {
        "colab": {
          "base_uri": "https://localhost:8080/"
        },
        "id": "u_912jTFMd8o",
        "outputId": "b3012fe0-2e08-47d3-f1de-2e09ad53dd28"
      },
      "source": [
        "accuracy_score(valid_res, y_test)"
      ],
      "execution_count": null,
      "outputs": [
        {
          "output_type": "execute_result",
          "data": {
            "text/plain": [
              "0.4518867924528302"
            ]
          },
          "metadata": {},
          "execution_count": 111
        }
      ]
    },
    {
      "cell_type": "markdown",
      "metadata": {
        "id": "5Pi-ITWARvAz"
      },
      "source": [
        "About 45% accuracy on valid set, NN heavily overfits, but early stopping won't influence valid results"
      ]
    },
    {
      "cell_type": "code",
      "metadata": {
        "id": "IQZ3l4dPPPRS"
      },
      "source": [
        "pred_df = pd.DataFrame()\n",
        "pred_df['true'] = y_test\n",
        "pred_df['pred'] = valid_res\n",
        "pred_df['correct'] = valid_res==y_test"
      ],
      "execution_count": null,
      "outputs": []
    },
    {
      "cell_type": "code",
      "metadata": {
        "colab": {
          "base_uri": "https://localhost:8080/",
          "height": 419
        },
        "id": "WLBAMI6fR2C4",
        "outputId": "d01ae911-2eb2-48b9-cc18-de3b6f853278"
      },
      "source": [
        "pred_df"
      ],
      "execution_count": null,
      "outputs": [
        {
          "output_type": "execute_result",
          "data": {
            "text/html": [
              "<div>\n",
              "<style scoped>\n",
              "    .dataframe tbody tr th:only-of-type {\n",
              "        vertical-align: middle;\n",
              "    }\n",
              "\n",
              "    .dataframe tbody tr th {\n",
              "        vertical-align: top;\n",
              "    }\n",
              "\n",
              "    .dataframe thead th {\n",
              "        text-align: right;\n",
              "    }\n",
              "</style>\n",
              "<table border=\"1\" class=\"dataframe\">\n",
              "  <thead>\n",
              "    <tr style=\"text-align: right;\">\n",
              "      <th></th>\n",
              "      <th>true</th>\n",
              "      <th>pred</th>\n",
              "      <th>correct</th>\n",
              "    </tr>\n",
              "  </thead>\n",
              "  <tbody>\n",
              "    <tr>\n",
              "      <th>0</th>\n",
              "      <td>47</td>\n",
              "      <td>1</td>\n",
              "      <td>False</td>\n",
              "    </tr>\n",
              "    <tr>\n",
              "      <th>1</th>\n",
              "      <td>47</td>\n",
              "      <td>1</td>\n",
              "      <td>False</td>\n",
              "    </tr>\n",
              "    <tr>\n",
              "      <th>2</th>\n",
              "      <td>33</td>\n",
              "      <td>33</td>\n",
              "      <td>True</td>\n",
              "    </tr>\n",
              "    <tr>\n",
              "      <th>3</th>\n",
              "      <td>39</td>\n",
              "      <td>39</td>\n",
              "      <td>True</td>\n",
              "    </tr>\n",
              "    <tr>\n",
              "      <th>4</th>\n",
              "      <td>42</td>\n",
              "      <td>43</td>\n",
              "      <td>False</td>\n",
              "    </tr>\n",
              "    <tr>\n",
              "      <th>...</th>\n",
              "      <td>...</td>\n",
              "      <td>...</td>\n",
              "      <td>...</td>\n",
              "    </tr>\n",
              "    <tr>\n",
              "      <th>1055</th>\n",
              "      <td>33</td>\n",
              "      <td>33</td>\n",
              "      <td>True</td>\n",
              "    </tr>\n",
              "    <tr>\n",
              "      <th>1056</th>\n",
              "      <td>254</td>\n",
              "      <td>254</td>\n",
              "      <td>True</td>\n",
              "    </tr>\n",
              "    <tr>\n",
              "      <th>1057</th>\n",
              "      <td>3</td>\n",
              "      <td>3</td>\n",
              "      <td>True</td>\n",
              "    </tr>\n",
              "    <tr>\n",
              "      <th>1058</th>\n",
              "      <td>3</td>\n",
              "      <td>3</td>\n",
              "      <td>True</td>\n",
              "    </tr>\n",
              "    <tr>\n",
              "      <th>1059</th>\n",
              "      <td>33</td>\n",
              "      <td>33</td>\n",
              "      <td>True</td>\n",
              "    </tr>\n",
              "  </tbody>\n",
              "</table>\n",
              "<p>1060 rows × 3 columns</p>\n",
              "</div>"
            ],
            "text/plain": [
              "      true  pred  correct\n",
              "0       47     1    False\n",
              "1       47     1    False\n",
              "2       33    33     True\n",
              "3       39    39     True\n",
              "4       42    43    False\n",
              "...    ...   ...      ...\n",
              "1055    33    33     True\n",
              "1056   254   254     True\n",
              "1057     3     3     True\n",
              "1058     3     3     True\n",
              "1059    33    33     True\n",
              "\n",
              "[1060 rows x 3 columns]"
            ]
          },
          "metadata": {},
          "execution_count": 120
        }
      ]
    },
    {
      "cell_type": "markdown",
      "metadata": {
        "id": "0-lykH34if8y"
      },
      "source": [
        "Ratio of correctly/incorrectly prediicted samples for each class"
      ]
    },
    {
      "cell_type": "code",
      "metadata": {
        "colab": {
          "base_uri": "https://localhost:8080/"
        },
        "id": "KmByMkULhqYh",
        "outputId": "65848d9f-0667-4b89-b7c8-f5ef0980ce50"
      },
      "source": [
        "correct_ratio = (pred_df.groupby('true').sum()['correct']/pred_df.groupby('true').count()['correct']).sort_values(ascending=False)\n",
        "correct_ratio"
      ],
      "execution_count": null,
      "outputs": [
        {
          "output_type": "execute_result",
          "data": {
            "text/plain": [
              "true\n",
              "125    1.0\n",
              "313    1.0\n",
              "203    1.0\n",
              "201    1.0\n",
              "194    1.0\n",
              "      ... \n",
              "211    0.0\n",
              "228    0.0\n",
              "241    0.0\n",
              "245    0.0\n",
              "186    0.0\n",
              "Name: correct, Length: 139, dtype: float64"
            ]
          },
          "metadata": {},
          "execution_count": 129
        }
      ]
    },
    {
      "cell_type": "code",
      "metadata": {
        "colab": {
          "base_uri": "https://localhost:8080/",
          "height": 570
        },
        "id": "6b61xO5lR18v",
        "outputId": "b5c5d986-8850-4a3b-b635-e74d9d5f2f33"
      },
      "source": [
        "plt.figure(figsize=(20,9))\n",
        "plt.title('Correct ratio per class')\n",
        "plt.ylabel('Ratio')\n",
        "plt.plot(range(len(correct_ratio)), correct_ratio.values)"
      ],
      "execution_count": null,
      "outputs": [
        {
          "output_type": "execute_result",
          "data": {
            "text/plain": [
              "[<matplotlib.lines.Line2D at 0x7ff7718e8050>]"
            ]
          },
          "metadata": {},
          "execution_count": 151
        },
        {
          "output_type": "display_data",
          "data": {
            "image/png": "[encoded data removed]",
            "text/plain": [
              "<Figure size 1440x648 with 1 Axes>"
            ]
          },
          "metadata": {
            "image/png": {
              "width": 1178,
              "height": 536
            },
            "needs_background": "light"
          }
        }
      ]
    },
    {
      "cell_type": "code",
      "metadata": {
        "id": "8QYVEBzMR1tp"
      },
      "source": [
        ""
      ],
      "execution_count": null,
      "outputs": []
    },
    {
      "cell_type": "markdown",
      "metadata": {
        "id": "EvrpZkRUR3Go"
      },
      "source": [
        "Siamese network. \n",
        "\n",
        "Same architecture, only this time two NNs learn to distinguish between pairs of samples of the same and different classes, classifying them in binary fashion. That is, a pair of the same class should be 1, a pair of different classes should be 0. Same goes for inference, we don't classify new samples but rather decide what previously classified sample they are most similar to.\n",
        "\n",
        "I went for this approach keeping in mind that siamese networks work good for limited number of instances and large number of classes while traditional supervised classification doesn't handle these types of problems very well. Unfortunetely, this approach failed completely."
      ]
    },
    {
      "cell_type": "code",
      "metadata": {
        "id": "YMm1ROTsngz8"
      },
      "source": [
        "#drop classes of 1 samples, can't form pairs from them\n",
        "grouped = train.groupby('Class_ID').count()\n",
        "train.drop(train[train.Class_ID.isin(grouped[grouped['Phrases']==1].index)].index, inplace=True)"
      ],
      "execution_count": null,
      "outputs": []
    },
    {
      "cell_type": "code",
      "metadata": {
        "id": "sJHxGtsKHuWx"
      },
      "source": [
        "#no longer need to drop classes absent in train set\n",
        "valid = pd.read_csv('/content/task/task/validation_set.csv')"
      ],
      "execution_count": null,
      "outputs": []
    },
    {
      "cell_type": "code",
      "metadata": {
        "id": "XulP4_9TqIe_"
      },
      "source": [
        "df_train = train.copy()\n",
        "df_test = valid.copy()\n",
        "df_train['text'] = train['Phrases']\n",
        "df_train['label'] = train['Class_ID']\n",
        "df_test['text'] = valid['Phrases']\n",
        "df_test['label'] = valid['Class_ID']\n",
        "df_train.drop(['Phrases', 'Class_ID'], axis=1, inplace=True)\n",
        "df_test.drop(['Phrases', 'Class_ID'], axis=1, inplace=True)"
      ],
      "execution_count": null,
      "outputs": []
    },
    {
      "cell_type": "code",
      "metadata": {
        "id": "zV8nvVrFqIOX"
      },
      "source": [
        "le = sklearn.preprocessing.LabelEncoder()\n",
        "df_train['label'] = le.fit_transform(df_train['label'])\n",
        "df_test['label'] = df_test['label'].apply(lambda x:list(le.classes_).index(x) if x in le.classes_ else len(le.classes_))"
      ],
      "execution_count": null,
      "outputs": []
    },
    {
      "cell_type": "code",
      "metadata": {
        "id": "F3JRvbVMrp-i"
      },
      "source": [
        "train1 = df_train.copy()\n",
        "valid1 = df_test.copy()\n",
        "train1['text'] = train1['text'].apply(lambda s: clean(s))\n",
        "valid1['text'] = valid1['text'].apply(lambda s: clean(s))\n",
        "train1 =  prepr(train1.reset_index())\n",
        "valid1 =  prepr(valid1.reset_index())\n",
        "all_sentences = list(train1['text_final'])\n",
        "all_sentences_val = list(valid1['text_final'])"
      ],
      "execution_count": null,
      "outputs": []
    },
    {
      "cell_type": "code",
      "metadata": {
        "colab": {
          "base_uri": "https://localhost:8080/"
        },
        "id": "tUbpJPNmrpv_",
        "outputId": "0621478b-89ef-49db-8888-6c3b0c04c119"
      },
      "source": [
        "vocabulary = []\n",
        "\n",
        "for i in all_sentences+all_sentences_val:\n",
        "  for y in i.split():\n",
        "    if y not in vocabulary:\n",
        "      vocabulary.append(y)\n",
        "\n",
        "glove = torchtext.vocab.GloVe(name=\"twitter.27B\", dim=200)\n",
        "\n",
        "\n",
        "matrix_len = len(vocabulary)\n",
        "weights_matrix = np.zeros((matrix_len+1, 200))\n",
        "\n",
        "words_found = 0\n",
        "\n",
        "for i, word in enumerate(vocabulary, start=1):\n",
        "    if float(torch.sum(glove[word]))!=0.:\n",
        "        weights_matrix[i] = glove[word]\n",
        "        words_found += 1\n",
        "    else:\n",
        "        weights_matrix[i] = np.random.normal(scale=0.6, size=(200, ))\n",
        "\n",
        "print(f'Words found: {words_found} out of {len(vocabulary)}')"
      ],
      "execution_count": null,
      "outputs": [
        {
          "output_type": "stream",
          "name": "stderr",
          "text": [
            ".vector_cache/glove.twitter.27B.zip: 1.52GB [05:41, 4.45MB/s]                            \n",
            "100%|█████████▉| 1193513/1193514 [01:57<00:00, 10141.49it/s]\n"
          ]
        },
        {
          "output_type": "stream",
          "name": "stdout",
          "text": [
            "Words found: 3682 out of 4471\n"
          ]
        }
      ]
    },
    {
      "cell_type": "code",
      "metadata": {
        "colab": {
          "base_uri": "https://localhost:8080/"
        },
        "id": "VF19pMtGsZOe",
        "outputId": "9df0dc0e-5e68-4549-834b-fa93ff9359da"
      },
      "source": [
        "# function for inserting embeddings into neural net\n",
        "def create_emb_layer(weights_matrix, non_trainable=False):\n",
        "    num_embeddings, embedding_dim = weights_matrix.shape\n",
        "    emb_layer = nn.Embedding(num_embeddings, embedding_dim)\n",
        "    emb_layer.load_state_dict({'weight': torch.tensor(weights_matrix)})\n",
        "    if non_trainable:\n",
        "        emb_layer.weight.requires_grad = False\n",
        "\n",
        "    return emb_layer, num_embeddings, embedding_dim\n",
        "\n",
        "voc_dic = {i:vocabulary.index(i)+1 for i in vocabulary}\n",
        "print('Dictionary: ', voc_dic)\n"
      ],
      "execution_count": null,
      "outputs": [
        {
          "output_type": "stream",
          "name": "stdout",
          "text": [
            "Dictionary:  {'mw': 1, 'float': 2, 'solar': 3, 'pv': 4, 'tender': 5, 'document': 6, 'abc': 7, 'design': 8, 'guideline': 9, 'access': 10, 'control': 11, 'roof': 12, 'top': 13, 'drink': 14, 'water': 15, 'mr': 16, 'koh': 17, 'fart': 18, 'increment': 19, 'price': 20, 'permit': 21, 'carnival': 22, 'vacancy': 23, 'wsn': 24, 'johor': 25, 'application': 26, 'fire': 27, 'hydrant': 28, 'relocation': 29, 'apply': 30, 'gas': 31, 'approval': 32, 'ltaprompt': 33, 'ai': 34, 'ask': 35, 'judyhdb': 36, 'whar': 37, 'service': 38, 'reach': 39, 'bsc': 40, 'saint': 41, 'george': 42, 'tower': 43, 'burner': 44, 'isnt': 45, 'respond': 46, 'architect': 47, 'work': 48, 'fish': 49, 'whampoa': 50, 'river': 51, 'bring': 52, 'roast': 53, 'goose': 54, 'singapore': 55, 'buy': 56, 'cooker': 57, 'n': 58, 'oven': 59, 'pub': 60, 'clam': 61, 'krangi': 62, 'get': 63, 'sandbag': 64, 'number': 65, 'wdmi': 66, 'know': 67, 'link': 68, 'inlis': 69, 'website': 70, 'use': 71, 'hose': 72, 'car': 73, 'wash': 74, 'architects': 75, 'aa': 76, 'new': 77, 'process': 78, 'naoh': 79, 'recommend': 80, 'boyfriend': 81, 'give': 82, 'handicap': 83, 'toilet': 84, 'drawing': 85, 'detail': 86, 'send': 87, 'staff': 88, 'check': 89, 'leak': 90, 'catch': 91, 'unrelated': 92, 'electrician': 93, 'license': 94, 'childcare': 95, 'shop': 96, 'mall': 97, 'chrisfeltonchinagmailcom': 98, 'ckeanriver': 99, 'krangibdam': 100, 'kranji': 101, 'dam': 102, 'connection': 103, 'pipe': 104, 'cooking': 105, 'stove': 106, 'contact': 107, 'christabel': 108, 'ler': 109, 'sewer': 110, 'officer': 111, 'csc': 112, 'department': 113, 'conventional': 114, 'tap': 115, 'australian': 116, 'sole': 117, 'distribution': 118, 'agreement': 119, 'asia': 120, 'information': 121, 'please': 122, 'core': 123, 'trade': 124, 'foreman': 125, 'handyman': 126, 'corpass': 127, 'course': 128, 'certify': 129, 'plumber': 130, 'crocodile': 131, 'reservoir': 132, 'cyber': 133, 'security': 134, 'dept': 135, 'demolish': 136, 'building': 137, 'build': 138, 'nea': 139, 'dip': 140, 'dishwasher': 141, 'need': 142, 'operating': 143, 'operate': 144, 'inflatable': 145, 'sport': 146, 'game': 147, 'sea': 148, 'certificate': 149, 'terminate': 150, 'supply': 151, 'change': 152, 'electric': 153, 'dish': 154, 'machine': 155, 'wels': 156, 'label': 157, 'seller': 158, 'mixer': 159, 'suitable': 160, 'commercial': 161, 'food': 162, 'beverage': 163, 'heavy': 164, 'duty': 165, 'usage': 166, 'guy': 167, 'electricity': 168, 'tc': 169, 'provide': 170, 'elevation': 171, 'land': 172, 'depend': 173, 'level': 174, 'finance': 175, 'firework': 176, 'stall': 177, 'cress': 178, 'trap': 179, 'diversion': 180, 'consult': 181, 'scholarship': 182, 'form': 183, 'b': 184, 'qp': 185, 'renewal': 186, 'worker': 187, 'dormitory': 188, 'g': 189, 'vvb': 190, 'zb': 191, 'installation': 192, 'modification': 193, 'turn': 194, 'request': 195, 'gebiz': 196, 'gi': 197, 'wsoc': 198, 'goh': 199, 'wei': 200, 'yao': 201, 'good': 202, 'day': 203, 'happy': 204, 'youi': 205, 'big': 206, 'purchouse': 207, 'quantity': 208, 'china': 209, 'urban': 210, 'furniturei': 211, 'manufacturer': 212, 'make': 213, 'manhole': 214, 'cover': 215, 'fu': 216, 'morning': 217, 'someone': 218, 'fix': 219, 'green': 220, 'corrido': 221, 'corridor': 222, 'gst': 223, 'voucherusave': 224, 'hack': 225, 'wc': 226, 'harassment': 227, 'harkwer': 228, 'receive': 229, 'bill': 230, 'haze': 231, 'hello': 232, 'home': 233, 'possible': 234, 'fly': 235, 'drone': 236, 'marina': 237, 'sir': 238, 'suhai': 239, 'ami': 240, 'neddy': 241, 'enterprise': 242, 'sdn': 243, 'bhd': 244, 'tnb': 245, 'contractor': 246, 'hi': 247, 'help': 248, 'log': 249, 'ipmb': 250, 'thanks': 251, 'pls': 252, 'want': 253, 'notice': 254, 'today': 255, 'power': 256, 'blk': 257, 'pasir': 258, 'ri': 259, 'st': 260, 'commencement': 261, 'earthwork': 262, 'mrt': 263, 'project': 264, 'hop': 265, 'take': 266, 'video': 267, 'ppl': 268, 'dance': 269, 'indra': 270, 'jakarta': 271, 'hoq': 272, 'pay': 273, 'utility': 274, 'abroad': 275, 'reside': 276, 'braddell': 277, 'view': 278, 'suddenly': 279, 'become': 280, 'low': 281, 'outage': 282, 'ny': 283, 'right': 284, 'rent': 285, 'flat': 286, 'many': 287, 'year': 288, 'sure': 289, 'thing': 290, 'ise': 291, 'tenant': 292, 'move': 293, 'october': 294, 'back': 295, 'understand': 296, 'house': 297, 'advise': 298, 'would': 299, 'like': 300, 'book': 301, 'chalet': 302, 'priority': 303, 'code': 304, 'enquire': 305, 'visit': 306, 'fro': 307, 'preschool': 308, 'child': 309, 'arrange': 310, 'cut': 311, 'refer': 312, 'look': 313, 'jamie': 314, 'beach': 315, 'legal': 316, 'jamiethere': 317, 'youngster': 318, 'cli': 319, 'ambed': 320, 'barrier': 321, 'fishing': 322, 'venue': 323, 'near': 324, 'mb': 325, 'garden': 326, 'bay': 327, 'may': 328, 'height': 329, 'clearance': 330, 'vessel': 331, 'esplanade': 332, 'bridge': 333, 'anderson': 334, 'interview': 335, 'sengkang': 336, 'wetland': 337, 'cbd': 338, 'orchard': 339, 'location': 340, 'watercourse': 341, 'corporate': 342, 'social': 343, 'responsibility': 344, 'hawker': 345, 'centre': 346, 'barrage': 347, 'go': 348, 'consultation': 349, 'lp': 350, 'portal': 351, 'tax': 352, 'kayak': 353, 'report': 354, 'mosquito': 355, 'issue': 356, 'payu': 357, 'device': 358, 'lose': 359, 'detri': 360, 'amental': 361, 'human': 362, 'weather': 363, 'long': 364, 'plan': 365, 'approve': 366, 'baby': 367, 'bonus': 368, 'much': 369, 'wasre': 370, 'alpply': 371, 'piped': 372, 'april': 373, 'contract': 374, 'address': 375, 'appointment': 376, 'checking': 377, 'sp': 378, 'find': 379, 'muki': 380, 'lot': 381, 'sentosa': 382, 'login': 383, 'obtain': 384, 'online': 385, 'underground': 386, 'detection': 387, 'pledge': 388, 'amate': 389, 'myenv': 390, 'app': 391, 'register': 392, 'kallang': 393, 'trail': 394, 'seek': 395, 'submit': 396, 'shd': 397, 'hows': 398, 'hungry': 399, 'hydraulic': 400, 'excavator': 401, 'operation': 402, 'hdb': 403, 'resident': 404, 'activate': 405, 'cook': 406, 'cast': 407, 'drainage': 408, 'grate': 409, 'system': 410, 'foundry': 411, 'base': 412, 'botou': 413, 'city': 414, 'call': 415, 'pillar': 416, 'tank': 417, 'fishe': 418, 'die': 419, 'electrical': 420, 'pole': 421, 'front': 422, 'convert': 423, 'private': 424, 'meter': 425, 'reading': 426, 'press': 427, 'kit': 428, 'old': 429, 'ap': 430, 'payment': 431, 'due': 432, 'u': 433, 'supplier': 434, 'stay': 435, 'east': 436, 'side': 437, 'join': 438, 'sep': 439, 'inaugural': 440, 'open': 441, 'account': 442, 'premise': 443, 'kaki': 444, 'bukit': 445, 'avenue': 446, 'accept': 447, 'workspace': 448, 'sg': 449, 'exchange': 450, 'amport': 451, 'sell': 452, 'showerhead': 453, 'sink': 454, 'etc': 455, 'charge': 456, 'litter': 457, 'inside': 458, 'sungei': 459, 'api': 460, 'sponsorship': 461, 'bottle': 462, 'elderly': 463, 'event': 464, 'email': 465, 'public': 466, 'relation': 467, 'cr': 468, 'confirm': 469, 'still': 470, 'complaint': 471, 'sbt': 472, 'wire': 473, 'illegal': 474, 'illustration': 475, 'lonely': 476, 'unit': 477, 'hand': 478, 'key': 479, 'owner': 480, 'june': 481, 'close': 482, 'sc': 483, 'wait': 484, 'till': 485, 'eligible': 486, 'save': 487, 'voucher': 488, 'income': 489, 'insurance': 490, 'provider': 491, 'c': 492, 'valid': 493, 'cheap': 494, 'rain': 495, 'wrp': 496, 'malaysia': 497, 'riverside': 498, 'allow': 499, 'artificial': 500, 'available': 501, 'track': 502, 'conversion': 503, 'operator': 504, 'yishun': 505, 'ktph': 506, 'activity': 507, 'alligator': 508, 'resivours': 509, 'infringement': 510, 'retail': 511, 'sanitary': 512, 'hardware': 513, 'carry': 514, 'saving': 515, 'tick': 516, 'require': 517, 'filter': 518, 'novita': 519, 'everpure': 520, 'mention': 521, 'rfp': 522, 'cd': 523, 'purchase': 524, 'joint': 525, 'kindly': 526, 'let': 527, 'download': 528, 'landscape': 529, 'late': 530, 'anti': 531, 'vacuum': 532, 'relief': 533, 'valve': 534, 'heater': 535, 'laying': 536, 'hydant': 537, 'licensed': 538, 'list': 539, 'ecm': 540, 'offender': 541, 'main': 542, 'builder': 543, 'tuas': 544, 'nexus': 545, 'consultant': 546, 'team': 547, 'james': 548, 'leong': 549, 'subscribe': 550, 'alert': 551, 'sm': 552, 'teo': 553, 'sock': 554, 'hwa': 555, 'm': 556, 'meaters': 557, 'meaning': 558, 'medium': 559, 'company': 560, 'thank': 561, 'mrl': 562, 'read': 563, 'mths': 564, 'friend': 565, 'didint': 566, 'extend': 567, 'one': 568, 'week': 569, 'resume': 570, 'finish': 571, 'trip': 572, 'plug': 573, 'appliance': 574, 'vein': 575, 'try': 576, 'board': 577, 'able': 578, 'ware': 579, 'full': 580, 'insect': 581, 'catchment': 582, 'fog': 583, 'ong': 584, 'chuan': 585, 'window': 586, 'explain': 587, 'bca': 588, 'approved': 589, 'cwi': 590, 'e': 591, 'phone': 592, 'pollution': 593, 'po': 594, 'academy': 595, 'pubsewclrdev': 596, 'punggol': 597, 'chemical': 598, 'smell': 599, 'table': 600, 'qualified': 601, 'checker': 602, 'scheme': 603, 'training': 604, 'product': 605, 'relay': 606, 'dormiotry': 607, 'money': 608, 'poster': 609, 'rooftop': 610, 'submission': 611, 'sda': 612, 'search': 613, 'kuy': 614, 'wah': 615, 'sec': 616, 'stand': 617, 'eco': 618, 'friendly': 619, 'laundry': 620, 'detergent': 621, 'si': 622, 'mean': 623, 'safe': 624, 'ss': 625, 'taman': 626, 'jurong': 627, 'temporary': 628, 'shut': 629, 'dor': 630, 'renovation': 631, 'light': 632, 'ok': 633, 'stench': 634, 'kitchen': 635, 'lengkong': 636, 'tiga': 637, 'seem': 638, 'fault': 639, 'sabmiton': 640, 'transfer': 641, 'counter': 642, 'area': 643, 'road': 644, 'uen': 645, 'polytechnic': 646, 'wsp': 647, 'vfd': 648, 'faulty': 649, 'communication': 650, 'videography': 651, 'condo': 652, 'clog': 653, 'hougang': 654, 'ave': 655, 'wish': 656, 'termination': 657, 'construction': 658, 'site': 659, 'locate': 660, 'bidaari': 661, 'drivepls': 662, 'incharge': 663, 'forecast': 664, 'font': 665, 'wemp': 666, 'hob': 667, 'ani': 668, 'amals': 669, 'cause': 670, 'pollute': 671, 'cwsids': 672, 'cheowkwangyahoocom': 673, 'decada': 674, 'dpip': 675, 'r': 676, 'ror': 677, 'datum': 678, 'sourcepathwayreceptor': 679, 'sydney': 680, 'nsw': 681, 'management': 682, 'tfl': 683, 'hotline': 684, 'wrn': 685, 'criterion': 686, 'mohd': 687, 'sofian': 688, 'kemat': 689, 'paul': 690, 'li': 691, 'amit': 692, 'internet': 693, 'bank': 694, 'msf': 695, 'opening': 696, 'hour': 697, 'procedure': 698, 'standard': 699, 'dissolved': 700, 'oxygen': 701, 'drinking': 702, 'toto': 703, 'win': 704, 'wscc': 705, 'wsi': 706, 'arcade': 707, 'spot': 708, 'illegalfishing': 709, 'body': 710, 'pow': 711, 'whats': 712, 'eat': 713, 'wd': 714, 'whe': 715, 'smrd': 716, 'infinity': 717, 'stone': 718, 'vulnerability': 719, 'strategic': 720, 'advantage': 721, 'affect': 722, 'canaldrain': 723, 'allan': 724, 'drain': 725, 'sip': 726, 'piping': 727, 'infringe': 728, 'worksiteexample': 729, 'direct': 730, 'enforcement': 731, 'deptthank': 732, 'changi': 733, 'far': 734, 'plaza': 735, 'ion': 736, 'source': 737, 'macritchie': 738, 'upwrp': 739, 'create': 740, 'ring': 741, 'regard': 742, 'glass': 743, 'repair': 744, 'matter': 745, 'pricipal': 746, 'engineer': 747, 'post': 748, 'overall': 749, 'ce': 750, 'cio': 751, 'street': 752, 'write': 753, 'lamp': 754, 'property': 755, 'amphiro': 756, 'display': 757, 'temperature': 758, 'letter': 759, 'client': 760, 'angler': 761, 'canal': 762, 'lorong': 763, 'amau': 764, 'dew': 765, 'enforce': 766, 'cctv': 767, 'summon': 768, 'abt': 769, 'waste': 770, 'treatment': 771, 'difference': 772, 'upgrade': 773, 'wastewater': 774, 'plant': 775, 'effluent': 776, 'pad': 777, 'lock': 778, 'brand': 779, 'padlock': 780, 'watertank': 781, 'shower': 782, 'facility': 783, 'ass': 784, 'swichroom': 785, 'average': 786, 'recycle': 787, 'rate': 788, 'collaboration': 789, 'collaborstion': 790, 'campaign': 791, 'pasar': 792, 'malam': 793, 'hold': 794, 'store': 795, 'used': 796, 'temporarily': 797, 'air': 798, 'con': 799, 'shallow': 800, 'flow': 801, 'clean': 802, 'condensed': 803, 'propose': 804, 'data': 805, 'discharge': 806, 'roadside': 807, 'common': 808, 'sewerage': 809, 'line': 810, 'mailing': 811, 'update': 812, 'technical': 813, 'briefing': 814, 'session': 815, 'conduct': 816, 'run': 817, 'domestic': 818, 'rule': 819, 'start': 820, 'small': 821, 'point': 822, 'function': 823, 'bto': 824, 'pubs': 825, 'unique': 826, 'entity': 827, 'internal': 828, 'routing': 829, 'inspect': 830, 'whether': 831, 'chamber': 832, 'chockage': 833, 'harvest': 834, 'sewage': 835, 'install': 836, 'balcony': 837, 'mandatory': 838, 'bidet': 839, 'spray': 840, 'cost': 841, 'involve': 842, 'microbiological': 843, 'incident': 844, 'pdf': 845, 'format': 846, 'raw': 847, 'waiver': 848, 'detention': 849, 'development': 850, 'runoff': 851, 'directly': 852, 'shift': 853, 'boundary': 854, 'wall': 855, 'next': 856, 'hide': 857, 'come': 858, 'school': 859, 'talk': 860, 'conservation': 861, 'pandan': 862, 'answer': 863, 'question': 864, 'tropical': 865, 'forest': 866, 'paint': 867, 'blue': 868, 'desalination': 869, 'precast': 870, 'ic': 871, 'show': 872, 'chinese': 873, 'tell': 874, 'reclamation': 875, 'requirement': 876, 'surroundings': 877, 'extg': 878, 'minor': 879, 'distance': 880, 'away': 881, 'pla': 882, 'coastal': 883, 'protection': 884, 'practice': 885, 'rengaraj': 886, 'prusotamen': 887, 'instal': 888, 'diagram': 889, 'newater': 890, 'potable': 891, 'permission': 892, 'utilise': 893, 'belukar': 894, 'pipeline': 895, 'sitiated': 896, 'ti': 897, 'amah': 898, 'nature': 899, 'reserve': 900, 'race': 901, 'inform': 902, 'remove': 903, 'double': 904, 'disposal': 905, 'test': 906, 'program': 907, 'riser': 908, 'introduction': 909, 'version': 910, 'deep': 911, 'depth': 912, 'chart': 913, 'housing': 914, 'consumption': 915, 'month': 916, 'different': 917, 'type': 918, 'draw': 919, 'floor': 920, 'connect': 921, 'ejector': 922, 'diameter': 923, 'clause': 924, 'necessary': 925, 'dtss': 926, 'phase': 927, 'evaporation': 928, 'loss': 929, 'expiry': 930, 'date': 931, 'office': 932, 'pvc': 933, 'material': 934, 'smart': 935, 'temp': 936, 'proposal': 937, 'helpful': 938, 'production': 939, 'incurr': 940, 'stop': 941, 'order': 942, 'cramoil': 943, 'apr': 944, 'fixture': 945, 'model': 946, 'dp': 947, 'exist': 948, 'statistic': 949, 'are': 950, 'contrete': 951, 'overflow': 952, 'carela': 953, 'method': 954, 'cable': 955, 'wonder': 956, 'rf': 957, 'separate': 958, 'produce': 959, 'per': 960, 'presentation': 961, 'technology': 962, 'tour': 963, 'must': 964, 'maintain': 965, 'tks': 966, 'ive': 967, 'executive': 968, 'sti': 969, 'man': 970, 'hole': 971, 'fee': 972, 'girowhere': 973, 'giro': 974, 'schedule': 975, 'swettenham': 976, 'bait': 977, 'seminar': 978, 'november': 979, 'hiw': 980, 'slp': 981, 'name': 982, 'licence': 983, 'uni': 984, 'capacity': 985, 'flood': 986, 'datarecord': 987, 'notification': 988, 'physical': 989, 'quality': 990, 'undertaking': 991, 'overcrossing': 992, 'differentiate': 993, 'dirty': 994, 'spring': 995, 'previous': 996, 'record': 997, 'eshop': 998, 'scale': 999, 'cock': 1000, 'pe': 1001, 'detect': 1002, 'rehabilitation': 1003, 'last': 1004, 'cap': 1005, 'processing': 1006, 'ame': 1007, 'depts': 1008, 'employee': 1009, 'spend': 1010, 'fall': 1011, 'fluoride': 1012, 'poison': 1013, 'add': 1014, 'mixed': 1015, 'hv': 1016, 'often': 1017, 'estate': 1018, 'canel': 1019, 'prevent': 1020, 'choke': 1021, 'purpose': 1022, 'calculate': 1023, 'rainwater': 1024, 'downpipe': 1025, 'high': 1026, 'declaration': 1027, 'stormwater': 1028, 'engage': 1029, 'corenet': 1030, 'reduced': 1031, 'submeter': 1032, 'professional': 1033, 'raingarden': 1034, 'unsubscribe': 1035, 'map': 1036, 'verify': 1037, 'connector': 1038, 'keep': 1039, 'smoothly': 1040, 'official': 1041, 'every': 1042, 'feedback': 1043, 'washing': 1044, 'conditioner': 1045, 'compressor': 1046, 'discharged': 1047, 'freely': 1048, 'english': 1049, 'group': 1050, 'say': 1051, 'load': 1052, 'apps': 1053, 'speak': 1054, 'ball': 1055, 'fell': 1056, 'dry': 1057, 'pierce': 1058, 'activation': 1059, 'appt': 1060, 'actoday': 1061, 'status': 1062, 'response': 1063, 'chat': 1064, 'leave': 1065, 'message': 1066, 'chironomid': 1067, 'midget': 1068, 'happening': 1069, 'urinal': 1070, 'basin': 1071, 'live': 1072, 'tampines': 1073, 'l': 1074, 'loitet': 1075, 'ssve': 1076, 'earlier': 1077, 'feb': 1078, 'there': 1079, 'red': 1080, 'stain': 1081, 'bathroom': 1082, 'place': 1083, 'evaporate': 1084, 'occur': 1085, 'quickly': 1086, 'delivery': 1087, 'large': 1088, 'serangoon': 1089, 'irrigation': 1090, 'manualregulationsguidelines': 1091, 'reservior': 1092, 'enquiry': 1093, 'fail': 1094, 'replace': 1095, 'efficiency': 1096, 'manager': 1097, 'within': 1098, 'ameline': 1099, 'penalty': 1100, 'amposed': 1101, 'licenced': 1102, 'current': 1103, 'id': 1104, 'amation': 1105, 'music': 1106, 'interested': 1107, 'recommendation': 1108, 'landed': 1109, 'weld': 1110, 'tomorrowair': 1111, 'container': 1112, 'distilled': 1113, 'epoxy': 1114, 'permissable': 1115, 'fluoridation': 1116, 'blast': 1117, 'faucet': 1118, 'compare': 1119, 'opened': 1120, 'storm': 1121, 'step': 1122, 'maintenance': 1123, 'microplastic': 1124, 'purification': 1125, 'non': 1126, 'drinkable': 1127, 'portable': 1128, 'pure': 1129, 'follow': 1130, 'set': 1131, 'resurface': 1132, 'opposite': 1133, 'sufficient': 1134, 'inspection': 1135, 'soapy': 1136, 'national': 1137, 'agency': 1138, 'reopen': 1139, 'recreational': 1140, 'club': 1141, 'ready': 1142, 'closure': 1143, 'spore': 1144, 'ndp': 1145, 'tomorrow': 1146, 'stopcock': 1147, 'manual': 1148, 'specific': 1149, 'colour': 1150, 'organic': 1151, 'park': 1152, 'villa': 1153, 'terrace': 1154, 'reinstate': 1155, 'knowledge': 1156, 'gap': 1157, 'law': 1158, 'govern': 1159, 'linggiu': 1160, 'maxi': 1161, 'amum': 1162, 'rod': 1163, 'length': 1164, 'hung': 1165, 'residential': 1166, 'extract': 1167, 'local': 1168, 'mode': 1169, 'quotation': 1170, 'diferent': 1171, 'offence': 1172, 'without': 1173, 'wa': 1174, 'specify': 1175, 'act': 1176, 'indirect': 1177, 'bedok': 1178, 'completely': 1179, 'do': 1180, 'publish': 1181, 'ranking': 1182, 'shall': 1183, 'host': 1184, 'running': 1185, 'murnane': 1186, 'mandai': 1187, 'error': 1188, 'refuse': 1189, 'instruct': 1190, 'bpu': 1191, 'passing': 1192, 'query': 1193, 'mo': 1194, 'gson': 1195, 'ur': 1196, 'general': 1197, 'yo': 1198, 'spoil': 1199, 'blend': 1200, 'vs': 1201, 'plastic': 1202, 'cone': 1203, 'mark': 1204, 'pubwere': 1205, 'lay': 1206, 'along': 1207, 'roadthere': 1208, 'indication': 1209, 'incharged': 1210, 'onan': 1211, 'past': 1212, 'ppwhat': 1213, 'twin': 1214, 'cross': 1215, 'south': 1216, 'award': 1217, 'annual': 1218, 'servicing': 1219, 'switch': 1220, 'room': 1221, 'pump': 1222, 'civil': 1223, 'mechanical': 1224, 'workshop': 1225, 'redo': 1226, 'secondary': 1227, 'secure': 1228, 'sprinkler': 1229, 'yes': 1230, 'correct': 1231, 'thrust': 1232, 'block': 1233, 'mm': 1234, 'di': 1235, 'vault': 1236, 'suspicious': 1237, 'character': 1238, 'outside': 1239, 'sw': 1240, 'shopping': 1241, 'tds': 1242, 'range': 1243, 'ppm': 1244, 'could': 1245, 'reduce': 1246, 'state': 1247, 'encroache': 1248, 'divert': 1249, 'encroach': 1250, 'partially': 1251, 'acceptable': 1252, 'west': 1253, 'ames': 1254, 'watering': 1255, 'nozzle': 1256, 'onto': 1257, 'doesnt': 1258, 'licensing': 1259, 'wan': 1260, 'na': 1261, 'testing': 1262, 'lead': 1263, 'upstairs': 1264, 'rusty': 1265, 'outer': 1266, 'surface': 1267, 'kb': 1268, 'end': 1269, 'radio': 1270, 'micro': 1271, 'organism': 1272, 'sludge': 1273, 'experi': 1274, 'ament': 1275, 'activated': 1276, 'responsible': 1277, 'well': 1278, 'early': 1279, 'amout': 1280, 'energy': 1281, 'ressources': 1282, 'produse': 1283, 'gallon': 1284, 'disadvantage': 1285, 'musli': 1286, 'ams': 1287, 'opinion': 1288, 'danger': 1289, 'workng': 1290, 'happen': 1291, 'regarding': 1292, 'resevoirs': 1293, 'availale': 1294, 'serve': 1295, 'tengah': 1296, 'effect': 1297, 'flouride': 1298, 'treat': 1299, 'upcoming': 1300, 'waterway': 1301, 'parameter': 1302, 'anaylsed': 1303, 'sub': 1304, 'sector': 1305, 'industry': 1306, 'appendix': 1307, 'consider': 1308, 'corbel': 1309, 'digital': 1310, 'hydrostatic': 1311, 'include': 1312, 'geographical': 1313, 'investigation': 1314, 'programme': 1315, 'ambo': 1316, 'nw': 1317, 'rc': 1318, 'trench': 1319, 'oil': 1320, 'sws': 1321, 'allowable': 1322, 'value': 1323, 'silt': 1324, 'age': 1325, 'singaporean': 1326, 'environever': 1327, 'mindent': 1328, 'ampact': 1329, 'newwater': 1330, 'deslained': 1331, 'alaexandra': 1332, 'esti': 1333, 'amated': 1334, 'ideal': 1335, 'amount': 1336, 'household': 1337, 'alexandra': 1338, 'mini': 1339, 'center': 1340, 'term': 1341, 'pumped': 1342, 'detentionretention': 1343, 'recommended': 1344, 'gradient': 1345, 'entrance': 1346, 'culvert': 1347, 'footbridge': 1348, 'validity': 1349, 'period': 1350, 'waterworks': 1351, 'undertake': 1352, 'undertakings': 1353, 'wally': 1354, 'burst': 1355, 'sic': 1356, 'pionneer': 1357, 'rd': 1358, 'alloy': 1359, 'healthy': 1360, 'lasting': 1361, 'size': 1362, 'incoming': 1363, 'completion': 1364, 'platform': 1365, 'waive': 1366, 'first': 1367, 'expire': 1368, 'existance': 1369, 'amplementation': 1370, 's': 1371, 'bad': 1372, 'drought': 1373, 'safety': 1374, 'railing': 1375, 'waterour': 1376, 'future': 1377, 'cop': 1378, 'utilities': 1379, 'complete': 1380, 'eng': 1381, 'kong': 1382, 'cleaning': 1383, 'cam': 1384, 'annex': 1385, 'additional': 1386, 'collect': 1387, 'sticker': 1388, 'cat': 1389, 'ladder': 1390, 'catladder': 1391, 'sum': 1392, 'fill': 1393, 'refill': 1394, 'litre': 1395, 'pcn': 1396, 'endorsement': 1397, 'compartment': 1398, 'cp': 1399, 'sump': 1400, 'monitoring': 1401, 'stream': 1402, 'guidline': 1403, 'profession': 1404, 'asbuilt': 1405, 'plumbing': 1406, 'scots': 1407, 'infotech': 1408, 'transformation': 1409, 'singapores': 1410, 'stephanie': 1411, 'yap': 1412, 'photo': 1413, 'relate': 1414, 'washout': 1415, 'face': 1416, 'charged': 1417, 'cork': 1418, 'person': 1419, 'covered': 1420, 'linkway': 1421, 'suicide': 1422, 'stingray': 1423, 'cant': 1424, 'explorer': 1425, 'reconstruct': 1426, 'composite': 1427, 'channel': 1428, 'udrain': 1429, 'dawnice': 1430, 'pricing': 1431, 'expensive': 1432, 'pink': 1433, 'residue': 1434, 'appear': 1435, 'wr': 1436, 'toa': 1437, 'payoh': 1438, 'inlet': 1439, 'md': 1440, 'serial': 1441, 'pdm': 1442, 'vol': 1443, 'shelltube': 1444, 'presstemp': 1445, 'shell': 1446, 'tube': 1447, 'server': 1448, 'aav': 1449, 'kangen': 1450, 'already': 1451, 'unever': 1452, 'mindteen': 1453, 'switche': 1454, 'fitting': 1455, 'advertisement': 1456, 'excavation': 1457, 'oparetor': 1458, 'airborne': 1459, 'bacteria': 1460, 'allen': 1461, 'woodland': 1462, 'postal': 1463, 'stayin': 1464, 'newly': 1465, 'case': 1466, 'affexted': 1467, 'booking': 1468, 'regulation': 1469, 'forbid': 1470, 'pressure': 1471, 'sample': 1472, 'appeal': 1473, 'disabled': 1474, 'registrable': 1475, 'wastage': 1476, 'crescent': 1477, 'authorisation': 1478, 'automatic': 1479, 'availability': 1480, 'baku': 1481, 'pile': 1482, 'subcontractor': 1483, 'bidadari': 1484, 'drive': 1485, 'billing': 1486, 'bishan': 1487, 'north': 1488, 'atour': 1489, 'branche': 1490, 'business': 1491, 'calcium': 1492, 'people': 1493, 'caller': 1494, 'enquries': 1495, 'updating': 1496, 'overseas': 1497, 'free': 1498, 'camping': 1499, 'allows': 1500, 'bath': 1501, 'info': 1502, 'assist': 1503, 'vent': 1504, 'outlet': 1505, 'release': 1506, 'mail': 1507, 'bowl': 1508, 'charlotte': 1509, 'htoo': 1510, 'om': 1511, 'chlorine': 1512, 'chokage': 1513, 'circular': 1514, 'clementi': 1515, 'watee': 1516, 'clqi': 1517, 'concession': 1518, 'liner': 1519, 'confirmation': 1520, 'reference': 1521, 'permanent': 1522, 'correction': 1523, 'dc': 1524, 'objection': 1525, 'dear': 1526, 'sirskindly': 1527, 'fid': 1528, 'sh': 1529, 'deposit': 1530, 'desalinated': 1531, 'advice': 1532, 'detailed': 1533, 'affluent': 1534, 'effluence': 1535, 'dismantle': 1536, 'town': 1537, 'council': 1538, 'fb': 1539, 'template': 1540, 'soft': 1541, 'copy': 1542, 'icon': 1543, 'fastener': 1544, 'cert': 1545, 'everyone': 1546, 'companyneed': 1547, 'san': 1548, 'drawpit': 1549, 'drip': 1550, 'drop': 1551, 'earth': 1552, 'ecornet': 1553, 'v': 1554, 'onebpu': 1555, 'eservice': 1556, 'estatement': 1557, 'exempt': 1558, 'exemption': 1559, 'express': 1560, 'reopens': 1561, 'flush': 1562, 'establishment': 1563, 'applicable': 1564, 'survey': 1565, 'commersial': 1566, 'pubiwsdfpubgovsgtopicsfunding': 1567, 'pageforumsseminars': 1568, 'page': 1569, 'planttuas': 1570, 'plantwatch': 1571, 'foreigner': 1572, 'plumb': 1573, 'pantry': 1574, 'j': 1575, 'freebie': 1576, 'gdpm': 1577, 'co': 1578, 'billi': 1579, 'afraid': 1580, 'disruptionplease': 1581, 'advisethankssua': 1582, 'grease': 1583, 'overview': 1584, 'grohe': 1585, 'hard': 1586, 'hasjd': 1587, 'hauweh': 1588, 'awhe': 1589, 'ad': 1590, 'article': 1591, 'wroted': 1592, 'afternoon': 1593, 'emma': 1594, 'palyja': 1595, 'langsat': 1596, 'disruption': 1597, 'cambridge': 1598, 'ago': 1599, 'interuption': 1600, 'mom': 1601, 'punnagaiselvan': 1602, 'jobi': 1603, 'amprove': 1604, 'sarah': 1605, 'mexico': 1606, 'student': 1607, 'jenny': 1608, 'shi': 1609, 'amizu': 1610, 'corporation': 1611, 'undergo': 1612, 'chemotherapy': 1613, 'hence': 1614, 'ammune': 1615, 'factory': 1616, 'footage': 1617, 'seletar': 1618, 'zui': 1619, 'yu': 1620, 'xuan': 1621, 'teochew': 1622, 'cusine': 1623, 'amoy': 1624, 'largescale': 1625, 'photovoltaic': 1626, 'tengeh': 1627, 'jai': 1628, 'forum': 1629, 'philippine': 1630, 'elect': 1631, 'mayor': 1632, 'telok': 1633, 'kurau': 1634, 'tmr': 1635, 'slightly': 1636, 'mod': 1637, 'tss': 1638, 'longer': 1639, 'cad': 1640, 'dr': 1641, 'pertaining': 1642, 'ct': 1643, 'sembcorp': 1644, 'marine': 1645, 'active': 1646, 'crane': 1647, 'teck': 1648, 'whye': 1649, 'lane': 1650, 'previously': 1651, 'spgroup': 1652, 'somebdoy': 1653, 'takea': 1654, 'openable': 1655, 'hijabi': 1656, 'hion': 1657, 'yoir': 1658, 'amer': 1659, 'hot': 1660, 'pip': 1661, 'saftey': 1662, 'hotel': 1663, 'electrcity': 1664, 'analysis': 1665, 'postcode': 1666, 'rebate': 1667, 'yr': 1668, 'see': 1669, 'bottom': 1670, 'text': 1671, 'fast': 1672, 'cite': 1673, 'amage': 1674, 'participate': 1675, 'initiative': 1676, 'newsletter': 1677, 'direction': 1678, 'mgd': 1679, 'employ': 1680, 'cancel': 1681, 'fine': 1682, 'submisison': 1683, 'conenction': 1684, 'item': 1685, 'statment': 1686, 'ownership': 1687, 'topcsc': 1688, 'surive': 1689, 'life': 1690, 'subsequent': 1691, 'actually': 1692, 'phd': 1693, 'karlsruhe': 1694, 'institute': 1695, 'germany': 1696, 'engineering': 1697, 'degree': 1698, 'attend': 1699, 'resource': 1700, 'besides': 1701, 'curious': 1702, 'wont': 1703, 'taleb': 1704, 'eswar': 1705, 'learn': 1706, 'represent': 1707, 'drunking': 1708, 'residence': 1709, 'alrdy': 1710, 'think': 1711, 'mount': 1712, 'sinai': 1713, 'rise': 1714, 'ridgewood': 1715, 'hardness': 1716, 'correspondence': 1717, 'select': 1718, 'freshwater': 1719, 'financial': 1720, 'assistance': 1721, 'metre': 1722, 'really': 1723, 'uk': 1724, 'manufacture': 1725, 'fit': 1726, 'normal': 1727, 'third': 1728, 'saw': 1729, 'bangladesh': 1730, 'beside': 1731, 'geylang': 1732, 'koi': 1733, 'dead': 1734, 'seriously': 1735, 'hope': 1736, 'reject': 1737, 'turnon': 1738, 'opub': 1739, 'naional': 1740, 'branch': 1741, 'prompt': 1742, 'unavailable': 1743, 'click': 1744, 'ministry': 1745, 'queretaro': 1746, 'projected': 1747, 'demand': 1748, 'fr': 1749, 'son': 1750, 'regularise': 1751, 'storage': 1752, 'replacement': 1753, 'igdmorning': 1754, 'mdm': 1755, 'milky': 1756, 'settle': 1757, 'powdery': 1758, 'ignore': 1759, 'explore': 1760, 'lake': 1761, 'cool': 1762, 'usafe': 1763, 'frm': 1764, 'loop': 1765, 'madeline': 1766, 'baywater': 1767, 'amported': 1768, 'industrial': 1769, 'solutionsoverviewrecycling': 1770, 'reuse': 1771, 'wastewaterindustrial': 1772, 'byproduct': 1773, 'manufacturing': 1774, 'comme': 1775, 'instant': 1776, 'instruction': 1777, 'ban': 1778, 'sustainable': 1779, 'termwhy': 1780, 'pte': 1781, 'ltd': 1782, 'lift': 1783, 'chargeable': 1784, 'mother': 1785, 'annually': 1786, 'parking': 1787, 'since': 1788, 'halfhour': 1789, 'woodleigh': 1790, 'button': 1791, 'jetty': 1792, 'joc': 1793, 'addition': 1794, 'governing': 1795, 'journey': 1796, 'seng': 1797, 'chye': 1798, 'licensend': 1799, 'bearing': 1800, 'electrode': 1801, 'box': 1802, 'lodgement': 1803, 'island': 1804, 'qualify': 1805, 'lucky': 1806, 'mailtopubonepubgovsg': 1807, 'marketing': 1808, 'marrina': 1809, 'preferable': 1810, 'docuent': 1811, 'kown': 1812, 'elbow': 1813, 'socket': 1814, 'dicl': 1815, 'dia': 1816, 'maybe': 1817, 'mediapublications': 1818, 'section': 1819, 'methane': 1820, 'minister': 1821, 'speech': 1822, 'miss': 1823, 'wesite': 1824, 'richard': 1825, 'mpl': 1826, 'mwels': 1827, 'waterford': 1828, 'residences': 1829, 'ki': 1830, 'yam': 1831, 'aunty': 1832, 'condominium': 1833, 'credit': 1834, 'card': 1835, 'ez': 1836, 'isbroken': 1837, 'pubg': 1838, 'bann': 1839, 'health': 1840, 'reminder': 1841, 'bi': 1842, 'cmi': 1843, 'disconnect': 1844, 'yet': 1845, 'whole': 1846, 'break': 1847, 'bus': 1848, 'holland': 1849, 'anchorvale': 1850, 'cc': 1851, 'unclog': 1852, 'newaer': 1853, 'havet': 1854, 'problem': 1855, 'also': 1856, 'nonrevenue': 1857, 'nonspecified': 1858, 'consumer': 1859, 'residentialis': 1860, 'nothing': 1861, 'notify': 1862, 'oh': 1863, 'alright': 1864, 'amply': 1865, 'walk': 1866, 'mordor': 1867, 'sumbit': 1868, 'church': 1869, 'ow': 1870, 'partial': 1871, 'tol': 1872, 'pinkish': 1873, 'planning': 1874, 'reserviour': 1875, 'polymer': 1876, 'poor': 1877, 'cct': 1878, 'potong': 1879, 'pre': 1880, 'preconsultation': 1881, 'pamphlet': 1882, 'clinic': 1883, 'central': 1884, 'inustle': 1885, 'subscription': 1886, 'submissiob': 1887, 'pubsewclrdevoversew': 1888, 'pubwsn': 1889, 'pulau': 1890, 'ubin': 1891, 'qr': 1892, 'sumer': 1893, 'recently': 1894, 'member': 1895, 'refund': 1896, 'neater': 1897, 'bidder': 1898, 'reinforcement': 1899, 'concrete': 1900, 'tile': 1901, 'defu': 1902, 'removal': 1903, 'washroom': 1904, 'rephrase': 1905, 'failure': 1906, 'reporting': 1907, 'research': 1908, 'devlopment': 1909, 'reservation': 1910, 'retrieve': 1911, 'return': 1912, 'jtc': 1913, 'reverse': 1914, 'osmosis': 1915, 'screen': 1916, 'champer': 1917, 'reservices': 1918, 'hanuching': 1919, 'shape': 1920, 'file': 1921, 'quit': 1922, 'sin': 1923, 'ming': 1924, 'autocare': 1925, 'logistic': 1926, 'india': 1927, 'mmy': 1928, 'country': 1929, 'metering': 1930, 'pib': 1931, 'sorry': 1932, 'amend': 1933, 'increase': 1934, 'handle': 1935, 'cppu': 1936, 'agrotechnology': 1937, 'package': 1938, 'tab': 1939, 'thi': 1940, 'amble': 1941, 'higj': 1942, 'occupation': 1943, 'terrence': 1944, 'commissiong': 1945, 'tape': 1946, 'nitrate': 1947, 'dis': 1948, 'jalan': 1949, 'senang': 1950, 'leakage': 1951, 'restaurant': 1952, 'tanjong': 1953, 'pagar': 1954, 'keisuke': 1955, 'tendon': 1956, 'properly': 1957, 'around': 1958, 'breeze': 1959, 'behind': 1960, 'changkat': 1961, 'pri': 1962, 'amary': 1963, 'spell': 1964, 'bo': 1965, 'monument': 1966, 'sms': 1967, 'anyti': 1968, 'condomium': 1969, 'tip': 1970, 'balance': 1971, 'trasportation': 1972, 'airtightness': 1973, 'pipleline': 1974, 'united': 1975, 'arab': 1976, 'emirate': 1977, 'unpopular': 1978, 'upper': 1979, 'upvc': 1980, 'vel': 1981, 'ventilation': 1982, 'tunnel': 1983, 'visitor': 1984, 'nov': 1985, 'voume': 1986, 'consume': 1987, 'oen': 1988, 'wasing': 1989, 'diacharge': 1990, 'audit': 1991, 'color': 1992, 'cooler': 1993, 'hammer': 1994, 'roda': 1995, 'ration': 1996, 'measure': 1997, 'network': 1998, 'transmission': 1999, 'waterproof': 2000, 'watsapp': 2001, 'crystal': 2002, 'clear': 2003, 'mindental': 2004, 'shophouse': 2005, 'specialist': 2006, 'corppass': 2007, 'paln': 2008, 'singpass': 2009, 'anyway': 2010, 'cn': 2011, 'membrane': 2012, 'web': 2013, 'challenge': 2014, 'indicator': 2015, 'action': 2016, 'compliance': 2017, 'reply': 2018, 'sttes': 2019, 'abd': 2020, 'ckearance': 2021, 'draft': 2022, 'grade': 2023, 'elite': 2024, 'cutoff': 2025, 'definition': 2026, 'structure': 2027, 'ph': 2028, 'whatsapp': 2029, 'updated': 2030, 'citation': 2031, 'pubddcsidra': 2032, 'sunday': 2033, 'legislation': 2034, 'webside': 2035, 'whistleblowing': 2036, 'househods': 2037, 'who': 2038, 'author': 2039, 'uninterrupted': 2040, 'generator': 2041, 'invalid': 2042, 'comapny': 2043, 'spsupplyspgroupcomsg': 2044, 'accountant': 2045, 'career': 2046, 'diploma': 2047, 'job': 2048, 'instrument': 2049, 'filipino': 2050, 'international': 2051, 'knw': 2052, 'chargeman': 2053, 'oficer': 2054, 'kota': 2055, 'tinggi': 2056, 'citizen': 2057, 'recruit': 2058, 'architecture': 2059, 'revelant': 2060, 'wife': 2061, 'replyhe': 2062, 'experience': 2063, 'ammediately': 2064, 'hr': 2065, 'nitec': 2066, 'result': 2067, 'ite': 2068, 'college': 2069, 'mechatronics': 2070, 'aidil': 2071, 'aware': 2072, 'rizal': 2073, 'mam': 2074, 'muhammad': 2075, 'isa': 2076, 'ord': 2077, 'intrested': 2078, 'higood': 2079, 'eveningcan': 2080, 'esteemed': 2081, 'organisation': 2082, 'customer': 2083, 'care': 2084, 'forward': 2085, 'cv': 2086, 'graduate': 2087, 'position': 2088, 'nce': 2089, 'engineerign': 2090, 'hear': 2091, 'opportunites': 2092, 'assistanf': 2093, 'malaysian': 2094, 'citizenship': 2095, 'hometown': 2096, 'recruitment': 2097, 'carrier': 2098, 'draftsman': 2099, 'johore': 2100, 'guide': 2101, 'wsh': 2102, 'coordinator': 2103, 'part': 2104, 'vacany': 2105, 'michael': 2106, 'dts': 2107, 'fresh': 2108, 'benefit': 2109, 'seeker': 2110, 'offer': 2111, 'internship': 2112, 'hey': 2113, 'darshini': 2114, 'study': 2115, 'inti': 2116, 'university': 2117, 'poly': 2118, 'developer': 2119, 'wishe': 2120, 'widen': 2121, 'amb': 2122, 'fence': 2123, 'enclosure': 2124, 'neighbour': 2125, 'rear': 2126, 'across': 2127, 'undercrossing': 2128, 'flash': 2129, 'flashflood': 2130, 'floodprone': 2131, 'prone': 2132, 'flooded': 2133, 'probe': 2134, 'shapefile': 2135, 'likely': 2136, 'stick': 2137, 'us': 2138, 'flooding': 2139, 'lying': 2140, 'lie': 2141, 'manage': 2142, 'risk': 2143, 'strategy': 2144, 'alleviate': 2145, 'floodb': 2146, 'crest': 2147, 'mitigate': 2148, 'serious': 2149, 'contribute': 2150, 'cleanse': 2151, 'solve': 2152, 'deepen': 2153, 'alleviation': 2154, 'urbanisation': 2155, 'urbanization': 2156, 'cannotclick': 2157, 'innovation': 2158, 'magazine': 2159, 'sensor': 2160, 'informed': 2161, 'raise': 2162, 'station': 2163, 'pioneer': 2164, 'traffic': 2165, 'warning': 2166, 'regulate': 2167, 'ensure': 2168, 'currently': 2169, 'oressure': 2170, 'wayour': 2171, 'presure': 2172, 'residental': 2173, 'weak': 2174, 'thqt': 2175, 'appropriate': 2176, 'encounter': 2177, 'slow': 2178, 'konw': 2179, 'domwstic': 2180, 'booster': 2181, 'noisy': 2182, 'normally': 2183, 'cu': 2184, 'excessive': 2185, 'amits': 2186, 'plessure': 2187, 'psi': 2188, 'typical': 2189, 'bar': 2190, 'input': 2191, 'nin': 2192, 'among': 2193, 'asap': 2194, 'clothe': 2195, 'kind': 2196, 'little': 2197, 'monday': 2198, 'aljunied': 2199, 'cresent': 2200, 'adjust': 2201, 'issit': 2202, 'master': 2203, 'attic': 2204, 'kebaya': 2205, 'way': 2206, 'forever': 2207, 'strong': 2208, 'especially': 2209, 'ever': 2210, 'throttle': 2211, 'regulator': 2212, 'two': 2213, 'single': 2214, 'koufu': 2215, 'court': 2216, 'gent': 2217, 'interchange': 2218, 'watch': 2219, 'fully': 2220, 'preasure': 2221, 'couldnt': 2222, 'apartment': 2223, 'complain': 2224, 'lowuneven': 2225, 'bro': 2226, 'stopcork': 2227, 'even': 2228, 'though': 2229, 'shouldnt': 2230, 'head': 2231, 'neighbor': 2232, 'remedy': 2233, 'terrible': 2234, 'investigate': 2235, 'dover': 2236, 'yesterday': 2237, 'intermittently': 2238, 'pressurr': 2239, 'diy': 2240, 'approach': 2241, 'thru': 2242, 'several': 2243, 'tapcoming': 2244, 'lesser': 2245, 'peak': 2246, 'anticlockwise': 2247, 'recent': 2248, 'cycle': 2249, 'however': 2250, 'detector': 2251, 'tool': 2252, 'conceal': 2253, 'ground': 2254, 'reliable': 2255, 'specialise': 2256, 'trust': 2257, 'registered': 2258, 'conso': 2259, 'reasonable': 2260, 'cense': 2261, 'carryout': 2262, 'renovate': 2263, 'ample': 2264, 'layout': 2265, 'pioeline': 2266, 'lining': 2267, 'handy': 2268, 'men': 2269, 'shoplot': 2270, 'concealed': 2271, 'h': 2272, 'lickin': 2273, 'ang': 2274, 'kio': 2275, 'nonlicensed': 2276, 'nrp': 2277, 'coffee': 2278, 'fair': 2279, 'hire': 2280, 'ac': 2281, 'vender': 2282, 'review': 2283, 'eastern': 2284, 'zone': 2285, 'authorize': 2286, 'seal': 2287, 'iam': 2288, 'plot': 2289, 'suspend': 2290, 'theres': 2291, 'amprovement': 2292, 'liaison': 2293, 'kaneksan': 2294, 'capability': 2295, 'plumbler': 2296, 'violation': 2297, 'lisenced': 2298, 'plumbes': 2299, 'authorised': 2300, 'wear': 2301, 'tear': 2302, 'listing': 2303, 'bowlthanks': 2304, 'locksmith': 2305, 'ourself': 2306, 'ntuc': 2307, 'regulated': 2308, 'sort': 2309, 'malay': 2310, 'qps': 2311, 'plubingt': 2312, 'choked': 2313, 'leaking': 2314, 'less': 2315, 'coretrade': 2316, 'forman': 2317, 'lesson': 2318, 'mandarin': 2319, 'academic': 2320, 'education': 2321, 'qualification': 2322, 'holder': 2323, 'askedis': 2324, 'creation': 2325, 'unsuccessful': 2326, 'appy': 2327, 'saturday': 2328, 'hie': 2329, 'headquarter': 2330, 'later': 2331, 'edition': 2332, 'handbook': 2333, 'acc': 2334, 'enquirer': 2335, 'surrender': 2336, 'august': 2337, 'inquire': 2338, 'toapply': 2339, 'permanet': 2340, 'rental': 2341, 'companys': 2342, 'cancellation': 2343, 'capitcha': 2344, 'verification': 2345, 'ck': 2346, 'thx': 2347, 'choa': 2348, 'chu': 2349, 'kang': 2350, 'ubi': 2351, 'techpark': 2352, 'ngo': 2353, 'society': 2354, 'intend': 2355, 'acct': 2356, 'occunt': 2357, 'reapply': 2358, 'electricitywater': 2359, 'terminateclose': 2360, 'arrangement': 2361, 'closed': 2362, 'installatuion': 2363, 'ebill': 2364, 'appling': 2365, 'resale': 2366, 'sembawang': 2367, 'termnate': 2368, 'mu': 2369, 'friday': 2370, 'anyone': 2371, 'another': 2372, 'meed': 2373, 'rermintion': 2374, 'contactor': 2375, 'accout': 2376, 'utilitiesas': 2377, 'complex': 2378, 'hse': 2379, 'ammediate': 2380, 'oct': 2381, 'applied': 2382, 'sevice': 2383, 'ill': 2384, 'instead': 2385, 'landlord': 2386, 'together': 2387, 'itility': 2388, 'hbd': 2389, 'user': 2390, 'password': 2391, 'amk': 2392, 'therefore': 2393, 'ho': 2394, 'swee': 2395, 'supplywhere': 2396, 'party': 2397, 'sul': 2398, 'never': 2399, 'spsupplyspgroup': 2400, 'cfmd': 2401, 'apt': 2402, 'hillgrove': 2403, 'batok': 2404, 'approxi': 2405, 'amately': 2406, 'unable': 2407, 'present': 2408, 'applicant': 2409, 'plse': 2410, 'nees': 2411, 'reschedule': 2412, 'technician': 2413, 'pick': 2414, 'phonelines': 2415, 'always': 2416, 'busy': 2417, 'onwhat': 2418, 'submisisons': 2419, 'allocated': 2420, 'aming': 2421, 'closet': 2422, 'subsidized': 2423, 'special': 2424, 'iwant': 2425, 'best': 2426, 'spoilt': 2427, 'fore': 2428, 'sponsor': 2429, 'community': 2430, 'eservices': 2431, 'hii': 2432, 'amay': 2433, 'family': 2434, 'wed': 2435, 'stanthony': 2436, 'bottled': 2437, 'invoice': 2438, 'coast': 2439, 'acknowledge': 2440, 'payable': 2441, 'opt': 2442, 'paperless': 2443, 'monthly': 2444, 'statement': 2445, 'aloneout': 2446, 'mid': 2447, 'nightconsume': 2448, 'wisely': 2449, 'shock': 2450, 'yuan': 2451, 'ching': 2452, 'amr': 2453, 'analogue': 2454, 'apart': 2455, 'basic': 2456, 'automate': 2457, 'automated': 2458, 'billibg': 2459, 'inquiry': 2460, 'texting': 2461, 'uabout': 2462, 'paymrnt': 2463, 'combine': 2464, 'cash': 2465, 'offset': 2466, 'closing': 2467, 'svc': 2468, 'missing': 2469, 'installment': 2470, 'instalment': 2471, 'print': 2472, 'holiday': 2473, 'outstanding': 2474, 'via': 2475, 'profile': 2476, 'restaurants': 2477, 'believe': 2478, 'cabinet': 2479, 'sam': 2480, 'sudden': 2481, 'recieved': 2482, 'coz': 2483, 'door': 2484, 'related': 2485, 'addressthks': 2486, 'everage': 2487, 'usuage': 2488, 'jumbo': 2489, 'although': 2490, 'originally': 2491, 'revert': 2492, 'deduction': 2493, 'afternooni': 2494, 'didnt': 2495, 'monthlty': 2496, 'jamieiam': 2497, 'rynnai': 2498, 'wateractually': 2499, 'hellodo': 2500, 'continuous': 2501, 'assig': 2502, 'circle': 2503, 'shutdown': 2504, 'gud': 2505, 'evening': 2506, 'volume': 2507, 'avail': 2508, 'chandra': 2509, 'areamay': 2510, 'smrt': 2511, 'ulu': 2512, 'train': 2513, 'depot': 2514, 'moisturize': 2515, 'maznin': 2516, 'rm': 2517, 'attach': 2518, 'monitor': 2519, 'square': 2520, 'salon': 2521, 'orient': 2522, 'raffle': 2523, 'boulevard': 2524, 'reno': 2525, 'waterr': 2526, 'reflect': 2527, 'parent': 2528, 'collection': 2529, 'singpost': 2530, 'accord': 2531, 'forget': 2532, 'accidentally': 2533, 'stack': 2534, 'smthing': 2535, 'suspect': 2536, 'brother': 2537, 'meeter': 2538, 'clarify': 2539, 'figure': 2540, 'liase': 2541, 'soil': 2542, 'sit': 2543, 'wel': 2544, 'aerator': 2545, 'usually': 2546, 'reconnect': 2547, 'kid': 2548, 'milk': 2549, 'governever': 2550, 'rosa': 2551, 'three': 2552, 'lates': 2553, 'ard': 2554, 'chance': 2555, 'upon': 2556, 'sept': 2557, 'marsiling': 2558, 'tq': 2559, 'inaccurate': 2560, 'reinstament': 2561, 'urgently': 2562, 'despite': 2563, 'behalf': 2564, 'friendhis': 2565, 'accurate': 2566, 'tge': 2567, 'administration': 2568, 'actual': 2569, 'gyro': 2570, 'suppliermy': 2571, 'cos': 2572, 'else': 2573, 'meyour': 2574, 'clai': 2575, 'paper': 2576, 'no': 2577, 'belong': 2578, 'daily': 2579, 'nondomestic': 2580, 'cal': 2581, 'cubic': 2582, 'spoiling': 2583, 'restart': 2584, 'tanent': 2585, 'retreive': 2586, 'december': 2587, 'march': 2588, 'adress': 2589, 'jobless': 2590, 'grant': 2591, 'ettrick': 2592, 'knock': 2593, 'worry': 2594, 'isolate': 2595, 'hpw': 2596, 'hubby': 2597, 'final': 2598, 'dripping': 2599, 'overcharge': 2600, 'confused': 2601, 'waterborne': 2602, 'stool': 2603, 'picture': 2604, 'wrong': 2605, 'whose': 2606, 'purging': 2607, 'swi': 2608, 'amming': 2609, 'pool': 2610, 'mummy': 2611, 'nric': 2612, 'readingcan': 2613, 'thete': 2614, 'recover': 2615, 'tel': 2616, 'wrongly': 2617, 'owe': 2618, 'moment': 2619, 'scotts': 2620, 'pacific': 2621, 'topic': 2622, 'amsville': 2623, 'pin': 2624, 'physically': 2625, 'pass': 2626, 'kin': 2627, 'decease': 2628, 'andthen': 2629, 'transferrer': 2630, 'crack': 2631, 'wdm': 2632, 'certain': 2633, 'receipt': 2634, 'strongly': 2635, 'reactivate': 2636, 'compulsory': 2637, 'compulsiory': 2638, 'utilites': 2639, 'binchang': 2640, 'fuse': 2641, 'major': 2642, 'breakdown': 2643, 'signal': 2644, 'pemi': 2645, 'ampin': 2646, 'nt': 2647, 'recieve': 2648, 'almost': 2649, 'misplace': 2650, 'oversease': 2651, 'licsened': 2652, 'kno': 2653, 'january': 2654, 'tenancy': 2655, 'uncontactable': 2656, 'blur': 2657, 'spolit': 2658, 'condohow': 2659, 'ii': 2660, 'jan': 2661, 'july': 2662, 'incorrect': 2663, 'firt': 2664, 'father': 2665, 'rtoom': 2666, 'billl': 2667, 'damage': 2668, 'white': 2669, 'rest': 2670, 'calculation': 2671, 'sister': 2672, 'occupant': 2673, 'rectify': 2674, 'housemate': 2675, 'following': 2676, 'something': 2677, 'reader': 2678, 'mistake': 2679, 'jam': 2680, 'theft': 2681, 'instate': 2682, 'payas': 2683, 'exam': 2684, 'mattets': 2685, 'composition': 2686, 'conract': 2687, 'plumper': 2688, 'shunfu': 2689, 'calculator': 2690, 'hasnt': 2691, 'arrive': 2692, 'puc': 2693, 'recur': 2694, 'dueand': 2695, 'supplybut': 2696, 'pu': 2697, 'pa': 2698, 'lee': 2699, 'kuo': 2700, 'defective': 2701, 'black': 2702, 'nose': 2703, 'film': 2704, 'neighborhood': 2705, 'paip': 2706, 'unusually': 2707, 'bal': 2708, 'urgent': 2709, 'corrode': 2710, 'badly': 2711, 'condition': 2712, 'summary': 2713, 'wen': 2714, 'certification': 2715, 'scheduled': 2716, 'yhr': 2717, 'lost': 2718, 'quarter': 2719, 'nowis': 2720, 'liable': 2721, 'unpaid': 2722, 'ex': 2723, 'knob': 2724, 'cab': 2725, 'enquires': 2726, 'incall': 2727, 'hfind': 2728, 'continue': 2729, 'saf': 2730, 'vacant': 2731, 'recorded': 2732, 'difficult': 2733, 'electricit': 2734, 'bough': 2735, 'alway': 2736, 'urong': 2737, 'electronic': 2738, 'consecutive': 2739, 'anything': 2740, 'frequent': 2741, 'sign': 2742, 'shortage': 2743, 'interrupt': 2744, 'ahmad': 2745, 'ibrahi': 2746, 'decrease': 2747, 'proceed': 2748, 'interruption': 2749, 'overnight': 2750, 'grove': 2751, 'abruptly': 2752, 'buangkok': 2753, 'sago': 2754, 'contamination': 2755, 'hill': 2756, 'destruction': 2757, 'soverignsi': 2758, 'amon': 2759, 'queen': 2760, 'astrid': 2761, 'woodlands': 2762, 'mum': 2763, 'disrupt': 2764, 'suppluy': 2765, 'edgefield': 2766, 'plain': 2767, 'boon': 2768, 'somethgs': 2769, 'bypass': 2770, 'commonwealth': 2771, 'distruption': 2772, 'chai': 2773, 'chee': 2774, 'corrosion': 2775, 'jammed': 2776, 'portability': 2777, 'reconnection': 2778, 'buroh': 2779, 'issies': 2780, 'emergency': 2781, 'situation': 2782, 'moulmein': 2783, 'assume': 2784, 'housebut': 2785, 'samei': 2786, 'correctly': 2787, 'ridiculously': 2788, 'persist': 2789, 'wat': 2790, 'rust': 2791, 'abovementioned': 2792, 'skyline': 2793, 'loosen': 2794, 'yio': 2795, 'faultyit': 2796, 'highe': 2797, 'ist': 2798, 'stopcok': 2799, 'hp': 2800, 'pavement': 2801, 'logged': 2802, 'stagnant': 2803, 'puddle': 2804, 'min': 2805, 'discolor': 2806, 'bos': 2807, 'mega': 2808, 'infront': 2809, 'penjuru': 2810, 'suspected': 2811, 'redhill': 2812, 'seep': 2813, 'corner': 2814, 'ponding': 2815, 'bulk': 2816, 'carpark': 2817, 'trace': 2818, 'craig': 2819, 'vav': 2820, 'spelling': 2821, 'khatib': 2822, 'beneath': 2823, 'seepage': 2824, 'pumper': 2825, 'jun': 2826, 'jul': 2827, 'remember': 2828, 'causing': 2829, 'somewhere': 2830, 'leakeage': 2831, 'onoff': 2832, 'therejus': 2833, 'askout': 2834, 'dial': 2835, 'tight': 2836, 'ceiling': 2837, 'rivertrees': 2838, 'fountain': 2839, 'reason': 2840, 'broken': 2841, 'gush': 2842, 'yard': 2843, 'bell': 2844, 'joo': 2845, 'chiat': 2846, 'enter': 2847, 'hearing': 2848, 'sound': 2849, 'basement': 2850, 'drai': 2851, 'pisang': 2852, 'hijau': 2853, 'tapwhat': 2854, 'leakgage': 2855, 'entire': 2856, 'tiny': 2857, 'particle': 2858, 'mcst': 2859, 'ni': 2860, 'atop': 2861, 'possibly': 2862, 'severe': 2863, 'built': 2864, 'flexible': 2865, 'saturady': 2866, 'outflow': 2867, 'terraced': 2868, 'oversee': 2869, 'internally': 2870, 'fixed': 2871, 'rattle': 2872, 'kangneed': 2873, 'leakingwhat': 2874, 'switchoff': 2875, 'rectification': 2876, 'watermeter': 2877, 'unitwho': 2878, 'tiolet': 2879, 'stopper': 2880, 'constantly': 2881, 'pup': 2882, 'weekend': 2883, 'leakagover': 2884, 'exhorbitant': 2885, 'assistant': 2886, 'restrict': 2887, 'roche': 2888, 'ister': 2889, 'found': 2890, 'paya': 2891, 'lebar': 2892, 'besar': 2893, 'ems': 2894, 'insight': 2895, 'penjuro': 2896, 'raod': 2897, 'martin': 2898, 'flowinng': 2899, 'stopping': 2900, 'watwr': 2901, 'alamak': 2902, 'mineral': 2903, 'minute': 2904, 'determine': 2905, 'worth': 2906, 'desanilate': 2907, 'treated': 2908, 'cube': 2909, 'equal': 2910, 'investivate': 2911, 'tariff': 2912, 'prize': 2913, 'tarrif': 2914, 'component': 2915, 'singapre': 2916, 'caput': 2917, 'history': 2918, 'borne': 2919, 'wbf': 2920, 'percent': 2921, 'revised': 2922, 'amt': 2923, 'wad': 2924, 'ec': 2925, 'capita': 2926, 'basis': 2927, 'penalise': 2928, 'wavier': 2929, 'usw': 2930, 'count': 2931, 'consumptiob': 2932, 'percentage': 2933, 'tiered': 2934, 'second': 2935, 'tier': 2936, 'wct': 2937, 'levy': 2938, 'hygiene': 2939, 'subject': 2940, 'taxation': 2941, 'amposing': 2942, 'geneco': 2943, 'amp': 2944, 'bungalow': 2945, 'language': 2946, 'rabtes': 2947, 'revision': 2948, 'fwchpiomwreflpmjkwrefl': 2949, 'mpkomprefwklmwcpkkm': 2950, 'documentsinformation': 2951, 'permissible': 2952, 'masterplan': 2953, 'ampede': 2954, 'footbath': 2955, 'proposed': 2956, 'define': 2957, 'comply': 2958, 'construct': 2959, 'underpass': 2960, 'required': 2961, 'linkage': 2962, 'exit': 2963, 'rapid': 2964, 'transit': 2965, 'slabover': 2966, 'slab': 2967, 'allowed': 2968, 'inche': 2969, 'total': 2970, 'integrate': 2971, 'redirect': 2972, 'erect': 2973, 'quick': 2974, 'cscx': 2975, 'institution': 2976, 'feature': 2977, 'amendment': 2978, 'eg': 2979, 'external': 2980, 'onsite': 2981, 'provision': 2982, 'scope': 2983, 'consist': 2984, 'monson': 2985, 'stage': 2986, 'vesting': 2987, 'sewerline': 2988, 'handover': 2989, 'handing': 2990, 'completed': 2991, 'vest': 2992, 'widening': 2993, 'seweeage': 2994, 'requirementa': 2995, 'working': 2996, 'movein': 2997, 'occupy': 2998, 'space': 2999, 'lease': 3000, 'sla': 3001, 'attention': 3002, 'vertical': 3003, 'proper': 3004, 'adhere': 3005, 'duration': 3006, 'expedite': 3007, 'discolouration': 3008, 'het': 3009, 'dranage': 3010, 'structural': 3011, 'helpline': 3012, 'seweragesanitary': 3013, 'individual': 3014, 'sipwspdip': 3015, 'sheet': 3016, 'interpretqtion': 3017, 'interpretation': 3018, 'sipdipwsp': 3019, 'infrastructure': 3020, 'panjang': 3021, 'saver': 3022, 'piece': 3023, 'rout': 3024, 'sipdip': 3025, 'requisition': 3026, 'esubmission': 3027, 'mh': 3028, 'amplify': 3029, 'suppose': 3030, 'existingnew': 3031, 'dispenser': 3032, 'polypropylene': 3033, 'nylon': 3034, 'rope': 3035, 'netting': 3036, 'dwg': 3037, 'setback': 3038, 'gravity': 3039, 'connecting': 3040, 'tray': 3041, 'f': 3042, 'preparation': 3043, 'exceeds': 3044, 'strainer': 3045, 'protect': 3046, 'sitr': 3047, 'upgrading': 3048, 'showcase': 3049, 'sewe': 3050, 'ownerdeveloper': 3051, 'ecorenet': 3052, 'tub': 3053, 'caf': 3054, 'longbath': 3055, 'maintains': 3056, 'maintanenece': 3057, 'decide': 3058, 'pm': 3059, 'option': 3060, 'constraint': 3061, 'bapplication': 3062, 'nondevelopment': 3063, 'commission': 3064, 'choking': 3065, 'registration': 3066, 'anymore': 3067, 'tumble': 3068, 'amphior': 3069, 'yconnection': 3070, 'semidetached': 3071, 'suitation': 3072, 'cqpsew': 3073, 'pedestal': 3074, 'pan': 3075, 'extension': 3076, 'demolition': 3077, 'foodstalls': 3078, 'eform': 3079, 'frorm': 3080, 'prepare': 3081, 'renew': 3082, 'dorm': 3083, 'prefabricated': 3084, 'proofing': 3085, 'rubbish': 3086, 'bin': 3087, 'swirl': 3088, 'soap': 3089, 'pave': 3090, 'ventilating': 3091, 'ventilate': 3092, 'prepost': 3093, 'loocate': 3094, 'precon': 3095, 'postcon': 3096, 'expedited': 3097, 'amed': 3098, 'homeowner': 3099, 'dec': 3100, 'neptune': 3101, 'vista': 3102, 'cny': 3103, 'soh': 3104, 'sumbmission': 3105, 'buildi': 3106, 'amg': 3107, 'satisfactory': 3108, 'sublet': 3109, 'indtall': 3110, 'extra': 3111, 'sing': 3112, 'pas': 3113, 'returning': 3114, 'storeyresidential': 3115, 'relocate': 3116, 'pubbpu': 3117, 'nol': 3118, 'nonobjection': 3119, 'noobjection': 3120, 'successfully': 3121, 'acknowledgement': 3122, 'hardcopy': 3123, 'resubmission': 3124, 'delay': 3125, 'withdraw': 3126, 'jasmine': 3127, 'precinsultation': 3128, 'cencel': 3129, 'sizing': 3130, 'shopmy': 3131, 'put': 3132, 'subdivide': 3133, 'alteration': 3134, 'reticulation': 3135, 'in': 3136, 'exisiting': 3137, 'everything': 3138, 'recess': 3139, 'submeters': 3140, 'eree': 3141, 'relocating': 3142, 'shifting': 3143, 'metee': 3144, 'submetwr': 3145, 'judy': 3146, 'standa': 3147, 'competion': 3148, 'subit': 3149, 'share': 3150, 'cornice': 3151, 'coat': 3152, 'dosarrest': 3153, 'rl': 3154, 'filtration': 3155, 'flitration': 3156, 'filteration': 3157, 'feces': 3158, 'coating': 3159, 'support': 3160, 'reapir': 3161, 'choose': 3162, 'preferred': 3163, 'secetion': 3164, 'fitter': 3165, 'meet': 3166, 'existing': 3167, 'pur': 3168, 'killiney': 3169, 'enquary': 3170, 'liquid': 3171, 'solid': 3172, 'consultantsinvolved': 3173, 'waterhub': 3174, 'prior': 3175, 'env': 3176, 'preconsult': 3177, 'consultaion': 3178, 'various': 3179, 'conncetion': 3180, 'efficient': 3181, 'rubber': 3182, 'reducy': 3183, 'cup': 3184, 'iron': 3185, 'symbol': 3186, 'bromide': 3187, 'nurture': 3188, 'young': 3189, 'households': 3190, 'conserve': 3191, 'class': 3192, 'banner': 3193, 'fun': 3194, 'encourage': 3195, 'deliver': 3196, 'watersaving': 3197, 'wast': 3198, 'brochure': 3199, 'habit': 3200, 'httpswwwpubgovsgdocumentswelsbrochureenglishpdf': 3201, 'pupil': 3202, 'charger': 3203, 'appreciate': 3204, 'amise': 3205, 'posetr': 3206, 'conversation': 3207, 'promotion': 3208, 'outdoorsuse': 3209, 'bucket': 3210, 'watrt': 3211, 'grind': 3212, 'salt': 3213, 'instrusion': 3214, 'intrusion': 3215, 'reused': 3216, 'greywater': 3217, 'greywatwer': 3218, 'grey': 3219, 'stratum': 3220, 'wet': 3221, 'taxi': 3222, 'boat': 3223, 'note': 3224, 'paddle': 3225, 'paddleboard': 3226, 'mushroom': 3227, 'cafe': 3228, 'dragonboating': 3229, 'dragonboat': 3230, 'smoke': 3231, 'prawn': 3232, 'bread': 3233, 'reserviors': 3234, 'etiquette': 3235, 'practise': 3236, 'towatch': 3237, 'lakeside': 3238, 'pang': 3239, 'sua': 3240, 'night': 3241, 'net': 3242, 'feeding': 3243, 'observe': 3244, 'pail': 3245, 'peirce': 3246, 'pond': 3247, 'reservoit': 3248, 'lower': 3249, 'designated': 3250, 'gombak': 3251, 'catche': 3252, 'ilegal': 3253, 'deck': 3254, 'macrichie': 3255, 'vivo': 3256, 'personnel': 3257, 'catchbay': 3258, 'pier': 3259, 'mac': 3260, 'richie': 3261, 'designate': 3262, 'padan': 3263, 'amited': 3264, 'consequence': 3265, 'quire': 3266, 'bit': 3267, 'unauthorised': 3268, 'sungai': 3269, 'dangerous': 3270, 'creat': 3271, 'anyhow': 3272, 'residentam': 3273, 'changing': 3274, 'genuine': 3275, 'compli': 3276, 'amentary': 3277, 'waterefficient': 3278, 'expected': 3279, 'expect': 3280, 'undrinkable': 3281, 'terminal': 3282, 'continuously': 3283, 'flushing': 3284, 'performance': 3285, 'brown': 3286, 'straight': 3287, 'sustain': 3288, 'boil': 3289, 'worm': 3290, 'purifier': 3291, 'lab': 3292, 'micron': 3293, 'duksung': 3294, 'woman': 3295, 'korea': 3296, 'deeply': 3297, 'cloride': 3298, 'brownish': 3299, 'concern': 3300, 'machin': 3301, 'neutral': 3302, 'dispense': 3303, 'multistorey': 3304, 'caroark': 3305, 'aquarium': 3306, 'ammonia': 3307, 'brain': 3308, 'amoeba': 3309, 'lye': 3310, 'sodium': 3311, 'hydroxide': 3312, 'laboratory': 3313, 'microfilter': 3314, 'microfiltration': 3315, 'koon': 3316, 'pouch': 3317, 'pee': 3318, 'poo': 3319, 'quite': 3320, 'feel': 3321, 'mud': 3322, 'tx': 3323, 'hydrogen': 3324, 'peroxide': 3325, 'filtering': 3326, 'cloth': 3327, 'amportant': 3328, 'gather': 3329, 'sou': 3330, 'aquatic': 3331, 'concentration': 3332, 'phosphorous': 3333, 'content': 3334, 'chloromine': 3335, 'policy': 3336, 'contain': 3337, 'chloramine': 3338, 'electrolised': 3339, 'amplementing': 3340, 'amaging': 3341, 'briefly': 3342, 'stepsprocess': 3343, 'purifaying': 3344, 'sulphur': 3345, 'achieve': 3346, 'sustainability': 3347, 'indusstries': 3348, 'farm': 3349, 'poeple': 3350, 'purify': 3351, 'ariani': 3352, 'utm': 3353, 'skudai': 3354, 'haemodialysis': 3355, 'nursing': 3356, 'quantitative': 3357, 'iodine': 3358, 'authority': 3359, 'tolerancesli': 3360, 'bu': 3361, 'suggest': 3362, 'holmes': 3363, 'phosphate': 3364, 'introucting': 3365, 'ecofriendly': 3366, 'costefficient': 3367, 'softness': 3368, 'waulity': 3369, 'wha': 3370, 'play': 3371, 'chloride': 3372, 'zinc': 3373, 'sustsinability': 3374, 'recycled': 3375, 'mountbatten': 3376, 'comprehensively': 3377, 'tester': 3378, 'corporatize': 3379, 'slight': 3380, 'cloudy': 3381, 'sandy': 3382, 'kettle': 3383, 'layour': 3384, 'powder': 3385, 'chalky': 3386, 'alkaline': 3387, 'cloudiness': 3388, 'alot': 3389, 'noise': 3390, 'whenever': 3391, 'travel': 3392, 'loud': 3393, 'knocking': 3394, 'hiss': 3395, 'ferrys': 3396, 'horn': 3397, 'aloud': 3398, 'keeeek': 3399, 'someti': 3400, 'noisesound': 3401, 'anf': 3402, 'supporr': 3403, 'finishe': 3404, 'fiash': 3405, 'reddish': 3406, 'sedi': 3407, 'reported': 3408, 'kembangan': 3409, 'verde': 3410, 'dark': 3411, 'idea': 3412, 'dirt': 3413, 'tao': 3414, 'murky': 3415, 'watet': 3416, 'salty': 3417, 'resuspension': 3418, 'natu': 3419, 'asssit': 3420, 'yellowish': 3421, 'discoloured': 3422, 'discolour': 3423, 'yellow': 3424, 'turbidyellow': 3425, 'abnormal': 3426, 'bag': 3427, 'resolve': 3428, 'canoe': 3429, 'reaervoirs': 3430, 'mobile': 3431, 'vehicle': 3432, 'wagon': 3433, 'dispose': 3434, 'italian': 3435, 'producerwhat': 3436, 'cettification': 3437, 'camp': 3438, 'baarage': 3439, 'wedding': 3440, 'lunch': 3441, 'kite': 3442, 'aug': 3443, 'birthday': 3444, 'barriage': 3445, 'howmuch': 3446, 'voluntary': 3447, 'teach': 3448, 'exibitions': 3449, 'christmas': 3450, 'eve': 3451, 'learning': 3452, 'shuttle': 3453, 'ticket': 3454, 'shoot': 3455, 'barage': 3456, 'curret': 3457, 'ceo': 3458, 'graduation': 3459, 'photoshoot': 3460, 'photography': 3461, 'filming': 3462, 'photoshoots': 3463, 'filmingphotographyphotoshoots': 3464, 'prewedding': 3465, 'aerial': 3466, 'restriction': 3467, 'restricted': 3468, 'conducting': 3469, 'expert': 3470, 'volunteer': 3471, 'effort': 3472, 'example': 3473, 'seleta': 3474, 'reservoirs': 3475, 'reservors': 3476, 'singpore': 3477, 'marathon': 3478, 'auditorium': 3479, 'hub': 3480, 'published': 3481, 'personal': 3482, 'macrithie': 3483, 'effective': 3484, 'news': 3485, 'equip': 3486, 'showering': 3487, 'discard': 3488, 'obike': 3489, 'connectorpcn': 3490, 'bike': 3491, 'indiscri': 3492, 'aminate': 3493, 'ofo': 3494, 'mobike': 3495, 'rail': 3496, 'offical': 3497, 'playground': 3498, 'gallery': 3499, 'ssg': 3500, 'certificatinon': 3501, 'abcwaters': 3502, 'calendar': 3503, 'difficulty': 3504, 'amilar': 3505, 'punggold': 3506, 'beautiful': 3507, 'lebah': 3508, 'completedwhere': 3509, 'pet': 3510, 'dog': 3511, 'leash': 3512, 'speaking': 3513, 'february': 3514, 'disconnection': 3515, 'mabager': 3516, 'cuz': 3517, 'mess': 3518, 'regd': 3519, 'vendor': 3520, 'alternative': 3521, 'toll': 3522, 'saysi': 3523, 'utilitie': 3524, 'sayssp': 3525, 'might': 3526, 'handlingplease': 3527, 'gro': 3528, 'tried': 3529, 'telephone': 3530, 'reachable': 3531, 'sps': 3532, 'handphone': 3533, 'interceptor': 3534, 'graphene': 3535, 'describe': 3536, 'nearby': 3537, 'panasonic': 3538, 'ie': 3539, 'mach': 3540, 'pct': 3541, 'locally': 3542, 'nearer': 3543, 'pore': 3544, 'independent': 3545, 'teacher': 3546, 'world': 3547, 'amportance': 3548, 'amporting': 3549, 'educate': 3550, 'overcome': 3551, 'diversified': 3552, 'desalinate': 3553, 'rap': 3554, 'bahru': 3555, 'linggui': 3556, 'scarce': 3557, 'evaluate': 3558, 'effectiveness': 3559, 'revenue': 3560, 'develop': 3561, 'four': 3562, 'target': 3563, 'turbidity': 3564, 'threshold': 3565, 'mechanism': 3566, 'treaty': 3567, 'jb': 3568, 'supple': 3569, 'short': 3570, 'cheaper': 3571, 'speed': 3572, 'motorised': 3573, 'yacht': 3574, 'erservoir': 3575, 'swing': 3576, 'success': 3577, 'story': 3578, 'salcocerceaqueretarogobmx': 3579, 'agent': 3580, 'workeris': 3581, 'amplement': 3582, 'ant': 3583, 'gate': 3584, 'idiot': 3585, 'openon': 3586, 'hq': 3587, 'ms': 3588, 'kai': 3589, 'emal': 3590, 'tenglaychanpubgovsg': 3591, 'cw': 3592, 'boost': 3593, 'communicate': 3594, 'route': 3595, 'background': 3596, 'melvin': 3597, 'ng': 3598, 'discoloration': 3599, 'costumer': 3600, 'industies': 3601, 'reseviors': 3602, 'emaill': 3603, 'fax': 3604, 'publication': 3605, 'rita': 3606, 'informationever': 3607, 'mindedia': 3608, 'cultural': 3609, 'affairsembassy': 3610, 'republic': 3611, 'indonesia': 3612, 'folty': 3613, 'mashhor': 3614, 'bitter': 3615, 'poscode': 3616, 'poh': 3617, 'nparks': 3618, 'drough': 3619, 'inportance': 3620, 'roving': 3621, 'exhibition': 3622, 'cooperative': 3623, 'comercial': 3624, 'relationship': 3625, 'peru': 3626, 'hican': 3627, 'ir': 3628, 'hihi': 3629, 'compliant': 3630, 'tenaga': 3631, 'renovationlast': 3632, 'flowingpls': 3633, 'zulkifli': 3634, 'tanah': 3635, 'merah': 3636, 'hee': 3637, 'real': 3638, 'solutionwe': 3639, 'willing': 3640, 'touch': 3641, 'assurance': 3642, 'hall': 3643, 'solution': 3644, 'consumptionneed': 3645, 'discuss': 3646, 'cso': 3647, 'introduce': 3648, 'coompany': 3649, 'superviser': 3650, 'tamil': 3651, 'word': 3652, 'esquire': 3653, 'contraactor': 3654, 'woking': 3655, 'rto': 3656, 'lta': 3657, 'hrlo': 3658, 'tolrt': 3659, 'monopoly': 3660, 'supervisor': 3661, 'lodge': 3662, 'jwrp': 3663, 'tagline': 3664, 'mate': 3665, 'qecp': 3666, 'ewi': 3667, 'pertain': 3668, 'msy': 3669, 'addreas': 3670, 'viewing': 3671, 'asst': 3672, 'wong': 3673, 'jia': 3674, 'yit': 3675, 'renovationwe': 3676, 'husband': 3677, 'chg': 3678, 'accountbyo': 3679, 'steal': 3680, 'reserved': 3681, 'pl': 3682, 'plz': 3683, 'pr': 3684, 'scott': 3685, 'somerset': 3686, 'pubone': 3687, 'cloke': 3688, 'mwss': 3689, 'administrator': 3690, 'reynaldo': 3691, 'velasco': 3692, 'cphn': 3693, 'match': 3694, 'berep': 3695, 'cloak': 3696, 'gad': 3697, 'helpdesk': 3698, 'waterways': 3699, 'filing': 3700, 'roadmap': 3701, 'turnover': 3702, 'adrress': 3703, 'deadline': 3704, 'qsm': 3705, 'felix': 3706, 'tan': 3707, 'onestop': 3708, 'aw': 3709, 'kheng': 3710, 'bendemeer': 3711, 'role': 3712, 'bldg': 3713, 'roles': 3714, 'pun': 3715, 'registry': 3716, 'season': 3717, 'midge': 3718, 'rivervale': 3719, 'locatrd': 3720, 'loca': 3721, 'asset': 3722, 'own': 3723, 'singapoore': 3724, 'kranchi': 3725, 'motorise': 3726, 'kayakingw': 3727, 'organise': 3728, 'waterrelated': 3729, 'natural': 3730, 'factor': 3731, 'organize': 3732, 'activties': 3733, 'mariti': 3734, 'port': 3735, 'mpa': 3736, 'hoist': 3737, 'belt': 3738, 'marking': 3739, 'chancery': 3740, 'chain': 3741, 'erection': 3742, 'circumstance': 3743, 'amplifies': 3744, 'identification': 3745, 'plate': 3746, 'subsoil': 3747, 'collapse': 3748, 'crossing': 3749, 'grating': 3750, 'eup': 3751, 'storey': 3752, 'showflats': 3753, 'annotate': 3754, 'shoul': 3755, 'airport': 3756, 'revise': 3757, 'retain': 3758, 'retrench': 3759, 'width': 3760, 'trenching': 3761, 'admittance': 3762, 'downpipes': 3763, 'harvesting': 3764, 'incorporate': 3765, 'relaxes': 3766, 'harvester': 3767, 'facilitiestoilets': 3768, 'neas': 3769, 'watermain': 3770, 'disinfection': 3771, 'inhouse': 3772, 'ahead': 3773, 'progress': 3774, 'incomplete': 3775, 'lomg': 3776, 'approvec': 3777, 'interactivity': 3778, 'schematic': 3779, 'undetected': 3780, 'plea': 3781, 'lossleakage': 3782, 'rebatew': 3783, 'excess': 3784, 'spoilage': 3785, 'deduct': 3786, 'refundrebate': 3787, 'concessation': 3788, 'reqest': 3789, 'consession': 3790, 'reduction': 3791, 'te': 3792, 'deviation': 3793, 'defect': 3794, 'liability': 3795, 'refresher': 3796, 'effecciency': 3797, 'recertification': 3798, 'chin': 3799, 'bee': 3800, 'continuity': 3801, 'buti': 3802, 'salary': 3803, 'comcare': 3804, 'captcha': 3805, 'validation': 3806, 'contextual': 3807, 'hatch': 3808, 'uob': 3809, 'kay': 3810, 'hian': 3811, 'blank': 3812, 'tru': 3813, 'conseravation': 3814, 'mine': 3815, 'lacang': 3816, 'mamerto': 3817, 'jr': 3818, 'okey': 3819, 'num': 3820, 'governemnt': 3821, 'drainng': 3822, 'highquality': 3823, 'contrast': 3824, 'multistage': 3825, 'multieffect': 3826, 'med': 3827, 'expose': 3828, 'submision': 3829, 'amplified': 3830, 'uis': 3831, 'merchandize': 3832, 'merchandise': 3833, 'qsms': 3834, 'rude': 3835, 'adult': 3836, 'perios': 3837, 'tourist': 3838, 'educational': 3839, 'ambassador': 3840, 'field': 3841, 'fieldtrip': 3842, 'pax': 3843, 'bookingwhat': 3844, 'padang': 3845, 'advance': 3846, 'pengurusan': 3847, 'selangor': 3848, 'planthow': 3849, 'visi': 3850, 'keen': 3851, 'indoor': 3852, 'fri': 3853, 'guided': 3854, 'childrens': 3855, 'output': 3856, 'outreach': 3857, 'five': 3858, 'scientific': 3859, 'saudi': 3860, 'arabia': 3861, 'oversea': 3862, 'shoddy': 3863, 'workmanship': 3864, 'atatemwnt': 3865, 'citi': 3866, 'paynow': 3867, 'axs': 3868, 'epay': 3869, 'epayment': 3870, 'amake': 3871, 'arrg': 3872, 'enroll': 3873, 'everyday': 3874, 'staement': 3875, 'utilies': 3876, 'visa': 3877, 'posb': 3878, 'notable': 3879, 'rung': 3880, 'specification': 3881, 'outgo': 3882, 'snapshot': 3883, 'returnwhich': 3884, 'capture': 3885, 'montly': 3886, 'manually': 3887, 'submitour': 3888, 'cange': 3889, 'payee': 3890, 'easy': 3891, 'monthing': 3892, 'acquire': 3893, 'tenated': 3894, 'billname': 3895, 'hichange': 3896, 'hoe': 3897, 'original': 3898, 'tranfer': 3899, 'recipient': 3900, 'death': 3901, 'payour': 3902, 'deceased': 3903, 'resaleflathow': 3904, 'renants': 3905, 'dad': 3906, 'niw': 3907, 'psying': 3908, 'lke': 3909, 'fo': 3910, 'fdo': 3911, 'thay': 3912, 'hiif': 3913, 'alr': 3914, 'agobut': 3915, 'wil': 3916, 'market': 3917, 'relative': 3918, 'dy': 3919, 'employment': 3920, 'banking': 3921, 'boss': 3922, 'chief': 3923, 'accredited': 3924, 'director': 3925, 'organisatoon': 3926, 'senior': 3927, 'colours': 3928, 'chrome': 3929, 'retailer': 3930, 'dual': 3931, 'awarded': 3932, 'miniumun': 3933, 'rating': 3934, 'flushinh': 3935, 'sale': 3936, 'least': 3937, 'blood': 3938, 'silver': 3939, 'thread': 3940, 'partickes': 3941, 'turbid': 3942, 'pour': 3943, 'consumptionthere': 3944, 'whitish': 3945, 'reposnce': 3946, 'chekc': 3947, 'khartoumsudan': 3948, 'constructuon': 3949, 'experienced': 3950, 'jc': 3951, 'publicity': 3952, 'perception': 3953, 'airpod': 3954, 'rake': 3955, 'mascot': 3956, 'elias': 3957, 'cold': 3958, 'witness': 3959, 'realize': 3960, 'tapmeter': 3961, 'planinh': 3962, 'httpswwwchannelnewsasiacomnewssingaporepubtodeploysingaporesfirstlar': 3963, 'opera': 3964, 'foul': 3965, 'swanlake': 3966, 'baker': 3967, 'jelapang': 3968, 'advisory': 3969, 'announce': 3970, 'foi': 3971, 'equipment': 3972, 'blocked': 3973, 'guan': 3974, 'positive': 3975, 'saff': 3976, 'panel': 3977, 'dropped': 3978, 'sop': 3979, 'redy': 3980, 'fikarlo': 3981, 'mas': 3982, 'kuning': 3983, 'deem': 3984, 'beyond': 3985, 'tubifex': 3986, 'horrible': 3987, 'cardiff': 3988, 'gr': 3989, 'ttioae': 3990, 'accumulate': 3991, 'incase': 3992, 'noticeable': 3993, 'debris': 3994, 'riverbed': 3995, 'highlight': 3996, 'ridley': 3997, 'mgmt': 3998, 'tanglin': 3999, 'breeding': 4000, 'mosqutoes': 4001, 'cluny': 4002, 'qaulity': 4003, 'force': 4004, 'supplyquality': 4005, 'rajawali': 4006, 'thunderstorm': 4007, 'blockage': 4008, 'chock': 4009, 'dewatering': 4010, 'centrifuge': 4011, 'sswd': 4012, 'dried': 4013, 'leaf': 4014, 'chokedwho': 4015, 'chokedunable': 4016, 'chokedpls': 4017, 'fernvale': 4018, 'none': 4019, 'rat': 4020, 'damege': 4021, 'adv': 4022, 'mi': 4023, 'whampo': 4024, 'kemaman': 4025, 'warrant': 4026, 'attentionsomebody': 4027, 'colored': 4028, 'packet': 4029, 'circuit': 4030, 'breaker': 4031, 'pungool': 4032, 'propellor': 4033, 'circulation': 4034, 'arenow': 4035, 'grass': 4036, 'abstraction': 4037, 'ampa': 4038, 'kiri': 4039, 'fencing': 4040, 'sew': 4041, 'obstruction': 4042, 'dig': 4043, 'stjnk': 4044, 'flesh': 4045, 'backflow': 4046, 'smelly': 4047, 'backyard': 4048, 'half': 4049, 'workkng': 4050, 'toh': 4051, 'tuck': 4052, 'undergroth': 4053, 'moe': 4054, 'plummer': 4055, 'gul': 4056, 'footway': 4057, 'narayanan': 4058, 'chetty': 4059, 'downpour': 4060, 'hormon': 4061, 'resolved': 4062, 'vibrate': 4063, 'pipeburst': 4064, 'tanker': 4065, 'illegally': 4066, 'siphon': 4067, 'benaan': 4068, 'kapal': 4069, 'dairy': 4070, 'manhattan': 4071, 'amei': 4072, 'weird': 4073, 'wood': 4074, 'cabin': 4075, 'camera': 4076, 'merchant': 4077, 'sunk': 4078, 'loose': 4079, 'dent': 4080, 'electical': 4081, 'motor': 4082, 'circulate': 4083, 'punngol': 4084, 'pak': 4085, 'atre': 4086, 'metropole': 4087, 'ramzi': 4088, 'weve': 4089, 'katong': 4090, 'taste': 4091, 'strange': 4092, 'tankwho': 4093, 'metal': 4094, 'muddy': 4095, 'funny': 4096, 'warm': 4097, 'sleep': 4098, 'isit': 4099, 'metallic': 4100, 'neighbours': 4101, 'cum': 4102, 'couple': 4103, 'adam': 4104, 'yay': 4105, 'unusual': 4106, 'bnf': 4107, 'vietnam': 4108, 'centee': 4109, 'allocation': 4110, 'mapsheets': 4111, 'sids': 4112, 'ent': 4113, 'provisonal': 4114, 'eath': 4115, 'resubmit': 4116, 'submssion': 4117, 'particular': 4118, 'funding': 4119, 'bathtub': 4120, 'razaul': 4121, 'kari': 4122, 'conductor': 4123, 'argent': 4124, 'roadif': 4125, 'busyi': 4126, 'noification': 4127, 'duplicable': 4128, 'srvice': 4129, 'madatory': 4130, 'dioxide': 4131, 'frequency': 4132, 'medical': 4133, 'leach': 4134, 'whee': 4135, 'reinforced': 4136, 'regular': 4137, 'inject': 4138, 'preventive': 4139, 'disease': 4140, 'quote': 4141, 'electricty': 4142, 'electricityprivate': 4143, 'siglap': 4144, 'delete': 4145, 'wiring': 4146, 'stainless': 4147, 'steel': 4148, 'rerun': 4149, 'supoly': 4150, 'staircase': 4151, 'bracket': 4152, 'copper': 4153, 'alignever': 4154, 'pumping': 4155, 'req': 4156, 'coney': 4157, 'haunching': 4158, 'representative': 4159, 'pows': 4160, 'posw': 4161, 'relevant': 4162, 'hdpe': 4163, 'nots': 4164, 'watermains': 4165, 'vicinity': 4166, 'cleanup': 4167, 'polluted': 4168, 'canwe': 4169, 'rhat': 4170, 'remain': 4171, 'ssangyong': 4172, 'onconstruction': 4173, 'biogas': 4174, 'digester': 4175, 'bid': 4176, 'httpswwwpubgovsgtendersawardedcontractspes': 4177, 'kalyan': 4178, 'systea': 4179, 'italy': 4180, 'analyser': 4181, 'ot': 4182, 'expand': 4183, 'regardless': 4184, 'contaminant': 4185, 'export': 4186, 'contains': 4187, 'interest': 4188, 'downside': 4189, 'footpath': 4190, 'troughout': 4191, 'frp': 4192, 'inflow': 4193, 'forbids': 4194, 'se': 4195, 'singapoee': 4196, 'seawater': 4197, 'reclai': 4198, 'anythjng': 4199, 'pro': 4200, 'retard': 4201, 'singaporewaterstory': 4202, 'exercise': 4203, 'licnesing': 4204, 'prevalent': 4205, 'w': 4206, 'paste': 4207, 'developed': 4208, 'checklist': 4209, 'theme': 4210, 'significance': 4211, 'conc': 4212, 'hanunch': 4213, 'separately': 4214, 'connectio': 4215, 'watercouse': 4216, 'fogging': 4217, 'todsy': 4218, 'teban': 4219, 'infest': 4220, 'onlinepurchased': 4221, 'bought': 4222, 'dissolve': 4223, 'completeion': 4224, 'greenleaf': 4225, 'artist': 4226, 'ampression': 4227, 'herbicide': 4228, 'golf': 4229, 'recycling': 4230, 'wafer': 4231, 'fabrication': 4232, 'semiconductor': 4233, 'vision': 4234, 'mission': 4235, 'van': 4236, 'kleef': 4237, 'meanin': 4238, 'sessionub': 4239, 'controllable': 4240, 'erosion': 4241, 'clogged': 4242, 'privides': 4243, 'pie': 4244, 'slowmy': 4245, 'unsatisfied': 4246, 'authorise': 4247, 'fund': 4248, 'qualifying': 4249, 'germ': 4250, 'cwtp': 4251, 'cwrp': 4252, 'tocontact': 4253, 'tarigg': 4254, 'kar': 4255, 'geok': 4256, 'tambling': 4257, 'trop': 4258, 'emporary': 4259, 'numbr': 4260, 'uiltity': 4261, 'chilled': 4262, 'washer': 4263, 'tekong': 4264, 'obstruct': 4265, 'balmoral': 4266, 'disturb': 4267, 'chiolin': 4268, 'hd': 4269, 'd': 4270, 'eli': 4271, 'lid': 4272, 'endorses': 4273, 'norm': 4274, 'wster': 4275, 'slippery': 4276, 'mainting': 4277, 'nsc': 4278, 'marymount': 4279, 'invert': 4280, 'reinstall': 4281, 'standup': 4282, 'boarding': 4283, 'canels': 4284, 'expact': 4285, 'teleport': 4286, 'filling': 4287, 'chute': 4288, 'repipe': 4289, 'bracing': 4290, 'brace': 4291, 'clay': 4292, 'groundwater': 4293, 'reset': 4294, 'lizard': 4295, 'snake': 4296, 'reaervoir': 4297, 'subsidy': 4298, 'stockpile': 4299, 'sakra': 4300, 'hah': 4301, 'lekage': 4302, 'boy': 4303, 'nrw': 4304, 'yoy': 4305, 'yep': 4306, 'bore': 4307, 'hotlikne': 4308, 'district': 4309, 'poke': 4310, 'macrithchi': 4311, 'che': 4312, 'istnut': 4313, 'lin': 4314, 'gui': 4315, 'denn': 4316, 'copyright': 4317, 'amages': 4318, 'gateway': 4319, 'westgate': 4320, 'jgtpl': 4321, 'papillon': 4322, 'wedsite': 4323, 'retention': 4324, 'pulao': 4325, 'desal': 4326, 'existence': 4327, 'oilwater': 4328, 'treatmenthow': 4329, 'cubicle': 4330, 'serwer': 4331, 'p': 4332, 'wilson': 4333, 'winson': 4334, 'blair': 4335, 'pubcompofwork': 4336, 'walkway': 4337, 'pound': 4338, 'pedestrian': 4339, 'hyflux': 4340, 'rip': 4341, 'loan': 4342, 'perform': 4343, 'president': 4344, 'tuaspring': 4345, 'nuwater': 4346, 'kria': 4347, 'coleman': 4348, 'labelling': 4349, 'tuesday': 4350, 'inconsistent': 4351, 'kian': 4352, 'pheng': 4353, 'yello': 4354, 'repairing': 4355, 'trouble': 4356, 'bangkit': 4357, 'webpage': 4358, 'speck': 4359, 'nee': 4360, 'army': 4361, 'thr': 4362, 'finishing': 4363, 'fortp': 4364, 'clemanti': 4365, 'truck': 4366, 'murai': 4367, 'liscen': 4368, 'lampost': 4369, 'drainline': 4370, 'cckww': 4371, 'peb': 4372, 'grid': 4373, 'flower': 4374, 'bed': 4375, 'rainwate': 4376, 'nvc': 4377, 'gu': 4378, 'wwwpebgovsg': 4379, 'auto': 4380, 'aknowledgement': 4381, 'nutritional': 4382, 'neet': 4383, 'schedue': 4384, 'desalinating': 4385, 'powshowever': 4386, 'warn': 4387, 'fong': 4388, 'xi': 4389, 'ning': 4390, 'jestoni': 4391, 'scada': 4392, 'dispute': 4393, 'warranty': 4394, 'spec': 4395, 'discover': 4396, 'skin': 4397, 'irritation': 4398, 'purchasing': 4399, 'intern': 4400, 'lingiu': 4401, 'feed': 4402, 'loadgement': 4403, 'outdoor': 4404, 'refreshment': 4405, 'advisedby': 4406, 'coordinate': 4407, 'contactme': 4408, 'pubonepubgovsg': 4409, 'acknowledgment': 4410, 'conseal': 4411, 'formet': 4412, 'gismapping': 4413, 'eventsfloodpone': 4414, 'araes': 4415, 'cheng': 4416, 'hwee': 4417, 'meng': 4418, 'shun': 4419, 'ty': 4420, 'pollutant': 4421, 'dainage': 4422, 'kadiel': 4423, 'unot': 4424, 'cctvreport': 4425, 'han': 4426, 'loong': 4427, 'callig': 4428, 'phon': 4429, 'enumber': 4430, 'procurement': 4431, 'harry': 4432, 'seah': 4433, 'assitant': 4434, 'whereby': 4435, 'plus': 4436, 'valut': 4437, 'ritchie': 4438, 'flame': 4439, 'opportunity': 4440, 'resultcan': 4441, 'gon': 4442, 'takeover': 4443, 'drinage': 4444, 'requirment': 4445, 'dunbar': 4446, 'deccan': 4447, 'hell': 4448, 'takeshi': 4449, 'itagaki': 4450, 'japanese': 4451, 'maker': 4452, 'jis': 4453, 'orange': 4454, 'substance': 4455, 'wipe': 4456, 'tissue': 4457, 'hotspot': 4458, 'wholesale': 4459, 'ssw': 4460, 'hazel': 4461, 'indian': 4462, 'left': 4463, 'fluh': 4464, 'pumbers': 4465, 'applicat': 4466, 'dedication': 4467, 'bankmay': 4468, 'nowmy': 4469, 'biz': 4470, 'setup': 4471}\n"
          ]
        }
      ]
    },
    {
      "cell_type": "code",
      "metadata": {
        "colab": {
          "base_uri": "https://localhost:8080/"
        },
        "id": "g6FJBPJJsrv-",
        "outputId": "f9fd2239-58d3-4fea-e360-ea5b172da900"
      },
      "source": [
        "sentences_num = []\n",
        "\n",
        "for i in all_sentences+all_sentences_val:\n",
        "  sentences_num.append([voc_dic[y] for y in i.split()])\n",
        "\n",
        "print('Tokenized: ', sentences_num[1])"
      ],
      "execution_count": null,
      "outputs": [
        {
          "output_type": "stream",
          "name": "stdout",
          "text": [
            "Tokenized:  [7, 8, 9]\n"
          ]
        }
      ]
    },
    {
      "cell_type": "code",
      "metadata": {
        "colab": {
          "base_uri": "https://localhost:8080/"
        },
        "id": "8ChlIr1lsuwC",
        "outputId": "2b735b58-974f-49c1-e1e2-44016587c441"
      },
      "source": [
        "padded = pad_sequences(sentences_num, padding='post')\n",
        "\n",
        "print('Padded: ', padded[0])"
      ],
      "execution_count": null,
      "outputs": [
        {
          "output_type": "stream",
          "name": "stdout",
          "text": [
            "Padded:  [1 2 3 4 5 6 0 0 0 0 0 0 0 0 0 0 0 0 0 0 0 0]\n"
          ]
        }
      ]
    },
    {
      "cell_type": "code",
      "metadata": {
        "id": "_IXc2ZmmtInF"
      },
      "source": [
        "y_train = df_train.label.to_numpy()\n",
        "y_test = df_test.label.to_numpy()"
      ],
      "execution_count": null,
      "outputs": []
    },
    {
      "cell_type": "code",
      "metadata": {
        "id": "e9Ky1IT__x7G"
      },
      "source": [
        "# dataset for siamese network\n",
        "# for even iterations we fetch a pair of samples of the same class (possibly, same sample), label 1\n",
        "# for odd iterations a pair of different classes (label 0)\n",
        "class SiamDataset(Dataset):\n",
        "    \n",
        "    def __init__(self, categories, x_train, y_train, df):\n",
        "        self.categories = categories\n",
        "        self.x_train = x_train\n",
        "        self.y_train = y_train\n",
        "        self.df = df.reset_index()\n",
        "        \n",
        "    def __len__(self):\n",
        "        return len(self.df)\n",
        "    def __getitem__(self, idx):\n",
        "\n",
        "        if idx % 2 == 0:\n",
        "            category = random.choice(self.categories)\n",
        "            \n",
        "            ind1,ind2 = random.choice(self.df[self.df['label']==category].index), \\\n",
        "            random.choice(self.df[self.df['label']==category].index)\n",
        "            \n",
        "            sen1 = self.x_train[ind1]\n",
        "            sen2 = self.x_train[ind2]\n",
        "            \n",
        "            label = 1.0\n",
        "\n",
        "        else:\n",
        "            category1, category2 = random.choice(self.categories), random.choice(self.categories)\n",
        "            \n",
        "            ind1, ind2 = random.choice(self.df[self.df['label']==category1].index), \\\n",
        "            random.choice(self.df[self.df['label']==category2].index)\n",
        "            \n",
        "            sen1 = self.x_train[ind1]\n",
        "            sen2 = self.x_train[ind2]\n",
        "            \n",
        "            \n",
        "            while ind1 == ind2:\n",
        "              ind2 = random.choice(self.df[self.df['label']==category2].index)\n",
        "              sen2 = self.x_train[ind2]\n",
        "            \n",
        "            label = 0.0\n",
        "            \n",
        "        return sen1, sen2, torch.from_numpy(np.array([label], dtype=np.float32))  \n",
        "\n",
        "\n",
        "train_data = SiamDataset(df_train.label.unique(), torch.from_numpy(padded[:len(train),:]), \n",
        "                        torch.tensor(y_train), df_train)"
      ],
      "execution_count": null,
      "outputs": []
    },
    {
      "cell_type": "code",
      "metadata": {
        "id": "dFOphyNtEXQG"
      },
      "source": [
        "batch_size = 30\n",
        "train_loader = DataLoader(train_data, shuffle=False, batch_size=batch_size, \n",
        "                          drop_last=True)\n",
        "train_on_gpu = torch.cuda.is_available()"
      ],
      "execution_count": null,
      "outputs": []
    },
    {
      "cell_type": "code",
      "metadata": {
        "id": "PwJxVC3Z9VXv"
      },
      "source": [
        "class Siam(nn.Module):\n",
        "    def __init__(self, weights_matrix, hidden_size, linear_hid, d, r):\n",
        "        super(Siam, self).__init__()\n",
        "        self.hidden_size = hidden_size\n",
        "        self.d = d\n",
        "        self.r = r\n",
        "        self.linear_hid = linear_hid\n",
        "        self.embed, num_embeddings, embedding_dim = create_emb_layer(weights_matrix, True)\n",
        "        #self.embed = nn.Embedding(5329, 200)\n",
        "\n",
        "        self.lstm = nn.LSTM(embedding_dim, hidden_size, batch_first=True, \n",
        "                            bidirectional=True)\n",
        "        self.w1 = nn.Linear(2*hidden_size, d, bias=False)\n",
        "        self.tanh = nn.Tanh()\n",
        "        self.w2 = nn.Linear(d, r, bias = False)\n",
        "        self.soft = nn.Softmax(dim=1)\n",
        "        self.drop = nn.Dropout(.3)\n",
        "\n",
        "        self.lin1 = nn.Linear(2*hidden_size, linear_hid)\n",
        "        self.relu = nn.ReLU()\n",
        "        self.lin2 = nn.Linear(linear_hid, 4096)\n",
        "\n",
        "        \n",
        "\n",
        "        self.fcOut = nn.Linear(4096,1)\n",
        "\n",
        "\n",
        "    def forward(self, x1, x2, hidden):\n",
        "      res = []\n",
        "      for x in [x1,x2]:\n",
        "        \n",
        "        batch_size = x.size(0)\n",
        "        x = x.long()\n",
        "        em = self.embed(x)\n",
        "        \n",
        "        out, hidden = self.lstm(em, hidden) \n",
        "        \n",
        "        out = self.drop(out)\n",
        "      \n",
        "        _w = self.tanh(self.w1(out))\n",
        "        w = self.w2(_w)\n",
        "        w = torch.abs(w)\n",
        "        \n",
        "        \n",
        "        att = self.soft(w)\n",
        "        \n",
        "        att = w.transpose(dim0=1, dim1=2)\n",
        "      \n",
        "        m = torch.matmul(att, out)\n",
        "        m = m.mean(dim=1)\n",
        "\n",
        "        \n",
        "        m = m.view(batch_size, -1)\n",
        "        \n",
        "        x = self.relu(self.lin1(m))\n",
        "      \n",
        "        x = self.lin2(x)\n",
        "\n",
        "        res.append(x)\n",
        "\n",
        "      x = torch.abs(res[0] - res[1])\n",
        "      x = self.fcOut(x)\n",
        "\n",
        "      return x, hidden\n",
        "\n",
        "    def initHidden(self, batch_size):\n",
        "        weight = next(self.parameters()).data\n",
        "        if train_on_gpu:\n",
        "          hidden = (weight.new(2, batch_size, self.hidden_size).zero_().cuda(), #//2\n",
        "                  weight.new(2, batch_size, self.hidden_size).zero_().cuda())\n",
        "        else:\n",
        "          hidden = (weight.new(2, batch_size, self.hidden_size).zero_().cpu(), #//2\n",
        "                  weight.new(2, batch_size, self.hidden_size).zero_().cpu())\n",
        "        return hidden\n",
        "\n",
        "\n",
        "hidden_size = 32\n",
        "d = 10\n",
        "r = 1\n",
        "linear_hid = 200\n",
        "\n",
        "net = Siam(weights_matrix, hidden_size, linear_hid, d, r)"
      ],
      "execution_count": null,
      "outputs": []
    },
    {
      "cell_type": "code",
      "metadata": {
        "id": "o_CPiZLBweX1",
        "colab": {
          "base_uri": "https://localhost:8080/"
        },
        "outputId": "0df95e6a-e787-4dfd-bb15-b1da184a13eb"
      },
      "source": [
        "def count_parameters(model):\n",
        "    return sum(p.numel() for p in net.parameters() if p.requires_grad)\n",
        "\n",
        "print(f'Number of parameters: {count_parameters(net)}')\n",
        "\n",
        "optimizer = torch.optim.AdamW(net.parameters(), lr=0.001)\n",
        "criterion = torch.nn.BCEWithLogitsLoss()\n",
        "\n",
        "epochs = 15\n",
        "counter = 0\n",
        "clip = 5\n",
        "print_every = 200\n",
        "count_ep = 0\n",
        "\n",
        "if train_on_gpu:\n",
        "    net.cuda()\n",
        "\n",
        "net.train()"
      ],
      "execution_count": null,
      "outputs": [
        {
          "output_type": "stream",
          "name": "stdout",
          "text": [
            "Number of parameters: 900947\n"
          ]
        },
        {
          "output_type": "execute_result",
          "data": {
            "text/plain": [
              "Siam(\n",
              "  (embed): Embedding(4472, 200)\n",
              "  (lstm): LSTM(200, 32, batch_first=True, bidirectional=True)\n",
              "  (w1): Linear(in_features=64, out_features=10, bias=False)\n",
              "  (tanh): Tanh()\n",
              "  (w2): Linear(in_features=10, out_features=1, bias=False)\n",
              "  (soft): Softmax(dim=1)\n",
              "  (drop): Dropout(p=0.3, inplace=False)\n",
              "  (lin1): Linear(in_features=64, out_features=200, bias=True)\n",
              "  (relu): ReLU()\n",
              "  (lin2): Linear(in_features=200, out_features=4096, bias=True)\n",
              "  (fcOut): Linear(in_features=4096, out_features=1, bias=True)\n",
              ")"
            ]
          },
          "metadata": {},
          "execution_count": 64
        }
      ]
    },
    {
      "cell_type": "code",
      "metadata": {
        "colab": {
          "base_uri": "https://localhost:8080/"
        },
        "id": "GqAuzzilSopO",
        "outputId": "071173cb-f928-4fb3-eebf-407545c6df27"
      },
      "source": [
        "sig = nn.Sigmoid()\n",
        "\n",
        "for epoch in range(epochs):\n",
        "  val_attention = []\n",
        "  input_text = []\n",
        "  selected = []\n",
        "  my_texts = []\n",
        "  result = []\n",
        "  \n",
        "  count_ep+=1\n",
        "  \n",
        "  train_res = []\n",
        "  train_lab = []\n",
        "  valid_res = []\n",
        "  valid_lab = []\n",
        "\n",
        "  hidden = net.initHidden(batch_size)\n",
        "  for sen1, sen2, label in train_loader:\n",
        "\n",
        "    if train_on_gpu: sen1, sen2, label = sen1.cuda(), sen2.cuda(), label.cuda()\n",
        "\n",
        "    counter += 1\n",
        "    \n",
        "    hidden = tuple([e.data for e in hidden])\n",
        "    \n",
        "    optimizer.zero_grad()\n",
        "    \n",
        "    output, hidden= net(sen1, sen2, hidden)\n",
        "    \n",
        "    for i in output:\n",
        "      \n",
        "      train_res.append(int(torch.round(sig(i))[0]))\n",
        "    \n",
        "    for i in label:\n",
        "      train_lab.append(int(i))\n",
        "    \n",
        "    loss = criterion(output, label)\n",
        "    loss.backward()\n",
        "    \n",
        "    nn.utils.clip_grad_norm_(net.parameters(), clip)\n",
        "    \n",
        "    optimizer.step()\n",
        "    \n",
        "    acc = np.sum(np.array(train_res) == np.array(train_lab)) / len(np.array(train_lab))\n",
        "  \n",
        "  print(f'Epoch: {epoch + 1}/{epochs}')\n",
        "  print(f'Step: {counter}')\n",
        "  print(f'Train Acc: {acc}')\n",
        "  print(f'Train Loss: {loss.item()}')\n",
        "  \n",
        "  \n",
        "  "
      ],
      "execution_count": null,
      "outputs": [
        {
          "output_type": "stream",
          "name": "stdout",
          "text": [
            "Epoch: 1/15\n",
            "Step: 322\n",
            "Train Acc: 0.6634575569358178\n",
            "Train Loss: 0.4729063808917999\n",
            "Epoch: 2/15\n",
            "Step: 644\n",
            "Train Acc: 0.7440993788819876\n",
            "Train Loss: 0.4518949091434479\n",
            "Epoch: 3/15\n",
            "Step: 966\n",
            "Train Acc: 0.7773291925465838\n",
            "Train Loss: 0.46457555890083313\n",
            "Epoch: 4/15\n",
            "Step: 1288\n",
            "Train Acc: 0.8044513457556935\n",
            "Train Loss: 0.16229623556137085\n",
            "Epoch: 5/15\n",
            "Step: 1610\n",
            "Train Acc: 0.8217391304347826\n",
            "Train Loss: 0.5009189248085022\n",
            "Epoch: 6/15\n",
            "Step: 1932\n",
            "Train Acc: 0.8284679089026915\n",
            "Train Loss: 0.40036943554878235\n",
            "Epoch: 7/15\n",
            "Step: 2254\n",
            "Train Acc: 0.8401656314699792\n",
            "Train Loss: 0.3916817009449005\n",
            "Epoch: 8/15\n",
            "Step: 2576\n",
            "Train Acc: 0.848343685300207\n",
            "Train Loss: 0.38278841972351074\n",
            "Epoch: 9/15\n",
            "Step: 2898\n",
            "Train Acc: 0.8586956521739131\n",
            "Train Loss: 0.33375170826911926\n",
            "Epoch: 10/15\n",
            "Step: 3220\n",
            "Train Acc: 0.8673913043478261\n",
            "Train Loss: 0.20648974180221558\n",
            "Epoch: 11/15\n",
            "Step: 3542\n",
            "Train Acc: 0.868944099378882\n",
            "Train Loss: 0.25518688559532166\n",
            "Epoch: 12/15\n",
            "Step: 3864\n",
            "Train Acc: 0.8766045548654244\n",
            "Train Loss: 0.3054620325565338\n",
            "Epoch: 13/15\n",
            "Step: 4186\n",
            "Train Acc: 0.8831262939958592\n",
            "Train Loss: 0.3066433072090149\n",
            "Epoch: 14/15\n",
            "Step: 4508\n",
            "Train Acc: 0.8861283643892339\n",
            "Train Loss: 0.1923113465309143\n",
            "Epoch: 15/15\n",
            "Step: 4830\n",
            "Train Acc: 0.888095238095238\n",
            "Train Loss: 0.21557095646858215\n"
          ]
        }
      ]
    },
    {
      "cell_type": "code",
      "metadata": {
        "id": "P_KfQ6R7igmK"
      },
      "source": [
        "torch.save(net.state_dict(), 'siam.pt')"
      ],
      "execution_count": null,
      "outputs": []
    },
    {
      "cell_type": "code",
      "metadata": {
        "id": "ON3nEqz0nfDq"
      },
      "source": [
        "test_reind = df_test.reset_index()"
      ],
      "execution_count": null,
      "outputs": []
    },
    {
      "cell_type": "markdown",
      "metadata": {
        "id": "34_A4t9Xv1jA"
      },
      "source": [
        "Test valid accuracy for some of the classes"
      ]
    },
    {
      "cell_type": "code",
      "metadata": {
        "colab": {
          "base_uri": "https://localhost:8080/"
        },
        "id": "vu5k2kfInEp5",
        "outputId": "cdcd8327-6659-4b68-afd1-55a14de466e0"
      },
      "source": [
        "test_reind[test_reind.label==44].index"
      ],
      "execution_count": null,
      "outputs": [
        {
          "output_type": "execute_result",
          "data": {
            "text/plain": [
              "Int64Index([  0,   1,  17,  19,  20,  22,  23,  24,  53, 138, 174, 184, 185,\n",
              "            217, 479, 480, 481, 482, 531, 604, 737, 739, 787, 796, 943, 944],\n",
              "           dtype='int64')"
            ]
          },
          "metadata": {},
          "execution_count": 68
        }
      ]
    },
    {
      "cell_type": "code",
      "metadata": {
        "id": "PZlcAi_MoV2t"
      },
      "source": [
        "train_reind = df_train.reset_index()"
      ],
      "execution_count": null,
      "outputs": []
    },
    {
      "cell_type": "code",
      "metadata": {
        "id": "DB3zcl1vnEGm"
      },
      "source": [
        "class_44 = torch.stack([torch.from_numpy(padded[len(train):,:])[i] for i in test_reind[test_reind.label==44].index])"
      ],
      "execution_count": null,
      "outputs": []
    },
    {
      "cell_type": "code",
      "metadata": {
        "colab": {
          "base_uri": "https://localhost:8080/"
        },
        "id": "kvDjp40CoQvA",
        "outputId": "0a50f32b-5d5c-450c-9c06-f15f992550e4"
      },
      "source": [
        "class_44.shape"
      ],
      "execution_count": null,
      "outputs": [
        {
          "output_type": "execute_result",
          "data": {
            "text/plain": [
              "torch.Size([26, 22])"
            ]
          },
          "metadata": {},
          "execution_count": 71
        }
      ]
    },
    {
      "cell_type": "code",
      "metadata": {
        "id": "iu15-CI5olwK",
        "colab": {
          "base_uri": "https://localhost:8080/"
        },
        "outputId": "b43e9494-abf9-4ad3-d7d4-8ff4773205c3"
      },
      "source": [
        "#calculate similarity scores for all of the sentences in the train set\n",
        "\n",
        "%%time\n",
        "net.eval()\n",
        "\n",
        "full_scores = []\n",
        "\n",
        "for sen in class_44:\n",
        "  scores = []\n",
        "  hidden = net.initHidden(1)\n",
        "  \n",
        "  for sen1 in torch.from_numpy(padded[:len(train),:]):\n",
        "    hidden = tuple([e.data for e in hidden])\n",
        "    if train_on_gpu:\n",
        "      sen,sen1 = sen.cuda(), sen1.cuda()\n",
        "    output, hidden= net(sen.unsqueeze(0), sen1.unsqueeze(0), hidden)\n",
        "    scores.append(output[0])\n",
        "\n",
        "  full_scores.append(np.argmax(scores))\n"
      ],
      "execution_count": null,
      "outputs": [
        {
          "output_type": "stream",
          "name": "stdout",
          "text": [
            "CPU times: user 14min 10s, sys: 11.5 s, total: 14min 22s\n",
            "Wall time: 14min 18s\n"
          ]
        }
      ]
    },
    {
      "cell_type": "code",
      "metadata": {
        "id": "x4tzbPwC4fc6",
        "colab": {
          "base_uri": "https://localhost:8080/"
        },
        "outputId": "fd8522ba-6dc4-40df-a8b8-e2e81a90ed83"
      },
      "source": [
        "len(full_scores)"
      ],
      "execution_count": null,
      "outputs": [
        {
          "output_type": "execute_result",
          "data": {
            "text/plain": [
              "26"
            ]
          },
          "metadata": {},
          "execution_count": 73
        }
      ]
    },
    {
      "cell_type": "code",
      "metadata": {
        "id": "b-DwO6_P4rGZ",
        "colab": {
          "base_uri": "https://localhost:8080/"
        },
        "outputId": "78b6668c-95b4-4208-82c6-b7839defe4e2"
      },
      "source": [
        "#indices of the most similar sentences in the train set\n",
        "full_scores"
      ],
      "execution_count": null,
      "outputs": [
        {
          "output_type": "execute_result",
          "data": {
            "text/plain": [
              "[6452,\n",
              " 1047,\n",
              " 1117,\n",
              " 1117,\n",
              " 1117,\n",
              " 1117,\n",
              " 1047,\n",
              " 1047,\n",
              " 1117,\n",
              " 1117,\n",
              " 1047,\n",
              " 1117,\n",
              " 1117,\n",
              " 1117,\n",
              " 1117,\n",
              " 1117,\n",
              " 1117,\n",
              " 1117,\n",
              " 1117,\n",
              " 1117,\n",
              " 1117,\n",
              " 1117,\n",
              " 1117,\n",
              " 1117,\n",
              " 1117,\n",
              " 1047]"
            ]
          },
          "metadata": {},
          "execution_count": 74
        }
      ]
    },
    {
      "cell_type": "code",
      "metadata": {
        "id": "VAsPegqsrZdR"
      },
      "source": [
        "#labels of the most similar sentences in the train set\n",
        "pred_labels = [df_train.loc[i].label for i in full_scores]"
      ],
      "execution_count": null,
      "outputs": []
    },
    {
      "cell_type": "code",
      "metadata": {
        "id": "a31BlwQv4npJ",
        "colab": {
          "base_uri": "https://localhost:8080/"
        },
        "outputId": "877ce7d2-6722-41ca-b4c4-feef092a7adc"
      },
      "source": [
        "pred_labels"
      ],
      "execution_count": null,
      "outputs": [
        {
          "output_type": "execute_result",
          "data": {
            "text/plain": [
              "[155,\n",
              " 2,\n",
              " 2,\n",
              " 2,\n",
              " 2,\n",
              " 2,\n",
              " 2,\n",
              " 2,\n",
              " 2,\n",
              " 2,\n",
              " 2,\n",
              " 2,\n",
              " 2,\n",
              " 2,\n",
              " 2,\n",
              " 2,\n",
              " 2,\n",
              " 2,\n",
              " 2,\n",
              " 2,\n",
              " 2,\n",
              " 2,\n",
              " 2,\n",
              " 2,\n",
              " 2,\n",
              " 2]"
            ]
          },
          "metadata": {},
          "execution_count": 76
        }
      ]
    },
    {
      "cell_type": "code",
      "metadata": {
        "colab": {
          "base_uri": "https://localhost:8080/"
        },
        "id": "wCWfN4uBrkIQ",
        "outputId": "b9989e8d-9c73-4948-bdd7-f078b79ac36f"
      },
      "source": [
        "# ratio of the sentecnes w/ correct labels among chosen\n",
        "accuracy_score(pred_labels, [44 for i in range(len(pred_labels))])"
      ],
      "execution_count": null,
      "outputs": [
        {
          "output_type": "execute_result",
          "data": {
            "text/plain": [
              "0.0"
            ]
          },
          "metadata": {},
          "execution_count": 77
        }
      ]
    },
    {
      "cell_type": "code",
      "metadata": {
        "colab": {
          "base_uri": "https://localhost:8080/"
        },
        "id": "qjVI-3ZjONEJ",
        "outputId": "53c6257d-13fe-4fd7-b72b-fdff521a078a"
      },
      "source": [
        "#100% accuracy for a regular NN\n",
        "test_reind[test_reind.label==125].index"
      ],
      "execution_count": null,
      "outputs": [
        {
          "output_type": "execute_result",
          "data": {
            "text/plain": [
              "Int64Index([34, 262, 267], dtype='int64')"
            ]
          },
          "metadata": {},
          "execution_count": 80
        }
      ]
    },
    {
      "cell_type": "code",
      "metadata": {
        "id": "LDs6XvsuOTMw"
      },
      "source": [
        "class_125 = torch.stack([torch.from_numpy(padded[len(train):,:])[i] for i in test_reind[test_reind.label==125].index])"
      ],
      "execution_count": null,
      "outputs": []
    },
    {
      "cell_type": "code",
      "metadata": {
        "colab": {
          "base_uri": "https://localhost:8080/"
        },
        "id": "DjlKwbxoOhTh",
        "outputId": "3b85907d-8f38-4c03-c67f-9dbca7f80b7c"
      },
      "source": [
        "#calculate similarity scores for all of the sentences in the train set\n",
        "\n",
        "%%time\n",
        "net.eval()\n",
        "\n",
        "full_scores = []\n",
        "\n",
        "for sen in class_125:\n",
        "  scores = []\n",
        "  hidden = net.initHidden(1)\n",
        "  \n",
        "  for sen1 in torch.from_numpy(padded[:len(train),:]):\n",
        "    hidden = tuple([e.data for e in hidden])\n",
        "    if train_on_gpu:\n",
        "      sen,sen1 = sen.cuda(), sen1.cuda()\n",
        "    output, hidden= net(sen.unsqueeze(0), sen1.unsqueeze(0), hidden)\n",
        "    scores.append(output[0])\n",
        "\n",
        "  full_scores.append(np.argmax(scores))\n"
      ],
      "execution_count": null,
      "outputs": [
        {
          "output_type": "stream",
          "name": "stdout",
          "text": [
            "CPU times: user 1min 37s, sys: 1.37 s, total: 1min 38s\n",
            "Wall time: 1min 38s\n"
          ]
        }
      ]
    },
    {
      "cell_type": "code",
      "metadata": {
        "colab": {
          "base_uri": "https://localhost:8080/"
        },
        "id": "TKuXggSOOhM6",
        "outputId": "43dda5d3-06ce-414e-db44-b670f72cdeba"
      },
      "source": [
        "pred_labels = [df_train.loc[i].label for i in full_scores]\n",
        "accuracy_score(pred_labels, [125 for i in range(len(pred_labels))])"
      ],
      "execution_count": null,
      "outputs": [
        {
          "output_type": "execute_result",
          "data": {
            "text/plain": [
              "0.0"
            ]
          },
          "metadata": {},
          "execution_count": 85
        }
      ]
    },
    {
      "cell_type": "code",
      "metadata": {
        "id": "sj2JxMD-OhHM"
      },
      "source": [
        "class_313 = torch.stack([torch.from_numpy(padded[len(train):,:])[i] for i in test_reind[test_reind.label==313].index])"
      ],
      "execution_count": null,
      "outputs": []
    },
    {
      "cell_type": "code",
      "metadata": {
        "colab": {
          "base_uri": "https://localhost:8080/"
        },
        "id": "VWvEN7TjOhBt",
        "outputId": "9b1fb37e-10bb-4036-b328-a29e19b8a4a0"
      },
      "source": [
        "#calculate similarity scores for all of the sentences in the train set\n",
        "\n",
        "%%time\n",
        "net.eval()\n",
        "\n",
        "full_scores = []\n",
        "\n",
        "for sen in class_313:\n",
        "  scores = []\n",
        "  hidden = net.initHidden(1)\n",
        "  \n",
        "  for sen1 in torch.from_numpy(padded[:len(train),:]):\n",
        "    hidden = tuple([e.data for e in hidden])\n",
        "    if train_on_gpu:\n",
        "      sen,sen1 = sen.cuda(), sen1.cuda()\n",
        "    output, hidden= net(sen.unsqueeze(0), sen1.unsqueeze(0), hidden)\n",
        "    scores.append(output[0])\n",
        "\n",
        "  full_scores.append(np.argmax(scores))\n"
      ],
      "execution_count": null,
      "outputs": [
        {
          "output_type": "stream",
          "name": "stdout",
          "text": [
            "CPU times: user 1min 38s, sys: 1.37 s, total: 1min 39s\n",
            "Wall time: 1min 39s\n"
          ]
        }
      ]
    },
    {
      "cell_type": "code",
      "metadata": {
        "colab": {
          "base_uri": "https://localhost:8080/"
        },
        "id": "E9z-UA2ePqX0",
        "outputId": "38e826e7-4bdd-4e5d-f17b-9cadd5e35633"
      },
      "source": [
        "pred_labels = [df_train.loc[i].label for i in full_scores]\n",
        "accuracy_score(pred_labels, [313 for i in range(len(pred_labels))])"
      ],
      "execution_count": null,
      "outputs": [
        {
          "output_type": "execute_result",
          "data": {
            "text/plain": [
              "0.0"
            ]
          },
          "metadata": {},
          "execution_count": 88
        }
      ]
    },
    {
      "cell_type": "code",
      "metadata": {
        "id": "f90ULBBuPqBD"
      },
      "source": [
        ""
      ],
      "execution_count": null,
      "outputs": []
    },
    {
      "cell_type": "markdown",
      "metadata": {
        "id": "Vt6hDbttR7o2"
      },
      "source": [
        "RoBERTa"
      ]
    },
    {
      "cell_type": "code",
      "metadata": {
        "id": "VOz8FEjpzhSP"
      },
      "source": [
        "train = pd.read_csv('/content/task/task/train_data.csv')\n",
        "valid = pd.read_csv('/content/task/task/validation_set.csv')"
      ],
      "execution_count": null,
      "outputs": []
    },
    {
      "cell_type": "code",
      "metadata": {
        "id": "_L5VGsyvzpti"
      },
      "source": [
        "valid.drop(valid[valid.Class_ID==[i for i in valid.Class_ID.unique() if i not in train.Class_ID.unique()][0]].index, inplace=True)\n",
        "df_train = train.copy()\n",
        "df_test = valid.copy()\n",
        "df_train['text'] = train['Phrases']\n",
        "df_train['label'] = train['Class_ID']\n",
        "df_test['text'] = valid['Phrases']\n",
        "df_test['label'] = valid['Class_ID']\n",
        "df_train.drop(['Phrases', 'Class_ID'], axis=1, inplace=True)\n",
        "df_test.drop(['Phrases', 'Class_ID'], axis=1, inplace=True)"
      ],
      "execution_count": null,
      "outputs": []
    },
    {
      "cell_type": "code",
      "metadata": {
        "id": "CnJlVceizpXW"
      },
      "source": [
        "le = sklearn.preprocessing.LabelEncoder()\n",
        "df_train['label'] = le.fit_transform(df_train['label'])\n",
        "df_test['label'] = le.transform(df_test['label'])"
      ],
      "execution_count": null,
      "outputs": []
    },
    {
      "cell_type": "code",
      "metadata": {
        "colab": {
          "base_uri": "https://localhost:8080/",
          "height": 81,
          "referenced_widgets": [
            "bb210dc2a2674c1184fa6fb7dec94971",
            "8c372de6f2654f07a7b8cecaaa2c186a",
            "59917952365e4082abb78e2ce044727c",
            "72f72f153ab847dbb960530a23b8f99f",
            "747e703aead04e99ac6c13314c16115f",
            "5ca0bf320f6b49d395efa1994bb43540",
            "1856bcee3d7745bca70064e921385891",
            "e8d65d8030824206ab0c530a80fd6e20",
            "0664735f9c6c4225afa9649ee6bfd254",
            "0e25d2931f4541aa9b688fa8cb68e645",
            "495cd6db37434a0fa61acb1813216b34",
            "733aabf465f340a583c5c8b8d0bfd868",
            "8744659c5c7443249df17346a5fab7f1",
            "637d96e825ad415ba6b045c891b69868",
            "cca533cd736c437c8f5d246b987125d9",
            "787c038a863b4ff09e74e0abc330dba4",
            "cc98fc4b35294e56a1b4686c53207ecc",
            "e6cc9eb7632946e293c0fa278ada110e",
            "288c268e56424469876e4b89a92cf049",
            "f18ff2e0b6a541e392ff6fd240ca6850",
            "42dd61f0a4084d9baf8af0012dd2693d",
            "fae207840c434218a148d15dcde175eb"
          ]
        },
        "id": "JFzIQBu8AZp1",
        "outputId": "1ad7d26e-efd9-4a59-a2ed-5a7b48a0a12f"
      },
      "source": [
        "PRE_TRAINED_MODEL_NAME = 'roberta-base'\n",
        "tokenizer = RobertaTokenizer.from_pretrained(PRE_TRAINED_MODEL_NAME)"
      ],
      "execution_count": null,
      "outputs": [
        {
          "output_type": "display_data",
          "data": {
            "application/vnd.jupyter.widget-view+json": {
              "model_id": "bb210dc2a2674c1184fa6fb7dec94971",
              "version_minor": 0,
              "version_major": 2
            },
            "text/plain": [
              "Downloading:   0%|          | 0.00/899k [00:00<?, ?B/s]"
            ]
          },
          "metadata": {}
        },
        {
          "output_type": "display_data",
          "data": {
            "application/vnd.jupyter.widget-view+json": {
              "model_id": "733aabf465f340a583c5c8b8d0bfd868",
              "version_minor": 0,
              "version_major": 2
            },
            "text/plain": [
              "Downloading:   0%|          | 0.00/456k [00:00<?, ?B/s]"
            ]
          },
          "metadata": {}
        }
      ]
    },
    {
      "cell_type": "code",
      "metadata": {
        "colab": {
          "base_uri": "https://localhost:8080/",
          "height": 595
        },
        "id": "eLwIk17aAbx_",
        "outputId": "e69a8d50-f5fc-41a2-d4b0-b907f43f435c"
      },
      "source": [
        "token_lens = []\n",
        "\n",
        "for sentence in list(train.Phrases):\n",
        "  tokens = tokenizer.encode(sentence, truncation=True, max_length=64)\n",
        "  token_lens.append(len(tokens))\n",
        "\n",
        "print('Max length: ', max(token_lens))\n",
        "print(' '*40)\n",
        "\n",
        "sns.distplot(token_lens)\n",
        "plt.xlim([0, 60]);\n",
        "plt.xlabel('Token count');"
      ],
      "execution_count": null,
      "outputs": [
        {
          "output_type": "stream",
          "name": "stdout",
          "text": [
            "Max length:  56\n",
            "                                        \n"
          ]
        },
        {
          "output_type": "stream",
          "name": "stderr",
          "text": [
            "/usr/local/lib/python3.7/dist-packages/seaborn/distributions.py:2619: FutureWarning: `distplot` is a deprecated function and will be removed in a future version. Please adapt your code to use either `displot` (a figure-level function with similar flexibility) or `histplot` (an axes-level function for histograms).\n",
            "  warnings.warn(msg, FutureWarning)\n"
          ]
        },
        {
          "output_type": "display_data",
          "data": {
            "image/png": "[encoded data removed]",
            "text/plain": [
              "<Figure size 864x576 with 1 Axes>"
            ]
          },
          "metadata": {
            "image/png": {
              "width": 749,
              "height": 489
            }
          }
        }
      ]
    },
    {
      "cell_type": "code",
      "metadata": {
        "colab": {
          "base_uri": "https://localhost:8080/",
          "height": 596
        },
        "id": "hg4cPKOwAmFZ",
        "outputId": "7d957948-7649-4383-a0eb-c01b3e232269"
      },
      "source": [
        "token_lens = []\n",
        "\n",
        "for sentence in list(valid.Phrases):\n",
        "  tokens = tokenizer.encode(sentence, truncation=True, max_length=64)\n",
        "  token_lens.append(len(tokens))\n",
        "\n",
        "print('Max length: ', max(token_lens))\n",
        "print(' '*40)\n",
        "\n",
        "sns.distplot(token_lens)\n",
        "plt.xlim([0, 60]);\n",
        "plt.xlabel('Token count');"
      ],
      "execution_count": null,
      "outputs": [
        {
          "output_type": "stream",
          "name": "stdout",
          "text": [
            "Max length:  43\n",
            "                                        \n"
          ]
        },
        {
          "output_type": "stream",
          "name": "stderr",
          "text": [
            "/usr/local/lib/python3.7/dist-packages/seaborn/distributions.py:2619: FutureWarning: `distplot` is a deprecated function and will be removed in a future version. Please adapt your code to use either `displot` (a figure-level function with similar flexibility) or `histplot` (an axes-level function for histograms).\n",
            "  warnings.warn(msg, FutureWarning)\n"
          ]
        },
        {
          "output_type": "display_data",
          "data": {
            "image/png": "[encoded data removed]",
            "text/plain": [
              "<Figure size 864x576 with 1 Axes>"
            ]
          },
          "metadata": {
            "image/png": {
              "width": 749,
              "height": 490
            }
          }
        }
      ]
    },
    {
      "cell_type": "code",
      "metadata": {
        "id": "EXKPHv-4BZVm"
      },
      "source": [
        "MAX_LEN = 64"
      ],
      "execution_count": null,
      "outputs": []
    },
    {
      "cell_type": "code",
      "metadata": {
        "id": "KDs-ra_zBfkV"
      },
      "source": [
        "class SentenceDataset(Dataset):\n",
        "\n",
        "  def __init__(self, sentences, labels, tokenizer, max_len):\n",
        "    self.sentences = sentences\n",
        "    self.labels = labels\n",
        "    self.tokenizer = tokenizer\n",
        "    self.max_len = max_len\n",
        "  \n",
        "  def __len__(self):\n",
        "    return len(self.sentences)\n",
        "  \n",
        "  def __getitem__(self, item):\n",
        "    sentence = str(self.sentences[item])\n",
        "    label = self.labels[item]\n",
        "    \n",
        "\n",
        "    encoding = self.tokenizer.encode_plus(\n",
        "      sentence,\n",
        "      add_special_tokens=True,\n",
        "      max_length=self.max_len,\n",
        "      truncation=True,\n",
        "      return_token_type_ids=False,\n",
        "      pad_to_max_length=True,\n",
        "      return_attention_mask=True,\n",
        "      return_tensors='pt',\n",
        "    )\n",
        "\n",
        "    return {\n",
        "      'sentence_text': sentence,\n",
        "      'input_ids': encoding['input_ids'].flatten(),\n",
        "      'attention_mask': encoding['attention_mask'].flatten(),\n",
        "      'labels': torch.tensor(label, dtype=torch.long)\n",
        "    }"
      ],
      "execution_count": null,
      "outputs": []
    },
    {
      "cell_type": "code",
      "metadata": {
        "id": "G6lA37wgEwmL"
      },
      "source": [
        "def create_data_loader(df, tokenizer, max_len, batch_size):\n",
        "  ds = SentenceDataset(\n",
        "    sentences=df.text.to_numpy(),\n",
        "    labels=df.label.to_numpy(),\n",
        "    tokenizer=tokenizer,\n",
        "    max_len=max_len\n",
        "  )\n",
        "\n",
        "  return DataLoader(\n",
        "    ds,\n",
        "    batch_size=batch_size,\n",
        "    num_workers=4\n",
        "  )"
      ],
      "execution_count": null,
      "outputs": []
    },
    {
      "cell_type": "code",
      "metadata": {
        "id": "MJIuYXmUE4eO",
        "colab": {
          "base_uri": "https://localhost:8080/"
        },
        "outputId": "0ebc237b-3285-4b19-8111-4e1be4824ec0"
      },
      "source": [
        "BATCH_SIZE = 32\n",
        "\n",
        "train_data_loader = create_data_loader(df_train, tokenizer, MAX_LEN, BATCH_SIZE)\n",
        "val_data_loader = create_data_loader(df_test, tokenizer, MAX_LEN, BATCH_SIZE)"
      ],
      "execution_count": null,
      "outputs": [
        {
          "output_type": "stream",
          "name": "stderr",
          "text": [
            "/usr/local/lib/python3.7/dist-packages/torch/utils/data/dataloader.py:481: UserWarning: This DataLoader will create 4 worker processes in total. Our suggested max number of worker in current system is 2, which is smaller than what this DataLoader is going to create. Please be aware that excessive worker creation might get DataLoader running slow or even freeze, lower the worker number to avoid potential slowness/freeze if necessary.\n",
            "  cpuset_checked))\n"
          ]
        }
      ]
    },
    {
      "cell_type": "code",
      "metadata": {
        "id": "LBuT6tDIE_jA"
      },
      "source": [
        "import warnings\n",
        "warnings.filterwarnings(\"ignore\")"
      ],
      "execution_count": null,
      "outputs": []
    },
    {
      "cell_type": "code",
      "metadata": {
        "colab": {
          "base_uri": "https://localhost:8080/"
        },
        "id": "7sfzvEavFEgC",
        "outputId": "4ee681dc-76e3-44d8-8bb0-e8ef99fa94ef"
      },
      "source": [
        "print([i for i in train_data_loader][0]['sentence_text'][0])\n",
        "print([i for i in train_data_loader][0]['input_ids'][0])\n",
        "print([i for i in train_data_loader][0]['attention_mask'][0])\n",
        "print([i for i in train_data_loader][0]['labels'][0])"
      ],
      "execution_count": null,
      "outputs": [
        {
          "output_type": "stream",
          "name": "stdout",
          "text": [
            "50 MW Floating Solar PV tender document\n",
            "tensor([    0,  1096, 19370, 40480, 11400, 23774,  8780,  3780,     2,     1,\n",
            "            1,     1,     1,     1,     1,     1,     1,     1,     1,     1,\n",
            "            1,     1,     1,     1,     1,     1,     1,     1,     1,     1,\n",
            "            1,     1,     1,     1,     1,     1,     1,     1,     1,     1,\n",
            "            1,     1,     1,     1,     1,     1,     1,     1,     1,     1,\n",
            "            1,     1,     1,     1,     1,     1,     1,     1,     1,     1,\n",
            "            1,     1,     1,     1])\n",
            "tensor([1, 1, 1, 1, 1, 1, 1, 1, 1, 0, 0, 0, 0, 0, 0, 0, 0, 0, 0, 0, 0, 0, 0, 0,\n",
            "        0, 0, 0, 0, 0, 0, 0, 0, 0, 0, 0, 0, 0, 0, 0, 0, 0, 0, 0, 0, 0, 0, 0, 0,\n",
            "        0, 0, 0, 0, 0, 0, 0, 0, 0, 0, 0, 0, 0, 0, 0, 0])\n",
            "tensor(0)\n"
          ]
        }
      ]
    },
    {
      "cell_type": "code",
      "metadata": {
        "colab": {
          "base_uri": "https://localhost:8080/"
        },
        "id": "LdwiQ6QoFHL9",
        "outputId": "a7e152b0-32d9-4590-c808-2441d7668af2"
      },
      "source": [
        "data = next(iter(train_data_loader))\n",
        "\n",
        "#print(data['sentence_text'])\n",
        "print(data['input_ids'].shape)\n",
        "print(data['attention_mask'].shape)\n",
        "print(data['labels'].shape)"
      ],
      "execution_count": null,
      "outputs": [
        {
          "output_type": "stream",
          "name": "stdout",
          "text": [
            "torch.Size([32, 64])\n",
            "torch.Size([32, 64])\n",
            "torch.Size([32])\n"
          ]
        }
      ]
    },
    {
      "cell_type": "code",
      "metadata": {
        "id": "fsuh0aVHFPTK",
        "colab": {
          "base_uri": "https://localhost:8080/",
          "height": 81,
          "referenced_widgets": [
            "f1d1b93b7d4b4b5a8a3906a6ec34e830",
            "ed5872759023403bbce85291ccb4ff68",
            "87547f0f226c4617aaee0d7fc230a4fb",
            "c4993aeda5834a7c9ea65bc4d38c9ff3",
            "880245fcedd94dec94dfcc712dc1b05c",
            "8ca47251e4634de3a6972d86bb800c5f",
            "75a6acc674504c2db8cc340c08fa9b06",
            "79140a138d7741b18476211022568b73",
            "4b262ffade204376b6f40c057fa26e64",
            "6bfe5b7710a544139b48d9a53f7b1be2",
            "7c35aec3f8f847a59662eaf8abe77a37",
            "5ab595f4498545aea9aadf54b6201459",
            "301724d11cb748b09411fd7bc007cd3f",
            "c3994215748d4baca0d57ccb77c6ac0e",
            "ed2b573cf8734febaf81f85b8e888769",
            "938ad1c5a9074cd88864ecb76402cc64",
            "7b35c9a796ba4d70864f7cea48af5581",
            "f69cbbbeabae413daa1806e71424a7e5",
            "c57176d3cc3f42f58bd10bf93f3bf696",
            "cf94af90031948c08c49ec1c1e8d2d1b",
            "2bdb5854ad9f4a82a0b98419b79fb28d",
            "75eda073b7034670956353e25acbabb3"
          ]
        },
        "outputId": "304786cf-43f5-4d8b-fc6c-fd19f9e80e27"
      },
      "source": [
        "roberta_model = RobertaModel.from_pretrained(PRE_TRAINED_MODEL_NAME)"
      ],
      "execution_count": null,
      "outputs": [
        {
          "output_type": "display_data",
          "data": {
            "application/vnd.jupyter.widget-view+json": {
              "model_id": "f1d1b93b7d4b4b5a8a3906a6ec34e830",
              "version_minor": 0,
              "version_major": 2
            },
            "text/plain": [
              "Downloading:   0%|          | 0.00/481 [00:00<?, ?B/s]"
            ]
          },
          "metadata": {}
        },
        {
          "output_type": "display_data",
          "data": {
            "application/vnd.jupyter.widget-view+json": {
              "model_id": "5ab595f4498545aea9aadf54b6201459",
              "version_minor": 0,
              "version_major": 2
            },
            "text/plain": [
              "Downloading:   0%|          | 0.00/501M [00:00<?, ?B/s]"
            ]
          },
          "metadata": {}
        }
      ]
    },
    {
      "cell_type": "code",
      "metadata": {
        "id": "9rnaR6yNFSYW"
      },
      "source": [
        "class SentenceClassifier(nn.Module):\n",
        "\n",
        "  def __init__(self, n_classes):\n",
        "    super(SentenceClassifier, self).__init__()\n",
        "    self.roberta = roberta_model\n",
        "    self.drop = nn.Dropout(.4)\n",
        "    self.out = nn.Linear(self.roberta.config.hidden_size, n_classes)\n",
        "  \n",
        "  def forward(self, input_ids, attention_mask):\n",
        "    _, pooled_output = self.roberta(\n",
        "      input_ids=input_ids,\n",
        "      attention_mask=attention_mask\n",
        "    )\n",
        "    output = self.drop(pooled_output)\n",
        "    return self.out(output)"
      ],
      "execution_count": null,
      "outputs": []
    },
    {
      "cell_type": "code",
      "metadata": {
        "colab": {
          "base_uri": "https://localhost:8080/"
        },
        "id": "C5MozDxwFaZh",
        "outputId": "20e609bd-c070-458b-c0b5-51f460eb0a73"
      },
      "source": [
        "model = SentenceClassifier(train.Class_ID.nunique())\n",
        "model = model.to(device)\n",
        "\n",
        "print(model)"
      ],
      "execution_count": null,
      "outputs": [
        {
          "output_type": "stream",
          "name": "stdout",
          "text": [
            "SentenceClassifier(\n",
            "  (roberta): RobertaModel(\n",
            "    (embeddings): RobertaEmbeddings(\n",
            "      (word_embeddings): Embedding(50265, 768, padding_idx=1)\n",
            "      (position_embeddings): Embedding(514, 768, padding_idx=1)\n",
            "      (token_type_embeddings): Embedding(1, 768)\n",
            "      (LayerNorm): LayerNorm((768,), eps=1e-05, elementwise_affine=True)\n",
            "      (dropout): Dropout(p=0.1, inplace=False)\n",
            "    )\n",
            "    (encoder): BertEncoder(\n",
            "      (layer): ModuleList(\n",
            "        (0): BertLayer(\n",
            "          (attention): BertAttention(\n",
            "            (self): BertSelfAttention(\n",
            "              (query): Linear(in_features=768, out_features=768, bias=True)\n",
            "              (key): Linear(in_features=768, out_features=768, bias=True)\n",
            "              (value): Linear(in_features=768, out_features=768, bias=True)\n",
            "              (dropout): Dropout(p=0.1, inplace=False)\n",
            "            )\n",
            "            (output): BertSelfOutput(\n",
            "              (dense): Linear(in_features=768, out_features=768, bias=True)\n",
            "              (LayerNorm): LayerNorm((768,), eps=1e-05, elementwise_affine=True)\n",
            "              (dropout): Dropout(p=0.1, inplace=False)\n",
            "            )\n",
            "          )\n",
            "          (intermediate): BertIntermediate(\n",
            "            (dense): Linear(in_features=768, out_features=3072, bias=True)\n",
            "          )\n",
            "          (output): BertOutput(\n",
            "            (dense): Linear(in_features=3072, out_features=768, bias=True)\n",
            "            (LayerNorm): LayerNorm((768,), eps=1e-05, elementwise_affine=True)\n",
            "            (dropout): Dropout(p=0.1, inplace=False)\n",
            "          )\n",
            "        )\n",
            "        (1): BertLayer(\n",
            "          (attention): BertAttention(\n",
            "            (self): BertSelfAttention(\n",
            "              (query): Linear(in_features=768, out_features=768, bias=True)\n",
            "              (key): Linear(in_features=768, out_features=768, bias=True)\n",
            "              (value): Linear(in_features=768, out_features=768, bias=True)\n",
            "              (dropout): Dropout(p=0.1, inplace=False)\n",
            "            )\n",
            "            (output): BertSelfOutput(\n",
            "              (dense): Linear(in_features=768, out_features=768, bias=True)\n",
            "              (LayerNorm): LayerNorm((768,), eps=1e-05, elementwise_affine=True)\n",
            "              (dropout): Dropout(p=0.1, inplace=False)\n",
            "            )\n",
            "          )\n",
            "          (intermediate): BertIntermediate(\n",
            "            (dense): Linear(in_features=768, out_features=3072, bias=True)\n",
            "          )\n",
            "          (output): BertOutput(\n",
            "            (dense): Linear(in_features=3072, out_features=768, bias=True)\n",
            "            (LayerNorm): LayerNorm((768,), eps=1e-05, elementwise_affine=True)\n",
            "            (dropout): Dropout(p=0.1, inplace=False)\n",
            "          )\n",
            "        )\n",
            "        (2): BertLayer(\n",
            "          (attention): BertAttention(\n",
            "            (self): BertSelfAttention(\n",
            "              (query): Linear(in_features=768, out_features=768, bias=True)\n",
            "              (key): Linear(in_features=768, out_features=768, bias=True)\n",
            "              (value): Linear(in_features=768, out_features=768, bias=True)\n",
            "              (dropout): Dropout(p=0.1, inplace=False)\n",
            "            )\n",
            "            (output): BertSelfOutput(\n",
            "              (dense): Linear(in_features=768, out_features=768, bias=True)\n",
            "              (LayerNorm): LayerNorm((768,), eps=1e-05, elementwise_affine=True)\n",
            "              (dropout): Dropout(p=0.1, inplace=False)\n",
            "            )\n",
            "          )\n",
            "          (intermediate): BertIntermediate(\n",
            "            (dense): Linear(in_features=768, out_features=3072, bias=True)\n",
            "          )\n",
            "          (output): BertOutput(\n",
            "            (dense): Linear(in_features=3072, out_features=768, bias=True)\n",
            "            (LayerNorm): LayerNorm((768,), eps=1e-05, elementwise_affine=True)\n",
            "            (dropout): Dropout(p=0.1, inplace=False)\n",
            "          )\n",
            "        )\n",
            "        (3): BertLayer(\n",
            "          (attention): BertAttention(\n",
            "            (self): BertSelfAttention(\n",
            "              (query): Linear(in_features=768, out_features=768, bias=True)\n",
            "              (key): Linear(in_features=768, out_features=768, bias=True)\n",
            "              (value): Linear(in_features=768, out_features=768, bias=True)\n",
            "              (dropout): Dropout(p=0.1, inplace=False)\n",
            "            )\n",
            "            (output): BertSelfOutput(\n",
            "              (dense): Linear(in_features=768, out_features=768, bias=True)\n",
            "              (LayerNorm): LayerNorm((768,), eps=1e-05, elementwise_affine=True)\n",
            "              (dropout): Dropout(p=0.1, inplace=False)\n",
            "            )\n",
            "          )\n",
            "          (intermediate): BertIntermediate(\n",
            "            (dense): Linear(in_features=768, out_features=3072, bias=True)\n",
            "          )\n",
            "          (output): BertOutput(\n",
            "            (dense): Linear(in_features=3072, out_features=768, bias=True)\n",
            "            (LayerNorm): LayerNorm((768,), eps=1e-05, elementwise_affine=True)\n",
            "            (dropout): Dropout(p=0.1, inplace=False)\n",
            "          )\n",
            "        )\n",
            "        (4): BertLayer(\n",
            "          (attention): BertAttention(\n",
            "            (self): BertSelfAttention(\n",
            "              (query): Linear(in_features=768, out_features=768, bias=True)\n",
            "              (key): Linear(in_features=768, out_features=768, bias=True)\n",
            "              (value): Linear(in_features=768, out_features=768, bias=True)\n",
            "              (dropout): Dropout(p=0.1, inplace=False)\n",
            "            )\n",
            "            (output): BertSelfOutput(\n",
            "              (dense): Linear(in_features=768, out_features=768, bias=True)\n",
            "              (LayerNorm): LayerNorm((768,), eps=1e-05, elementwise_affine=True)\n",
            "              (dropout): Dropout(p=0.1, inplace=False)\n",
            "            )\n",
            "          )\n",
            "          (intermediate): BertIntermediate(\n",
            "            (dense): Linear(in_features=768, out_features=3072, bias=True)\n",
            "          )\n",
            "          (output): BertOutput(\n",
            "            (dense): Linear(in_features=3072, out_features=768, bias=True)\n",
            "            (LayerNorm): LayerNorm((768,), eps=1e-05, elementwise_affine=True)\n",
            "            (dropout): Dropout(p=0.1, inplace=False)\n",
            "          )\n",
            "        )\n",
            "        (5): BertLayer(\n",
            "          (attention): BertAttention(\n",
            "            (self): BertSelfAttention(\n",
            "              (query): Linear(in_features=768, out_features=768, bias=True)\n",
            "              (key): Linear(in_features=768, out_features=768, bias=True)\n",
            "              (value): Linear(in_features=768, out_features=768, bias=True)\n",
            "              (dropout): Dropout(p=0.1, inplace=False)\n",
            "            )\n",
            "            (output): BertSelfOutput(\n",
            "              (dense): Linear(in_features=768, out_features=768, bias=True)\n",
            "              (LayerNorm): LayerNorm((768,), eps=1e-05, elementwise_affine=True)\n",
            "              (dropout): Dropout(p=0.1, inplace=False)\n",
            "            )\n",
            "          )\n",
            "          (intermediate): BertIntermediate(\n",
            "            (dense): Linear(in_features=768, out_features=3072, bias=True)\n",
            "          )\n",
            "          (output): BertOutput(\n",
            "            (dense): Linear(in_features=3072, out_features=768, bias=True)\n",
            "            (LayerNorm): LayerNorm((768,), eps=1e-05, elementwise_affine=True)\n",
            "            (dropout): Dropout(p=0.1, inplace=False)\n",
            "          )\n",
            "        )\n",
            "        (6): BertLayer(\n",
            "          (attention): BertAttention(\n",
            "            (self): BertSelfAttention(\n",
            "              (query): Linear(in_features=768, out_features=768, bias=True)\n",
            "              (key): Linear(in_features=768, out_features=768, bias=True)\n",
            "              (value): Linear(in_features=768, out_features=768, bias=True)\n",
            "              (dropout): Dropout(p=0.1, inplace=False)\n",
            "            )\n",
            "            (output): BertSelfOutput(\n",
            "              (dense): Linear(in_features=768, out_features=768, bias=True)\n",
            "              (LayerNorm): LayerNorm((768,), eps=1e-05, elementwise_affine=True)\n",
            "              (dropout): Dropout(p=0.1, inplace=False)\n",
            "            )\n",
            "          )\n",
            "          (intermediate): BertIntermediate(\n",
            "            (dense): Linear(in_features=768, out_features=3072, bias=True)\n",
            "          )\n",
            "          (output): BertOutput(\n",
            "            (dense): Linear(in_features=3072, out_features=768, bias=True)\n",
            "            (LayerNorm): LayerNorm((768,), eps=1e-05, elementwise_affine=True)\n",
            "            (dropout): Dropout(p=0.1, inplace=False)\n",
            "          )\n",
            "        )\n",
            "        (7): BertLayer(\n",
            "          (attention): BertAttention(\n",
            "            (self): BertSelfAttention(\n",
            "              (query): Linear(in_features=768, out_features=768, bias=True)\n",
            "              (key): Linear(in_features=768, out_features=768, bias=True)\n",
            "              (value): Linear(in_features=768, out_features=768, bias=True)\n",
            "              (dropout): Dropout(p=0.1, inplace=False)\n",
            "            )\n",
            "            (output): BertSelfOutput(\n",
            "              (dense): Linear(in_features=768, out_features=768, bias=True)\n",
            "              (LayerNorm): LayerNorm((768,), eps=1e-05, elementwise_affine=True)\n",
            "              (dropout): Dropout(p=0.1, inplace=False)\n",
            "            )\n",
            "          )\n",
            "          (intermediate): BertIntermediate(\n",
            "            (dense): Linear(in_features=768, out_features=3072, bias=True)\n",
            "          )\n",
            "          (output): BertOutput(\n",
            "            (dense): Linear(in_features=3072, out_features=768, bias=True)\n",
            "            (LayerNorm): LayerNorm((768,), eps=1e-05, elementwise_affine=True)\n",
            "            (dropout): Dropout(p=0.1, inplace=False)\n",
            "          )\n",
            "        )\n",
            "        (8): BertLayer(\n",
            "          (attention): BertAttention(\n",
            "            (self): BertSelfAttention(\n",
            "              (query): Linear(in_features=768, out_features=768, bias=True)\n",
            "              (key): Linear(in_features=768, out_features=768, bias=True)\n",
            "              (value): Linear(in_features=768, out_features=768, bias=True)\n",
            "              (dropout): Dropout(p=0.1, inplace=False)\n",
            "            )\n",
            "            (output): BertSelfOutput(\n",
            "              (dense): Linear(in_features=768, out_features=768, bias=True)\n",
            "              (LayerNorm): LayerNorm((768,), eps=1e-05, elementwise_affine=True)\n",
            "              (dropout): Dropout(p=0.1, inplace=False)\n",
            "            )\n",
            "          )\n",
            "          (intermediate): BertIntermediate(\n",
            "            (dense): Linear(in_features=768, out_features=3072, bias=True)\n",
            "          )\n",
            "          (output): BertOutput(\n",
            "            (dense): Linear(in_features=3072, out_features=768, bias=True)\n",
            "            (LayerNorm): LayerNorm((768,), eps=1e-05, elementwise_affine=True)\n",
            "            (dropout): Dropout(p=0.1, inplace=False)\n",
            "          )\n",
            "        )\n",
            "        (9): BertLayer(\n",
            "          (attention): BertAttention(\n",
            "            (self): BertSelfAttention(\n",
            "              (query): Linear(in_features=768, out_features=768, bias=True)\n",
            "              (key): Linear(in_features=768, out_features=768, bias=True)\n",
            "              (value): Linear(in_features=768, out_features=768, bias=True)\n",
            "              (dropout): Dropout(p=0.1, inplace=False)\n",
            "            )\n",
            "            (output): BertSelfOutput(\n",
            "              (dense): Linear(in_features=768, out_features=768, bias=True)\n",
            "              (LayerNorm): LayerNorm((768,), eps=1e-05, elementwise_affine=True)\n",
            "              (dropout): Dropout(p=0.1, inplace=False)\n",
            "            )\n",
            "          )\n",
            "          (intermediate): BertIntermediate(\n",
            "            (dense): Linear(in_features=768, out_features=3072, bias=True)\n",
            "          )\n",
            "          (output): BertOutput(\n",
            "            (dense): Linear(in_features=3072, out_features=768, bias=True)\n",
            "            (LayerNorm): LayerNorm((768,), eps=1e-05, elementwise_affine=True)\n",
            "            (dropout): Dropout(p=0.1, inplace=False)\n",
            "          )\n",
            "        )\n",
            "        (10): BertLayer(\n",
            "          (attention): BertAttention(\n",
            "            (self): BertSelfAttention(\n",
            "              (query): Linear(in_features=768, out_features=768, bias=True)\n",
            "              (key): Linear(in_features=768, out_features=768, bias=True)\n",
            "              (value): Linear(in_features=768, out_features=768, bias=True)\n",
            "              (dropout): Dropout(p=0.1, inplace=False)\n",
            "            )\n",
            "            (output): BertSelfOutput(\n",
            "              (dense): Linear(in_features=768, out_features=768, bias=True)\n",
            "              (LayerNorm): LayerNorm((768,), eps=1e-05, elementwise_affine=True)\n",
            "              (dropout): Dropout(p=0.1, inplace=False)\n",
            "            )\n",
            "          )\n",
            "          (intermediate): BertIntermediate(\n",
            "            (dense): Linear(in_features=768, out_features=3072, bias=True)\n",
            "          )\n",
            "          (output): BertOutput(\n",
            "            (dense): Linear(in_features=3072, out_features=768, bias=True)\n",
            "            (LayerNorm): LayerNorm((768,), eps=1e-05, elementwise_affine=True)\n",
            "            (dropout): Dropout(p=0.1, inplace=False)\n",
            "          )\n",
            "        )\n",
            "        (11): BertLayer(\n",
            "          (attention): BertAttention(\n",
            "            (self): BertSelfAttention(\n",
            "              (query): Linear(in_features=768, out_features=768, bias=True)\n",
            "              (key): Linear(in_features=768, out_features=768, bias=True)\n",
            "              (value): Linear(in_features=768, out_features=768, bias=True)\n",
            "              (dropout): Dropout(p=0.1, inplace=False)\n",
            "            )\n",
            "            (output): BertSelfOutput(\n",
            "              (dense): Linear(in_features=768, out_features=768, bias=True)\n",
            "              (LayerNorm): LayerNorm((768,), eps=1e-05, elementwise_affine=True)\n",
            "              (dropout): Dropout(p=0.1, inplace=False)\n",
            "            )\n",
            "          )\n",
            "          (intermediate): BertIntermediate(\n",
            "            (dense): Linear(in_features=768, out_features=3072, bias=True)\n",
            "          )\n",
            "          (output): BertOutput(\n",
            "            (dense): Linear(in_features=3072, out_features=768, bias=True)\n",
            "            (LayerNorm): LayerNorm((768,), eps=1e-05, elementwise_affine=True)\n",
            "            (dropout): Dropout(p=0.1, inplace=False)\n",
            "          )\n",
            "        )\n",
            "      )\n",
            "    )\n",
            "    (pooler): BertPooler(\n",
            "      (dense): Linear(in_features=768, out_features=768, bias=True)\n",
            "      (activation): Tanh()\n",
            "    )\n",
            "  )\n",
            "  (drop): Dropout(p=0.4, inplace=False)\n",
            "  (out): Linear(in_features=768, out_features=358, bias=True)\n",
            ")\n"
          ]
        }
      ]
    },
    {
      "cell_type": "code",
      "metadata": {
        "colab": {
          "base_uri": "https://localhost:8080/"
        },
        "id": "VpggKHAoFk3c",
        "outputId": "eaff3d81-a559-4046-9509-22ad564beca0"
      },
      "source": [
        "input_ids = data['input_ids'].to(device)\n",
        "attention_mask = data['attention_mask'].to(device)\n",
        "\n",
        "print(input_ids.shape)\n",
        "print(attention_mask.shape)"
      ],
      "execution_count": null,
      "outputs": [
        {
          "output_type": "stream",
          "name": "stdout",
          "text": [
            "torch.Size([32, 64])\n",
            "torch.Size([32, 64])\n"
          ]
        }
      ]
    },
    {
      "cell_type": "code",
      "metadata": {
        "id": "AokgHhTAFvED"
      },
      "source": [
        "EPOCHS = 5\n",
        "\n",
        "optimizer = AdamW(model.parameters(), lr=2e-6, correct_bias=False)\n",
        "total_steps = len(train_data_loader) * EPOCHS\n",
        "\n",
        "scheduler = get_linear_schedule_with_warmup(\n",
        "  optimizer,\n",
        "  num_warmup_steps=0,\n",
        "  num_training_steps=total_steps\n",
        ")\n",
        "\n",
        "loss_fn = nn.CrossEntropyLoss().to(device)"
      ],
      "execution_count": null,
      "outputs": []
    },
    {
      "cell_type": "code",
      "metadata": {
        "id": "EUHuSzGyF023"
      },
      "source": [
        "def train_epoch(\n",
        "  model, \n",
        "  data_loader, \n",
        "  loss_fn, \n",
        "  optimizer, \n",
        "  device, \n",
        "  scheduler, \n",
        "  n_examples\n",
        "):\n",
        "  model = model.train()\n",
        "  y_pred_tr = []\n",
        "  y_true_tr = []\n",
        "\n",
        "  losses = []\n",
        "  \n",
        "  for d in data_loader:\n",
        "    input_ids = d[\"input_ids\"].to(device)\n",
        "    attention_mask = d[\"attention_mask\"].to(device)\n",
        "    labels = d[\"labels\"].to(device)\n",
        "\n",
        "    outputs = model(\n",
        "      input_ids=input_ids,\n",
        "      attention_mask=attention_mask\n",
        "    )\n",
        "\n",
        "    preds = torch.argmax(outputs, dim=1)\n",
        "    \n",
        "    loss = loss_fn(outputs, labels)\n",
        "    \n",
        "    for i in preds.cpu().numpy():\n",
        "      y_pred_tr.append(i)\n",
        "    for i in labels.cpu().numpy():\n",
        "      y_true_tr.append(i)\n",
        "    \n",
        "    losses.append(loss.item())\n",
        "\n",
        "    loss.backward()\n",
        "    nn.utils.clip_grad_norm_(model.parameters(), max_norm=1.0)\n",
        "    optimizer.step()\n",
        "    scheduler.step()\n",
        "    optimizer.zero_grad()\n",
        "\n",
        "  return accuracy_score(y_true_tr, y_pred_tr), np.mean(losses)\n",
        "         "
      ],
      "execution_count": null,
      "outputs": []
    },
    {
      "cell_type": "code",
      "metadata": {
        "id": "XMibCsVdF7VN"
      },
      "source": [
        "def eval_model(model, data_loader, loss_fn, device, n_examples):\n",
        "    \n",
        "  model = model.eval()\n",
        "\n",
        "  losses = []\n",
        "    \n",
        "  sentence_texts = []\n",
        "\n",
        "  y_pred_val = []\n",
        "  y_true_val = []\n",
        "\n",
        "  with torch.no_grad():\n",
        "    for d in data_loader:\n",
        "      rev_text = d[\"sentence_text\"]\n",
        "      input_ids = d[\"input_ids\"].to(device)\n",
        "      attention_mask = d[\"attention_mask\"].to(device)\n",
        "      labels = d[\"labels\"].to(device)\n",
        "\n",
        "      outputs = model(\n",
        "        input_ids=input_ids,\n",
        "        attention_mask=attention_mask\n",
        "      )\n",
        "      \n",
        "      preds = torch.argmax(outputs, dim=1)\n",
        "\n",
        "      loss = loss_fn(outputs, labels)\n",
        "\n",
        "      for i in preds.cpu().numpy():\n",
        "        y_pred_val.append(i)\n",
        "      for i in labels.cpu().numpy():\n",
        "        y_true_val.append(i)\n",
        "      for i in rev_text:\n",
        "        sentence_texts.append(i)\n",
        "\n",
        "      losses.append(loss.item())\n",
        "\n",
        "  return accuracy_score(y_true_val, y_pred_val), np.mean(losses), \\\n",
        "  y_pred_val, y_true_val, sentence_texts"
      ],
      "execution_count": null,
      "outputs": []
    },
    {
      "cell_type": "code",
      "metadata": {
        "colab": {
          "base_uri": "https://localhost:8080/"
        },
        "id": "tAY8NR9_F-vQ",
        "outputId": "b6db04b5-9ac9-4ab4-c765-4d133fb69bde"
      },
      "source": [
        "[i for i in val_data_loader][0]"
      ],
      "execution_count": null,
      "outputs": [
        {
          "output_type": "execute_result",
          "data": {
            "text/plain": [
              "{'attention_mask': tensor([[1, 1, 1,  ..., 0, 0, 0],\n",
              "         [1, 1, 1,  ..., 0, 0, 0],\n",
              "         [1, 1, 1,  ..., 0, 0, 0],\n",
              "         ...,\n",
              "         [1, 1, 1,  ..., 0, 0, 0],\n",
              "         [1, 1, 1,  ..., 0, 0, 0],\n",
              "         [1, 1, 1,  ..., 0, 0, 0]]),\n",
              " 'input_ids': tensor([[    0,  6209,    89,  ...,     1,     1,     1],\n",
              "         [    0,  6209,    89,  ...,     1,     1,     1],\n",
              "         [    0, 10836,    47,  ...,     1,     1,     1],\n",
              "         ...,\n",
              "         [    0, 47456,  8881,  ...,     1,     1,     1],\n",
              "         [    0, 14447,  2923,  ...,     1,     1,     1],\n",
              "         [    0, 40545,     9,  ...,     1,     1,     1]]),\n",
              " 'labels': tensor([ 47,  47,  33,  39,  42,   1,   2, 204, 262, 262,   0,   0,   0,   3,\n",
              "          40, 259, 189,  47,   0,  47,  47,  16,  47,  47,  47, 259,   3, 318,\n",
              "         204,  36,   0, 318]),\n",
              " 'sentence_text': ['Is there a difference between the rates between HDB flats and private properties',\n",
              "  'Is there a difference between the water rates between HDB flats and private properties',\n",
              "  'Can you please recommend a licensed plumber to install a water stopper for my house',\n",
              "  'Can a building be served by 100 newater if the owner is willing',\n",
              "  'Water supply stopped',\n",
              "  'How do i get non potable NEWater to a lab in a school',\n",
              "  'Lab use',\n",
              "  'What is pub email address',\n",
              "  'Water got poison',\n",
              "  'Water got germ',\n",
              "  'Where is cwtp',\n",
              "  'Where is bedok reservoir',\n",
              "  'Where is cwrp',\n",
              "  'Pub got vacancy',\n",
              "  'Who tocontact for water meter leak',\n",
              "  'Who is pub ceo',\n",
              "  'How many reservoirs in singapore',\n",
              "  'what is the water tarigg',\n",
              "  'Who is wong kar geok',\n",
              "  'what is the current water tariff',\n",
              "  'what is the water tariff costs',\n",
              "  'Where is the common flood area',\n",
              "  'What is wbf',\n",
              "  'what is the current water tariff rates',\n",
              "  'Tariff rate',\n",
              "  'Who is pub mother',\n",
              "  'Pub career in future',\n",
              "  'How to apply for a written approval for water discharge to the public sewer',\n",
              "  'Can i talk to a human',\n",
              "  'Apply pub for new hub',\n",
              "  'Whats is the difference between tambling bay and back trop',\n",
              "  'application of permit for trade effluent discharge to public sewer']}"
            ]
          },
          "metadata": {},
          "execution_count": 46
        }
      ]
    },
    {
      "cell_type": "code",
      "metadata": {
        "colab": {
          "base_uri": "https://localhost:8080/"
        },
        "id": "psDEQdc2G963",
        "outputId": "5428435c-5596-44b3-dfb1-364436a2b034"
      },
      "source": [
        "device"
      ],
      "execution_count": null,
      "outputs": [
        {
          "output_type": "execute_result",
          "data": {
            "text/plain": [
              "device(type='cuda', index=0)"
            ]
          },
          "metadata": {},
          "execution_count": 47
        }
      ]
    },
    {
      "cell_type": "markdown",
      "metadata": {
        "id": "FqIA7ABvEt63"
      },
      "source": [
        "NN simply unable to learn"
      ]
    },
    {
      "cell_type": "code",
      "metadata": {
        "id": "ufhLaqNlL13N",
        "colab": {
          "base_uri": "https://localhost:8080/"
        },
        "outputId": "decdd738-d095-491f-b7ed-03d80ef71b4b"
      },
      "source": [
        "%%time\n",
        "\n",
        "history = defaultdict(list)\n",
        "best_acc = 0\n",
        "\n",
        "for epoch in range(EPOCHS):\n",
        "\n",
        "  print(f'Epoch {epoch + 1}/{EPOCHS}')\n",
        "  print('-' * 10)\n",
        "\n",
        "  train_acc, train_loss = train_epoch(\n",
        "    model,\n",
        "    train_data_loader,    \n",
        "    loss_fn, \n",
        "    optimizer, \n",
        "    device, \n",
        "    scheduler, \n",
        "    len(df_train)\n",
        "  )\n",
        "\n",
        "  print(f'Train loss: {train_loss}, Accuracy: {train_acc}')\n",
        "\n",
        "  val_acc, val_loss, y_pred_val, y_true_val, sentence_texts = eval_model(\n",
        "    model,\n",
        "    val_data_loader,\n",
        "    loss_fn, \n",
        "    device, \n",
        "    len(df_test)\n",
        "  )\n",
        "\n",
        "  print(f'Val loss: {val_loss}, Accuracy: {val_acc}')\n",
        "  \n",
        "  # saving to history\n",
        "  history['train_acc'].append(train_acc.item())\n",
        "  history['train_loss'].append(train_loss.item())\n",
        "  history['val_acc'].append(val_acc.item())\n",
        "  history['val_loss'].append(val_loss.item())\n",
        " \n",
        "\n",
        "  # if current acc is larger than the previous one, save the model\n",
        "  if val_acc > best_acc:\n",
        "    torch.save(model.state_dict(), 'best_model_state.pt')\n",
        "    best_acc = val_acc"
      ],
      "execution_count": null,
      "outputs": [
        {
          "output_type": "stream",
          "name": "stdout",
          "text": [
            "Epoch 1/5\n",
            "----------\n",
            "Train loss: 5.453903786420035, Accuracy: 0.12895904260806768\n",
            "Val loss: 5.61686635017395, Accuracy: 0.0820754716981132\n",
            "Epoch 2/5\n",
            "----------\n",
            "Train loss: 5.217797590561039, Accuracy: 0.13391106984421747\n",
            "Val loss: 5.2738946185392495, Accuracy: 0.0820754716981132\n",
            "Epoch 3/5\n",
            "----------\n",
            "Train loss: 5.068103924442832, Accuracy: 0.11678530898586609\n",
            "Val loss: 5.318771642797134, Accuracy: 0.0820754716981132\n",
            "Epoch 4/5\n",
            "----------\n",
            "Train loss: 5.236883221679788, Accuracy: 0.05385329619312906\n",
            "Val loss: 5.148431118796854, Accuracy: 0.0820754716981132\n",
            "Epoch 5/5\n",
            "----------\n",
            "Train loss: 5.250207897853537, Accuracy: 0.05581347364077169\n",
            "Val loss: 4.964716027764713, Accuracy: 0.1009433962264151\n",
            "CPU times: user 18min 9s, sys: 21.2 s, total: 18min 31s\n",
            "Wall time: 18min 34s\n"
          ]
        }
      ]
    },
    {
      "cell_type": "code",
      "metadata": {
        "id": "xXYIoq-p-XOP"
      },
      "source": [
        ""
      ],
      "execution_count": null,
      "outputs": []
    }
  ]
}