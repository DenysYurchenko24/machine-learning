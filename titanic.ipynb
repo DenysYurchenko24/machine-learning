{
  "nbformat": 4,
  "nbformat_minor": 0,
  "metadata": {
    "colab": {
      "name": "titanic.ipynb",
      "provenance": [],
      "collapsed_sections": [],
      "authorship_tag": "ABX9TyNbNixQ+OQr0p8EDVKBVEKf",
      "include_colab_link": true
    },
    "kernelspec": {
      "name": "python3",
      "display_name": "Python 3"
    }
  },
  "cells": [
    {
      "cell_type": "markdown",
      "metadata": {
        "id": "view-in-github",
        "colab_type": "text"
      },
      "source": [
        "<a href=\"https://colab.research.google.com/github/so-radiohead/hangman/blob/master/titanic.ipynb\" target=\"_parent\"><img src=\"https://colab.research.google.com/assets/colab-badge.svg\" alt=\"Open In Colab\"/></a>"
      ]
    },
    {
      "cell_type": "markdown",
      "metadata": {
        "id": "JTn2Azd6c1H5",
        "colab_type": "text"
      },
      "source": [
        "First thing to mention, solving kaggle competitions differs from solving real problems in many ways, with probably the most significant one being that here you have the privilege to immediately observe your test score and thus modify your data preprocessing/algorithm/model accordingly to make new submissions. \n",
        "\n",
        "Which is not usualy the case in real world.\n",
        "\n",
        "A noticable part of this code is a good example of the mentioned issue, meaning that in some places general ML logic was substitued in favor of perfecting the test score (that I had access to along the way). Of course it's not the case of me completely manipulating the code to get the desired result, and overall the initial logic flow was preserved.\n",
        "\n",
        "It is also worth mentioning that `titanic` dataset is agreat field for data tweaking and experimenting which implies that there are lots of different approaches to extract info from data, implement feature engineering, etc. This one is obviously hugly incomplete and allows for various future manipulations (some of which are mentioned in the code).\n",
        "\n",
        "This notebook got me a public score of `0.81339`, which is infinitely far from perfect, but still pretty decent try considering the scoring of most notebooks I've looked into."
      ]
    },
    {
      "cell_type": "code",
      "metadata": {
        "id": "Y2OAK3hCQsaB",
        "colab_type": "code",
        "colab": {
          "base_uri": "https://localhost:8080/",
          "height": 102
        },
        "outputId": "7eb40272-d286-4d96-d3f9-95cc8a620f89"
      },
      "source": [
        "#for missing values imputation\n",
        "!pip install impyute\n",
        "from impyute.imputation.cs import mice\n",
        "\n",
        "import pandas as pd\n",
        "import numpy as np\n",
        "import seaborn as sns\n",
        "import matplotlib.pyplot as plt\n",
        "\n",
        "#algos\n",
        "from sklearn.ensemble import RandomForestClassifier\n",
        "from xgboost import XGBClassifier\n",
        "\n",
        "from sklearn.model_selection import train_test_split\n",
        "from sklearn.model_selection import cross_val_score\n",
        "\n",
        "from sklearn.metrics import accuracy_score, classification_report"
      ],
      "execution_count": 331,
      "outputs": [
        {
          "output_type": "stream",
          "text": [
            "Requirement already satisfied: impyute in /usr/local/lib/python3.6/dist-packages (0.0.8)\n",
            "Requirement already satisfied: numpy in /usr/local/lib/python3.6/dist-packages (from impyute) (1.18.5)\n",
            "Requirement already satisfied: scikit-learn in /usr/local/lib/python3.6/dist-packages (from impyute) (0.22.2.post1)\n",
            "Requirement already satisfied: scipy in /usr/local/lib/python3.6/dist-packages (from impyute) (1.4.1)\n",
            "Requirement already satisfied: joblib>=0.11 in /usr/local/lib/python3.6/dist-packages (from scikit-learn->impyute) (0.15.1)\n"
          ],
          "name": "stdout"
        }
      ]
    },
    {
      "cell_type": "code",
      "metadata": {
        "id": "664hRQVYmTy2",
        "colab_type": "code",
        "colab": {
          "base_uri": "https://localhost:8080/",
          "height": 612
        },
        "outputId": "bb4709a1-cde3-4a91-b85d-321a9821115f"
      },
      "source": [
        "df = pd.read_csv('train.csv') #train set\n",
        "df_test = pd.read_csv('test.csv') #test set\n",
        "\n",
        "print(df.shape) \n",
        "print(df.head())\n",
        "print(df_test.shape) \n",
        "print(df_test.head())"
      ],
      "execution_count": 332,
      "outputs": [
        {
          "output_type": "stream",
          "text": [
            "(891, 12)\n",
            "   PassengerId  Survived  Pclass  \\\n",
            "0            1         0       3   \n",
            "1            2         1       1   \n",
            "2            3         1       3   \n",
            "3            4         1       1   \n",
            "4            5         0       3   \n",
            "\n",
            "                                                Name     Sex   Age  SibSp  \\\n",
            "0                            Braund, Mr. Owen Harris    male  22.0      1   \n",
            "1  Cumings, Mrs. John Bradley (Florence Briggs Th...  female  38.0      1   \n",
            "2                             Heikkinen, Miss. Laina  female  26.0      0   \n",
            "3       Futrelle, Mrs. Jacques Heath (Lily May Peel)  female  35.0      1   \n",
            "4                           Allen, Mr. William Henry    male  35.0      0   \n",
            "\n",
            "   Parch            Ticket     Fare Cabin Embarked  \n",
            "0      0         A/5 21171   7.2500   NaN        S  \n",
            "1      0          PC 17599  71.2833   C85        C  \n",
            "2      0  STON/O2. 3101282   7.9250   NaN        S  \n",
            "3      0            113803  53.1000  C123        S  \n",
            "4      0            373450   8.0500   NaN        S  \n",
            "(418, 11)\n",
            "   PassengerId  Pclass                                          Name     Sex  \\\n",
            "0          892       3                              Kelly, Mr. James    male   \n",
            "1          893       3              Wilkes, Mrs. James (Ellen Needs)  female   \n",
            "2          894       2                     Myles, Mr. Thomas Francis    male   \n",
            "3          895       3                              Wirz, Mr. Albert    male   \n",
            "4          896       3  Hirvonen, Mrs. Alexander (Helga E Lindqvist)  female   \n",
            "\n",
            "    Age  SibSp  Parch   Ticket     Fare Cabin Embarked  \n",
            "0  34.5      0      0   330911   7.8292   NaN        Q  \n",
            "1  47.0      1      0   363272   7.0000   NaN        S  \n",
            "2  62.0      0      0   240276   9.6875   NaN        Q  \n",
            "3  27.0      0      0   315154   8.6625   NaN        S  \n",
            "4  22.0      1      1  3101298  12.2875   NaN        S  \n"
          ],
          "name": "stdout"
        }
      ]
    },
    {
      "cell_type": "code",
      "metadata": {
        "id": "kmr6MX41md4Q",
        "colab_type": "code",
        "colab": {
          "base_uri": "https://localhost:8080/",
          "height": 255
        },
        "outputId": "a7453824-a915-4e36-dead-4c1444191e46"
      },
      "source": [
        "#concatenate sets\n",
        "concat = pd.concat([df, df_test], ignore_index=True)\n",
        "\n",
        "print(concat.shape)\n",
        "print(concat.tail())"
      ],
      "execution_count": 333,
      "outputs": [
        {
          "output_type": "stream",
          "text": [
            "(1309, 12)\n",
            "      PassengerId  Survived  Pclass                          Name     Sex  \\\n",
            "1304         1305       NaN       3            Spector, Mr. Woolf    male   \n",
            "1305         1306       NaN       1  Oliva y Ocana, Dona. Fermina  female   \n",
            "1306         1307       NaN       3  Saether, Mr. Simon Sivertsen    male   \n",
            "1307         1308       NaN       3           Ware, Mr. Frederick    male   \n",
            "1308         1309       NaN       3      Peter, Master. Michael J    male   \n",
            "\n",
            "       Age  SibSp  Parch              Ticket      Fare Cabin Embarked  \n",
            "1304   NaN      0      0           A.5. 3236    8.0500   NaN        S  \n",
            "1305  39.0      0      0            PC 17758  108.9000  C105        C  \n",
            "1306  38.5      0      0  SOTON/O.Q. 3101262    7.2500   NaN        S  \n",
            "1307   NaN      0      0              359309    8.0500   NaN        S  \n",
            "1308   NaN      1      1                2668   22.3583   NaN        C  \n"
          ],
          "name": "stdout"
        }
      ]
    },
    {
      "cell_type": "markdown",
      "metadata": {
        "id": "MizOCNf4kn4f",
        "colab_type": "text"
      },
      "source": [
        "# EDA"
      ]
    },
    {
      "cell_type": "code",
      "metadata": {
        "id": "7qcRDEhBh8Bh",
        "colab_type": "code",
        "colab": {
          "base_uri": "https://localhost:8080/",
          "height": 1000
        },
        "outputId": "db4f3371-6d77-453b-fb49-1b10ba091afb"
      },
      "source": [
        "pd.set_option('display.max_columns', None)\n",
        "\n",
        "print(concat.info())\n",
        "print('_'*40)\n",
        "print(concat.describe())\n",
        "\n",
        "print('_'*40)\n",
        "print('NaN values')\n",
        "print('_'*40)\n",
        "print(concat.isna().sum()) # all nans\n",
        "\n",
        "print('_'*40)\n",
        "print('Zero values')\n",
        "print('_'*40)\n",
        "print(concat[concat==0.].count()) # all zeros"
      ],
      "execution_count": 334,
      "outputs": [
        {
          "output_type": "stream",
          "text": [
            "<class 'pandas.core.frame.DataFrame'>\n",
            "RangeIndex: 1309 entries, 0 to 1308\n",
            "Data columns (total 12 columns):\n",
            " #   Column       Non-Null Count  Dtype  \n",
            "---  ------       --------------  -----  \n",
            " 0   PassengerId  1309 non-null   int64  \n",
            " 1   Survived     891 non-null    float64\n",
            " 2   Pclass       1309 non-null   int64  \n",
            " 3   Name         1309 non-null   object \n",
            " 4   Sex          1309 non-null   object \n",
            " 5   Age          1046 non-null   float64\n",
            " 6   SibSp        1309 non-null   int64  \n",
            " 7   Parch        1309 non-null   int64  \n",
            " 8   Ticket       1309 non-null   object \n",
            " 9   Fare         1308 non-null   float64\n",
            " 10  Cabin        295 non-null    object \n",
            " 11  Embarked     1307 non-null   object \n",
            "dtypes: float64(3), int64(4), object(5)\n",
            "memory usage: 122.8+ KB\n",
            "None\n",
            "________________________________________\n",
            "       PassengerId    Survived       Pclass          Age        SibSp  \\\n",
            "count  1309.000000  891.000000  1309.000000  1046.000000  1309.000000   \n",
            "mean    655.000000    0.383838     2.294882    29.881138     0.498854   \n",
            "std     378.020061    0.486592     0.837836    14.413493     1.041658   \n",
            "min       1.000000    0.000000     1.000000     0.170000     0.000000   \n",
            "25%     328.000000    0.000000     2.000000    21.000000     0.000000   \n",
            "50%     655.000000    0.000000     3.000000    28.000000     0.000000   \n",
            "75%     982.000000    1.000000     3.000000    39.000000     1.000000   \n",
            "max    1309.000000    1.000000     3.000000    80.000000     8.000000   \n",
            "\n",
            "             Parch         Fare  \n",
            "count  1309.000000  1308.000000  \n",
            "mean      0.385027    33.295479  \n",
            "std       0.865560    51.758668  \n",
            "min       0.000000     0.000000  \n",
            "25%       0.000000     7.895800  \n",
            "50%       0.000000    14.454200  \n",
            "75%       0.000000    31.275000  \n",
            "max       9.000000   512.329200  \n",
            "________________________________________\n",
            "NaN values\n",
            "________________________________________\n",
            "PassengerId       0\n",
            "Survived        418\n",
            "Pclass            0\n",
            "Name              0\n",
            "Sex               0\n",
            "Age             263\n",
            "SibSp             0\n",
            "Parch             0\n",
            "Ticket            0\n",
            "Fare              1\n",
            "Cabin          1014\n",
            "Embarked          2\n",
            "dtype: int64\n",
            "________________________________________\n",
            "Zero values\n",
            "________________________________________\n",
            "PassengerId       0\n",
            "Survived        549\n",
            "Pclass            0\n",
            "Name              0\n",
            "Sex               0\n",
            "Age               0\n",
            "SibSp           891\n",
            "Parch          1002\n",
            "Ticket            0\n",
            "Fare             17\n",
            "Cabin             0\n",
            "Embarked          0\n",
            "dtype: int64\n"
          ],
          "name": "stdout"
        }
      ]
    },
    {
      "cell_type": "markdown",
      "metadata": {
        "id": "3fA0TLqljYKT",
        "colab_type": "text"
      },
      "source": [
        "Let's explore every feature step by step. Let's start with `Cabin` as most of the missing values are in there."
      ]
    },
    {
      "cell_type": "code",
      "metadata": {
        "id": "q6Tn7yK-ikAW",
        "colab_type": "code",
        "colab": {
          "base_uri": "https://localhost:8080/",
          "height": 306
        },
        "outputId": "dd87e211-1feb-407f-faca-d1c2ce9487f3"
      },
      "source": [
        "print(concat.Cabin.unique())"
      ],
      "execution_count": 335,
      "outputs": [
        {
          "output_type": "stream",
          "text": [
            "[nan 'C85' 'C123' 'E46' 'G6' 'C103' 'D56' 'A6' 'C23 C25 C27' 'B78' 'D33'\n",
            " 'B30' 'C52' 'B28' 'C83' 'F33' 'F G73' 'E31' 'A5' 'D10 D12' 'D26' 'C110'\n",
            " 'B58 B60' 'E101' 'F E69' 'D47' 'B86' 'F2' 'C2' 'E33' 'B19' 'A7' 'C49'\n",
            " 'F4' 'A32' 'B4' 'B80' 'A31' 'D36' 'D15' 'C93' 'C78' 'D35' 'C87' 'B77'\n",
            " 'E67' 'B94' 'C125' 'C99' 'C118' 'D7' 'A19' 'B49' 'D' 'C22 C26' 'C106'\n",
            " 'C65' 'E36' 'C54' 'B57 B59 B63 B66' 'C7' 'E34' 'C32' 'B18' 'C124' 'C91'\n",
            " 'E40' 'T' 'C128' 'D37' 'B35' 'E50' 'C82' 'B96 B98' 'E10' 'E44' 'A34'\n",
            " 'C104' 'C111' 'C92' 'E38' 'D21' 'E12' 'E63' 'A14' 'B37' 'C30' 'D20' 'B79'\n",
            " 'E25' 'D46' 'B73' 'C95' 'B38' 'B39' 'B22' 'C86' 'C70' 'A16' 'C101' 'C68'\n",
            " 'A10' 'E68' 'B41' 'A20' 'D19' 'D50' 'D9' 'A23' 'B50' 'A26' 'D48' 'E58'\n",
            " 'C126' 'B71' 'B51 B53 B55' 'D49' 'B5' 'B20' 'F G63' 'C62 C64' 'E24' 'C90'\n",
            " 'C45' 'E8' 'B101' 'D45' 'C46' 'D30' 'E121' 'D11' 'E77' 'F38' 'B3' 'D6'\n",
            " 'B82 B84' 'D17' 'A36' 'B102' 'B69' 'E49' 'C47' 'D28' 'E17' 'A24' 'C50'\n",
            " 'B42' 'C148' 'B45' 'B36' 'A21' 'D34' 'A9' 'C31' 'B61' 'C53' 'D43' 'C130'\n",
            " 'C132' 'C55 C57' 'C116' 'F' 'A29' 'C6' 'C28' 'C51' 'C97' 'D22' 'B10'\n",
            " 'E45' 'E52' 'A11' 'B11' 'C80' 'C89' 'F E46' 'B26' 'F E57' 'A18' 'E60'\n",
            " 'E39 E41' 'B52 B54 B56' 'C39' 'B24' 'D40' 'D38' 'C105']\n"
          ],
          "name": "stdout"
        }
      ]
    },
    {
      "cell_type": "code",
      "metadata": {
        "id": "-n9uZM7zje70",
        "colab_type": "code",
        "colab": {
          "base_uri": "https://localhost:8080/",
          "height": 34
        },
        "outputId": "ff7f0264-3792-401a-ed1a-5f7ed9d4ed48"
      },
      "source": [
        "print(concat.Cabin.str[0].unique())"
      ],
      "execution_count": 336,
      "outputs": [
        {
          "output_type": "stream",
          "text": [
            "[nan 'C' 'E' 'G' 'D' 'A' 'B' 'F' 'T']\n"
          ],
          "name": "stdout"
        }
      ]
    },
    {
      "cell_type": "markdown",
      "metadata": {
        "id": "pWwIKscNkFTZ",
        "colab_type": "text"
      },
      "source": [
        "So we can extract deck (floor) value from there"
      ]
    },
    {
      "cell_type": "code",
      "metadata": {
        "id": "D6PIgbM6nY-n",
        "colab_type": "code",
        "colab": {
          "base_uri": "https://localhost:8080/",
          "height": 85
        },
        "outputId": "6ae4e965-87d7-4644-be38-504e0670935a"
      },
      "source": [
        "cabins = ['A','B','C','D','E','F','G','T']\n",
        "\n",
        "# let's find out the number of passengers on each deck, survival rate and \n",
        "#the most common Pclass for that deck\n",
        "\n",
        "cab_df = pd.DataFrame(index=['Num_pas', 'Ratio', 'Pclass_mode'], dtype=float)\n",
        "\n",
        "for i in cabins:\n",
        "  cab_df[i]=[int(len(df[(df.Cabin.str[0] == i)])), \n",
        "             round(df.groupby([(df.Cabin.str[0] == i)])['Survived'].mean()[1],2), \n",
        "             int(df[(df.Cabin.str[0] == i)]['Pclass'].mode())]\n",
        "                     \n",
        "print(cab_df)"
      ],
      "execution_count": 337,
      "outputs": [
        {
          "output_type": "stream",
          "text": [
            "                 A      B      C      D      E      F    G    T\n",
            "Num_pas      15.00  47.00  59.00  33.00  32.00  13.00  4.0  1.0\n",
            "Ratio         0.47   0.74   0.59   0.76   0.75   0.62  0.5  0.0\n",
            "Pclass_mode   1.00   1.00   1.00   1.00   1.00   2.00  3.0  1.0\n"
          ],
          "name": "stdout"
        }
      ]
    },
    {
      "cell_type": "markdown",
      "metadata": {
        "id": "dpxy6gGUkypK",
        "colab_type": "text"
      },
      "source": [
        "We can use `Pclass` mode to encode our cabins (A-E, T - 1st, F - 2nd, G - 3rd). As far as I know, this isn't completely accurate representation of class/deck classification (on real Titanic it was different), but we're working with data we have. Of course there's plenty of other info that could be extracted here, like people sharing same cabins or having several cabins attached to them, but we'll just go with the first letter for now."
      ]
    },
    {
      "cell_type": "markdown",
      "metadata": {
        "id": "gQa7JEFBtIGk",
        "colab_type": "text"
      },
      "source": [
        "Coming back to null-values, it seems uncommon that 17 passengers have zero `Fare`s (ticket prices). Let's elaborate."
      ]
    },
    {
      "cell_type": "code",
      "metadata": {
        "id": "sE-PTsFokx-i",
        "colab_type": "code",
        "colab": {
          "base_uri": "https://localhost:8080/",
          "height": 646
        },
        "outputId": "af3dfdf7-35e6-409e-a8f7-166c9e85f6b4"
      },
      "source": [
        "print(concat[concat['Fare']==0])"
      ],
      "execution_count": 338,
      "outputs": [
        {
          "output_type": "stream",
          "text": [
            "      PassengerId  Survived  Pclass                                   Name  \\\n",
            "179           180       0.0       3                    Leonard, Mr. Lionel   \n",
            "263           264       0.0       1                  Harrison, Mr. William   \n",
            "271           272       1.0       3           Tornquist, Mr. William Henry   \n",
            "277           278       0.0       2            Parkes, Mr. Francis \"Frank\"   \n",
            "302           303       0.0       3        Johnson, Mr. William Cahoone Jr   \n",
            "413           414       0.0       2         Cunningham, Mr. Alfred Fleming   \n",
            "466           467       0.0       2                  Campbell, Mr. William   \n",
            "481           482       0.0       2       Frost, Mr. Anthony Wood \"Archie\"   \n",
            "597           598       0.0       3                    Johnson, Mr. Alfred   \n",
            "633           634       0.0       1          Parr, Mr. William Henry Marsh   \n",
            "674           675       0.0       2             Watson, Mr. Ennis Hastings   \n",
            "732           733       0.0       2                   Knight, Mr. Robert J   \n",
            "806           807       0.0       1                 Andrews, Mr. Thomas Jr   \n",
            "815           816       0.0       1                       Fry, Mr. Richard   \n",
            "822           823       0.0       1        Reuchlin, Jonkheer. John George   \n",
            "1157         1158       NaN       1  Chisholm, Mr. Roderick Robert Crispin   \n",
            "1263         1264       NaN       1                Ismay, Mr. Joseph Bruce   \n",
            "\n",
            "       Sex   Age  SibSp  Parch  Ticket  Fare        Cabin Embarked  \n",
            "179   male  36.0      0      0    LINE   0.0          NaN        S  \n",
            "263   male  40.0      0      0  112059   0.0          B94        S  \n",
            "271   male  25.0      0      0    LINE   0.0          NaN        S  \n",
            "277   male   NaN      0      0  239853   0.0          NaN        S  \n",
            "302   male  19.0      0      0    LINE   0.0          NaN        S  \n",
            "413   male   NaN      0      0  239853   0.0          NaN        S  \n",
            "466   male   NaN      0      0  239853   0.0          NaN        S  \n",
            "481   male   NaN      0      0  239854   0.0          NaN        S  \n",
            "597   male  49.0      0      0    LINE   0.0          NaN        S  \n",
            "633   male   NaN      0      0  112052   0.0          NaN        S  \n",
            "674   male   NaN      0      0  239856   0.0          NaN        S  \n",
            "732   male   NaN      0      0  239855   0.0          NaN        S  \n",
            "806   male  39.0      0      0  112050   0.0          A36        S  \n",
            "815   male   NaN      0      0  112058   0.0         B102        S  \n",
            "822   male  38.0      0      0   19972   0.0          NaN        S  \n",
            "1157  male   NaN      0      0  112051   0.0          NaN        S  \n",
            "1263  male  49.0      0      0  112058   0.0  B52 B54 B56        S  \n"
          ],
          "name": "stdout"
        }
      ]
    },
    {
      "cell_type": "markdown",
      "metadata": {
        "id": "sboaDRkIt88W",
        "colab_type": "text"
      },
      "source": [
        "There's something wrong with Southgampton embarkation point. We'll need to replace these zeros with the `Fare` modes for corresponding `Pclass`. Also, while we're here, let's look at single NaN `Fare` value."
      ]
    },
    {
      "cell_type": "code",
      "metadata": {
        "id": "C4gmcf5qdgq9",
        "colab_type": "code",
        "colab": {
          "base_uri": "https://localhost:8080/",
          "height": 102
        },
        "outputId": "d1072f8d-96d1-4b88-a247-3187b1340b2d"
      },
      "source": [
        "print(concat[concat['Fare'].isna()])"
      ],
      "execution_count": 339,
      "outputs": [
        {
          "output_type": "stream",
          "text": [
            "      PassengerId  Survived  Pclass                Name   Sex   Age  SibSp  \\\n",
            "1043         1044       NaN       3  Storey, Mr. Thomas  male  60.5      0   \n",
            "\n",
            "      Parch Ticket  Fare Cabin Embarked  \n",
            "1043      0   3701   NaN   NaN        S  \n"
          ],
          "name": "stdout"
        }
      ]
    },
    {
      "cell_type": "markdown",
      "metadata": {
        "id": "mAS8cBdceHzJ",
        "colab_type": "text"
      },
      "source": [
        "We'll replace it with the mode for 3rd class."
      ]
    },
    {
      "cell_type": "markdown",
      "metadata": {
        "id": "RujZd6JRdi9P",
        "colab_type": "text"
      },
      "source": [
        "Next one is `Name`. Here we can use prefixes to create `Title` feature."
      ]
    },
    {
      "cell_type": "code",
      "metadata": {
        "id": "KoKLIEpkt7dd",
        "colab_type": "code",
        "colab": {
          "base_uri": "https://localhost:8080/",
          "height": 612
        },
        "outputId": "a352be86-41e6-41db-9949-03d7d8205df9"
      },
      "source": [
        "print(concat.Name)\n",
        "print('_'*40)\n",
        "\n",
        "concat['Title'] = concat.Name.str.extract(' ([A-Za-z]+)\\.', expand=False)\n",
        "\n",
        "print(concat.Title.unique()) # unique titles\n",
        "print('_'*40)\n",
        "print(concat.Title.value_counts()) # number of unique titles"
      ],
      "execution_count": 340,
      "outputs": [
        {
          "output_type": "stream",
          "text": [
            "0                                 Braund, Mr. Owen Harris\n",
            "1       Cumings, Mrs. John Bradley (Florence Briggs Th...\n",
            "2                                  Heikkinen, Miss. Laina\n",
            "3            Futrelle, Mrs. Jacques Heath (Lily May Peel)\n",
            "4                                Allen, Mr. William Henry\n",
            "                              ...                        \n",
            "1304                                   Spector, Mr. Woolf\n",
            "1305                         Oliva y Ocana, Dona. Fermina\n",
            "1306                         Saether, Mr. Simon Sivertsen\n",
            "1307                                  Ware, Mr. Frederick\n",
            "1308                             Peter, Master. Michael J\n",
            "Name: Name, Length: 1309, dtype: object\n",
            "________________________________________\n",
            "['Mr' 'Mrs' 'Miss' 'Master' 'Don' 'Rev' 'Dr' 'Mme' 'Ms' 'Major' 'Lady'\n",
            " 'Sir' 'Mlle' 'Col' 'Capt' 'Countess' 'Jonkheer' 'Dona']\n",
            "________________________________________\n",
            "Mr          757\n",
            "Miss        260\n",
            "Mrs         197\n",
            "Master       61\n",
            "Dr            8\n",
            "Rev           8\n",
            "Col           4\n",
            "Ms            2\n",
            "Major         2\n",
            "Mlle          2\n",
            "Dona          1\n",
            "Mme           1\n",
            "Capt          1\n",
            "Sir           1\n",
            "Don           1\n",
            "Countess      1\n",
            "Lady          1\n",
            "Jonkheer      1\n",
            "Name: Title, dtype: int64\n"
          ],
          "name": "stdout"
        }
      ]
    },
    {
      "cell_type": "markdown",
      "metadata": {
        "id": "vDCHoGyNadqy",
        "colab_type": "text"
      },
      "source": [
        "First 4 categories seem prevalent, so we'll merge them with the rest judging on the sex of the title (could've also dropped everything beyond `Master`, replacing with 'rare' or something, but preserving at least some info sounds good).\n",
        "\n"
      ]
    },
    {
      "cell_type": "markdown",
      "metadata": {
        "id": "dakXUEl7bvAI",
        "colab_type": "text"
      },
      "source": [
        "We'll also use `Parch` and `SibSp` features to create two new features reflecting the size of passengers relatives, and impute missing values in `Age` and `Embarked`. So let's create our final transformation function.\n"
      ]
    },
    {
      "cell_type": "markdown",
      "metadata": {
        "id": "ble9hx-OPkJ0",
        "colab_type": "text"
      },
      "source": [
        "# Feature engineering"
      ]
    },
    {
      "cell_type": "code",
      "metadata": {
        "id": "whJy4xvMZ-WW",
        "colab_type": "code",
        "colab": {}
      },
      "source": [
        "def transform_df(df):\n",
        "\n",
        "  # merging titles towards top-4\n",
        "  df.loc[(df['Title'] == 'Dr') & (df['Sex'] == 'female'), ['Title']] = 'Mrs'\n",
        "  df['Title'] = df['Title'].replace(['Capt', 'Col', 'Major', 'Rev', 'Don', 'Jonkheer','Sir', 'Dr'], 'Mr')\n",
        "  df['Title'] = df['Title'].replace(['Mlle'], 'Miss')\n",
        "  df['Title'] = df['Title'].replace(['Mme',  'Ms', 'Dona',  'Lady',  'Countess'], 'Mrs')\n",
        "\n",
        "  title_mapping = {\"Mr\": 1, \"Miss\": 2, \"Mrs\": 3, \"Master\": 4}\n",
        "\n",
        "  df['Title'] = df['Title'].map(title_mapping)\n",
        "  \n",
        "  # converting sex variables\n",
        "  df.loc[df.Sex == 'female', 'Sex'] = 0\n",
        "  df.loc[df.Sex == 'male', 'Sex'] = 1\n",
        "\n",
        "  # filling fare zeros as we discussed\n",
        "  df.loc[(df['Fare']==0)&(df['Pclass']==1), ['Fare']] = int(df[df['Pclass']==1]['Fare'].mode())\n",
        "  df.loc[(df['Fare']==0)&(df['Pclass']==2), ['Fare']] = int(df[df['Pclass']==2]['Fare'].mode())\n",
        "  df.loc[(df['Fare']==0)&(df['Pclass']==3), ['Fare']] = int(df[df['Pclass']==3]['Fare'].mode())\n",
        "\n",
        "  # filling single na value\n",
        "  df.loc[df['Fare'].isna(), ['Fare']] = int(df[df['Pclass']==3]['Fare'].mode())\n",
        "  \n",
        "  # mapping cabins as we decided based on class. Leaving NaNs for now\n",
        "  df.loc[df.Cabin.str[0] == 'A', 'Cabin'] = 1\n",
        "  df.loc[df.Cabin.str[0] == 'B', 'Cabin'] = 1\n",
        "  df.loc[df.Cabin.str[0] == 'C', 'Cabin'] = 1\n",
        "  df.loc[df.Cabin.str[0] == 'D', 'Cabin'] = 1\n",
        "  df.loc[df.Cabin.str[0] == 'E', 'Cabin'] = 1\n",
        "  df.loc[df.Cabin.str[0] == 'F', 'Cabin'] = 2\n",
        "  df.loc[df.Cabin.str[0] == 'G', 'Cabin'] = 3\n",
        "  df.loc[df.Cabin.str[0] == 'T', 'Cabin'] = 1\n",
        "  \n",
        "  # filling 3 missing embarked values with 'S', which is the most common one \n",
        "  # (and also correct, judging on real Titanic info)\n",
        "  df.Embarked.fillna('S', inplace=True)\n",
        "  df.loc[df.Embarked == 'C', 'Embarked'] = 1\n",
        "  df.loc[df.Embarked == 'Q', 'Embarked'] = 2\n",
        "  df.loc[df.Embarked == 'S', 'Embarked'] = 3\n",
        "  \n",
        "  # using SibSp and Parch for feature engineering\n",
        "  df['FamilySize'] = df['SibSp'] + df['Parch'] + 1 # count overall size of family\n",
        "  df['IsAlone'] = 0\n",
        "  df.loc[df['FamilySize'] == 1, 'IsAlone'] = 1 # introduce new feature reflecting \n",
        "  # whether passenger was travelling by their own or had at least 1 relative\n",
        "\n",
        "  # dropping redundant columns here to make df available for converting to float\n",
        "  # for the next step. At this step ypu can try to include ticket values and \n",
        "  # group passengers using heir family names from Name, but we'll skip that\n",
        "  df.drop(['Ticket', 'Name', 'PassengerId', 'Survived'], inplace=True, axis=1)\n",
        "  df = df.astype(float)\n",
        "\n",
        "  # age imputation using mice seems to work a little bit better than using\n",
        "  # modes/medians, preserving more of an original data distribution\n",
        "  imputed = mice(df.values)\n",
        "  ages = imputed[:, 2]\n",
        "  ages = [0 if age < 0 else age for age in ages] # choose only positive ages\n",
        "  df['Age'] = ages\n",
        "\n",
        "  return df.astype(float)"
      ],
      "execution_count": 341,
      "outputs": []
    },
    {
      "cell_type": "markdown",
      "metadata": {
        "id": "b7ujg1otiHfl",
        "colab_type": "text"
      },
      "source": [
        "You've noticed that we haven't conducted any categorical encoding and splitting continious variables into bins. In that notebook we'll use just two tree-based classification algorithms, which are pretty indifferent to categorical encodings, scalers and PCA/t-SNE (all of which come handy in case of regression but don't improve performance of `Random Forest` and `XGBClassifier`), so that will not be included.\n",
        "\n",
        "We also haven't dropped any close-like features (say, `FamilySize` and `IsAlone`). We'll do this as a final step after finishing missing values imputation and correlation analysis.\n",
        "\n",
        "We will apply defined function to concatenated dataset to preserve integrity of its possible statistical relations, and then we'll again divide it into train and test set.\n",
        "\n"
      ]
    },
    {
      "cell_type": "code",
      "metadata": {
        "id": "5kYQx3NZi473",
        "colab_type": "code",
        "colab": {
          "base_uri": "https://localhost:8080/",
          "height": 238
        },
        "outputId": "e7a59cd8-7355-462d-8050-6034cfb90016"
      },
      "source": [
        "X_concat = transform_df(concat)\n",
        "\n",
        "print(X_concat.shape)\n",
        "print(X_concat.isna().sum())"
      ],
      "execution_count": 342,
      "outputs": [
        {
          "output_type": "stream",
          "text": [
            "(1309, 11)\n",
            "Pclass           0\n",
            "Sex              0\n",
            "Age              0\n",
            "SibSp            0\n",
            "Parch            0\n",
            "Fare             0\n",
            "Cabin         1014\n",
            "Embarked         0\n",
            "Title            0\n",
            "FamilySize       0\n",
            "IsAlone          0\n",
            "dtype: int64\n"
          ],
          "name": "stdout"
        }
      ]
    },
    {
      "cell_type": "markdown",
      "metadata": {
        "id": "nGM_vkIHkBcM",
        "colab_type": "text"
      },
      "source": [
        "Now let's deal with those 1014 `Cabin` missing values."
      ]
    },
    {
      "cell_type": "code",
      "metadata": {
        "id": "L7BpYw05kgdv",
        "colab_type": "code",
        "colab": {
          "base_uri": "https://localhost:8080/",
          "height": 221
        },
        "outputId": "dd6aadd1-b6a3-4ce5-898b-c1f9529fe1fa"
      },
      "source": [
        "print(X_concat.corr(method='spearman')['Cabin'])"
      ],
      "execution_count": 343,
      "outputs": [
        {
          "output_type": "stream",
          "text": [
            "Pclass        0.805946\n",
            "Sex          -0.018976\n",
            "Age          -0.320165\n",
            "SibSp        -0.025032\n",
            "Parch         0.121227\n",
            "Fare         -0.423823\n",
            "Cabin         1.000000\n",
            "Embarked      0.174737\n",
            "Title         0.072396\n",
            "FamilySize    0.049668\n",
            "IsAlone       0.029675\n",
            "Name: Cabin, dtype: float64\n"
          ],
          "name": "stdout"
        }
      ]
    },
    {
      "cell_type": "markdown",
      "metadata": {
        "id": "xvGdJBcn8qWI",
        "colab_type": "text"
      },
      "source": [
        "Seems like we can try to recreate `Cabin` from `Pclass`, `Age` and `Fare` values. Note that hereinafter we use Spearman method to calculate correlaiton."
      ]
    },
    {
      "cell_type": "code",
      "metadata": {
        "id": "_AaNt9TT9gKE",
        "colab_type": "code",
        "colab": {}
      },
      "source": [
        "imput_cab = X_concat.loc[:, ['Fare', 'Age', 'Pclass', 'Cabin']]\n",
        "\n",
        "# preparing data for classifier\n",
        "imput_cab_test = imput_cab[imput_cab['Cabin'].isna()] # choose rows with NaN Cabin\n",
        "cab_Xtest = imput_cab_test.drop(columns='Cabin').to_numpy()\n",
        "\n",
        "imput_cab_train = imput_cab.dropna()\n",
        "cab_Xtrain = imput_cab_train.drop(columns='Cabin').to_numpy()\n",
        "\n",
        "cab_y = imput_cab_train['Cabin'].to_numpy()"
      ],
      "execution_count": 344,
      "outputs": []
    },
    {
      "cell_type": "code",
      "metadata": {
        "id": "EtIqKNtsB6SK",
        "colab_type": "code",
        "colab": {
          "base_uri": "https://localhost:8080/",
          "height": 34
        },
        "outputId": "9c6ce49f-83b0-44ac-a42f-a9dfaed39d7c"
      },
      "source": [
        "X_train, X_test, y_train, y_test = train_test_split(cab_Xtrain, cab_y, test_size=0.2, random_state=0)\n",
        "\n",
        "clf = RandomForestClassifier(n_estimators=700, max_features=2, max_depth=4, min_samples_leaf=2, random_state=0) # arbitrary hyperparameters\n",
        "clf.fit(X_train, y_train)\n",
        "print(clf.score(X_test, y_test))"
      ],
      "execution_count": 345,
      "outputs": [
        {
          "output_type": "stream",
          "text": [
            "1.0\n"
          ],
          "name": "stdout"
        }
      ]
    },
    {
      "cell_type": "markdown",
      "metadata": {
        "id": "--C7EZefCqCW",
        "colab_type": "text"
      },
      "source": [
        "We got good result because most of the cabins are ones (belonging to 1st class). Now let's impute values we got."
      ]
    },
    {
      "cell_type": "code",
      "metadata": {
        "id": "OsfgSzgNCDnn",
        "colab_type": "code",
        "colab": {
          "base_uri": "https://localhost:8080/",
          "height": 136
        },
        "outputId": "36491f4a-3016-4914-8f44-081da27e141c"
      },
      "source": [
        "missing_cab = clf.predict(cab_Xtest)\n",
        "print(f'Predicted values: {len(missing_cab)}')\n",
        "print('Missing values')\n",
        "print(imput_cab.isna().sum())"
      ],
      "execution_count": 346,
      "outputs": [
        {
          "output_type": "stream",
          "text": [
            "Predicted values: 1014\n",
            "Missing values\n",
            "Fare         0\n",
            "Age          0\n",
            "Pclass       0\n",
            "Cabin     1014\n",
            "dtype: int64\n"
          ],
          "name": "stdout"
        }
      ]
    },
    {
      "cell_type": "code",
      "metadata": {
        "id": "uvoWl2VPDDxZ",
        "colab_type": "code",
        "colab": {
          "base_uri": "https://localhost:8080/",
          "height": 255
        },
        "outputId": "f07e084b-2eb1-410f-e741-c1c52e83e560"
      },
      "source": [
        "indicies_of_missing = imput_cab[imput_cab['Cabin'].isna()].index\n",
        "\n",
        "# filling missing values\n",
        "for fill_index, df_index in enumerate(indicies_of_missing):\n",
        "    imput_cab.loc[df_index, 'Cabin'] = missing_cab[fill_index]\n",
        "\n",
        "\n",
        "print(imput_cab)"
      ],
      "execution_count": 347,
      "outputs": [
        {
          "output_type": "stream",
          "text": [
            "          Fare        Age  Pclass  Cabin\n",
            "0       7.2500  22.000000     3.0    2.0\n",
            "1      71.2833  38.000000     1.0    1.0\n",
            "2       7.9250  26.000000     3.0    2.0\n",
            "3      53.1000  35.000000     1.0    1.0\n",
            "4       8.0500  35.000000     3.0    1.0\n",
            "...        ...        ...     ...    ...\n",
            "1304    8.0500  27.739195     3.0    2.0\n",
            "1305  108.9000  39.000000     1.0    1.0\n",
            "1306    7.2500  38.500000     3.0    2.0\n",
            "1307    8.0500  27.739195     3.0    2.0\n",
            "1308   22.3583  14.828005     3.0    2.0\n",
            "\n",
            "[1309 rows x 4 columns]\n"
          ],
          "name": "stdout"
        }
      ]
    },
    {
      "cell_type": "code",
      "metadata": {
        "id": "8qCE34h9MR1c",
        "colab_type": "code",
        "colab": {
          "base_uri": "https://localhost:8080/",
          "height": 1000
        },
        "outputId": "442c9d9a-c142-4763-e33a-34a6167333cc"
      },
      "source": [
        "print(X_concat[X_concat.index.isin(imput_cab.index)])\n",
        "X_concat['Cabin'].update(imput_cab['Cabin']) # updating initial df with df of imputed values\n",
        "\n",
        "print(X_concat) # df after imputation\n",
        "print(X_concat.isna().sum())"
      ],
      "execution_count": 348,
      "outputs": [
        {
          "output_type": "stream",
          "text": [
            "      Pclass  Sex        Age  SibSp  Parch      Fare  Cabin  Embarked  Title  \\\n",
            "0        3.0  1.0  22.000000    1.0    0.0    7.2500    NaN       3.0    1.0   \n",
            "1        1.0  0.0  38.000000    1.0    0.0   71.2833    1.0       1.0    3.0   \n",
            "2        3.0  0.0  26.000000    0.0    0.0    7.9250    NaN       3.0    2.0   \n",
            "3        1.0  0.0  35.000000    1.0    0.0   53.1000    1.0       3.0    3.0   \n",
            "4        3.0  1.0  35.000000    0.0    0.0    8.0500    NaN       3.0    1.0   \n",
            "...      ...  ...        ...    ...    ...       ...    ...       ...    ...   \n",
            "1304     3.0  1.0  27.739195    0.0    0.0    8.0500    NaN       3.0    1.0   \n",
            "1305     1.0  0.0  39.000000    0.0    0.0  108.9000    1.0       1.0    3.0   \n",
            "1306     3.0  1.0  38.500000    0.0    0.0    7.2500    NaN       3.0    1.0   \n",
            "1307     3.0  1.0  27.739195    0.0    0.0    8.0500    NaN       3.0    1.0   \n",
            "1308     3.0  1.0  14.828005    1.0    1.0   22.3583    NaN       1.0    4.0   \n",
            "\n",
            "      FamilySize  IsAlone  \n",
            "0            2.0      0.0  \n",
            "1            2.0      0.0  \n",
            "2            1.0      1.0  \n",
            "3            2.0      0.0  \n",
            "4            1.0      1.0  \n",
            "...          ...      ...  \n",
            "1304         1.0      1.0  \n",
            "1305         1.0      1.0  \n",
            "1306         1.0      1.0  \n",
            "1307         1.0      1.0  \n",
            "1308         3.0      0.0  \n",
            "\n",
            "[1309 rows x 11 columns]\n",
            "      Pclass  Sex        Age  SibSp  Parch      Fare  Cabin  Embarked  Title  \\\n",
            "0        3.0  1.0  22.000000    1.0    0.0    7.2500    2.0       3.0    1.0   \n",
            "1        1.0  0.0  38.000000    1.0    0.0   71.2833    1.0       1.0    3.0   \n",
            "2        3.0  0.0  26.000000    0.0    0.0    7.9250    2.0       3.0    2.0   \n",
            "3        1.0  0.0  35.000000    1.0    0.0   53.1000    1.0       3.0    3.0   \n",
            "4        3.0  1.0  35.000000    0.0    0.0    8.0500    1.0       3.0    1.0   \n",
            "...      ...  ...        ...    ...    ...       ...    ...       ...    ...   \n",
            "1304     3.0  1.0  27.739195    0.0    0.0    8.0500    2.0       3.0    1.0   \n",
            "1305     1.0  0.0  39.000000    0.0    0.0  108.9000    1.0       1.0    3.0   \n",
            "1306     3.0  1.0  38.500000    0.0    0.0    7.2500    2.0       3.0    1.0   \n",
            "1307     3.0  1.0  27.739195    0.0    0.0    8.0500    2.0       3.0    1.0   \n",
            "1308     3.0  1.0  14.828005    1.0    1.0   22.3583    2.0       1.0    4.0   \n",
            "\n",
            "      FamilySize  IsAlone  \n",
            "0            2.0      0.0  \n",
            "1            2.0      0.0  \n",
            "2            1.0      1.0  \n",
            "3            2.0      0.0  \n",
            "4            1.0      1.0  \n",
            "...          ...      ...  \n",
            "1304         1.0      1.0  \n",
            "1305         1.0      1.0  \n",
            "1306         1.0      1.0  \n",
            "1307         1.0      1.0  \n",
            "1308         3.0      0.0  \n",
            "\n",
            "[1309 rows x 11 columns]\n",
            "Pclass        0\n",
            "Sex           0\n",
            "Age           0\n",
            "SibSp         0\n",
            "Parch         0\n",
            "Fare          0\n",
            "Cabin         0\n",
            "Embarked      0\n",
            "Title         0\n",
            "FamilySize    0\n",
            "IsAlone       0\n",
            "dtype: int64\n"
          ],
          "name": "stdout"
        }
      ]
    },
    {
      "cell_type": "markdown",
      "metadata": {
        "id": "mJ3VameLPcKA",
        "colab_type": "text"
      },
      "source": [
        "# Feature selection"
      ]
    },
    {
      "cell_type": "code",
      "metadata": {
        "id": "S9Z-3zrtMmOH",
        "colab_type": "code",
        "colab": {
          "base_uri": "https://localhost:8080/",
          "height": 560
        },
        "outputId": "50f20cfb-4502-4d2b-b980-127062594d78"
      },
      "source": [
        "X = X_concat\n",
        "\n",
        "sns.heatmap(X.corr(method='spearman').round(2), annot=True) # correlation between features\n",
        "plt.show()\n",
        "\n",
        "Xtrain = X.loc[:890,:]\n",
        "\n",
        "corelated = pd.DataFrame({\n",
        "    'Survived': [round(Xtrain[i].corr(df['Survived'], method='spearman'), 2) for i in Xtrain]\n",
        "}, index=[i for i in Xtrain])\n",
        "\n",
        "sns.heatmap(corelated, annot=True) # correlation between features and survived (for train set)\n",
        "plt.show()\n"
      ],
      "execution_count": 349,
      "outputs": [
        {
          "output_type": "display_data",
          "data": {
            "image/png": "[encoded data removed]",
            "text/plain": [
              "<Figure size 432x288 with 2 Axes>"
            ]
          },
          "metadata": {
            "tags": [],
            "needs_background": "light"
          }
        },
        {
          "output_type": "display_data",
          "data": {
            "image/png": "[encoded data removed]",
            "text/plain": [
              "<Figure size 432x288 with 2 Axes>"
            ]
          },
          "metadata": {
            "tags": [],
            "needs_background": "light"
          }
        }
      ]
    },
    {
      "cell_type": "markdown",
      "metadata": {
        "id": "HQKP6YJEPtTa",
        "colab_type": "text"
      },
      "source": [
        "We'll eliminate `Age`, `SibSp`, `Parch` as the ones that have the lowest correlation with the result of survival. It is natural to exclude `SibSp` and `Parch `since we already have `FamilySize` and `IsAlone`, but eliminating `Age` seems to be a little counterintuitive - as well as leaving both `FamilySize` and `IsAlone`. Although it seems to lead to the best result when scalers are not used."
      ]
    },
    {
      "cell_type": "code",
      "metadata": {
        "id": "0xpZSFo-ehiG",
        "colab_type": "code",
        "colab": {}
      },
      "source": [
        "X.drop(columns=['Age', 'SibSp', 'Parch'], inplace=True)"
      ],
      "execution_count": 350,
      "outputs": []
    },
    {
      "cell_type": "markdown",
      "metadata": {
        "id": "PzFOFabqei4m",
        "colab_type": "text"
      },
      "source": [
        "It's useful to understand how our feature engineering/selection influenced our data. In particular, we can spot which samples will create confusion for our ML model because being encoded in the same way (so model can't distinguish them) but having different labels. So let's see what passengers have different survival results but the same feature representation after data preprocessing."
      ]
    },
    {
      "cell_type": "code",
      "metadata": {
        "id": "ABZENxExMsk6",
        "colab_type": "code",
        "colab": {
          "base_uri": "https://localhost:8080/",
          "height": 1000
        },
        "outputId": "e891246c-41ce-47ab-e75f-aaf9822a776f"
      },
      "source": [
        "# passengers that didn't survive\n",
        "Xtrain_nsur = Xtrain[df['Survived']==0]\n",
        "Xtrain_nsur['Id'] = Xtrain_nsur.index+1\n",
        "Xtrain_nsur.reset_index(drop=True,inplace=True)\n",
        "\n",
        "# passengers that survived\n",
        "Xtrain_sur = Xtrain[df['Survived']==1]\n",
        "Xtrain_sur['Id'] = Xtrain_sur.index+1\n",
        "Xtrain_sur.reset_index(drop=True,inplace=True)\n",
        "\n",
        "# intersection from both classes - meaning model will see these passengers \n",
        "# identically while they actually had different outcomes (belong to different classes)\n",
        "intersected_df = pd.merge(Xtrain_nsur, Xtrain_sur, how='inner', \n",
        "on=['Pclass', 'Sex','Fare', 'Cabin','Embarked','Title','FamilySize','IsAlone'])\n",
        "intersected_df.drop_duplicates(subset=['Id_x'], keep='first', inplace=True)\n",
        "intersected_df.drop_duplicates(subset=['Id_y'], keep='first', inplace=True)\n",
        "\n",
        "pd.set_option('display.max_columns', None)\n",
        "\n",
        "\n",
        "comp = intersected_df.rename(columns={'Id_x':'Not_survived',\n",
        "                                     'Id_y':'Survived'})\n",
        "print(comp)\n",
        "\n",
        "# for future analysis\n",
        "comp.to_excel('intersection.xlsx', index=False)\n",
        "df.to_excel('initial_df.xlsx', index=False)\n",
        "\n",
        "# now let's print intersections from initial df\n",
        "dataframes = []\n",
        "i=0\n",
        "for i in comp.index.to_numpy():\n",
        "  data = []\n",
        "  data.append(list(df.loc[comp.loc[i,:]['Not_survived']-1,:]))\n",
        "  data.append(list(df.loc[comp.loc[i,:]['Survived']-1,:]))\n",
        "  print(pd.DataFrame(data, columns=df.columns))\n",
        "  print(' '*40)\n",
        "  print('_'*40)\n",
        "  dataframes.append(pd.DataFrame(data))"
      ],
      "execution_count": 351,
      "outputs": [
        {
          "output_type": "stream",
          "text": [
            "/usr/local/lib/python3.6/dist-packages/ipykernel_launcher.py:3: SettingWithCopyWarning: \n",
            "A value is trying to be set on a copy of a slice from a DataFrame.\n",
            "Try using .loc[row_indexer,col_indexer] = value instead\n",
            "\n",
            "See the caveats in the documentation: https://pandas.pydata.org/pandas-docs/stable/user_guide/indexing.html#returning-a-view-versus-a-copy\n",
            "  This is separate from the ipykernel package so we can avoid doing imports until\n",
            "/usr/local/lib/python3.6/dist-packages/ipykernel_launcher.py:8: SettingWithCopyWarning: \n",
            "A value is trying to be set on a copy of a slice from a DataFrame.\n",
            "Try using .loc[row_indexer,col_indexer] = value instead\n",
            "\n",
            "See the caveats in the documentation: https://pandas.pydata.org/pandas-docs/stable/user_guide/indexing.html#returning-a-view-versus-a-copy\n",
            "  \n"
          ],
          "name": "stderr"
        },
        {
          "output_type": "stream",
          "text": [
            "     Pclass  Sex      Age_x  SibSp_x  Parch_x      Fare  Cabin  Embarked  \\\n",
            "0       3.0  1.0  35.000000      0.0      0.0    8.0500    1.0       3.0   \n",
            "20      3.0  1.0  20.000000      0.0      0.0    8.0500    2.0       3.0   \n",
            "98      3.0  0.0  14.000000      0.0      0.0    7.8542    2.0       3.0   \n",
            "100     3.0  1.0  26.807323      0.0      0.0    7.2250    2.0       1.0   \n",
            "109     2.0  1.0  66.000000      0.0      0.0   10.5000    1.0       3.0   \n",
            "115     1.0  1.0  42.000000      1.0      0.0   52.0000    1.0       3.0   \n",
            "117     3.0  1.0  26.806770      0.0      0.0    7.8958    2.0       1.0   \n",
            "121     3.0  1.0  28.500000      0.0      0.0    7.2292    2.0       1.0   \n",
            "139     3.0  1.0  20.000000      0.0      0.0    7.8542    2.0       3.0   \n",
            "145     2.0  1.0  34.000000      1.0      0.0   26.0000    2.0       3.0   \n",
            "148     3.0  1.0  21.000000      0.0      0.0    7.9250    2.0       3.0   \n",
            "151     3.0  1.0  70.500000      0.0      0.0    7.7500    2.0       2.0   \n",
            "179     3.0  1.0  45.000000      0.0      0.0    6.9750    2.0       3.0   \n",
            "180     1.0  1.0  37.000000      1.0      0.0   53.1000    1.0       3.0   \n",
            "182     3.0  0.0  20.855587      0.0      2.0   15.2458    1.0       1.0   \n",
            "183     2.0  1.0  42.000000      0.0      0.0   13.0000    1.0       3.0   \n",
            "267     3.0  1.0  27.738690      0.0      0.0    8.6625    2.0       3.0   \n",
            "273     3.0  1.0  26.000000      0.0      0.0    7.7750    2.0       3.0   \n",
            "283     3.0  1.0  28.000000      0.0      0.0   56.4958    2.0       3.0   \n",
            "293     3.0  1.0   9.000000      4.0      2.0   31.3875    2.0       3.0   \n",
            "294     2.0  0.0  24.000000      0.0      0.0   13.0000    2.0       3.0   \n",
            "295     3.0  1.0  28.000000      0.0      0.0    9.5000    2.0       3.0   \n",
            "307     2.0  1.0  30.000000      0.0      0.0   10.5000    2.0       3.0   \n",
            "315     3.0  0.0  25.487191      0.0      0.0    7.5500    2.0       3.0   \n",
            "316     3.0  0.0  25.000000      0.0      0.0    7.7750    2.0       3.0   \n",
            "318     1.0  1.0  62.000000      0.0      0.0   26.5500    1.0       3.0   \n",
            "360     3.0  0.0  25.020749      0.0      0.0    7.7500    2.0       2.0   \n",
            "387     3.0  0.0  45.000000      0.0      0.0    7.7500    2.0       3.0   \n",
            "388     3.0  1.0  19.000000      0.0      0.0    8.0000    2.0       3.0   \n",
            "389     2.0  0.0  26.000000      1.0      1.0   26.0000    2.0       3.0   \n",
            "390     1.0  1.0  45.000000      0.0      0.0   35.5000    1.0       3.0   \n",
            "392     2.0  0.0  38.000000      0.0      0.0   13.0000    1.0       3.0   \n",
            "398     3.0  0.0  45.000000      0.0      1.0   14.4542    1.0       1.0   \n",
            "399     3.0  1.0  32.000000      0.0      0.0    7.9250    1.0       3.0   \n",
            "408     3.0  1.0  22.000000      0.0      0.0    7.7958    2.0       3.0   \n",
            "416     3.0  1.0  25.000000      1.0      0.0    7.7750    2.0       3.0   \n",
            "417     1.0  1.0  58.000000      0.0      0.0   29.7000    1.0       1.0   \n",
            "418     1.0  1.0  55.000000      0.0      0.0   30.5000    1.0       3.0   \n",
            "421     3.0  0.0  26.000000      1.0      0.0   16.1000    3.0       3.0   \n",
            "423     1.0  1.0  49.000000      1.0      1.0  110.8833    1.0       1.0   \n",
            "424     3.0  1.0  11.000000      0.0      0.0   18.7875    3.0       1.0   \n",
            "425     1.0  1.0  29.000000      0.0      0.0   30.0000    1.0       3.0   \n",
            "427     3.0  0.0  23.000000      0.0      0.0    7.9250    2.0       3.0   \n",
            "429     2.0  0.0  44.000000      1.0      0.0   26.0000    1.0       3.0   \n",
            "\n",
            "     Title  FamilySize  IsAlone  Not_survived      Age_y  SibSp_y  Parch_y  \\\n",
            "0      1.0         1.0      1.0             5  45.000000      0.0      0.0   \n",
            "20     1.0         1.0      1.0            13  18.000000      0.0      0.0   \n",
            "98     2.0         1.0      1.0            15  26.000000      0.0      0.0   \n",
            "100    1.0         1.0      1.0            27  22.000000      0.0      0.0   \n",
            "109    1.0         1.0      1.0            34  62.000000      0.0      0.0   \n",
            "115    1.0         2.0      0.0            36  48.000000      1.0      0.0   \n",
            "117    1.0         1.0      1.0            43  29.000000      0.0      0.0   \n",
            "121    1.0         1.0      1.0            58  26.807319      0.0      0.0   \n",
            "139    1.0         1.0      1.0            92  32.000000      0.0      0.0   \n",
            "145    1.0         2.0      0.0           100  32.000000      1.0      0.0   \n",
            "148    1.0         1.0      1.0           116  31.000000      0.0      0.0   \n",
            "151    1.0         1.0      1.0           117  29.000000      0.0      0.0   \n",
            "179    1.0         1.0      1.0           130  27.000000      0.0      0.0   \n",
            "180    1.0         2.0      0.0           138  27.000000      1.0      0.0   \n",
            "182    3.0         3.0      0.0           141  29.000000      0.0      2.0   \n",
            "183    1.0         1.0      1.0           150  34.683191      0.0      0.0   \n",
            "267    1.0         1.0      1.0           159  27.000000      0.0      0.0   \n",
            "273    1.0         1.0      1.0           163  27.739422      0.0      0.0   \n",
            "283    1.0         1.0      1.0           170  32.000000      0.0      0.0   \n",
            "293    4.0         7.0      0.0           183   3.000000      4.0      2.0   \n",
            "294    2.0         1.0      1.0           200  24.000000      0.0      0.0   \n",
            "295    1.0         1.0      1.0           201  29.000000      0.0      0.0   \n",
            "307    1.0         1.0      1.0           220  19.000000      0.0      0.0   \n",
            "315    2.0         1.0      1.0           236  23.000000      0.0      0.0   \n",
            "316    2.0         1.0      1.0           247  22.000000      0.0      0.0   \n",
            "318    1.0         1.0      1.0           253  45.000000      0.0      0.0   \n",
            "360    2.0         1.0      1.0           265  25.020749      0.0      0.0   \n",
            "387    2.0         1.0      1.0           277  22.000000      0.0      0.0   \n",
            "388    1.0         1.0      1.0           303  25.000000      0.0      0.0   \n",
            "389    3.0         3.0      0.0           313  33.000000      0.0      2.0   \n",
            "390    1.0         1.0      1.0           340  28.000000      0.0      0.0   \n",
            "392    2.0         1.0      1.0           358  32.500000      0.0      0.0   \n",
            "398    3.0         2.0      0.0           363  15.000000      1.0      0.0   \n",
            "399    1.0         1.0      1.0           383  39.000000      0.0      0.0   \n",
            "408    1.0         1.0      1.0           396  27.000000      0.0      0.0   \n",
            "416    1.0         2.0      0.0           443  25.000000      1.0      0.0   \n",
            "417    1.0         1.0      1.0           488  39.698342      0.0      0.0   \n",
            "418    1.0         1.0      1.0           493  41.420497      0.0      0.0   \n",
            "421    3.0         2.0      0.0           618  19.935980      1.0      0.0   \n",
            "423    1.0         3.0      0.0           699  17.000000      0.0      2.0   \n",
            "424    1.0         1.0      1.0           732  26.000000      0.0      0.0   \n",
            "425    1.0         1.0      1.0           783  80.000000      0.0      0.0   \n",
            "427    2.0         1.0      1.0           817  26.000000      0.0      0.0   \n",
            "429    3.0         2.0      0.0           855  50.000000      0.0      1.0   \n",
            "\n",
            "     Survived  \n",
            "0         339  \n",
            "20        205  \n",
            "98        316  \n",
            "100       554  \n",
            "109       571  \n",
            "115       713  \n",
            "117       456  \n",
            "121        37  \n",
            "139       570  \n",
            "145       544  \n",
            "148       745  \n",
            "151       511  \n",
            "179       805  \n",
            "180       725  \n",
            "182       256  \n",
            "183        18  \n",
            "267       822  \n",
            "273       108  \n",
            "283        75  \n",
            "293       262  \n",
            "294       346  \n",
            "295        82  \n",
            "307       227  \n",
            "315       650  \n",
            "316       555  \n",
            "318       188  \n",
            "360        33  \n",
            "387       142  \n",
            "388       272  \n",
            "389       507  \n",
            "390        24  \n",
            "392       124  \n",
            "398       831  \n",
            "399       401  \n",
            "408       147  \n",
            "416       268  \n",
            "417       840  \n",
            "418       299  \n",
            "421       348  \n",
            "423       551  \n",
            "424       208  \n",
            "425       631  \n",
            "427         3  \n",
            "429       260  \n",
            "   PassengerId  Survived  Pclass                      Name   Sex   Age  SibSp  \\\n",
            "0            5         0       3  Allen, Mr. William Henry  male  35.0      0   \n",
            "1          339         1       3     Dahl, Mr. Karl Edwart  male  45.0      0   \n",
            "\n",
            "   Parch  Ticket  Fare  Cabin Embarked  \n",
            "0      0  373450  8.05    NaN        S  \n",
            "1      0    7598  8.05    NaN        S  \n",
            "                                        \n",
            "________________________________________\n",
            "   PassengerId  Survived  Pclass                            Name   Sex   Age  \\\n",
            "0           13         0       3  Saundercock, Mr. William Henry  male  20.0   \n",
            "1          205         1       3        Cohen, Mr. Gurshon \"Gus\"  male  18.0   \n",
            "\n",
            "   SibSp  Parch     Ticket  Fare  Cabin Embarked  \n",
            "0      0      0  A/5. 2151  8.05    NaN        S  \n",
            "1      0      0   A/5 3540  8.05    NaN        S  \n",
            "                                        \n",
            "________________________________________\n",
            "   PassengerId  Survived  Pclass                                  Name  \\\n",
            "0           15         0       3  Vestrom, Miss. Hulda Amanda Adolfina   \n",
            "1          316         1       3       Nilsson, Miss. Helmina Josefina   \n",
            "\n",
            "      Sex   Age  SibSp  Parch  Ticket    Fare  Cabin Embarked  \n",
            "0  female  14.0      0      0  350406  7.8542    NaN        S  \n",
            "1  female  26.0      0      0  347470  7.8542    NaN        S  \n",
            "                                        \n",
            "________________________________________\n",
            "   PassengerId  Survived  Pclass                               Name   Sex  \\\n",
            "0           27         0       3            Emir, Mr. Farred Chehab  male   \n",
            "1          554         1       3  Leeni, Mr. Fahim (\"Philip Zenni\")  male   \n",
            "\n",
            "    Age  SibSp  Parch Ticket   Fare  Cabin Embarked  \n",
            "0   NaN      0      0   2631  7.225    NaN        C  \n",
            "1  22.0      0      0   2620  7.225    NaN        C  \n",
            "                                        \n",
            "________________________________________\n",
            "   PassengerId  Survived  Pclass                   Name   Sex   Age  SibSp  \\\n",
            "0           34         0       2  Wheadon, Mr. Edward H  male  66.0      0   \n",
            "1          571         1       2     Harris, Mr. George  male  62.0      0   \n",
            "\n",
            "   Parch       Ticket  Fare  Cabin Embarked  \n",
            "0      0   C.A. 24579  10.5    NaN        S  \n",
            "1      0  S.W./PP 752  10.5    NaN        S  \n",
            "                                        \n",
            "________________________________________\n",
            "   PassengerId  Survived  Pclass                            Name   Sex   Age  \\\n",
            "0           36         0       1  Holverson, Mr. Alexander Oskar  male  42.0   \n",
            "1          713         1       1        Taylor, Mr. Elmer Zebley  male  48.0   \n",
            "\n",
            "   SibSp  Parch  Ticket  Fare Cabin Embarked  \n",
            "0      1      0  113789  52.0   NaN        S  \n",
            "1      1      0   19996  52.0  C126        S  \n",
            "                                        \n",
            "________________________________________\n",
            "   PassengerId  Survived  Pclass                 Name   Sex   Age  SibSp  \\\n",
            "0           43         0       3  Kraeff, Mr. Theodor  male   NaN      0   \n",
            "1          456         1       3   Jalsevac, Mr. Ivan  male  29.0      0   \n",
            "\n",
            "   Parch  Ticket    Fare  Cabin Embarked  \n",
            "0      0  349253  7.8958    NaN        C  \n",
            "1      0  349240  7.8958    NaN        C  \n",
            "                                        \n",
            "________________________________________\n",
            "   PassengerId  Survived  Pclass                 Name   Sex   Age  SibSp  \\\n",
            "0           58         0       3  Novel, Mr. Mansouer  male  28.5      0   \n",
            "1           37         1       3     Mamee, Mr. Hanna  male   NaN      0   \n",
            "\n",
            "   Parch Ticket    Fare  Cabin Embarked  \n",
            "0      0   2697  7.2292    NaN        C  \n",
            "1      0   2677  7.2292    NaN        C  \n",
            "                                        \n",
            "________________________________________\n",
            "   PassengerId  Survived  Pclass                        Name   Sex   Age  \\\n",
            "0           92         0       3  Andreasson, Mr. Paul Edvin  male  20.0   \n",
            "1          570         1       3           Jonsson, Mr. Carl  male  32.0   \n",
            "\n",
            "   SibSp  Parch  Ticket    Fare  Cabin Embarked  \n",
            "0      0      0  347466  7.8542    NaN        S  \n",
            "1      0      0  350417  7.8542    NaN        S  \n",
            "                                        \n",
            "________________________________________\n",
            "   PassengerId  Survived  Pclass               Name   Sex   Age  SibSp  Parch  \\\n",
            "0          100         0       2  Kantor, Mr. Sinai  male  34.0      1      0   \n",
            "1          544         1       2  Beane, Mr. Edward  male  32.0      1      0   \n",
            "\n",
            "   Ticket  Fare  Cabin Embarked  \n",
            "0  244367  26.0    NaN        S  \n",
            "1    2908  26.0    NaN        S  \n",
            "                                        \n",
            "________________________________________\n",
            "   PassengerId  Survived  Pclass                   Name   Sex   Age  SibSp  \\\n",
            "0          116         0       3  Pekoniemi, Mr. Edvard  male  21.0      0   \n",
            "1          745         1       3     Stranden, Mr. Juho  male  31.0      0   \n",
            "\n",
            "   Parch             Ticket   Fare  Cabin Embarked  \n",
            "0      0  STON/O 2. 3101294  7.925    NaN        S  \n",
            "1      0  STON/O 2. 3101288  7.925    NaN        S  \n",
            "                                        \n",
            "________________________________________\n",
            "   PassengerId  Survived  Pclass                      Name   Sex   Age  SibSp  \\\n",
            "0          117         0       3      Connors, Mr. Patrick  male  70.5      0   \n",
            "1          511         1       3  Daly, Mr. Eugene Patrick  male  29.0      0   \n",
            "\n",
            "   Parch  Ticket  Fare  Cabin Embarked  \n",
            "0      0  370369  7.75    NaN        Q  \n",
            "1      0  382651  7.75    NaN        Q  \n",
            "                                        \n",
            "________________________________________\n",
            "   PassengerId  Survived  Pclass                     Name   Sex   Age  SibSp  \\\n",
            "0          130         0       3       Ekstrom, Mr. Johan  male  45.0      0   \n",
            "1          805         1       3  Hedman, Mr. Oskar Arvid  male  27.0      0   \n",
            "\n",
            "   Parch  Ticket   Fare  Cabin Embarked  \n",
            "0      0  347061  6.975    NaN        S  \n",
            "1      0  347089  6.975    NaN        S  \n",
            "                                        \n",
            "________________________________________\n",
            "   PassengerId  Survived  Pclass                           Name   Sex   Age  \\\n",
            "0          138         0       1    Futrelle, Mr. Jacques Heath  male  37.0   \n",
            "1          725         1       1  Chambers, Mr. Norman Campbell  male  27.0   \n",
            "\n",
            "   SibSp  Parch  Ticket  Fare Cabin Embarked  \n",
            "0      1      0  113803  53.1  C123        S  \n",
            "1      1      0  113806  53.1    E8        S  \n",
            "                                        \n",
            "________________________________________\n",
            "   PassengerId  Survived  Pclass                                     Name  \\\n",
            "0          141         0       3            Boulos, Mrs. Joseph (Sultana)   \n",
            "1          256         1       3  Touma, Mrs. Darwis (Hanne Youssef Razi)   \n",
            "\n",
            "      Sex   Age  SibSp  Parch Ticket     Fare  Cabin Embarked  \n",
            "0  female   NaN      0      2   2678  15.2458    NaN        C  \n",
            "1  female  29.0      0      2   2650  15.2458    NaN        C  \n",
            "                                        \n",
            "________________________________________\n",
            "   PassengerId  Survived  Pclass                               Name   Sex  \\\n",
            "0          150         0       2  Byles, Rev. Thomas Roussel Davids  male   \n",
            "1           18         1       2       Williams, Mr. Charles Eugene  male   \n",
            "\n",
            "    Age  SibSp  Parch  Ticket  Fare  Cabin Embarked  \n",
            "0  42.0      0      0  244310  13.0    NaN        S  \n",
            "1   NaN      0      0  244373  13.0    NaN        S  \n",
            "                                        \n",
            "________________________________________\n",
            "   PassengerId  Survived  Pclass                 Name   Sex   Age  SibSp  \\\n",
            "0          159         0       3  Smiljanic, Mr. Mile  male   NaN      0   \n",
            "1          822         1       3    Lulic, Mr. Nikola  male  27.0      0   \n",
            "\n",
            "   Parch  Ticket    Fare  Cabin Embarked  \n",
            "0      0  315037  8.6625    NaN        S  \n",
            "1      0  315098  8.6625    NaN        S  \n",
            "                                        \n",
            "________________________________________\n",
            "   PassengerId  Survived  Pclass                        Name   Sex   Age  \\\n",
            "0          163         0       3  Bengtsson, Mr. John Viktor  male  26.0   \n",
            "1          108         1       3      Moss, Mr. Albert Johan  male   NaN   \n",
            "\n",
            "   SibSp  Parch  Ticket   Fare  Cabin Embarked  \n",
            "0      0      0  347068  7.775    NaN        S  \n",
            "1      0      0  312991  7.775    NaN        S  \n",
            "                                        \n",
            "________________________________________\n",
            "   PassengerId  Survived  Pclass           Name   Sex   Age  SibSp  Parch  \\\n",
            "0          170         0       3  Ling, Mr. Lee  male  28.0      0      0   \n",
            "1           75         1       3  Bing, Mr. Lee  male  32.0      0      0   \n",
            "\n",
            "  Ticket     Fare  Cabin Embarked  \n",
            "0   1601  56.4958    NaN        S  \n",
            "1   1601  56.4958    NaN        S  \n",
            "                                        \n",
            "________________________________________\n",
            "   PassengerId  Survived  Pclass                                   Name   Sex  \\\n",
            "0          183         0       3  Asplund, Master. Clarence Gustaf Hugo  male   \n",
            "1          262         1       3      Asplund, Master. Edvin Rojj Felix  male   \n",
            "\n",
            "   Age  SibSp  Parch  Ticket     Fare  Cabin Embarked  \n",
            "0  9.0      4      2  347077  31.3875    NaN        S  \n",
            "1  3.0      4      2  347077  31.3875    NaN        S  \n",
            "                                        \n",
            "________________________________________\n",
            "   PassengerId  Survived  Pclass                                    Name  \\\n",
            "0          200         0       2  Yrois, Miss. Henriette (\"Mrs Harbeck\")   \n",
            "1          346         1       2           Brown, Miss. Amelia \"Mildred\"   \n",
            "\n",
            "      Sex   Age  SibSp  Parch  Ticket  Fare Cabin Embarked  \n",
            "0  female  24.0      0      0  248747  13.0   NaN        S  \n",
            "1  female  24.0      0      0  248733  13.0   F33        S  \n",
            "                                        \n",
            "________________________________________\n",
            "   PassengerId  Survived  Pclass                            Name   Sex   Age  \\\n",
            "0          201         0       3  Vande Walle, Mr. Nestor Cyriel  male  28.0   \n",
            "1           82         1       3     Sheerlinck, Mr. Jan Baptist  male  29.0   \n",
            "\n",
            "   SibSp  Parch  Ticket  Fare  Cabin Embarked  \n",
            "0      0      0  345770   9.5    NaN        S  \n",
            "1      0      0  345779   9.5    NaN        S  \n",
            "                                        \n",
            "________________________________________\n",
            "   PassengerId  Survived  Pclass                       Name   Sex   Age  \\\n",
            "0          220         0       2         Harris, Mr. Walter  male  30.0   \n",
            "1          227         1       2  Mellors, Mr. William John  male  19.0   \n",
            "\n",
            "   SibSp  Parch     Ticket  Fare  Cabin Embarked  \n",
            "0      0      0  W/C 14208  10.5    NaN        S  \n",
            "1      0      0  SW/PP 751  10.5    NaN        S  \n",
            "                                        \n",
            "________________________________________\n",
            "   PassengerId  Survived  Pclass                             Name     Sex  \\\n",
            "0          236         0       3     Harknett, Miss. Alice Phoebe  female   \n",
            "1          650         1       3  Stanley, Miss. Amy Zillah Elsie  female   \n",
            "\n",
            "    Age  SibSp  Parch      Ticket  Fare  Cabin Embarked  \n",
            "0   NaN      0      0  W./C. 6609  7.55    NaN        S  \n",
            "1  23.0      0      0    CA. 2314  7.55    NaN        S  \n",
            "                                        \n",
            "________________________________________\n",
            "   PassengerId  Survived  Pclass                                   Name  \\\n",
            "0          247         0       3  Lindahl, Miss. Agda Thorilda Viktoria   \n",
            "1          555         1       3                     Ohman, Miss. Velin   \n",
            "\n",
            "      Sex   Age  SibSp  Parch  Ticket   Fare  Cabin Embarked  \n",
            "0  female  25.0      0      0  347071  7.775    NaN        S  \n",
            "1  female  22.0      0      0  347085  7.775    NaN        S  \n",
            "                                        \n",
            "________________________________________\n",
            "   PassengerId  Survived  Pclass  \\\n",
            "0          253         0       1   \n",
            "1          188         1       1   \n",
            "\n",
            "                                            Name   Sex   Age  SibSp  Parch  \\\n",
            "0                      Stead, Mr. William Thomas  male  62.0      0      0   \n",
            "1  Romaine, Mr. Charles Hallace (\"Mr C Rolmane\")  male  45.0      0      0   \n",
            "\n",
            "   Ticket   Fare Cabin Embarked  \n",
            "0  113514  26.55   C87        S  \n",
            "1  111428  26.55   NaN        S  \n",
            "                                        \n",
            "________________________________________\n",
            "   PassengerId  Survived  Pclass                      Name     Sex  Age  \\\n",
            "0          265         0       3        Henry, Miss. Delia  female  NaN   \n",
            "1           33         1       3  Glynn, Miss. Mary Agatha  female  NaN   \n",
            "\n",
            "   SibSp  Parch  Ticket  Fare  Cabin Embarked  \n",
            "0      0      0  382649  7.75    NaN        Q  \n",
            "1      0      0  335677  7.75    NaN        Q  \n",
            "                                        \n",
            "________________________________________\n",
            "   PassengerId  Survived  Pclass                               Name     Sex  \\\n",
            "0          277         0       3  Lindblom, Miss. Augusta Charlotta  female   \n",
            "1          142         1       3           Nysten, Miss. Anna Sofia  female   \n",
            "\n",
            "    Age  SibSp  Parch  Ticket  Fare  Cabin Embarked  \n",
            "0  45.0      0      0  347073  7.75    NaN        S  \n",
            "1  22.0      0      0  347081  7.75    NaN        S  \n",
            "                                        \n",
            "________________________________________\n",
            "   PassengerId  Survived  Pclass                             Name   Sex   Age  \\\n",
            "0          303         0       3  Johnson, Mr. William Cahoone Jr  male  19.0   \n",
            "1          272         1       3     Tornquist, Mr. William Henry  male  25.0   \n",
            "\n",
            "   SibSp  Parch Ticket  Fare  Cabin Embarked  \n",
            "0      0      0   LINE   0.0    NaN        S  \n",
            "1      0      0   LINE   0.0    NaN        S  \n",
            "                                        \n",
            "________________________________________\n",
            "   PassengerId  Survived  Pclass  \\\n",
            "0          313         0       2   \n",
            "1          507         1       2   \n",
            "\n",
            "                                            Name     Sex   Age  SibSp  Parch  \\\n",
            "0          Lahtinen, Mrs. William (Anna Sylfven)  female  26.0      1      1   \n",
            "1  Quick, Mrs. Frederick Charles (Jane Richards)  female  33.0      0      2   \n",
            "\n",
            "   Ticket  Fare  Cabin Embarked  \n",
            "0  250651  26.0    NaN        S  \n",
            "1   26360  26.0    NaN        S  \n",
            "                                        \n",
            "________________________________________\n",
            "   PassengerId  Survived  Pclass                          Name   Sex   Age  \\\n",
            "0          340         0       1  Blackwell, Mr. Stephen Weart  male  45.0   \n",
            "1           24         1       1  Sloper, Mr. William Thompson  male  28.0   \n",
            "\n",
            "   SibSp  Parch  Ticket  Fare Cabin Embarked  \n",
            "0      0      0  113784  35.5     T        S  \n",
            "1      0      0  113788  35.5    A6        S  \n",
            "                                        \n",
            "________________________________________\n",
            "   PassengerId  Survived  Pclass                       Name     Sex   Age  \\\n",
            "0          358         0       2  Funk, Miss. Annie Clemmer  female  38.0   \n",
            "1          124         1       2        Webber, Miss. Susan  female  32.5   \n",
            "\n",
            "   SibSp  Parch  Ticket  Fare Cabin Embarked  \n",
            "0      0      0  237671  13.0   NaN        S  \n",
            "1      0      0   27267  13.0  E101        S  \n",
            "                                        \n",
            "________________________________________\n",
            "   PassengerId  Survived  Pclass                                     Name  \\\n",
            "0          363         0       3          Barbara, Mrs. (Catherine David)   \n",
            "1          831         1       3  Yasbeck, Mrs. Antoni (Selini Alexander)   \n",
            "\n",
            "      Sex   Age  SibSp  Parch Ticket     Fare  Cabin Embarked  \n",
            "0  female  45.0      0      1   2691  14.4542    NaN        C  \n",
            "1  female  15.0      1      0   2659  14.4542    NaN        C  \n",
            "                                        \n",
            "________________________________________\n",
            "   PassengerId  Survived  Pclass                Name   Sex   Age  SibSp  \\\n",
            "0          383         0       3  Tikkanen, Mr. Juho  male  32.0      0   \n",
            "1          401         1       3  Niskanen, Mr. Juha  male  39.0      0   \n",
            "\n",
            "   Parch             Ticket   Fare  Cabin Embarked  \n",
            "0      0  STON/O 2. 3101293  7.925    NaN        S  \n",
            "1      0  STON/O 2. 3101289  7.925    NaN        S  \n",
            "                                        \n",
            "________________________________________\n",
            "   PassengerId  Survived  Pclass  \\\n",
            "0          396         0       3   \n",
            "1          147         1       3   \n",
            "\n",
            "                                           Name   Sex   Age  SibSp  Parch  \\\n",
            "0                           Johansson, Mr. Erik  male  22.0      0      0   \n",
            "1  Andersson, Mr. August Edvard (\"Wennerstrom\")  male  27.0      0      0   \n",
            "\n",
            "   Ticket    Fare  Cabin Embarked  \n",
            "0  350052  7.7958    NaN        S  \n",
            "1  350043  7.7958    NaN        S  \n",
            "                                        \n",
            "________________________________________\n",
            "   PassengerId  Survived  Pclass                       Name   Sex   Age  \\\n",
            "0          443         0       3  Petterson, Mr. Johan Emil  male  25.0   \n",
            "1          268         1       3   Persson, Mr. Ernst Ulrik  male  25.0   \n",
            "\n",
            "   SibSp  Parch  Ticket   Fare  Cabin Embarked  \n",
            "0      1      0  347076  7.775    NaN        S  \n",
            "1      1      0  347083  7.775    NaN        S  \n",
            "                                        \n",
            "________________________________________\n",
            "   PassengerId  Survived  Pclass                     Name   Sex   Age  SibSp  \\\n",
            "0          488         0       1  Kent, Mr. Edward Austin  male  58.0      0   \n",
            "1          840         1       1     Marechal, Mr. Pierre  male   NaN      0   \n",
            "\n",
            "   Parch Ticket  Fare Cabin Embarked  \n",
            "0      0  11771  29.7   B37        C  \n",
            "1      0  11774  29.7   C47        C  \n",
            "                                        \n",
            "________________________________________\n",
            "   PassengerId  Survived  Pclass                        Name   Sex   Age  \\\n",
            "0          493         0       1  Molson, Mr. Harry Markland  male  55.0   \n",
            "1          299         1       1       Saalfeld, Mr. Adolphe  male   NaN   \n",
            "\n",
            "   SibSp  Parch  Ticket  Fare Cabin Embarked  \n",
            "0      0      0  113787  30.5   C30        S  \n",
            "1      0      0   19988  30.5  C106        S  \n",
            "                                        \n",
            "________________________________________\n",
            "   PassengerId  Survived  Pclass  \\\n",
            "0          618         0       3   \n",
            "1          348         1       3   \n",
            "\n",
            "                                              Name     Sex   Age  SibSp  \\\n",
            "0  Lobb, Mrs. William Arthur (Cordelia K Stanlick)  female  26.0      1   \n",
            "1        Davison, Mrs. Thomas Henry (Mary E Finck)  female   NaN      1   \n",
            "\n",
            "   Parch     Ticket  Fare  Cabin Embarked  \n",
            "0      0  A/5. 3336  16.1    NaN        S  \n",
            "1      0     386525  16.1    NaN        S  \n",
            "                                        \n",
            "________________________________________\n",
            "   PassengerId  Survived  Pclass                         Name   Sex   Age  \\\n",
            "0          699         0       1     Thayer, Mr. John Borland  male  49.0   \n",
            "1          551         1       1  Thayer, Mr. John Borland Jr  male  17.0   \n",
            "\n",
            "   SibSp  Parch Ticket      Fare Cabin Embarked  \n",
            "0      1      1  17421  110.8833   C68        C  \n",
            "1      0      2  17421  110.8833   C70        C  \n",
            "                                        \n",
            "________________________________________\n",
            "   PassengerId  Survived  Pclass                         Name   Sex   Age  \\\n",
            "0          732         0       3     Hassan, Mr. Houssein G N  male  11.0   \n",
            "1          208         1       3  Albimona, Mr. Nassef Cassem  male  26.0   \n",
            "\n",
            "   SibSp  Parch Ticket     Fare  Cabin Embarked  \n",
            "0      0      0   2699  18.7875    NaN        C  \n",
            "1      0      0   2699  18.7875    NaN        C  \n",
            "                                        \n",
            "________________________________________\n",
            "   PassengerId  Survived  Pclass                                  Name   Sex  \\\n",
            "0          783         0       1                Long, Mr. Milton Clyde  male   \n",
            "1          631         1       1  Barkworth, Mr. Algernon Henry Wilson  male   \n",
            "\n",
            "    Age  SibSp  Parch  Ticket  Fare Cabin Embarked  \n",
            "0  29.0      0      0  113501  30.0    D6        S  \n",
            "1  80.0      0      0   27042  30.0   A23        S  \n",
            "                                        \n",
            "________________________________________\n",
            "   PassengerId  Survived  Pclass                          Name     Sex   Age  \\\n",
            "0          817         0       3  Heininen, Miss. Wendla Maria  female  23.0   \n",
            "1            3         1       3        Heikkinen, Miss. Laina  female  26.0   \n",
            "\n",
            "   SibSp  Parch            Ticket   Fare  Cabin Embarked  \n",
            "0      0      0  STON/O2. 3101290  7.925    NaN        S  \n",
            "1      0      0  STON/O2. 3101282  7.925    NaN        S  \n",
            "                                        \n",
            "________________________________________\n",
            "   PassengerId  Survived  Pclass  \\\n",
            "0          855         0       2   \n",
            "1          260         1       2   \n",
            "\n",
            "                                            Name     Sex   Age  SibSp  Parch  \\\n",
            "0  Carter, Mrs. Ernest Courtenay (Lilian Hughes)  female  44.0      1      0   \n",
            "1                    Parrish, Mrs. (Lutie Davis)  female  50.0      0      1   \n",
            "\n",
            "   Ticket  Fare  Cabin Embarked  \n",
            "0  244252  26.0    NaN        S  \n",
            "1  230433  26.0    NaN        S  \n",
            "                                        \n",
            "________________________________________\n"
          ],
          "name": "stdout"
        }
      ]
    },
    {
      "cell_type": "markdown",
      "metadata": {
        "id": "elGlq971lDWk",
        "colab_type": "text"
      },
      "source": [
        "Most of the intersections are either differing on age (which is still not an important feature judging on correlation heatmap) or there is space for variation because of the multiple NaNs. We can also see that some deaths/survivings seem to be completely random and driven by chance and not by some sort of rule or regularity we hope to derive using ML techniques. Say, there are plenty of random unfortunate events that could impede passengers id201 or id200 from survival while letting passengers id82 and id346 survive. Recreating such circumstances in form of data engineering will take a lot of fantasy and time."
      ]
    },
    {
      "cell_type": "code",
      "metadata": {
        "id": "MbqxR5f1g9uJ",
        "colab_type": "code",
        "colab": {
          "base_uri": "https://localhost:8080/",
          "height": 119
        },
        "outputId": "4ce86ad3-af47-4a57-d804-245d2a729146"
      },
      "source": [
        "# splitting datasets again and preparing data for ML models\n",
        "Xtrain = X.loc[:890,:]\n",
        "Xtest = X.loc[891:,:]\n",
        "\n",
        "# universal recipe for surviving/dying on Titanic\n",
        "print(Xtrain[df['Survived']==0].mode(axis=0)) # most common deadly values\n",
        "print(Xtrain[df['Survived']==1].mode(axis=0)) # most common survival values\n",
        "\n",
        "Xtrain = Xtrain.to_numpy()\n",
        "Xtest = Xtest.to_numpy()\n",
        "\n",
        "train_labels_df = df['Survived']\n",
        "train_labels = train_labels_df.to_numpy()\n",
        "y = train_labels.flatten()\n",
        "\n",
        "print(Xtrain.shape)\n",
        "print(Xtest.shape)"
      ],
      "execution_count": 352,
      "outputs": [
        {
          "output_type": "stream",
          "text": [
            "   Pclass  Sex  Fare  Cabin  Embarked  Title  FamilySize  IsAlone\n",
            "0     3.0  1.0  8.05    2.0       3.0    1.0         1.0      1.0\n",
            "   Pclass  Sex  Fare  Cabin  Embarked  Title  FamilySize  IsAlone\n",
            "0     1.0  0.0  13.0    1.0       3.0    2.0         1.0      0.0\n",
            "(891, 8)\n",
            "(418, 8)\n"
          ],
          "name": "stdout"
        }
      ]
    },
    {
      "cell_type": "markdown",
      "metadata": {
        "id": "ZeFRpZNZiaQi",
        "colab_type": "text"
      },
      "source": [
        "It can be seen that in order to survive you have to be woman, occupying first class cabin and have 1 relative (probably sibling, because of `Title`=2, which corresponds to 'Miss'). Of course these values can be (and most likely are) highly biased due to missing values imputing manner (shiffting towards most common patterns using modes). You can explore more features that are vital for survival during previous steps, before some columns have been dropped."
      ]
    },
    {
      "cell_type": "markdown",
      "metadata": {
        "id": "vno5r20ukPE4",
        "colab_type": "text"
      },
      "source": [
        "# Prediction"
      ]
    },
    {
      "cell_type": "code",
      "metadata": {
        "id": "PPs3xJHKNWAh",
        "colab_type": "code",
        "colab": {
          "base_uri": "https://localhost:8080/",
          "height": 51
        },
        "outputId": "a64735c8-5f70-4e12-a537-942fde0331f3"
      },
      "source": [
        "from sklearn.model_selection import cross_validate\n",
        "\n",
        "# cross-validate with manually chosen hyperparameters \n",
        "# some of them increase performance, others prevent overfitting\n",
        "clf4 = XGBClassifier(n_estimators=700, max_features=3, max_depth=3, min_samples_leaf=2, \n",
        "                     min_child_weight=10, subsample=0.4, colsample_bytree=0.4, \n",
        "                     min_samples_split=100, learning_rate=0.02, random_state=0) \n",
        "\n",
        "rfe_results = cross_validate(clf4, Xtrain, y, cv  = 10, return_train_score=True)\n",
        "\n",
        "print('Train XGB: ', rfe_results['train_score'].mean()*100)\n",
        "print('Valid XGB: ', rfe_results['test_score'].mean()*100)\n",
        "\n",
        "clf4.fit(Xtrain, y)\n",
        "pred = clf4.predict(Xtest)\n",
        "\n",
        "# make submission\n",
        "submissionXGB = pd.DataFrame({'PassengerId': df_test['PassengerId'],\n",
        "                           'Survived': pred})\n",
        "submissionXGB.to_csv('sumbissionXGB.csv', index=False)"
      ],
      "execution_count": 355,
      "outputs": [
        {
          "output_type": "stream",
          "text": [
            "Train XGB:  83.33960666374016\n",
            "Valid XGB:  82.04619225967541\n"
          ],
          "name": "stdout"
        }
      ]
    },
    {
      "cell_type": "markdown",
      "metadata": {
        "id": "rsZyh0iaVbNd",
        "colab_type": "text"
      },
      "source": [
        "Final notes. As I've mentioned at the beginning this version of the notebook is essentialy an attempt to coordinate problem solving with respect to pre-known desired result. Because of that a lot of methods I've implemented along the way of tryng to crack titanic are not used in this version. Some of these methods are:\n",
        "\n",
        "\n",
        "1.   Obviously, using wide range of ML algorithms, including:\n",
        "\n",
        "> `Decision Tree`\n",
        "\n",
        "> `Random Forest Regresor` & `XGBRegressor`\n",
        "\n",
        "> `Logistic Regression`\n",
        "\n",
        "> `Support Vector Machines Classifier`\n",
        "\n",
        "> `Linear Discriminant Analysis`\n",
        "\n",
        "> `Gaussian Naive Bayes`\n",
        "\n",
        "> Clustering passengers with `KNN`\n",
        "\n",
        "> `SGDClassifier`\n",
        "\n",
        "> `Gradient Boosting Classifier`\n",
        "\n",
        "> Vanilla `Neural Network` with 3 linear layers\n",
        "\n",
        "These methods ended up giving 75-79% accuracy on public score.\n",
        "\n",
        "\n",
        "2.   `GridSearchCV` for hyperparameter tuning and feature selection using in-built sklearn methods. The problem here is that `titanic` dataset is highly prone to overfitting and since train/validation score&their ratio meant very little when it came to the public score. It was logical that 83/82 on cross-validation gave better result on public test than 93/84, but why 83/81 was better than 83/82? In general, trying out different train-valid techniques (including 3-fold, 5-fold, 10-fold cross-validation, manually written cross-validation on randomly shuffled subsets etc) hasn't revealed valid connection between training/validation scores and eventual pblic test score on kaggle. So it was kind of acting blindly.\n",
        "\n",
        "\n",
        "3. Applying sklearn's scalers (`QuantileTransformer`, `PowerTransformer`, `RobustScaler`, `Normalizer`, `MaxAbsScaler`, `MinMaxScaler`, `StandardScaler`) to normalize/standartize the data before fitting the algorithm onto it, before implementing Principal Component Analysis (including merging highly correlated features into one or two components using PCA) or just in order to observe correlations.\n",
        "\n",
        "4. Impute missing values through sklearn's imputers (`IterativeImputer`, `KNNImputer`). Also I spent a good amount of tome experimenting with defferent imputation methods - modes, medians, means  (both for values across the set or for specific feature only - like when we've imputed `Fare` values with modes of their corresponding `Pclass`es), and also external `mice` library. Creating intermediate ML algorithm and combining it all showed to be a slightly better practice.\n",
        "\n",
        "5. Splitting continious features (`Fare`, `Age`) into 4-5 bins to do categorical encoding. Since I ended up using tree-based model, it didn't really pay off.\n",
        "\n",
        "6. My apologies for spelling/sematic mistakes or typos.\n",
        "\n",
        "\n",
        "\n"
      ]
    }
  ]
}